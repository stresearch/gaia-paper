{
 "cells": [
  {
   "cell_type": "code",
   "execution_count": null,
   "id": "c979006c-8a96-4224-ac0b-8391fa3448b0",
   "metadata": {},
   "outputs": [],
   "source": [
    "import holoviews as hv\n",
    "hv.extension(\"bokeh\")\n",
    "import hvplot.pandas\n",
    "import pandas as pd\n",
    "from pathlib import Path\n",
    "import sys\n",
    "sys.path.append(\"/proj/gaia-climate/team/kirill/gaia-surrogate\")\n",
    "from gaia.training import load_hparams_file\n",
    "from gaia.config import levels\n"
   ]
  },
  {
   "cell_type": "code",
   "execution_count": null,
   "id": "9bc1379d",
   "metadata": {},
   "outputs": [],
   "source": [
    "out = pd.concat([pd.read_json(\"lightning_logs/base_spcam/test_results_spcam_fixed.json\"),\n",
    "                pd.read_json(\"scratch_lightning_logs_2309/base_spcam/test_results_cam4_fixed.json\"),\n",
    "                pd.read_json(\"lightning_logs/base_spcam/test_results_cam4_paper.json\")],ignore_index=True)\n",
    "out.index = [\"spcam\",\"cam4_bad\",\"cam4_fixed\"]\n",
    "print(out.T.to_markdown())"
   ]
  },
  {
   "cell_type": "code",
   "execution_count": null,
   "id": "22be607c",
   "metadata": {},
   "outputs": [],
   "source": [
    "out = pd.concat([pd.read_json(\"lightning_logs/base_cam4/test_results_cam4_paper.json\"),\n",
    "                pd.read_json(\"scratch_lightning_logs_2309/base_cam4/test_results_spcam_fixed.json\"),\n",
    "                pd.read_json(\"lightning_logs/base_cam4/test_results_spcam_fixed.json\")],ignore_index=True)\n",
    "out.index = [\"cam4 fixed [new cam4 model]\",\"spcam [old cam4 model]\",\"spcam [new cam4 model]\"]\n",
    "print(out.T.to_markdown())"
   ]
  },
  {
   "cell_type": "code",
   "execution_count": null,
   "id": "ff4d6b58-9b2b-4c62-b906-a2ed71079ef6",
   "metadata": {},
   "outputs": [],
   "source": [
    "points = hv.Points((levels[\"cam4\"],len(levels[\"cam4\"])*[1]),label = \"cam4\")*hv.Points((levels[\"spcam\"],len(levels[\"spcam\"])*[2]),label = \"spcam\").opts(width = 800, height = 400)\n",
    "lines = hv.Overlay([hv.VLine(l).opts(color = \"blue\", line_width = .5) for l in levels[\"cam4\"]])*\\\n",
    "hv.Overlay([hv.VLine(l).opts(color = \"red\", line_width = .5) for l in levels[\"spcam\"]])\n",
    "points* lines"
   ]
  },
  {
   "cell_type": "code",
   "execution_count": null,
   "id": "a7b9e9a8",
   "metadata": {},
   "outputs": [],
   "source": []
  }
 ],
 "metadata": {
  "kernelspec": {
   "display_name": "Python 3 (ipykernel)",
   "language": "python",
   "name": "python3"
  },
  "language_info": {
   "codemirror_mode": {
    "name": "ipython",
    "version": 3
   },
   "file_extension": ".py",
   "mimetype": "text/x-python",
   "name": "python",
   "nbconvert_exporter": "python",
   "pygments_lexer": "ipython3",
   "version": "3.8.10"
  }
 },
 "nbformat": 4,
 "nbformat_minor": 5
}
