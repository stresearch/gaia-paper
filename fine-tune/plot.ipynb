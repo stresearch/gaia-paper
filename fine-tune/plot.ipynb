{
 "cells": [
  {
   "cell_type": "code",
   "execution_count": null,
   "metadata": {},
   "outputs": [],
   "source": [
    "import holoviews as hv\n",
    "hv.extension(\"bokeh\")\n",
    "import hvplot.pandas\n",
    "import pandas as pd\n",
    "from pathlib import Path\n",
    "import sys\n",
    "sys.path.append(\"/proj/gaia-climate/team/kirill/gaia-surrogate\")\n",
    "from gaia.training import load_hparams_file\n"
   ]
  },
  {
   "cell_type": "code",
   "execution_count": null,
   "metadata": {},
   "outputs": [],
   "source": [
    "def get_metrics(model_dir, dataset = \"spcam\"):\n",
    "\n",
    "    \n",
    "    metrics = pd.read_json(next(Path(model_dir).glob(f\"*{dataset}*\"))).T.squeeze()\n",
    "    hparams = load_hparams_file(model_dir)\n",
    "    metrics[\"subsample\"] = int(hparams[\"dataset_params\"][\"train\"].get(\"subsample\",1))\n",
    "    metrics[\"batch_size\"] = int(hparams[\"dataset_params\"][\"train\"].get(\"batch_size\",1))\n",
    "\n",
    "    metrics[\"is_finetuned\"]  = int(hparams.get(\"is_finetuned\",False))\n",
    "    metrics[\"base_model\"] = \"random\"\n",
    "    metrics[\"samples\"] = 24 * 96 * 144 * 54 // metrics[\"subsample\"]\n",
    "    metrics[\"lr\"] = hparams[\"lr\"]\n",
    "    \n",
    "    if \"base_cam4\" in str(model_dir):\n",
    "        # return pd.Series()\n",
    "        metrics[\"is_finetuned\"] = True\n",
    "        metrics[\"samples\"] = 10\n",
    "\n",
    "    # if \"base_spacm\" in str(model_dir):\n",
    "    #     metrics[\"base_model\"] = \"cam4\" \n",
    "    #     # metrics[\"base_model\"] = \"cam4\"\n",
    "    #     # metrics[\"is_finetuned\"] = True\n",
    "    #     # metrics[\"subsample\"] = \n",
    "\n",
    "    \n",
    "    if metrics[\"is_finetuned\"]:\n",
    "        metrics[\"base_model\"] = \"cam4\"        \n",
    "        \n",
    "        \n",
    "    return metrics\n",
    "\n",
    "data = pd.concat([get_metrics(f).to_frame().T for f in Path(\"lightning_logs\").glob(\"*\")]).dropna()\n",
    "data = data.iloc[:,1:]\n",
    "data.columns = [c.replace(\"test_skill_ave_trunc_\",\"\") for c in data.columns]\n",
    "\n",
    "data[\"PTEQ\"] = data.loc[:,[c for c in data.columns if \"PTEQ_\" in c]].iloc[:,8:].mean(1)\n",
    "data[\"PTTEND\"] = data.loc[:,[c for c in data.columns if \"PTTEND_\" in c]].iloc[:,8:].mean(1)\n",
    "\n",
    "\n"
   ]
  },
  {
   "cell_type": "code",
   "execution_count": null,
   "metadata": {},
   "outputs": [],
   "source": [
    "data = data.query(\"batch_size>=64\")#.subsample.unique().astype(int)"
   ]
  },
  {
   "cell_type": "code",
   "execution_count": null,
   "metadata": {},
   "outputs": [],
   "source": [
    "def plot_one_with_error_bars(base_model, metric):\n",
    "    temp1 = data.query(f\"base_model=='{base_model}'\")\n",
    "    temp = temp1.groupby([\"samples\"])[metric].agg([\"mean\",\"std\"]).rename(columns = {\"mean\":metric})\n",
    "    return  hv.Scatter(temp1, kdims=[\"samples\"], vdims=[metric], label = base_model).opts(size = 2)*\\\n",
    "    hv.Curve(temp.reset_index(), kdims=[\"samples\"], vdims=[metric], label = base_model).opts(logx=True,line_width=.5, show_grid = True).redim.range(**{metric:(0,1)})\n",
    "    # hv.ErrorBars(temp.reset_index(), kdims=[\"samples\"], vdims=[metric,\"std\"], label = base_model).opts(line_width=.5)*\\\n",
    "\n",
    "    # hv.Scatter(temp.reset_index(), kdims=[\"samples\"], vdims=[metric], label = base_model).opts(size = 3)*\\\n",
    "\n",
    "\n",
    "\n",
    "out = hv.Layout([(plot_one_with_error_bars(\"cam4\", v)*plot_one_with_error_bars(\"random\", v)).opts(legend_position = \"bottom_right\") for v in [\"PRECT\",\"PTTEND\",\"PTEQ\"]])\n",
    "hv.save(out,\"plot_finetune.html\")\n",
    "out\n"
   ]
  },
  {
   "cell_type": "code",
   "execution_count": 8,
   "metadata": {},
   "outputs": [
    {
     "ename": "RuntimeError",
     "evalue": "Neither firefox and geckodriver nor a variant of chromium browser and chromedriver are available on system PATH. You can install the former with 'conda install -c conda-forge firefox geckodriver'.",
     "output_type": "error",
     "traceback": [
      "\u001b[0;31m---------------------------------------------------------------------------\u001b[0m",
      "\u001b[0;31mRuntimeError\u001b[0m                              Traceback (most recent call last)",
      "\u001b[0;32m/tmp/ipykernel_96601/3583965924.py\u001b[0m in \u001b[0;36m<module>\u001b[0;34m\u001b[0m\n\u001b[0;32m----> 1\u001b[0;31m \u001b[0mhv\u001b[0m\u001b[0;34m.\u001b[0m\u001b[0msave\u001b[0m\u001b[0;34m(\u001b[0m\u001b[0mout\u001b[0m\u001b[0;34m,\u001b[0m\u001b[0;34m\"plot_finetune.png\"\u001b[0m\u001b[0;34m)\u001b[0m\u001b[0;34m\u001b[0m\u001b[0;34m\u001b[0m\u001b[0m\n\u001b[0m",
      "\u001b[0;32m~/miniconda3/envs/praxis/lib/python3.8/site-packages/holoviews/util/__init__.py\u001b[0m in \u001b[0;36msave\u001b[0;34m(obj, filename, fmt, backend, resources, toolbar, title, **kwargs)\u001b[0m\n\u001b[1;32m    784\u001b[0m         \u001b[0;32mif\u001b[0m \u001b[0mformats\u001b[0m\u001b[0;34m[\u001b[0m\u001b[0;34m-\u001b[0m\u001b[0;36m1\u001b[0m\u001b[0;34m]\u001b[0m \u001b[0;32min\u001b[0m \u001b[0msupported\u001b[0m\u001b[0;34m:\u001b[0m\u001b[0;34m\u001b[0m\u001b[0;34m\u001b[0m\u001b[0m\n\u001b[1;32m    785\u001b[0m             \u001b[0mfilename\u001b[0m \u001b[0;34m=\u001b[0m \u001b[0;34m'.'\u001b[0m\u001b[0;34m.\u001b[0m\u001b[0mjoin\u001b[0m\u001b[0;34m(\u001b[0m\u001b[0mformats\u001b[0m\u001b[0;34m[\u001b[0m\u001b[0;34m:\u001b[0m\u001b[0;34m-\u001b[0m\u001b[0;36m1\u001b[0m\u001b[0;34m]\u001b[0m\u001b[0;34m)\u001b[0m\u001b[0;34m\u001b[0m\u001b[0;34m\u001b[0m\u001b[0m\n\u001b[0;32m--> 786\u001b[0;31m     return renderer_obj.save(obj, filename, fmt=fmt, resources=resources,\n\u001b[0m\u001b[1;32m    787\u001b[0m                              title=title)\n\u001b[1;32m    788\u001b[0m \u001b[0;34m\u001b[0m\u001b[0m\n",
      "\u001b[0;32m~/miniconda3/envs/praxis/lib/python3.8/site-packages/holoviews/plotting/renderer.py\u001b[0m in \u001b[0;36msave\u001b[0;34m(self_or_cls, obj, basename, fmt, key, info, options, resources, title, **kwargs)\u001b[0m\n\u001b[1;32m    588\u001b[0m             \u001b[0;32mreturn\u001b[0m\u001b[0;34m\u001b[0m\u001b[0;34m\u001b[0m\u001b[0m\n\u001b[1;32m    589\u001b[0m \u001b[0;34m\u001b[0m\u001b[0m\n\u001b[0;32m--> 590\u001b[0;31m         \u001b[0mrendered\u001b[0m \u001b[0;34m=\u001b[0m \u001b[0mself_or_cls\u001b[0m\u001b[0;34m(\u001b[0m\u001b[0mplot\u001b[0m\u001b[0;34m,\u001b[0m \u001b[0mfmt\u001b[0m\u001b[0;34m)\u001b[0m\u001b[0;34m\u001b[0m\u001b[0;34m\u001b[0m\u001b[0m\n\u001b[0m\u001b[1;32m    591\u001b[0m         \u001b[0;32mif\u001b[0m \u001b[0mrendered\u001b[0m \u001b[0;32mis\u001b[0m \u001b[0;32mNone\u001b[0m\u001b[0;34m:\u001b[0m \u001b[0;32mreturn\u001b[0m\u001b[0;34m\u001b[0m\u001b[0;34m\u001b[0m\u001b[0m\n\u001b[1;32m    592\u001b[0m         \u001b[0;34m(\u001b[0m\u001b[0mdata\u001b[0m\u001b[0;34m,\u001b[0m \u001b[0minfo\u001b[0m\u001b[0;34m)\u001b[0m \u001b[0;34m=\u001b[0m \u001b[0mrendered\u001b[0m\u001b[0;34m\u001b[0m\u001b[0;34m\u001b[0m\u001b[0m\n",
      "\u001b[0;32m~/miniconda3/envs/praxis/lib/python3.8/site-packages/holoviews/plotting/renderer.py\u001b[0m in \u001b[0;36m__call__\u001b[0;34m(self, obj, fmt, **kwargs)\u001b[0m\n\u001b[1;32m    193\u001b[0m             \u001b[0;32mreturn\u001b[0m \u001b[0mself\u001b[0m\u001b[0;34m.\u001b[0m\u001b[0mstatic_html\u001b[0m\u001b[0;34m(\u001b[0m\u001b[0mplot\u001b[0m\u001b[0;34m)\u001b[0m\u001b[0;34m,\u001b[0m \u001b[0minfo\u001b[0m\u001b[0;34m\u001b[0m\u001b[0;34m\u001b[0m\u001b[0m\n\u001b[1;32m    194\u001b[0m         \u001b[0;32melse\u001b[0m\u001b[0;34m:\u001b[0m\u001b[0;34m\u001b[0m\u001b[0;34m\u001b[0m\u001b[0m\n\u001b[0;32m--> 195\u001b[0;31m             \u001b[0mdata\u001b[0m \u001b[0;34m=\u001b[0m \u001b[0mself\u001b[0m\u001b[0;34m.\u001b[0m\u001b[0m_figure_data\u001b[0m\u001b[0;34m(\u001b[0m\u001b[0mplot\u001b[0m\u001b[0;34m,\u001b[0m \u001b[0mfmt\u001b[0m\u001b[0;34m,\u001b[0m \u001b[0;34m**\u001b[0m\u001b[0mkwargs\u001b[0m\u001b[0;34m)\u001b[0m\u001b[0;34m\u001b[0m\u001b[0;34m\u001b[0m\u001b[0m\n\u001b[0m\u001b[1;32m    196\u001b[0m             \u001b[0mdata\u001b[0m \u001b[0;34m=\u001b[0m \u001b[0mself\u001b[0m\u001b[0;34m.\u001b[0m\u001b[0m_apply_post_render_hooks\u001b[0m\u001b[0;34m(\u001b[0m\u001b[0mdata\u001b[0m\u001b[0;34m,\u001b[0m \u001b[0mobj\u001b[0m\u001b[0;34m,\u001b[0m \u001b[0mfmt\u001b[0m\u001b[0;34m)\u001b[0m\u001b[0;34m\u001b[0m\u001b[0;34m\u001b[0m\u001b[0m\n\u001b[1;32m    197\u001b[0m             \u001b[0;32mreturn\u001b[0m \u001b[0mdata\u001b[0m\u001b[0;34m,\u001b[0m \u001b[0minfo\u001b[0m\u001b[0;34m\u001b[0m\u001b[0;34m\u001b[0m\u001b[0m\n",
      "\u001b[0;32m~/miniconda3/envs/praxis/lib/python3.8/site-packages/holoviews/plotting/bokeh/renderer.py\u001b[0m in \u001b[0;36m_figure_data\u001b[0;34m(self, plot, fmt, doc, as_script, **kwargs)\u001b[0m\n\u001b[1;32m    125\u001b[0m         \u001b[0;32melif\u001b[0m \u001b[0mfmt\u001b[0m \u001b[0;34m==\u001b[0m \u001b[0;34m'png'\u001b[0m\u001b[0;34m:\u001b[0m\u001b[0;34m\u001b[0m\u001b[0;34m\u001b[0m\u001b[0m\n\u001b[1;32m    126\u001b[0m             \u001b[0;32mfrom\u001b[0m \u001b[0mbokeh\u001b[0m\u001b[0;34m.\u001b[0m\u001b[0mio\u001b[0m\u001b[0;34m.\u001b[0m\u001b[0mexport\u001b[0m \u001b[0;32mimport\u001b[0m \u001b[0mget_screenshot_as_png\u001b[0m\u001b[0;34m\u001b[0m\u001b[0;34m\u001b[0m\u001b[0m\n\u001b[0;32m--> 127\u001b[0;31m             \u001b[0mimg\u001b[0m \u001b[0;34m=\u001b[0m \u001b[0mget_screenshot_as_png\u001b[0m\u001b[0;34m(\u001b[0m\u001b[0mplot\u001b[0m\u001b[0;34m.\u001b[0m\u001b[0mstate\u001b[0m\u001b[0;34m,\u001b[0m \u001b[0mdriver\u001b[0m\u001b[0;34m=\u001b[0m\u001b[0mstate\u001b[0m\u001b[0;34m.\u001b[0m\u001b[0mwebdriver\u001b[0m\u001b[0;34m)\u001b[0m\u001b[0;34m\u001b[0m\u001b[0;34m\u001b[0m\u001b[0m\n\u001b[0m\u001b[1;32m    128\u001b[0m             \u001b[0mimgByteArr\u001b[0m \u001b[0;34m=\u001b[0m \u001b[0mBytesIO\u001b[0m\u001b[0;34m(\u001b[0m\u001b[0;34m)\u001b[0m\u001b[0;34m\u001b[0m\u001b[0;34m\u001b[0m\u001b[0m\n\u001b[1;32m    129\u001b[0m             \u001b[0mimg\u001b[0m\u001b[0;34m.\u001b[0m\u001b[0msave\u001b[0m\u001b[0;34m(\u001b[0m\u001b[0mimgByteArr\u001b[0m\u001b[0;34m,\u001b[0m \u001b[0mformat\u001b[0m\u001b[0;34m=\u001b[0m\u001b[0;34m'PNG'\u001b[0m\u001b[0;34m)\u001b[0m\u001b[0;34m\u001b[0m\u001b[0;34m\u001b[0m\u001b[0m\n",
      "\u001b[0;32m~/miniconda3/envs/praxis/lib/python3.8/site-packages/bokeh/io/export.py\u001b[0m in \u001b[0;36mget_screenshot_as_png\u001b[0;34m(obj, driver, timeout, resources, width, height)\u001b[0m\n\u001b[1;32m    234\u001b[0m             \u001b[0mfile\u001b[0m\u001b[0;34m.\u001b[0m\u001b[0mwrite\u001b[0m\u001b[0;34m(\u001b[0m\u001b[0mhtml\u001b[0m\u001b[0;34m)\u001b[0m\u001b[0;34m\u001b[0m\u001b[0;34m\u001b[0m\u001b[0m\n\u001b[1;32m    235\u001b[0m \u001b[0;34m\u001b[0m\u001b[0m\n\u001b[0;32m--> 236\u001b[0;31m         \u001b[0mweb_driver\u001b[0m \u001b[0;34m=\u001b[0m \u001b[0mdriver\u001b[0m \u001b[0;32mif\u001b[0m \u001b[0mdriver\u001b[0m \u001b[0;32mis\u001b[0m \u001b[0;32mnot\u001b[0m \u001b[0;32mNone\u001b[0m \u001b[0;32melse\u001b[0m \u001b[0mwebdriver_control\u001b[0m\u001b[0;34m.\u001b[0m\u001b[0mget\u001b[0m\u001b[0;34m(\u001b[0m\u001b[0;34m)\u001b[0m\u001b[0;34m\u001b[0m\u001b[0;34m\u001b[0m\u001b[0m\n\u001b[0m\u001b[1;32m    237\u001b[0m         \u001b[0mweb_driver\u001b[0m\u001b[0;34m.\u001b[0m\u001b[0mmaximize_window\u001b[0m\u001b[0;34m(\u001b[0m\u001b[0;34m)\u001b[0m\u001b[0;34m\u001b[0m\u001b[0;34m\u001b[0m\u001b[0m\n\u001b[1;32m    238\u001b[0m         \u001b[0mweb_driver\u001b[0m\u001b[0;34m.\u001b[0m\u001b[0mget\u001b[0m\u001b[0;34m(\u001b[0m\u001b[0;34mf\"file://{tmp.path}\"\u001b[0m\u001b[0;34m)\u001b[0m\u001b[0;34m\u001b[0m\u001b[0;34m\u001b[0m\u001b[0m\n",
      "\u001b[0;32m~/miniconda3/envs/praxis/lib/python3.8/site-packages/bokeh/io/webdriver.py\u001b[0m in \u001b[0;36mget\u001b[0;34m(self)\u001b[0m\n\u001b[1;32m    151\u001b[0m         \u001b[0;32mif\u001b[0m \u001b[0;32mnot\u001b[0m \u001b[0mself\u001b[0m\u001b[0;34m.\u001b[0m\u001b[0mreuse\u001b[0m \u001b[0;32mor\u001b[0m \u001b[0mself\u001b[0m\u001b[0;34m.\u001b[0m\u001b[0mcurrent\u001b[0m \u001b[0;32mis\u001b[0m \u001b[0;32mNone\u001b[0m\u001b[0;34m:\u001b[0m\u001b[0;34m\u001b[0m\u001b[0;34m\u001b[0m\u001b[0m\n\u001b[1;32m    152\u001b[0m             \u001b[0mself\u001b[0m\u001b[0;34m.\u001b[0m\u001b[0mreset\u001b[0m\u001b[0;34m(\u001b[0m\u001b[0;34m)\u001b[0m\u001b[0;34m\u001b[0m\u001b[0;34m\u001b[0m\u001b[0m\n\u001b[0;32m--> 153\u001b[0;31m             \u001b[0mself\u001b[0m\u001b[0;34m.\u001b[0m\u001b[0mcurrent\u001b[0m \u001b[0;34m=\u001b[0m \u001b[0mself\u001b[0m\u001b[0;34m.\u001b[0m\u001b[0mcreate\u001b[0m\u001b[0;34m(\u001b[0m\u001b[0;34m)\u001b[0m\u001b[0;34m\u001b[0m\u001b[0;34m\u001b[0m\u001b[0m\n\u001b[0m\u001b[1;32m    154\u001b[0m         \u001b[0;32mreturn\u001b[0m \u001b[0mself\u001b[0m\u001b[0;34m.\u001b[0m\u001b[0mcurrent\u001b[0m\u001b[0;34m\u001b[0m\u001b[0;34m\u001b[0m\u001b[0m\n\u001b[1;32m    155\u001b[0m \u001b[0;34m\u001b[0m\u001b[0m\n",
      "\u001b[0;32m~/miniconda3/envs/praxis/lib/python3.8/site-packages/bokeh/io/webdriver.py\u001b[0m in \u001b[0;36mcreate\u001b[0;34m(self, kind)\u001b[0m\n\u001b[1;32m    155\u001b[0m \u001b[0;34m\u001b[0m\u001b[0m\n\u001b[1;32m    156\u001b[0m     \u001b[0;32mdef\u001b[0m \u001b[0mcreate\u001b[0m\u001b[0;34m(\u001b[0m\u001b[0mself\u001b[0m\u001b[0;34m,\u001b[0m \u001b[0mkind\u001b[0m\u001b[0;34m:\u001b[0m \u001b[0mDriverKind\u001b[0m \u001b[0;34m|\u001b[0m \u001b[0;32mNone\u001b[0m \u001b[0;34m=\u001b[0m \u001b[0;32mNone\u001b[0m\u001b[0;34m)\u001b[0m \u001b[0;34m->\u001b[0m \u001b[0mWebDriver\u001b[0m\u001b[0;34m:\u001b[0m\u001b[0;34m\u001b[0m\u001b[0;34m\u001b[0m\u001b[0m\n\u001b[0;32m--> 157\u001b[0;31m         \u001b[0mdriver\u001b[0m \u001b[0;34m=\u001b[0m \u001b[0mself\u001b[0m\u001b[0;34m.\u001b[0m\u001b[0m_create\u001b[0m\u001b[0;34m(\u001b[0m\u001b[0mkind\u001b[0m\u001b[0;34m)\u001b[0m\u001b[0;34m\u001b[0m\u001b[0;34m\u001b[0m\u001b[0m\n\u001b[0m\u001b[1;32m    158\u001b[0m         \u001b[0mself\u001b[0m\u001b[0;34m.\u001b[0m\u001b[0m_drivers\u001b[0m\u001b[0;34m.\u001b[0m\u001b[0madd\u001b[0m\u001b[0;34m(\u001b[0m\u001b[0mdriver\u001b[0m\u001b[0;34m)\u001b[0m\u001b[0;34m\u001b[0m\u001b[0;34m\u001b[0m\u001b[0m\n\u001b[1;32m    159\u001b[0m         \u001b[0;32mreturn\u001b[0m \u001b[0mdriver\u001b[0m\u001b[0;34m\u001b[0m\u001b[0;34m\u001b[0m\u001b[0m\n",
      "\u001b[0;32m~/miniconda3/envs/praxis/lib/python3.8/site-packages/bokeh/io/webdriver.py\u001b[0m in \u001b[0;36m_create\u001b[0;34m(self, kind)\u001b[0m\n\u001b[1;32m    173\u001b[0m                 \u001b[0;32mreturn\u001b[0m \u001b[0mdriver\u001b[0m\u001b[0;34m\u001b[0m\u001b[0;34m\u001b[0m\u001b[0m\n\u001b[1;32m    174\u001b[0m \u001b[0;34m\u001b[0m\u001b[0m\n\u001b[0;32m--> 175\u001b[0;31m             raise RuntimeError(\"Neither firefox and geckodriver nor a variant of chromium browser and \" \\\n\u001b[0m\u001b[1;32m    176\u001b[0m                                \u001b[0;34m\"chromedriver are available on system PATH. You can install the former \"\u001b[0m\u001b[0;31m \u001b[0m\u001b[0;31m\\\u001b[0m\u001b[0;34m\u001b[0m\u001b[0;34m\u001b[0m\u001b[0m\n\u001b[1;32m    177\u001b[0m                                \"with 'conda install -c conda-forge firefox geckodriver'.\")\n",
      "\u001b[0;31mRuntimeError\u001b[0m: Neither firefox and geckodriver nor a variant of chromium browser and chromedriver are available on system PATH. You can install the former with 'conda install -c conda-forge firefox geckodriver'."
     ]
    }
   ],
   "source": [
    "hv.save(out,\"plot_finetune.png\")\n"
   ]
  },
  {
   "cell_type": "code",
   "execution_count": null,
   "metadata": {},
   "outputs": [],
   "source": []
  },
  {
   "cell_type": "code",
   "execution_count": null,
   "metadata": {},
   "outputs": [],
   "source": [
    "var = \"PTTEND\"\n",
    "num_levels = 30\n",
    "out = hv.Layout([(plot_one_with_error_bars(\"cam4\", f\"{var}_{i:02}\")*plot_one_with_error_bars(\"random\", f\"{var}_{i:02}\")).opts(legend_position = \"bottom_right\") for i in range(num_levels)]).cols(5)\n",
    "hv.save(out,f\"plot_finetune_{var}.html\")\n",
    "out"
   ]
  },
  {
   "cell_type": "code",
   "execution_count": null,
   "metadata": {},
   "outputs": [],
   "source": [
    "\n",
    "# pd.Series(np.random.randint(1000,size=20)).to_csv(\"seed.csv\",index =False)\n",
    "# seeds = pd.read_csv(\"seed.csv\").iloc[:,0]\n",
    "# list(seeds)"
   ]
  },
  {
   "cell_type": "code",
   "execution_count": null,
   "metadata": {},
   "outputs": [],
   "source": [
    "metrics = \"PRECT,PRECC,PTTEND,PTEQ\".split(\",\")\n",
    "\n",
    "def plot_one(metric):\n",
    "    temp = data.sort_values([\"base_model\",\"samples\"])\n",
    "    return temp.hvplot.line(x = \"samples\", y = metric, groupby = \"base_model\", logx = True, line_width = .5, width = 400, grid = True)*\\\n",
    "    temp.hvplot.scatter(x = \"samples\", y = metric, groupby = \"base_model\", logx = True, padding = .1)\n",
    "\n",
    "plots = hv.Layout([plot_one(metric).overlay(\"base_model\").opts(legend_position = \"bottom_right\", title=f\"skill {metric}\") for metric in metrics])\n",
    "plots = plots.cols(2)\n",
    "plots"
   ]
  },
  {
   "cell_type": "code",
   "execution_count": null,
   "metadata": {},
   "outputs": [],
   "source": [
    "data"
   ]
  },
  {
   "cell_type": "code",
   "execution_count": null,
   "metadata": {},
   "outputs": [],
   "source": []
  },
  {
   "cell_type": "code",
   "execution_count": null,
   "metadata": {},
   "outputs": [],
   "source": [
    "metrics = \"PRECT,PRECC,PTTEND,PTEQ\".split(\",\")\n",
    "\n",
    "def plot_one(metric):\n",
    "    temp = data.sort_values([\"base_model\",\"samples\"])\n",
    "    return temp.hvplot.line(x = \"samples\", y = metric, groupby = \"base_model\", logx = True, line_width = .5, width = 400, grid = True)*\\\n",
    "    temp.hvplot.scatter(x = \"samples\", y = metric, groupby = \"base_model\", logx = True, padding = .1)\n",
    "\n",
    "plots = hv.Layout([plot_one(metric).overlay(\"base_model\").opts(legend_position = \"bottom_right\", title=f\"skill {metric}\") for metric in metrics])\n",
    "plots = plots.cols(5)\n",
    "plots"
   ]
  }
 ],
 "metadata": {
  "kernelspec": {
   "display_name": "praxis",
   "language": "python",
   "name": "python3"
  },
  "language_info": {
   "codemirror_mode": {
    "name": "ipython",
    "version": 3
   },
   "file_extension": ".py",
   "mimetype": "text/x-python",
   "name": "python",
   "nbconvert_exporter": "python",
   "pygments_lexer": "ipython3",
   "version": "3.8.10"
  }
 },
 "nbformat": 4,
 "nbformat_minor": 4
}
