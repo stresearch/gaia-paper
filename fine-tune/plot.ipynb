{
 "cells": [
  {
   "cell_type": "code",
   "execution_count": null,
   "metadata": {},
   "outputs": [],
   "source": [
    "import holoviews as hv\n",
    "hv.extension(\"bokeh\")\n",
    "import hvplot.pandas\n",
    "import pandas as pd\n",
    "from pathlib import Path\n",
    "import sys\n",
    "sys.path.append(\"/proj/gaia-climate/team/kirill/gaia-surrogate\")\n",
    "from gaia.training import load_hparams_file\n"
   ]
  },
  {
   "cell_type": "code",
   "execution_count": null,
   "metadata": {},
   "outputs": [],
   "source": [
    "def get_metrics(model_dir, dataset = \"spcam\"):\n",
    "    metrics = pd.read_json(next(Path(model_dir).glob(f\"*{dataset}*\"))).T.squeeze()\n",
    "    hparams = load_hparams_file(model_dir)\n",
    "    metrics[\"subsample\"] = int(hparams[\"dataset_params\"][\"train\"].get(\"subsample\",1))\n",
    "    metrics[\"is_finetuned\"]  = int(hparams.get(\"is_finetuned\",False))\n",
    "    metrics[\"base_model\"] = \"random\"\n",
    "    metrics[\"samples\"] = 24 * 96 * 144 * 54 // metrics[\"subsample\"]\n",
    "    \n",
    "    if \"cam4\" in str(model_dir):\n",
    "        return pd.Series()\n",
    "        # metrics[\"base_model\"] = \"cam4\"\n",
    "        # metrics[\"is_finetuned\"] = True\n",
    "        # metrics[\"subsample\"] = \n",
    "    \n",
    "    if metrics[\"is_finetuned\"]:\n",
    "        metrics[\"base_model\"] = \"cam4\"        \n",
    "        \n",
    "        \n",
    "    return metrics\n",
    "\n",
    "data = pd.concat([get_metrics(f).to_frame().T for f in Path(\"lightning_logs\").glob(\"*\")]).dropna()\n",
    "data = data.iloc[:,1:]\n",
    "data.columns = [c.replace(\"test_skill_ave_trunc_\",\"\") for c in data.columns]\n",
    "\n",
    "data[\"PTEQ\"] = data.loc[:,[c for c in data.columns if \"PTEQ_\" in c]].iloc[:,8:].mean(1)\n",
    "data[\"PTTEND\"] = data.loc[:,[c for c in data.columns if \"PTTEND_\" in c]].iloc[:,8:].mean(1)\n",
    "\n",
    "\n"
   ]
  },
  {
   "cell_type": "code",
   "execution_count": null,
   "metadata": {},
   "outputs": [],
   "source": [
    "metrics = \"PRECT,PRECC,PTTEND,PTEQ\".split(\",\")\n",
    "\n",
    "def plot_one(metric):\n",
    "    temp = data.sort_values(metric)\n",
    "    return temp.hvplot.line(x = \"samples\", y = metric, groupby = \"base_model\", logx = True, line_width = .5, width = 400, grid = True)*\\\n",
    "    temp.hvplot.scatter(x = \"samples\", y = metric, groupby = \"base_model\", logx = True, padding = .1)\n",
    "\n",
    "plots = hv.Layout([plot_one(metric).overlay(\"base_model\").opts(legend_position = \"bottom_right\", title=f\"skill {metric}\") for metric in metrics])\n",
    "plots = plots.cols(2)\n",
    "plots"
   ]
  },
  {
   "cell_type": "code",
   "execution_count": null,
   "metadata": {},
   "outputs": [],
   "source": [
    "hv.save(plots, \"fine_tune.html\")"
   ]
  },
  {
   "cell_type": "code",
   "execution_count": null,
   "metadata": {},
   "outputs": [],
   "source": []
  }
 ],
 "metadata": {
  "kernelspec": {
   "display_name": "praxis",
   "language": "python",
   "name": "praxis"
  },
  "language_info": {
   "codemirror_mode": {
    "name": "ipython",
    "version": 3
   },
   "file_extension": ".py",
   "mimetype": "text/x-python",
   "name": "python",
   "nbconvert_exporter": "python",
   "pygments_lexer": "ipython3",
   "version": "3.8.10"
  },
  "vscode": {
   "interpreter": {
    "hash": "0884a0317d8ce07aa9d274c7b23054ff8d1b83b743857d76192baa215ca48156"
   }
  }
 },
 "nbformat": 4,
 "nbformat_minor": 4
}
