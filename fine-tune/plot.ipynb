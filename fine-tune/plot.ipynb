{
 "cells": [
  {
   "cell_type": "code",
   "execution_count": null,
   "metadata": {},
   "outputs": [],
   "source": [
    "import holoviews as hv\n",
    "hv.extension(\"bokeh\")\n",
    "import hvplot.pandas\n",
    "import pandas as pd\n",
    "from pathlib import Path\n",
    "import sys\n",
    "sys.path.append(\"/proj/gaia-climate/team/kirill/gaia-surrogate\")\n",
    "from gaia.training import load_hparams_file\n"
   ]
  },
  {
   "cell_type": "code",
   "execution_count": null,
   "metadata": {},
   "outputs": [],
   "source": [
    "import tqdm.auto as tqdm"
   ]
  },
  {
   "cell_type": "code",
   "execution_count": null,
   "metadata": {},
   "outputs": [],
   "source": [
    "def get_metrics(model_dir, dataset = \"spcam\"):\n",
    "\n",
    "    try:\n",
    "        metrics = pd.read_json(next(Path(model_dir).glob(f\"*{dataset}*\"))).T.squeeze()\n",
    "    except Exception:\n",
    "        return pd.Series()\n",
    "    hparams = load_hparams_file(model_dir)\n",
    "    metrics[\"subsample\"] = int(hparams[\"dataset_params\"][\"train\"].get(\"subsample\",1))\n",
    "    metrics[\"batch_size\"] = int(hparams[\"dataset_params\"][\"train\"].get(\"batch_size\",1))\n",
    "\n",
    "    metrics[\"is_finetuned\"]  = int(hparams.get(\"is_finetuned\",False))\n",
    "    metrics[\"base_model\"] = \"random\"\n",
    "    metrics[\"samples\"] = 24 * 96 * 144 * 54 // metrics[\"subsample\"]\n",
    "    metrics[\"lr\"] = hparams[\"lr\"]\n",
    "    \n",
    "    if \"base_cam4\" in str(model_dir):\n",
    "        # return pd.Series()\n",
    "        metrics[\"is_finetuned\"] = True\n",
    "        metrics[\"samples\"] = 10\n",
    "\n",
    "    # if \"base_spacm\" in str(model_dir):\n",
    "    #     metrics[\"base_model\"] = \"cam4\" \n",
    "    #     # metrics[\"base_model\"] = \"cam4\"\n",
    "    #     # metrics[\"is_finetuned\"] = True\n",
    "    #     # metrics[\"subsample\"] = \n",
    "\n",
    "    \n",
    "    if metrics[\"is_finetuned\"]:\n",
    "        metrics[\"base_model\"] = \"cam4\"        \n",
    "        \n",
    "        \n",
    "    return metrics\n",
    "\n",
    "data = pd.concat([get_metrics(f).to_frame().T for f in Path(\"lightning_logs\").glob(\"*\")]).dropna()\n",
    "data = data.iloc[:,1:]\n",
    "data.columns = [c.replace(\"test_skill_ave_trunc_\",\"\") for c in data.columns]\n",
    "\n",
    "\n",
    "\n"
   ]
  },
  {
   "cell_type": "code",
   "execution_count": null,
   "metadata": {},
   "outputs": [],
   "source": [
    "from gaia.plot import levels, levels26\n"
   ]
  },
  {
   "cell_type": "code",
   "execution_count": null,
   "metadata": {},
   "outputs": [],
   "source": [
    "pd.Series(levels).round(2).to_json()"
   ]
  },
  {
   "cell_type": "code",
   "execution_count": null,
   "metadata": {},
   "outputs": [],
   "source": [
    "data = data.query(\"batch_size>=64\")#.subsample.unique().astype(int)"
   ]
  },
  {
   "cell_type": "code",
   "execution_count": null,
   "metadata": {},
   "outputs": [],
   "source": [
    "# data.subsample.drop_duplicates().astype(int).to_csv(\"subsample.csv\")"
   ]
  },
  {
   "cell_type": "code",
   "execution_count": null,
   "metadata": {},
   "outputs": [],
   "source": [
    "min_level = 11\n",
    "\n",
    "data[\"PTEQ\"] = data.loc[:,[c for c in data.columns if \"PTEQ_\" in c]].iloc[:,min_level:].mean(1)\n",
    "data[\"PTTEND\"] = data.loc[:,[c for c in data.columns if \"PTTEND_\" in c]].mean(1)\n"
   ]
  },
  {
   "cell_type": "code",
   "execution_count": null,
   "metadata": {},
   "outputs": [],
   "source": [
    "def plot_one_with_error_bars(base_model, metric):\n",
    "    temp1 = data.query(f\"base_model=='{base_model}'\")\n",
    "    temp = temp1.groupby([\"samples\"])[metric].agg([\"mean\",\"std\"]).rename(columns = {\"mean\":metric})\n",
    "    return  hv.Scatter(temp1, kdims=[\"samples\"], vdims=[metric], label = base_model).opts(size = 2)*\\\n",
    "    hv.Curve(temp.reset_index(), kdims=[\"samples\"], vdims=[metric], label = base_model).opts(logx=True,line_width=.5, show_grid = True).redim.range(**{metric:(0,1)})\n",
    "    # hv.ErrorBars(temp.reset_index(), kdims=[\"samples\"], vdims=[metric,\"std\"], label = base_model).opts(line_width=.5)*\\\n",
    "\n",
    "    # hv.Scatter(temp.reset_index(), kdims=[\"samples\"], vdims=[metric], label = base_model).opts(size = 3)*\\\n",
    "\n",
    "\n",
    "\n",
    "out = hv.Layout([(plot_one_with_error_bars(\"cam4\", v)*plot_one_with_error_bars(\"random\", v)).opts(legend_position = \"bottom_right\") for v in [\"PRECT\",\"PTTEND\",\"PTEQ\"]])\n",
    "# hv.save(out,\"plot_finetune.html\")\n",
    "out\n"
   ]
  },
  {
   "cell_type": "code",
   "execution_count": null,
   "metadata": {},
   "outputs": [],
   "source": [
    "len(levels)"
   ]
  },
  {
   "cell_type": "code",
   "execution_count": null,
   "metadata": {},
   "outputs": [],
   "source": [
    "var = \"PTTEND\"\n",
    "num_levels = 30\n",
    "out = hv.Layout([(plot_one_with_error_bars(\"cam4\", f\"{var}_{i:02}\")*\\\n",
    "                  plot_one_with_error_bars(\"random\", f\"{var}_{i:02}\").redim.range(**{f\"{var}_{i:02}\":(-.05,1.05)}))\\\n",
    "                 .opts(legend_position = \"bottom_right\", title = f\"{i:02}: {levels[i]:.2f}\", width = 250, height = 250) for i in range(num_levels)]).cols(5)\n",
    "hv.save(out,f\"plot_finetune_{var}.html\")\n",
    "out"
   ]
  }
 ],
 "metadata": {
  "kernelspec": {
   "display_name": "torch2",
   "language": "python",
   "name": "torch2"
  },
  "language_info": {
   "codemirror_mode": {
    "name": "ipython",
    "version": 3
   },
   "file_extension": ".py",
   "mimetype": "text/x-python",
   "name": "python",
   "nbconvert_exporter": "python",
   "pygments_lexer": "ipython3",
   "version": "3.10.13"
  }
 },
 "nbformat": 4,
 "nbformat_minor": 4
}
