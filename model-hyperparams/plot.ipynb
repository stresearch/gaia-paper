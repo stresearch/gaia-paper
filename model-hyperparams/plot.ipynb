{
 "cells": [
  {
   "cell_type": "code",
   "execution_count": null,
   "id": "d737834c-91b6-4c79-b408-0f0dd7fd135e",
   "metadata": {},
   "outputs": [],
   "source": [
    "import sys\n",
    "sys.path.append(\"/proj/gaia-climate/team/kirill/gaia-surrogate\")"
   ]
  },
  {
   "cell_type": "code",
   "execution_count": null,
   "id": "41c9ca09-0436-4768-8f62-4cd0ceaf8124",
   "metadata": {},
   "outputs": [],
   "source": [
    "from gaia.models import FcnBaseline"
   ]
  },
  {
   "cell_type": "code",
   "execution_count": null,
   "id": "ec55b078-8684-4bb2-8d2b-fa1558d9e6b1",
   "metadata": {},
   "outputs": [],
   "source": [
    "13/23"
   ]
  },
  {
   "cell_type": "markdown",
   "id": "e08af91a-77e8-4d03-a065-041732258a37",
   "metadata": {},
   "source": [
    "### memory footprint"
   ]
  },
  {
   "cell_type": "code",
   "execution_count": null,
   "id": "88f26889-a8f3-4f4a-97f9-1a83279b8711",
   "metadata": {},
   "outputs": [],
   "source": [
    "ins  = 164\n",
    "outs = 54\n",
    "def get_memory_footprint(l,h, b):\n",
    "    model = FcnBaseline(input_size=ins, num_layers=l, hidden_size=h,output_size=outs)\n",
    "    trainable_params = sum([p.numel() for p in model.parameters() if p.requires_grad])\n",
    "    non_trainable_params = sum([p.numel() for p in model.parameters() if p.requires_grad])\n",
    "    activations = l*(4*h)\n",
    "    grads = trainable_params\n",
    "    optimizer_states = grads*2\n",
    "    \n",
    "    p = trainable_params + non_trainable_params + grads + optimizer_states\n",
    "    return (p+4*activations*b)/(10**9)"
   ]
  },
  {
   "cell_type": "code",
   "execution_count": null,
   "id": "c076803c-9143-482a-913e-cafc85209d75",
   "metadata": {},
   "outputs": [],
   "source": [
    "import pandas as pd"
   ]
  },
  {
   "cell_type": "code",
   "execution_count": null,
   "id": "96ef421c-8331-4a4d-98e7-907c5018af91",
   "metadata": {},
   "outputs": [],
   "source": [
    "num_layers = [3,5,7,14,21]\n",
    "hidden_size = [128,256,512,1024,2048]\n",
    "\n",
    "df = []\n",
    "\n",
    "for l in num_layers:\n",
    "    for h in hidden_size:\n",
    "        for b in [2,4,8,16,24]:\n",
    "            df.append((l,h,b,get_memory_footprint(l, h, b*96*144)))"
   ]
  },
  {
   "cell_type": "code",
   "execution_count": null,
   "id": "77d3211d-f325-4ba1-b46a-88b55f916e9a",
   "metadata": {},
   "outputs": [],
   "source": [
    "df = pd.DataFrame(df,columns=[\"layers\",\"size\",\"batch\",\"memory\"]).sort_values(\"memory\")"
   ]
  },
  {
   "cell_type": "code",
   "execution_count": null,
   "id": "350f7ea7-96ac-4d44-a27a-a549f97012aa",
   "metadata": {},
   "outputs": [],
   "source": [
    "df.query(\"memory<=20\").sort_values(\"batch\", ascending = False).drop_duplicates([\"layers\",\"size\"]).sort_values([\"layers\",\"size\"]).reset_index(drop = True).to_csv(\"memory_size.csv\",index = False)"
   ]
  },
  {
   "cell_type": "code",
   "execution_count": null,
   "id": "18dfa6fa-98df-456e-bbeb-733cbadf663e",
   "metadata": {},
   "outputs": [],
   "source": [
    "ins  = 164\n",
    "outs = 54\n",
    "def compute_memory_footprint(l,h):\n",
    "    num_params_diff_params =  (l-2)*(h**2 + h) + h*(64+1) + h*(164+1) + (h*2)*(l-1)\n",
    "    num_non_diff_params = ins"
   ]
  },
  {
   "cell_type": "code",
   "execution_count": null,
   "id": "ff78e6ba-e701-4b1b-b413-c8bb79d16702",
   "metadata": {},
   "outputs": [],
   "source": [
    "compute_num_params(21,2048)/compute_num_params(7,512)"
   ]
  },
  {
   "cell_type": "code",
   "execution_count": null,
   "id": "7589bd81-ca71-428b-b62b-7a7acfa75e1d",
   "metadata": {},
   "outputs": [],
   "source": [
    "from math import log,log10, log2\n",
    "log2(56)"
   ]
  },
  {
   "cell_type": "code",
   "execution_count": null,
   "id": "06370723-bc2f-473b-8dca-df2389a99770",
   "metadata": {},
   "outputs": [],
   "source": [
    "memory_size = pd.read_csv(\"memory_size.csv\").set_index([\"layers\",\"size\"])\n"
   ]
  },
  {
   "cell_type": "code",
   "execution_count": null,
   "id": "8bebfe4d-1b6e-42d0-875e-341807e97552",
   "metadata": {},
   "outputs": [],
   "source": [
    "memory_size.loc[(3,512)]"
   ]
  },
  {
   "cell_type": "markdown",
   "id": "35c9de9e-ef14-43da-bf25-cb6a90fddb00",
   "metadata": {},
   "source": [
    "### get data and plot"
   ]
  },
  {
   "cell_type": "code",
   "execution_count": 1,
   "id": "94d727f5-9120-47fc-9d4f-22d155ac120b",
   "metadata": {},
   "outputs": [
    {
     "data": {
      "application/javascript": "(function(root) {\n  function now() {\n    return new Date();\n  }\n\n  var force = true;\n  var py_version = '3.2.2'.replace('rc', '-rc.').replace('.dev', '-dev.');\n  var is_dev = py_version.indexOf(\"+\") !== -1 || py_version.indexOf(\"-\") !== -1;\n  var reloading = false;\n  var Bokeh = root.Bokeh;\n  var bokeh_loaded = Bokeh != null && (Bokeh.version === py_version || (Bokeh.versions !== undefined && Bokeh.versions.has(py_version)));\n\n  if (typeof (root._bokeh_timeout) === \"undefined\" || force) {\n    root._bokeh_timeout = Date.now() + 5000;\n    root._bokeh_failed_load = false;\n  }\n\n  function run_callbacks() {\n    try {\n      root._bokeh_onload_callbacks.forEach(function(callback) {\n        if (callback != null)\n          callback();\n      });\n    } finally {\n      delete root._bokeh_onload_callbacks;\n    }\n    console.debug(\"Bokeh: all callbacks have finished\");\n  }\n\n  function load_libs(css_urls, js_urls, js_modules, js_exports, callback) {\n    if (css_urls == null) css_urls = [];\n    if (js_urls == null) js_urls = [];\n    if (js_modules == null) js_modules = [];\n    if (js_exports == null) js_exports = {};\n\n    root._bokeh_onload_callbacks.push(callback);\n\n    if (root._bokeh_is_loading > 0) {\n      console.debug(\"Bokeh: BokehJS is being loaded, scheduling callback at\", now());\n      return null;\n    }\n    if (js_urls.length === 0 && js_modules.length === 0 && Object.keys(js_exports).length === 0) {\n      run_callbacks();\n      return null;\n    }\n    if (!reloading) {\n      console.debug(\"Bokeh: BokehJS not loaded, scheduling load and callback at\", now());\n    }\n\n    function on_load() {\n      root._bokeh_is_loading--;\n      if (root._bokeh_is_loading === 0) {\n        console.debug(\"Bokeh: all BokehJS libraries/stylesheets loaded\");\n        run_callbacks()\n      }\n    }\n    window._bokeh_on_load = on_load\n\n    function on_error() {\n      console.error(\"failed to load \" + url);\n    }\n\n    var skip = [];\n    if (window.requirejs) {\n      window.requirejs.config({'packages': {}, 'paths': {'jspanel': 'https://cdn.jsdelivr.net/npm/jspanel4@4.12.0/dist/jspanel', 'jspanel-modal': 'https://cdn.jsdelivr.net/npm/jspanel4@4.12.0/dist/extensions/modal/jspanel.modal', 'jspanel-tooltip': 'https://cdn.jsdelivr.net/npm/jspanel4@4.12.0/dist/extensions/tooltip/jspanel.tooltip', 'jspanel-hint': 'https://cdn.jsdelivr.net/npm/jspanel4@4.12.0/dist/extensions/hint/jspanel.hint', 'jspanel-layout': 'https://cdn.jsdelivr.net/npm/jspanel4@4.12.0/dist/extensions/layout/jspanel.layout', 'jspanel-contextmenu': 'https://cdn.jsdelivr.net/npm/jspanel4@4.12.0/dist/extensions/contextmenu/jspanel.contextmenu', 'jspanel-dock': 'https://cdn.jsdelivr.net/npm/jspanel4@4.12.0/dist/extensions/dock/jspanel.dock', 'gridstack': 'https://cdn.jsdelivr.net/npm/gridstack@7.2.3/dist/gridstack-all', 'notyf': 'https://cdn.jsdelivr.net/npm/notyf@3/notyf.min'}, 'shim': {'jspanel': {'exports': 'jsPanel'}, 'gridstack': {'exports': 'GridStack'}}});\n      require([\"jspanel\"], function(jsPanel) {\n\twindow.jsPanel = jsPanel\n\ton_load()\n      })\n      require([\"jspanel-modal\"], function() {\n\ton_load()\n      })\n      require([\"jspanel-tooltip\"], function() {\n\ton_load()\n      })\n      require([\"jspanel-hint\"], function() {\n\ton_load()\n      })\n      require([\"jspanel-layout\"], function() {\n\ton_load()\n      })\n      require([\"jspanel-contextmenu\"], function() {\n\ton_load()\n      })\n      require([\"jspanel-dock\"], function() {\n\ton_load()\n      })\n      require([\"gridstack\"], function(GridStack) {\n\twindow.GridStack = GridStack\n\ton_load()\n      })\n      require([\"notyf\"], function() {\n\ton_load()\n      })\n      root._bokeh_is_loading = css_urls.length + 9;\n    } else {\n      root._bokeh_is_loading = css_urls.length + js_urls.length + js_modules.length + Object.keys(js_exports).length;\n    }\n\n    var existing_stylesheets = []\n    var links = document.getElementsByTagName('link')\n    for (var i = 0; i < links.length; i++) {\n      var link = links[i]\n      if (link.href != null) {\n\texisting_stylesheets.push(link.href)\n      }\n    }\n    for (var i = 0; i < css_urls.length; i++) {\n      var url = css_urls[i];\n      if (existing_stylesheets.indexOf(url) !== -1) {\n\ton_load()\n\tcontinue;\n      }\n      const element = document.createElement(\"link\");\n      element.onload = on_load;\n      element.onerror = on_error;\n      element.rel = \"stylesheet\";\n      element.type = \"text/css\";\n      element.href = url;\n      console.debug(\"Bokeh: injecting link tag for BokehJS stylesheet: \", url);\n      document.body.appendChild(element);\n    }    if (((window['jsPanel'] !== undefined) && (!(window['jsPanel'] instanceof HTMLElement))) || window.requirejs) {\n      var urls = ['https://cdn.holoviz.org/panel/1.2.3/dist/bundled/floatpanel/jspanel4@4.12.0/dist/jspanel.js', 'https://cdn.holoviz.org/panel/1.2.3/dist/bundled/floatpanel/jspanel4@4.12.0/dist/extensions/modal/jspanel.modal.js', 'https://cdn.holoviz.org/panel/1.2.3/dist/bundled/floatpanel/jspanel4@4.12.0/dist/extensions/tooltip/jspanel.tooltip.js', 'https://cdn.holoviz.org/panel/1.2.3/dist/bundled/floatpanel/jspanel4@4.12.0/dist/extensions/hint/jspanel.hint.js', 'https://cdn.holoviz.org/panel/1.2.3/dist/bundled/floatpanel/jspanel4@4.12.0/dist/extensions/layout/jspanel.layout.js', 'https://cdn.holoviz.org/panel/1.2.3/dist/bundled/floatpanel/jspanel4@4.12.0/dist/extensions/contextmenu/jspanel.contextmenu.js', 'https://cdn.holoviz.org/panel/1.2.3/dist/bundled/floatpanel/jspanel4@4.12.0/dist/extensions/dock/jspanel.dock.js'];\n      for (var i = 0; i < urls.length; i++) {\n        skip.push(urls[i])\n      }\n    }    if (((window['GridStack'] !== undefined) && (!(window['GridStack'] instanceof HTMLElement))) || window.requirejs) {\n      var urls = ['https://cdn.holoviz.org/panel/1.2.3/dist/bundled/gridstack/gridstack@7.2.3/dist/gridstack-all.js'];\n      for (var i = 0; i < urls.length; i++) {\n        skip.push(urls[i])\n      }\n    }    if (((window['Notyf'] !== undefined) && (!(window['Notyf'] instanceof HTMLElement))) || window.requirejs) {\n      var urls = ['https://cdn.holoviz.org/panel/1.2.3/dist/bundled/notificationarea/notyf@3/notyf.min.js'];\n      for (var i = 0; i < urls.length; i++) {\n        skip.push(urls[i])\n      }\n    }    var existing_scripts = []\n    var scripts = document.getElementsByTagName('script')\n    for (var i = 0; i < scripts.length; i++) {\n      var script = scripts[i]\n      if (script.src != null) {\n\texisting_scripts.push(script.src)\n      }\n    }\n    for (var i = 0; i < js_urls.length; i++) {\n      var url = js_urls[i];\n      if (skip.indexOf(url) !== -1 || existing_scripts.indexOf(url) !== -1) {\n\tif (!window.requirejs) {\n\t  on_load();\n\t}\n\tcontinue;\n      }\n      var element = document.createElement('script');\n      element.onload = on_load;\n      element.onerror = on_error;\n      element.async = false;\n      element.src = url;\n      console.debug(\"Bokeh: injecting script tag for BokehJS library: \", url);\n      document.head.appendChild(element);\n    }\n    for (var i = 0; i < js_modules.length; i++) {\n      var url = js_modules[i];\n      if (skip.indexOf(url) !== -1 || existing_scripts.indexOf(url) !== -1) {\n\tif (!window.requirejs) {\n\t  on_load();\n\t}\n\tcontinue;\n      }\n      var element = document.createElement('script');\n      element.onload = on_load;\n      element.onerror = on_error;\n      element.async = false;\n      element.src = url;\n      element.type = \"module\";\n      console.debug(\"Bokeh: injecting script tag for BokehJS library: \", url);\n      document.head.appendChild(element);\n    }\n    for (const name in js_exports) {\n      var url = js_exports[name];\n      if (skip.indexOf(url) >= 0 || root[name] != null) {\n\tif (!window.requirejs) {\n\t  on_load();\n\t}\n\tcontinue;\n      }\n      var element = document.createElement('script');\n      element.onerror = on_error;\n      element.async = false;\n      element.type = \"module\";\n      console.debug(\"Bokeh: injecting script tag for BokehJS library: \", url);\n      element.textContent = `\n      import ${name} from \"${url}\"\n      window.${name} = ${name}\n      window._bokeh_on_load()\n      `\n      document.head.appendChild(element);\n    }\n    if (!js_urls.length && !js_modules.length) {\n      on_load()\n    }\n  };\n\n  function inject_raw_css(css) {\n    const element = document.createElement(\"style\");\n    element.appendChild(document.createTextNode(css));\n    document.body.appendChild(element);\n  }\n\n  var js_urls = [\"https://cdn.bokeh.org/bokeh/release/bokeh-3.2.2.min.js\", \"https://cdn.bokeh.org/bokeh/release/bokeh-gl-3.2.2.min.js\", \"https://cdn.bokeh.org/bokeh/release/bokeh-widgets-3.2.2.min.js\", \"https://cdn.bokeh.org/bokeh/release/bokeh-tables-3.2.2.min.js\", \"https://cdn.holoviz.org/panel/1.2.3/dist/panel.min.js\"];\n  var js_modules = [];\n  var js_exports = {};\n  var css_urls = [];\n  var inline_js = [    function(Bokeh) {\n      Bokeh.set_log_level(\"info\");\n    },\nfunction(Bokeh) {} // ensure no trailing comma for IE\n  ];\n\n  function run_inline_js() {\n    if ((root.Bokeh !== undefined) || (force === true)) {\n      for (var i = 0; i < inline_js.length; i++) {\n        inline_js[i].call(root, root.Bokeh);\n      }\n      // Cache old bokeh versions\n      if (Bokeh != undefined && !reloading) {\n\tvar NewBokeh = root.Bokeh;\n\tif (Bokeh.versions === undefined) {\n\t  Bokeh.versions = new Map();\n\t}\n\tif (NewBokeh.version !== Bokeh.version) {\n\t  Bokeh.versions.set(NewBokeh.version, NewBokeh)\n\t}\n\troot.Bokeh = Bokeh;\n      }} else if (Date.now() < root._bokeh_timeout) {\n      setTimeout(run_inline_js, 100);\n    } else if (!root._bokeh_failed_load) {\n      console.log(\"Bokeh: BokehJS failed to load within specified timeout.\");\n      root._bokeh_failed_load = true;\n    }\n    root._bokeh_is_initializing = false\n  }\n\n  function load_or_wait() {\n    // Implement a backoff loop that tries to ensure we do not load multiple\n    // versions of Bokeh and its dependencies at the same time.\n    // In recent versions we use the root._bokeh_is_initializing flag\n    // to determine whether there is an ongoing attempt to initialize\n    // bokeh, however for backward compatibility we also try to ensure\n    // that we do not start loading a newer (Panel>=1.0 and Bokeh>3) version\n    // before older versions are fully initialized.\n    if (root._bokeh_is_initializing && Date.now() > root._bokeh_timeout) {\n      root._bokeh_is_initializing = false;\n      root._bokeh_onload_callbacks = undefined;\n      console.log(\"Bokeh: BokehJS was loaded multiple times but one version failed to initialize.\");\n      load_or_wait();\n    } else if (root._bokeh_is_initializing || (typeof root._bokeh_is_initializing === \"undefined\" && root._bokeh_onload_callbacks !== undefined)) {\n      setTimeout(load_or_wait, 100);\n    } else {\n      Bokeh = root.Bokeh;\n      bokeh_loaded = Bokeh != null && (Bokeh.version === py_version || (Bokeh.versions !== undefined && Bokeh.versions.has(py_version)));\n      root._bokeh_is_initializing = true\n      root._bokeh_onload_callbacks = []\n      if (!reloading && (!bokeh_loaded || is_dev)) {\n\troot.Bokeh = undefined;\n      }\n      load_libs(css_urls, js_urls, js_modules, js_exports, function() {\n\tconsole.debug(\"Bokeh: BokehJS plotting callback run at\", now());\n\trun_inline_js();\n      });\n    }\n  }\n  // Give older versions of the autoload script a head-start to ensure\n  // they initialize before we start loading newer version.\n  setTimeout(load_or_wait, 100)\n}(window));",
      "application/vnd.holoviews_load.v0+json": ""
     },
     "metadata": {},
     "output_type": "display_data"
    },
    {
     "data": {
      "application/javascript": "\nif ((window.PyViz === undefined) || (window.PyViz instanceof HTMLElement)) {\n  window.PyViz = {comms: {}, comm_status:{}, kernels:{}, receivers: {}, plot_index: []}\n}\n\n\n    function JupyterCommManager() {\n    }\n\n    JupyterCommManager.prototype.register_target = function(plot_id, comm_id, msg_handler) {\n      if (window.comm_manager || ((window.Jupyter !== undefined) && (Jupyter.notebook.kernel != null))) {\n        var comm_manager = window.comm_manager || Jupyter.notebook.kernel.comm_manager;\n        comm_manager.register_target(comm_id, function(comm) {\n          comm.on_msg(msg_handler);\n        });\n      } else if ((plot_id in window.PyViz.kernels) && (window.PyViz.kernels[plot_id])) {\n        window.PyViz.kernels[plot_id].registerCommTarget(comm_id, function(comm) {\n          comm.onMsg = msg_handler;\n        });\n      } else if (typeof google != 'undefined' && google.colab.kernel != null) {\n        google.colab.kernel.comms.registerTarget(comm_id, (comm) => {\n          var messages = comm.messages[Symbol.asyncIterator]();\n          function processIteratorResult(result) {\n            var message = result.value;\n            console.log(message)\n            var content = {data: message.data, comm_id};\n            var buffers = []\n            for (var buffer of message.buffers || []) {\n              buffers.push(new DataView(buffer))\n            }\n            var metadata = message.metadata || {};\n            var msg = {content, buffers, metadata}\n            msg_handler(msg);\n            return messages.next().then(processIteratorResult);\n          }\n          return messages.next().then(processIteratorResult);\n        })\n      }\n    }\n\n    JupyterCommManager.prototype.get_client_comm = function(plot_id, comm_id, msg_handler) {\n      if (comm_id in window.PyViz.comms) {\n        return window.PyViz.comms[comm_id];\n      } else if (window.comm_manager || ((window.Jupyter !== undefined) && (Jupyter.notebook.kernel != null))) {\n        var comm_manager = window.comm_manager || Jupyter.notebook.kernel.comm_manager;\n        var comm = comm_manager.new_comm(comm_id, {}, {}, {}, comm_id);\n        if (msg_handler) {\n          comm.on_msg(msg_handler);\n        }\n      } else if ((plot_id in window.PyViz.kernels) && (window.PyViz.kernels[plot_id])) {\n        var comm = window.PyViz.kernels[plot_id].connectToComm(comm_id);\n        comm.open();\n        if (msg_handler) {\n          comm.onMsg = msg_handler;\n        }\n      } else if (typeof google != 'undefined' && google.colab.kernel != null) {\n        var comm_promise = google.colab.kernel.comms.open(comm_id)\n        comm_promise.then((comm) => {\n          window.PyViz.comms[comm_id] = comm;\n          if (msg_handler) {\n            var messages = comm.messages[Symbol.asyncIterator]();\n            function processIteratorResult(result) {\n              var message = result.value;\n              var content = {data: message.data};\n              var metadata = message.metadata || {comm_id};\n              var msg = {content, metadata}\n              msg_handler(msg);\n              return messages.next().then(processIteratorResult);\n            }\n            return messages.next().then(processIteratorResult);\n          }\n        }) \n        var sendClosure = (data, metadata, buffers, disposeOnDone) => {\n          return comm_promise.then((comm) => {\n            comm.send(data, metadata, buffers, disposeOnDone);\n          });\n        };\n        var comm = {\n          send: sendClosure\n        };\n      }\n      window.PyViz.comms[comm_id] = comm;\n      return comm;\n    }\n    window.PyViz.comm_manager = new JupyterCommManager();\n    \n\n\nvar JS_MIME_TYPE = 'application/javascript';\nvar HTML_MIME_TYPE = 'text/html';\nvar EXEC_MIME_TYPE = 'application/vnd.holoviews_exec.v0+json';\nvar CLASS_NAME = 'output';\n\n/**\n * Render data to the DOM node\n */\nfunction render(props, node) {\n  var div = document.createElement(\"div\");\n  var script = document.createElement(\"script\");\n  node.appendChild(div);\n  node.appendChild(script);\n}\n\n/**\n * Handle when a new output is added\n */\nfunction handle_add_output(event, handle) {\n  var output_area = handle.output_area;\n  var output = handle.output;\n  if ((output.data == undefined) || (!output.data.hasOwnProperty(EXEC_MIME_TYPE))) {\n    return\n  }\n  var id = output.metadata[EXEC_MIME_TYPE][\"id\"];\n  var toinsert = output_area.element.find(\".\" + CLASS_NAME.split(' ')[0]);\n  if (id !== undefined) {\n    var nchildren = toinsert.length;\n    var html_node = toinsert[nchildren-1].children[0];\n    html_node.innerHTML = output.data[HTML_MIME_TYPE];\n    var scripts = [];\n    var nodelist = html_node.querySelectorAll(\"script\");\n    for (var i in nodelist) {\n      if (nodelist.hasOwnProperty(i)) {\n        scripts.push(nodelist[i])\n      }\n    }\n\n    scripts.forEach( function (oldScript) {\n      var newScript = document.createElement(\"script\");\n      var attrs = [];\n      var nodemap = oldScript.attributes;\n      for (var j in nodemap) {\n        if (nodemap.hasOwnProperty(j)) {\n          attrs.push(nodemap[j])\n        }\n      }\n      attrs.forEach(function(attr) { newScript.setAttribute(attr.name, attr.value) });\n      newScript.appendChild(document.createTextNode(oldScript.innerHTML));\n      oldScript.parentNode.replaceChild(newScript, oldScript);\n    });\n    if (JS_MIME_TYPE in output.data) {\n      toinsert[nchildren-1].children[1].textContent = output.data[JS_MIME_TYPE];\n    }\n    output_area._hv_plot_id = id;\n    if ((window.Bokeh !== undefined) && (id in Bokeh.index)) {\n      window.PyViz.plot_index[id] = Bokeh.index[id];\n    } else {\n      window.PyViz.plot_index[id] = null;\n    }\n  } else if (output.metadata[EXEC_MIME_TYPE][\"server_id\"] !== undefined) {\n    var bk_div = document.createElement(\"div\");\n    bk_div.innerHTML = output.data[HTML_MIME_TYPE];\n    var script_attrs = bk_div.children[0].attributes;\n    for (var i = 0; i < script_attrs.length; i++) {\n      toinsert[toinsert.length - 1].childNodes[1].setAttribute(script_attrs[i].name, script_attrs[i].value);\n    }\n    // store reference to server id on output_area\n    output_area._bokeh_server_id = output.metadata[EXEC_MIME_TYPE][\"server_id\"];\n  }\n}\n\n/**\n * Handle when an output is cleared or removed\n */\nfunction handle_clear_output(event, handle) {\n  var id = handle.cell.output_area._hv_plot_id;\n  var server_id = handle.cell.output_area._bokeh_server_id;\n  if (((id === undefined) || !(id in PyViz.plot_index)) && (server_id !== undefined)) { return; }\n  var comm = window.PyViz.comm_manager.get_client_comm(\"hv-extension-comm\", \"hv-extension-comm\", function () {});\n  if (server_id !== null) {\n    comm.send({event_type: 'server_delete', 'id': server_id});\n    return;\n  } else if (comm !== null) {\n    comm.send({event_type: 'delete', 'id': id});\n  }\n  delete PyViz.plot_index[id];\n  if ((window.Bokeh !== undefined) & (id in window.Bokeh.index)) {\n    var doc = window.Bokeh.index[id].model.document\n    doc.clear();\n    const i = window.Bokeh.documents.indexOf(doc);\n    if (i > -1) {\n      window.Bokeh.documents.splice(i, 1);\n    }\n  }\n}\n\n/**\n * Handle kernel restart event\n */\nfunction handle_kernel_cleanup(event, handle) {\n  delete PyViz.comms[\"hv-extension-comm\"];\n  window.PyViz.plot_index = {}\n}\n\n/**\n * Handle update_display_data messages\n */\nfunction handle_update_output(event, handle) {\n  handle_clear_output(event, {cell: {output_area: handle.output_area}})\n  handle_add_output(event, handle)\n}\n\nfunction register_renderer(events, OutputArea) {\n  function append_mime(data, metadata, element) {\n    // create a DOM node to render to\n    var toinsert = this.create_output_subarea(\n    metadata,\n    CLASS_NAME,\n    EXEC_MIME_TYPE\n    );\n    this.keyboard_manager.register_events(toinsert);\n    // Render to node\n    var props = {data: data, metadata: metadata[EXEC_MIME_TYPE]};\n    render(props, toinsert[0]);\n    element.append(toinsert);\n    return toinsert\n  }\n\n  events.on('output_added.OutputArea', handle_add_output);\n  events.on('output_updated.OutputArea', handle_update_output);\n  events.on('clear_output.CodeCell', handle_clear_output);\n  events.on('delete.Cell', handle_clear_output);\n  events.on('kernel_ready.Kernel', handle_kernel_cleanup);\n\n  OutputArea.prototype.register_mime_type(EXEC_MIME_TYPE, append_mime, {\n    safe: true,\n    index: 0\n  });\n}\n\nif (window.Jupyter !== undefined) {\n  try {\n    var events = require('base/js/events');\n    var OutputArea = require('notebook/js/outputarea').OutputArea;\n    if (OutputArea.prototype.mime_types().indexOf(EXEC_MIME_TYPE) == -1) {\n      register_renderer(events, OutputArea);\n    }\n  } catch(err) {\n  }\n}\n",
      "application/vnd.holoviews_load.v0+json": ""
     },
     "metadata": {},
     "output_type": "display_data"
    },
    {
     "data": {
      "text/html": [
       "<style>*[data-root-id],\n",
       "*[data-root-id] > * {\n",
       "  box-sizing: border-box;\n",
       "  font-family: var(--jp-ui-font-family);\n",
       "  font-size: var(--jp-ui-font-size1);\n",
       "  color: var(--vscode-editor-foreground, var(--jp-ui-font-color1));\n",
       "}\n",
       "\n",
       "/* Override VSCode background color */\n",
       ".cell-output-ipywidget-background:has(\n",
       "    > .cell-output-ipywidget-background > .lm-Widget > *[data-root-id]\n",
       "  ),\n",
       ".cell-output-ipywidget-background:has(> .lm-Widget > *[data-root-id]) {\n",
       "  background-color: transparent !important;\n",
       "}\n",
       "</style>"
      ]
     },
     "metadata": {},
     "output_type": "display_data"
    },
    {
     "data": {
      "text/html": [
       "\n",
       "<div class=\"logo-block\">\n",
       "<img src='data:image/png;base64,iVBORw0KGgoAAAANSUhEUgAAAEAAAABACAYAAACqaXHeAAAABHNCSVQICAgIfAhkiAAAAAlwSFlz\n",
       "AAAB+wAAAfsBxc2miwAAABl0RVh0U29mdHdhcmUAd3d3Lmlua3NjYXBlLm9yZ5vuPBoAAA6zSURB\n",
       "VHic7ZtpeFRVmsf/5966taWqUlUJ2UioBBJiIBAwCZtog9IOgjqACsogKtqirT2ttt069nQ/zDzt\n",
       "tI4+CrJIREFaFgWhBXpUNhHZQoKBkIUASchWla1S+3ar7r1nPkDaCAnZKoQP/D7mnPOe9/xy76n3\n",
       "nFSAW9ziFoPFNED2LLK5wcyBDObkb8ZkxuaoSYlI6ZcOKq1eWFdedqNzGHQBk9RMEwFAASkk0Xw3\n",
       "ETacDNi2vtvc7L0ROdw0AjoSotQVkKSvHQz/wRO1lScGModBFbDMaNRN1A4tUBCS3lk7BWhQkgpD\n",
       "lG4852/+7DWr1R3uHAZVQDsbh6ZPN7CyxUrCzJMRouusj0ipRwD2uKm0Zn5d2dFwzX1TCGhnmdGo\n",
       "G62Nna+isiUqhkzuKrkQaJlPEv5mFl2fvGg2t/VnzkEV8F5ioioOEWkLG86fvbpthynjdhXYZziQ\n",
       "x1hC9J2NFyi8vCTt91Fh04KGip0AaG9zuCk2wQCVyoNU3Hjezee9bq92duzzTmxsRJoy+jEZZZYo\n",
       "GTKJ6SJngdJqAfRzpze0+jHreUtPc7gpBLQnIYK6BYp/uGhw9YK688eu7v95ysgshcg9qSLMo3JC\n",
       "4jqLKQFBgdKDPoQ+Pltb8dUyQLpeDjeVgI6EgLIQFT5tEl3rn2losHVsexbZ3EyT9wE1uGdkIPcy\n",
       "BGxn8QUq1QrA5nqW5i2tLqvrrM9NK6AdkVIvL9E9bZL/oyfMVd/jqvc8LylzRBKDJSzIExwhQzuL\n",
       "QYGQj4rHfFTc8mUdu3E7yoLtbTe9gI4EqVgVkug2i5+uXGo919ixbRog+3fTbQ8qJe4ZOYNfMoTI\n",
       "OoshUNosgO60AisX15aeI2PSIp5KiFLI9ubb1vV3Qb2ltwLakUCDAkWX7/nHKRmmGIl9VgYsUhJm\n",
       "2NXjKYADtM1ygne9QQDIXlk49FBstMKx66D1v4+XuQr7vqTe0VcBHQlRWiOCbmmSYe2SqtL6q5rJ\n",
       "zsTb7lKx3FKOYC4DoqyS/B5bvLPxvD9Qtf6saxYLQGJErmDOdOMr/zo96km1nElr8bmPOBwI9COv\n",
       "HnFPRIwmkSOv9kcAS4heRsidOkpeWBgZM+UBrTFAXNYL5Vf2ii9c1trNzpYdaoVil3WIc+wdk+gQ\n",
       "noie3ecCcxt9ITcLAPWt/laGEO/9U6PmzZkenTtsSMQ8uYywJVW+grCstAvCIaAdArAsIWkRDDs/\n",
       "KzLm2YcjY1Lv0UdW73HabE9n6V66cxSzfEmuJssTpKGVp+0vHq73FwL46eOjpMpbRAnNmJFrGJNu\n",
       "Ukf9Yrz+3rghiumCKNXXWPhLYcjxGsIpoCMsIRoFITkW8AuyM8jC1+/QLx4bozCEJIq38+1rtpR6\n",
       "V/yzb8eBlRb3fo5l783N0CWolAzJHaVNzkrTzlEp2bQ2q3TC5gn6wpnoQAmwSiGh2GitnTmVMc5O\n",
       "UyfKWUKCIsU7+fZDKwqdT6DDpvkzAX4/+AMFjk0tDp5GRXLpQ2MUmhgDp5gxQT8+Y7hyPsMi8uxF\n",
       "71H0oebujHALECjFKaW9Lm68n18wXp2kVzIcABytD5iXFzg+WVXkegpAsOOYziqo0OkK76GyquC3\n",
       "ltZAzMhhqlSNmmWTE5T6e3IN05ITFLM4GdN0vtZ3ob8Jh1NAKXFbm5PtLU/eqTSlGjkNAJjdgn/N\n",
       "aedXa0tdi7+t9G0FIF49rtMSEgAs1kDLkTPO7ebm4IUWeyh1bKomXqlgMG6kJmHcSM0clYLJ8XtR\n",
       "1GTnbV3F6I5wCGikAb402npp1h1s7LQUZZSMIfALFOuL3UUrfnS8+rez7v9qcold5tilgHbO1fjK\n",
       "9ubb17u9oshxzMiUBKXWqJNxd+fqb0tLVs4lILFnK71H0Ind7uiPgACVcFJlrb0tV6DzxqqTIhUM\n",
       "CwDf1/rrVhTa33/3pGPxJYdQ2l2cbgVcQSosdx8uqnDtbGjh9SlDVSMNWhlnilfqZk42Th2ZpLpf\n",
       "xrHec5e815zrr0dfBZSwzkZfqsv+1FS1KUknUwPARVvItfKUY+cn57yP7qv07UE3p8B2uhUwLk09\n",
       "e0SCOrK+hbdYHYLjRIl71wWzv9jpEoeOHhGRrJAzyEyNiJuUqX0g2sBN5kGK6y2Blp5M3lsB9Qh4\n",
       "y2Ja6x6+i0ucmKgwMATwhSjdUu49tKrQ/pvN5d53ml2CGwCmJipmKjgmyuaXzNeL2a0AkQ01Th5j\n",
       "2DktO3Jyk8f9vcOBQHV94OK+fPumJmvQHxJoWkaKWq9Vs+yUsbq0zGT1I4RgeH2b5wef7+c7bl8F\n",
       "eKgoHVVZa8ZPEORzR6sT1BzDUAD/d9F78e2Tzv99v8D+fLVTqAKAsbGamKey1Mt9Ann4eH3gTXTz\n",
       "idWtAJ8PQWOk7NzSeQn/OTHDuEikVF1R4z8BQCy+6D1aWRfY0tTGG2OM8rRoPaeIj5ZHzJxszElN\n",
       "VM8K8JS5WOfv8mzRnQAKoEhmt8gyPM4lU9SmBK1MCQBnW4KONT86v1hZ1PbwSXPw4JWussVjtH9Y\n",
       "NCoiL9UoH/6PSu8jFrfY2t36erQHXLIEakMi1SydmzB31h3GGXFDFNPaK8Rme9B79Ixrd0WN+1ij\n",
       "NRQ/doRmuFLBkHSTOm5GruG+pFjFdAmorG4IXH1Qua6ASniclfFtDYt+oUjKipPrCQB7QBQ2lrgP\n",
       "fFzm+9XWUtcqJ3/5vDLDpJ79XHZk3u8nGZ42qlj1+ydtbxysCezrydp6ugmipNJ7WBPB5tydY0jP\n",
       "HaVNzs3QzeE4ZpTbI+ZbnSFPbVOw9vsfnVvqWnirPyCNGD08IlqtYkh2hjZ5dErEQzoNm+6ykyOt\n",
       "Lt5/PQEuSRRKo22VkydK+vvS1XEKlhCJAnsqvcVvH7f/ZU2R67eXbMEGAMiIV5oWZWiWvz5Fv2xG\n",
       "sjqNJQRvn3Rs2lji/lNP19VjAQDgD7FHhujZB9OGqYxRkZxixgRDVlqS6uEOFaJUVu0rPFzctrnF\n",
       "JqijImVp8dEKVWyUXDk92zAuMZ6bFwpBU1HrOw6AdhQgUooChb0+ItMbWJitSo5Ws3IAOGEOtL53\n",
       "0vHZih9sC4vtofZ7Qu6523V/fmGcds1TY3V36pUsBwAbSlxnVh2xLfAD/IAIMDf7XYIkNmXfpp2l\n",
       "18rkAJAy9HKFaIr/qULkeQQKy9zf1JgDB2uaeFNGijo5QsUyacNUUTOnGO42xSnv4oOwpDi1zYkc\n",
       "efUc3I5Gk6PhyTuVKaOGyLUAYPGIoY9Pu/atL/L92+4q9wbflRJ2Trpm/jPjdBtfnqB/dIThcl8A\n",
       "KG7hbRuKnb8qsQsVvVlTrwQAQMUlf3kwJI24Z4JhPMtcfng5GcH49GsrxJpGvvHIaeem2ma+KSjQ\n",
       "lIwUdYyCY8j4dE1KzijNnIP2llF2wcXNnsoapw9XxsgYAl6k+KzUXbi2yP3KR2ecf6z3BFsBICdW\n",
       "nvnIaG3eHybqX7vbpEqUMT+9OL4Qpe8VON7dXuFd39v19FoAABRVePbGGuXTszO0P7tu6lghUonE\n",
       "llRdrhArLvmKdh9u29jcFiRRkfLUxBiFNiqSU9icoZQHo5mYBI1MBgBH6wMNb+U7Pnw337H4gi1Y\n",
       "ciWs+uks3Z9fztUvfzxTm9Ne8XXkvQLHNytOOZeiD4e0PgkAIAYCYknKUNUDSXEKzdWNpnil7r4p\n",
       "xqkjTarZMtk/K8TQ6Qve78qqvXurGwIJqcOUKfUWHsm8KGvxSP68YudXq4pcj39X49uOK2X142O0\n",
       "Tz5/u/7TVybqH0rSya6ZBwD21/gubbrgWdDgEOx9WUhfBaC2ibcEBYm7a7x+ukrBMNcEZggyR0TE\n",
       "T8zUPjikQ4VosQZbTpS4vqizBKvqmvjsqnpfzaZyx9JPiz1/bfGKdgD45XB1zoIMzYbfTdS/NClB\n",
       "Gct0USiY3YL/g0LHy/uq/Ef6uo5+n0R/vyhp17Klpge763f8rMu6YU/zrn2nml+2WtH+Z+5IAAFc\n",
       "2bUTdTDOSNa9+cQY7YLsOIXhevEkCvzph7a8laecz/Un/z4/Ae04XeL3UQb57IwU9ZDr9UuKVajv\n",
       "nxp1+1UVIo/LjztZkKH59fO3G/JemqCfmaCRqbqbd90ZZ8FfjtkfAyD0J/9+C2h1hDwsSxvGjNDc\n",
       "b4zk5NfrSwiQblLHzZhg+Jf4aPlUwpDqkQqa9nimbt1/TDH8OitGMaQnj+RJS6B1fbF7SY1TqO5v\n",
       "/v0WAADl1f7zokgS7s7VT2DZ7pegUjBM7mjtiDZbcN4j0YrHH0rXpCtY0qPX0cVL0rv5jv/ZXend\n",
       "0u/EESYBAFBU4T4Qa5TflZOhTe7pmKpaP8kCVUVw1+yhXfJWvn1P3hnXi33JsTN6PnP3hHZ8Z3/h\n",
       "aLHzmkNPuPj7Bc/F/Q38CwjTpSwQXgE4Vmwry9tpfq/ZFgqFMy4AVDtCvi8rvMvOmv0N4YwbVgEA\n",
       "sPM72/KVnzfspmH7HQGCRLG2yL1+z8XwvPcdCbsAANh+xPzstgMtxeGKt+6MK3/tacfvwhWvIwMi\n",
       "oKEBtm0H7W+UVfkc/Y1V0BhoPlDr/w1w/eu1vjIgAgDg22OtX6/eYfnEz/focrZTHAFR+PSs56/7\n",
       "q32nwpjazxgwAQCwcU/T62t3WL7r6/jVRa6/byp1rei+Z98ZUAEAhEPHPc8fKnTU9nbgtnOe8h0l\n",
       "9hcGIqmODLQAHCy2Xti6v/XNRivf43f4fFvIteu854+VHnR7q9tfBlwAAGz+pnndB9vM26UebAe8\n",
       "SLHujPOTPVW+rwY+sxskAAC2HrA8t2Vvc7ffP1r9o+vwR2dcr92InIAbKKC1FZ5tB1tf+/G8p8sv\n",
       "N/9Q5zd/XR34LYCwV5JdccMEAMDBk45DH243r/X4xGvqxFa/GNpS7n6rwOwNWwHVE26oAADYurf1\n",
       "zx/utOzt+DMKYM0p17YtZZ5VNzqfsB2HewG1WXE8PoZ7gOclbTIvynZf9JV+fqZtfgs/8F/Nu5rB\n",
       "EIBmJ+8QRMmpU7EzGRsf2FzuePqYRbzh/zE26EwdrT10f6r6o8HOYzCJB9Dpff8tbnGLG8L/A/WE\n",
       "roTBs2RqAAAAAElFTkSuQmCC'\n",
       "     style='height:25px; border-radius:12px; display: inline-block; float: left; vertical-align: middle'></img>\n",
       "\n",
       "\n",
       "  <img src='data:image/png;base64,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'\n",
       "       style='height:15px; border-radius:12px; display: inline-block; float: left'></img>\n",
       "  \n",
       "\n",
       "\n",
       "\n",
       "\n",
       "</div>\n"
      ]
     },
     "metadata": {},
     "output_type": "display_data"
    },
    {
     "data": {
      "application/javascript": "(function(root) {\n  function now() {\n    return new Date();\n  }\n\n  var force = true;\n  var py_version = '3.2.2'.replace('rc', '-rc.').replace('.dev', '-dev.');\n  var is_dev = py_version.indexOf(\"+\") !== -1 || py_version.indexOf(\"-\") !== -1;\n  var reloading = true;\n  var Bokeh = root.Bokeh;\n  var bokeh_loaded = Bokeh != null && (Bokeh.version === py_version || (Bokeh.versions !== undefined && Bokeh.versions.has(py_version)));\n\n  if (typeof (root._bokeh_timeout) === \"undefined\" || force) {\n    root._bokeh_timeout = Date.now() + 5000;\n    root._bokeh_failed_load = false;\n  }\n\n  function run_callbacks() {\n    try {\n      root._bokeh_onload_callbacks.forEach(function(callback) {\n        if (callback != null)\n          callback();\n      });\n    } finally {\n      delete root._bokeh_onload_callbacks;\n    }\n    console.debug(\"Bokeh: all callbacks have finished\");\n  }\n\n  function load_libs(css_urls, js_urls, js_modules, js_exports, callback) {\n    if (css_urls == null) css_urls = [];\n    if (js_urls == null) js_urls = [];\n    if (js_modules == null) js_modules = [];\n    if (js_exports == null) js_exports = {};\n\n    root._bokeh_onload_callbacks.push(callback);\n\n    if (root._bokeh_is_loading > 0) {\n      console.debug(\"Bokeh: BokehJS is being loaded, scheduling callback at\", now());\n      return null;\n    }\n    if (js_urls.length === 0 && js_modules.length === 0 && Object.keys(js_exports).length === 0) {\n      run_callbacks();\n      return null;\n    }\n    if (!reloading) {\n      console.debug(\"Bokeh: BokehJS not loaded, scheduling load and callback at\", now());\n    }\n\n    function on_load() {\n      root._bokeh_is_loading--;\n      if (root._bokeh_is_loading === 0) {\n        console.debug(\"Bokeh: all BokehJS libraries/stylesheets loaded\");\n        run_callbacks()\n      }\n    }\n    window._bokeh_on_load = on_load\n\n    function on_error() {\n      console.error(\"failed to load \" + url);\n    }\n\n    var skip = [];\n    if (window.requirejs) {\n      window.requirejs.config({'packages': {}, 'paths': {'jspanel': 'https://cdn.jsdelivr.net/npm/jspanel4@4.12.0/dist/jspanel', 'jspanel-modal': 'https://cdn.jsdelivr.net/npm/jspanel4@4.12.0/dist/extensions/modal/jspanel.modal', 'jspanel-tooltip': 'https://cdn.jsdelivr.net/npm/jspanel4@4.12.0/dist/extensions/tooltip/jspanel.tooltip', 'jspanel-hint': 'https://cdn.jsdelivr.net/npm/jspanel4@4.12.0/dist/extensions/hint/jspanel.hint', 'jspanel-layout': 'https://cdn.jsdelivr.net/npm/jspanel4@4.12.0/dist/extensions/layout/jspanel.layout', 'jspanel-contextmenu': 'https://cdn.jsdelivr.net/npm/jspanel4@4.12.0/dist/extensions/contextmenu/jspanel.contextmenu', 'jspanel-dock': 'https://cdn.jsdelivr.net/npm/jspanel4@4.12.0/dist/extensions/dock/jspanel.dock', 'gridstack': 'https://cdn.jsdelivr.net/npm/gridstack@7.2.3/dist/gridstack-all', 'notyf': 'https://cdn.jsdelivr.net/npm/notyf@3/notyf.min'}, 'shim': {'jspanel': {'exports': 'jsPanel'}, 'gridstack': {'exports': 'GridStack'}}});\n      require([\"jspanel\"], function(jsPanel) {\n\twindow.jsPanel = jsPanel\n\ton_load()\n      })\n      require([\"jspanel-modal\"], function() {\n\ton_load()\n      })\n      require([\"jspanel-tooltip\"], function() {\n\ton_load()\n      })\n      require([\"jspanel-hint\"], function() {\n\ton_load()\n      })\n      require([\"jspanel-layout\"], function() {\n\ton_load()\n      })\n      require([\"jspanel-contextmenu\"], function() {\n\ton_load()\n      })\n      require([\"jspanel-dock\"], function() {\n\ton_load()\n      })\n      require([\"gridstack\"], function(GridStack) {\n\twindow.GridStack = GridStack\n\ton_load()\n      })\n      require([\"notyf\"], function() {\n\ton_load()\n      })\n      root._bokeh_is_loading = css_urls.length + 9;\n    } else {\n      root._bokeh_is_loading = css_urls.length + js_urls.length + js_modules.length + Object.keys(js_exports).length;\n    }\n\n    var existing_stylesheets = []\n    var links = document.getElementsByTagName('link')\n    for (var i = 0; i < links.length; i++) {\n      var link = links[i]\n      if (link.href != null) {\n\texisting_stylesheets.push(link.href)\n      }\n    }\n    for (var i = 0; i < css_urls.length; i++) {\n      var url = css_urls[i];\n      if (existing_stylesheets.indexOf(url) !== -1) {\n\ton_load()\n\tcontinue;\n      }\n      const element = document.createElement(\"link\");\n      element.onload = on_load;\n      element.onerror = on_error;\n      element.rel = \"stylesheet\";\n      element.type = \"text/css\";\n      element.href = url;\n      console.debug(\"Bokeh: injecting link tag for BokehJS stylesheet: \", url);\n      document.body.appendChild(element);\n    }    if (((window['jsPanel'] !== undefined) && (!(window['jsPanel'] instanceof HTMLElement))) || window.requirejs) {\n      var urls = ['https://cdn.holoviz.org/panel/1.2.3/dist/bundled/floatpanel/jspanel4@4.12.0/dist/jspanel.js', 'https://cdn.holoviz.org/panel/1.2.3/dist/bundled/floatpanel/jspanel4@4.12.0/dist/extensions/modal/jspanel.modal.js', 'https://cdn.holoviz.org/panel/1.2.3/dist/bundled/floatpanel/jspanel4@4.12.0/dist/extensions/tooltip/jspanel.tooltip.js', 'https://cdn.holoviz.org/panel/1.2.3/dist/bundled/floatpanel/jspanel4@4.12.0/dist/extensions/hint/jspanel.hint.js', 'https://cdn.holoviz.org/panel/1.2.3/dist/bundled/floatpanel/jspanel4@4.12.0/dist/extensions/layout/jspanel.layout.js', 'https://cdn.holoviz.org/panel/1.2.3/dist/bundled/floatpanel/jspanel4@4.12.0/dist/extensions/contextmenu/jspanel.contextmenu.js', 'https://cdn.holoviz.org/panel/1.2.3/dist/bundled/floatpanel/jspanel4@4.12.0/dist/extensions/dock/jspanel.dock.js'];\n      for (var i = 0; i < urls.length; i++) {\n        skip.push(urls[i])\n      }\n    }    if (((window['GridStack'] !== undefined) && (!(window['GridStack'] instanceof HTMLElement))) || window.requirejs) {\n      var urls = ['https://cdn.holoviz.org/panel/1.2.3/dist/bundled/gridstack/gridstack@7.2.3/dist/gridstack-all.js'];\n      for (var i = 0; i < urls.length; i++) {\n        skip.push(urls[i])\n      }\n    }    if (((window['Notyf'] !== undefined) && (!(window['Notyf'] instanceof HTMLElement))) || window.requirejs) {\n      var urls = ['https://cdn.holoviz.org/panel/1.2.3/dist/bundled/notificationarea/notyf@3/notyf.min.js'];\n      for (var i = 0; i < urls.length; i++) {\n        skip.push(urls[i])\n      }\n    }    var existing_scripts = []\n    var scripts = document.getElementsByTagName('script')\n    for (var i = 0; i < scripts.length; i++) {\n      var script = scripts[i]\n      if (script.src != null) {\n\texisting_scripts.push(script.src)\n      }\n    }\n    for (var i = 0; i < js_urls.length; i++) {\n      var url = js_urls[i];\n      if (skip.indexOf(url) !== -1 || existing_scripts.indexOf(url) !== -1) {\n\tif (!window.requirejs) {\n\t  on_load();\n\t}\n\tcontinue;\n      }\n      var element = document.createElement('script');\n      element.onload = on_load;\n      element.onerror = on_error;\n      element.async = false;\n      element.src = url;\n      console.debug(\"Bokeh: injecting script tag for BokehJS library: \", url);\n      document.head.appendChild(element);\n    }\n    for (var i = 0; i < js_modules.length; i++) {\n      var url = js_modules[i];\n      if (skip.indexOf(url) !== -1 || existing_scripts.indexOf(url) !== -1) {\n\tif (!window.requirejs) {\n\t  on_load();\n\t}\n\tcontinue;\n      }\n      var element = document.createElement('script');\n      element.onload = on_load;\n      element.onerror = on_error;\n      element.async = false;\n      element.src = url;\n      element.type = \"module\";\n      console.debug(\"Bokeh: injecting script tag for BokehJS library: \", url);\n      document.head.appendChild(element);\n    }\n    for (const name in js_exports) {\n      var url = js_exports[name];\n      if (skip.indexOf(url) >= 0 || root[name] != null) {\n\tif (!window.requirejs) {\n\t  on_load();\n\t}\n\tcontinue;\n      }\n      var element = document.createElement('script');\n      element.onerror = on_error;\n      element.async = false;\n      element.type = \"module\";\n      console.debug(\"Bokeh: injecting script tag for BokehJS library: \", url);\n      element.textContent = `\n      import ${name} from \"${url}\"\n      window.${name} = ${name}\n      window._bokeh_on_load()\n      `\n      document.head.appendChild(element);\n    }\n    if (!js_urls.length && !js_modules.length) {\n      on_load()\n    }\n  };\n\n  function inject_raw_css(css) {\n    const element = document.createElement(\"style\");\n    element.appendChild(document.createTextNode(css));\n    document.body.appendChild(element);\n  }\n\n  var js_urls = [];\n  var js_modules = [];\n  var js_exports = {};\n  var css_urls = [];\n  var inline_js = [    function(Bokeh) {\n      Bokeh.set_log_level(\"info\");\n    },\nfunction(Bokeh) {} // ensure no trailing comma for IE\n  ];\n\n  function run_inline_js() {\n    if ((root.Bokeh !== undefined) || (force === true)) {\n      for (var i = 0; i < inline_js.length; i++) {\n        inline_js[i].call(root, root.Bokeh);\n      }\n      // Cache old bokeh versions\n      if (Bokeh != undefined && !reloading) {\n\tvar NewBokeh = root.Bokeh;\n\tif (Bokeh.versions === undefined) {\n\t  Bokeh.versions = new Map();\n\t}\n\tif (NewBokeh.version !== Bokeh.version) {\n\t  Bokeh.versions.set(NewBokeh.version, NewBokeh)\n\t}\n\troot.Bokeh = Bokeh;\n      }} else if (Date.now() < root._bokeh_timeout) {\n      setTimeout(run_inline_js, 100);\n    } else if (!root._bokeh_failed_load) {\n      console.log(\"Bokeh: BokehJS failed to load within specified timeout.\");\n      root._bokeh_failed_load = true;\n    }\n    root._bokeh_is_initializing = false\n  }\n\n  function load_or_wait() {\n    // Implement a backoff loop that tries to ensure we do not load multiple\n    // versions of Bokeh and its dependencies at the same time.\n    // In recent versions we use the root._bokeh_is_initializing flag\n    // to determine whether there is an ongoing attempt to initialize\n    // bokeh, however for backward compatibility we also try to ensure\n    // that we do not start loading a newer (Panel>=1.0 and Bokeh>3) version\n    // before older versions are fully initialized.\n    if (root._bokeh_is_initializing && Date.now() > root._bokeh_timeout) {\n      root._bokeh_is_initializing = false;\n      root._bokeh_onload_callbacks = undefined;\n      console.log(\"Bokeh: BokehJS was loaded multiple times but one version failed to initialize.\");\n      load_or_wait();\n    } else if (root._bokeh_is_initializing || (typeof root._bokeh_is_initializing === \"undefined\" && root._bokeh_onload_callbacks !== undefined)) {\n      setTimeout(load_or_wait, 100);\n    } else {\n      Bokeh = root.Bokeh;\n      bokeh_loaded = Bokeh != null && (Bokeh.version === py_version || (Bokeh.versions !== undefined && Bokeh.versions.has(py_version)));\n      root._bokeh_is_initializing = true\n      root._bokeh_onload_callbacks = []\n      if (!reloading && (!bokeh_loaded || is_dev)) {\n\troot.Bokeh = undefined;\n      }\n      load_libs(css_urls, js_urls, js_modules, js_exports, function() {\n\tconsole.debug(\"Bokeh: BokehJS plotting callback run at\", now());\n\trun_inline_js();\n      });\n    }\n  }\n  // Give older versions of the autoload script a head-start to ensure\n  // they initialize before we start loading newer version.\n  setTimeout(load_or_wait, 100)\n}(window));",
      "application/vnd.holoviews_load.v0+json": ""
     },
     "metadata": {},
     "output_type": "display_data"
    },
    {
     "data": {
      "application/javascript": "\nif ((window.PyViz === undefined) || (window.PyViz instanceof HTMLElement)) {\n  window.PyViz = {comms: {}, comm_status:{}, kernels:{}, receivers: {}, plot_index: []}\n}\n\n\n    function JupyterCommManager() {\n    }\n\n    JupyterCommManager.prototype.register_target = function(plot_id, comm_id, msg_handler) {\n      if (window.comm_manager || ((window.Jupyter !== undefined) && (Jupyter.notebook.kernel != null))) {\n        var comm_manager = window.comm_manager || Jupyter.notebook.kernel.comm_manager;\n        comm_manager.register_target(comm_id, function(comm) {\n          comm.on_msg(msg_handler);\n        });\n      } else if ((plot_id in window.PyViz.kernels) && (window.PyViz.kernels[plot_id])) {\n        window.PyViz.kernels[plot_id].registerCommTarget(comm_id, function(comm) {\n          comm.onMsg = msg_handler;\n        });\n      } else if (typeof google != 'undefined' && google.colab.kernel != null) {\n        google.colab.kernel.comms.registerTarget(comm_id, (comm) => {\n          var messages = comm.messages[Symbol.asyncIterator]();\n          function processIteratorResult(result) {\n            var message = result.value;\n            console.log(message)\n            var content = {data: message.data, comm_id};\n            var buffers = []\n            for (var buffer of message.buffers || []) {\n              buffers.push(new DataView(buffer))\n            }\n            var metadata = message.metadata || {};\n            var msg = {content, buffers, metadata}\n            msg_handler(msg);\n            return messages.next().then(processIteratorResult);\n          }\n          return messages.next().then(processIteratorResult);\n        })\n      }\n    }\n\n    JupyterCommManager.prototype.get_client_comm = function(plot_id, comm_id, msg_handler) {\n      if (comm_id in window.PyViz.comms) {\n        return window.PyViz.comms[comm_id];\n      } else if (window.comm_manager || ((window.Jupyter !== undefined) && (Jupyter.notebook.kernel != null))) {\n        var comm_manager = window.comm_manager || Jupyter.notebook.kernel.comm_manager;\n        var comm = comm_manager.new_comm(comm_id, {}, {}, {}, comm_id);\n        if (msg_handler) {\n          comm.on_msg(msg_handler);\n        }\n      } else if ((plot_id in window.PyViz.kernels) && (window.PyViz.kernels[plot_id])) {\n        var comm = window.PyViz.kernels[plot_id].connectToComm(comm_id);\n        comm.open();\n        if (msg_handler) {\n          comm.onMsg = msg_handler;\n        }\n      } else if (typeof google != 'undefined' && google.colab.kernel != null) {\n        var comm_promise = google.colab.kernel.comms.open(comm_id)\n        comm_promise.then((comm) => {\n          window.PyViz.comms[comm_id] = comm;\n          if (msg_handler) {\n            var messages = comm.messages[Symbol.asyncIterator]();\n            function processIteratorResult(result) {\n              var message = result.value;\n              var content = {data: message.data};\n              var metadata = message.metadata || {comm_id};\n              var msg = {content, metadata}\n              msg_handler(msg);\n              return messages.next().then(processIteratorResult);\n            }\n            return messages.next().then(processIteratorResult);\n          }\n        }) \n        var sendClosure = (data, metadata, buffers, disposeOnDone) => {\n          return comm_promise.then((comm) => {\n            comm.send(data, metadata, buffers, disposeOnDone);\n          });\n        };\n        var comm = {\n          send: sendClosure\n        };\n      }\n      window.PyViz.comms[comm_id] = comm;\n      return comm;\n    }\n    window.PyViz.comm_manager = new JupyterCommManager();\n    \n\n\nvar JS_MIME_TYPE = 'application/javascript';\nvar HTML_MIME_TYPE = 'text/html';\nvar EXEC_MIME_TYPE = 'application/vnd.holoviews_exec.v0+json';\nvar CLASS_NAME = 'output';\n\n/**\n * Render data to the DOM node\n */\nfunction render(props, node) {\n  var div = document.createElement(\"div\");\n  var script = document.createElement(\"script\");\n  node.appendChild(div);\n  node.appendChild(script);\n}\n\n/**\n * Handle when a new output is added\n */\nfunction handle_add_output(event, handle) {\n  var output_area = handle.output_area;\n  var output = handle.output;\n  if ((output.data == undefined) || (!output.data.hasOwnProperty(EXEC_MIME_TYPE))) {\n    return\n  }\n  var id = output.metadata[EXEC_MIME_TYPE][\"id\"];\n  var toinsert = output_area.element.find(\".\" + CLASS_NAME.split(' ')[0]);\n  if (id !== undefined) {\n    var nchildren = toinsert.length;\n    var html_node = toinsert[nchildren-1].children[0];\n    html_node.innerHTML = output.data[HTML_MIME_TYPE];\n    var scripts = [];\n    var nodelist = html_node.querySelectorAll(\"script\");\n    for (var i in nodelist) {\n      if (nodelist.hasOwnProperty(i)) {\n        scripts.push(nodelist[i])\n      }\n    }\n\n    scripts.forEach( function (oldScript) {\n      var newScript = document.createElement(\"script\");\n      var attrs = [];\n      var nodemap = oldScript.attributes;\n      for (var j in nodemap) {\n        if (nodemap.hasOwnProperty(j)) {\n          attrs.push(nodemap[j])\n        }\n      }\n      attrs.forEach(function(attr) { newScript.setAttribute(attr.name, attr.value) });\n      newScript.appendChild(document.createTextNode(oldScript.innerHTML));\n      oldScript.parentNode.replaceChild(newScript, oldScript);\n    });\n    if (JS_MIME_TYPE in output.data) {\n      toinsert[nchildren-1].children[1].textContent = output.data[JS_MIME_TYPE];\n    }\n    output_area._hv_plot_id = id;\n    if ((window.Bokeh !== undefined) && (id in Bokeh.index)) {\n      window.PyViz.plot_index[id] = Bokeh.index[id];\n    } else {\n      window.PyViz.plot_index[id] = null;\n    }\n  } else if (output.metadata[EXEC_MIME_TYPE][\"server_id\"] !== undefined) {\n    var bk_div = document.createElement(\"div\");\n    bk_div.innerHTML = output.data[HTML_MIME_TYPE];\n    var script_attrs = bk_div.children[0].attributes;\n    for (var i = 0; i < script_attrs.length; i++) {\n      toinsert[toinsert.length - 1].childNodes[1].setAttribute(script_attrs[i].name, script_attrs[i].value);\n    }\n    // store reference to server id on output_area\n    output_area._bokeh_server_id = output.metadata[EXEC_MIME_TYPE][\"server_id\"];\n  }\n}\n\n/**\n * Handle when an output is cleared or removed\n */\nfunction handle_clear_output(event, handle) {\n  var id = handle.cell.output_area._hv_plot_id;\n  var server_id = handle.cell.output_area._bokeh_server_id;\n  if (((id === undefined) || !(id in PyViz.plot_index)) && (server_id !== undefined)) { return; }\n  var comm = window.PyViz.comm_manager.get_client_comm(\"hv-extension-comm\", \"hv-extension-comm\", function () {});\n  if (server_id !== null) {\n    comm.send({event_type: 'server_delete', 'id': server_id});\n    return;\n  } else if (comm !== null) {\n    comm.send({event_type: 'delete', 'id': id});\n  }\n  delete PyViz.plot_index[id];\n  if ((window.Bokeh !== undefined) & (id in window.Bokeh.index)) {\n    var doc = window.Bokeh.index[id].model.document\n    doc.clear();\n    const i = window.Bokeh.documents.indexOf(doc);\n    if (i > -1) {\n      window.Bokeh.documents.splice(i, 1);\n    }\n  }\n}\n\n/**\n * Handle kernel restart event\n */\nfunction handle_kernel_cleanup(event, handle) {\n  delete PyViz.comms[\"hv-extension-comm\"];\n  window.PyViz.plot_index = {}\n}\n\n/**\n * Handle update_display_data messages\n */\nfunction handle_update_output(event, handle) {\n  handle_clear_output(event, {cell: {output_area: handle.output_area}})\n  handle_add_output(event, handle)\n}\n\nfunction register_renderer(events, OutputArea) {\n  function append_mime(data, metadata, element) {\n    // create a DOM node to render to\n    var toinsert = this.create_output_subarea(\n    metadata,\n    CLASS_NAME,\n    EXEC_MIME_TYPE\n    );\n    this.keyboard_manager.register_events(toinsert);\n    // Render to node\n    var props = {data: data, metadata: metadata[EXEC_MIME_TYPE]};\n    render(props, toinsert[0]);\n    element.append(toinsert);\n    return toinsert\n  }\n\n  events.on('output_added.OutputArea', handle_add_output);\n  events.on('output_updated.OutputArea', handle_update_output);\n  events.on('clear_output.CodeCell', handle_clear_output);\n  events.on('delete.Cell', handle_clear_output);\n  events.on('kernel_ready.Kernel', handle_kernel_cleanup);\n\n  OutputArea.prototype.register_mime_type(EXEC_MIME_TYPE, append_mime, {\n    safe: true,\n    index: 0\n  });\n}\n\nif (window.Jupyter !== undefined) {\n  try {\n    var events = require('base/js/events');\n    var OutputArea = require('notebook/js/outputarea').OutputArea;\n    if (OutputArea.prototype.mime_types().indexOf(EXEC_MIME_TYPE) == -1) {\n      register_renderer(events, OutputArea);\n    }\n  } catch(err) {\n  }\n}\n",
      "application/vnd.holoviews_load.v0+json": ""
     },
     "metadata": {},
     "output_type": "display_data"
    },
    {
     "data": {
      "text/html": [
       "<style>*[data-root-id],\n",
       "*[data-root-id] > * {\n",
       "  box-sizing: border-box;\n",
       "  font-family: var(--jp-ui-font-family);\n",
       "  font-size: var(--jp-ui-font-size1);\n",
       "  color: var(--vscode-editor-foreground, var(--jp-ui-font-color1));\n",
       "}\n",
       "\n",
       "/* Override VSCode background color */\n",
       ".cell-output-ipywidget-background:has(\n",
       "    > .cell-output-ipywidget-background > .lm-Widget > *[data-root-id]\n",
       "  ),\n",
       ".cell-output-ipywidget-background:has(> .lm-Widget > *[data-root-id]) {\n",
       "  background-color: transparent !important;\n",
       "}\n",
       "</style>"
      ]
     },
     "metadata": {},
     "output_type": "display_data"
    },
    {
     "name": "stdout",
     "output_type": "stream",
     "text": [
      "2024-04-17 15:28:51,530 - gaia.gaia.config - INFO - no dataset provided ... you must be loading it from an existing model\n"
     ]
    }
   ],
   "source": [
    "import sys\n",
    "sys.path.append(\"/proj/gaia-climate/team/kirill/gaia-surrogate\")\n",
    "from gaia.models import TrainingModel\n",
    "from gaia.training import get_checkpoint_file, load_hparams_file\n",
    "import glob,os\n",
    "import pandas as pd"
   ]
  },
  {
   "cell_type": "code",
   "execution_count": 2,
   "id": "095bca5f-6daa-4dce-b575-dd0fee336fe0",
   "metadata": {},
   "outputs": [
    {
     "name": "stderr",
     "output_type": "stream",
     "text": [
      "Lightning automatically upgraded your loaded checkpoint from v1.8.2 to v2.0.9.post0. To apply the upgrade to your files permanently, run `python -m pytorch_lightning.utilities.upgrade_checkpoint --file lightning_logs/version_0/checkpoints/epoch=99-step=98600.ckpt`\n"
     ]
    },
    {
     "name": "stdout",
     "output_type": "stream",
     "text": [
      "2024-04-17 15:29:09,199 - gaia.gaia.models - WARNING - no stats provided, assuming will be loaded later, initializing randomly\n",
      "2024-04-17 15:29:09,418 - gaia.gaia.layers - WARNING - hardcoding min std threshold to 1e-10\n",
      "2024-04-17 15:29:09,918 - gaia.gaia.layers - WARNING - hardcoding min std threshold to 1e-10\n",
      "2024-04-17 15:29:10,416 - gaia.gaia.models - INFO - using output weights [0.5500000715255737, 0.5500000715255737, 0.0, 0.0, 0.0, 0.0, 0.0, 0.0, 0.0, 0.351999968290329, 0.3879999816417694, 0.42399996519088745, 0.4599999785423279, 0.4959999918937683, 0.531999945640564, 0.5679999589920044, 0.6039999723434448, 0.6399999856948853, 0.6759999990463257, 0.7120000123977661, 0.7480000257492065, 0.784000039100647, 0.8199999928474426, 0.8560000061988831, 0.8920000195503235, 0.9279999732971191, 0.9639999866485596, 1.0, 0.10000000149011612, 0.13600000739097595, 0.171999990940094, 0.20800000429153442, 0.24399998784065247, 0.2800000011920929, 0.31599998474121094, 0.351999968290329, 0.3879999816417694, 0.42399996519088745, 0.4599999785423279, 0.4959999918937683, 0.531999945640564, 0.5679999589920044, 0.6039999723434448, 0.6399999856948853, 0.6759999990463257, 0.7120000123977661, 0.7480000257492065, 0.784000039100647, 0.8199999928474426, 0.8560000061988831, 0.8920000195503235, 0.9279999732971191, 0.9639999866485596, 1.0]\n",
      "2024-04-17 15:29:10,556 - gaia.gaia.models - WARNING - unkown kwargs ['dataset_params', 'seed', 'ckpt', 'model_type', 'model_grid', 'upweigh_low_levels']\n"
     ]
    },
    {
     "name": "stderr",
     "output_type": "stream",
     "text": [
      "Lightning automatically upgraded your loaded checkpoint from v1.8.2 to v2.0.9.post0. To apply the upgrade to your files permanently, run `python -m pytorch_lightning.utilities.upgrade_checkpoint --file lightning_logs/version_1/checkpoints/epoch=99-step=49300.ckpt`\n"
     ]
    },
    {
     "name": "stdout",
     "output_type": "stream",
     "text": [
      "2024-04-17 15:29:14,372 - gaia.gaia.models - WARNING - no stats provided, assuming will be loaded later, initializing randomly\n",
      "2024-04-17 15:29:14,373 - gaia.gaia.layers - WARNING - hardcoding min std threshold to 1e-10\n",
      "2024-04-17 15:29:14,374 - gaia.gaia.layers - WARNING - hardcoding min std threshold to 1e-10\n",
      "2024-04-17 15:29:14,694 - gaia.gaia.models - INFO - using output weights [0.5500000715255737, 0.5500000715255737, 0.0, 0.0, 0.0, 0.0, 0.0, 0.0, 0.0, 0.351999968290329, 0.3879999816417694, 0.42399996519088745, 0.4599999785423279, 0.4959999918937683, 0.531999945640564, 0.5679999589920044, 0.6039999723434448, 0.6399999856948853, 0.6759999990463257, 0.7120000123977661, 0.7480000257492065, 0.784000039100647, 0.8199999928474426, 0.8560000061988831, 0.8920000195503235, 0.9279999732971191, 0.9639999866485596, 1.0, 0.10000000149011612, 0.13600000739097595, 0.171999990940094, 0.20800000429153442, 0.24399998784065247, 0.2800000011920929, 0.31599998474121094, 0.351999968290329, 0.3879999816417694, 0.42399996519088745, 0.4599999785423279, 0.4959999918937683, 0.531999945640564, 0.5679999589920044, 0.6039999723434448, 0.6399999856948853, 0.6759999990463257, 0.7120000123977661, 0.7480000257492065, 0.784000039100647, 0.8199999928474426, 0.8560000061988831, 0.8920000195503235, 0.9279999732971191, 0.9639999866485596, 1.0]\n",
      "2024-04-17 15:29:14,695 - gaia.gaia.models - WARNING - unkown kwargs ['dataset_params', 'seed', 'ckpt', 'model_type', 'model_grid', 'upweigh_low_levels']\n"
     ]
    },
    {
     "name": "stderr",
     "output_type": "stream",
     "text": [
      "Lightning automatically upgraded your loaded checkpoint from v1.8.2 to v2.0.9.post0. To apply the upgrade to your files permanently, run `python -m pytorch_lightning.utilities.upgrade_checkpoint --file lightning_logs/version_2/checkpoints/epoch=99-step=24700.ckpt`\n"
     ]
    },
    {
     "name": "stdout",
     "output_type": "stream",
     "text": [
      "2024-04-17 15:29:16,619 - gaia.gaia.models - WARNING - no stats provided, assuming will be loaded later, initializing randomly\n",
      "2024-04-17 15:29:16,620 - gaia.gaia.layers - WARNING - hardcoding min std threshold to 1e-10\n",
      "2024-04-17 15:29:16,621 - gaia.gaia.layers - WARNING - hardcoding min std threshold to 1e-10\n",
      "2024-04-17 15:29:16,701 - gaia.gaia.models - INFO - using output weights [0.5500000715255737, 0.5500000715255737, 0.0, 0.0, 0.0, 0.0, 0.0, 0.0, 0.0, 0.351999968290329, 0.3879999816417694, 0.42399996519088745, 0.4599999785423279, 0.4959999918937683, 0.531999945640564, 0.5679999589920044, 0.6039999723434448, 0.6399999856948853, 0.6759999990463257, 0.7120000123977661, 0.7480000257492065, 0.784000039100647, 0.8199999928474426, 0.8560000061988831, 0.8920000195503235, 0.9279999732971191, 0.9639999866485596, 1.0, 0.10000000149011612, 0.13600000739097595, 0.171999990940094, 0.20800000429153442, 0.24399998784065247, 0.2800000011920929, 0.31599998474121094, 0.351999968290329, 0.3879999816417694, 0.42399996519088745, 0.4599999785423279, 0.4959999918937683, 0.531999945640564, 0.5679999589920044, 0.6039999723434448, 0.6399999856948853, 0.6759999990463257, 0.7120000123977661, 0.7480000257492065, 0.784000039100647, 0.8199999928474426, 0.8560000061988831, 0.8920000195503235, 0.9279999732971191, 0.9639999866485596, 1.0]\n",
      "2024-04-17 15:29:16,702 - gaia.gaia.models - WARNING - unkown kwargs ['dataset_params', 'seed', 'ckpt', 'model_type', 'model_grid', 'upweigh_low_levels']\n"
     ]
    },
    {
     "name": "stderr",
     "output_type": "stream",
     "text": [
      "Lightning automatically upgraded your loaded checkpoint from v1.8.2 to v2.0.9.post0. To apply the upgrade to your files permanently, run `python -m pytorch_lightning.utilities.upgrade_checkpoint --file lightning_logs/version_3/checkpoints/epoch=99-step=98600.ckpt`\n"
     ]
    },
    {
     "name": "stdout",
     "output_type": "stream",
     "text": [
      "2024-04-17 15:29:23,469 - gaia.gaia.models - WARNING - no stats provided, assuming will be loaded later, initializing randomly\n",
      "2024-04-17 15:29:23,470 - gaia.gaia.layers - WARNING - hardcoding min std threshold to 1e-10\n",
      "2024-04-17 15:29:23,471 - gaia.gaia.layers - WARNING - hardcoding min std threshold to 1e-10\n",
      "2024-04-17 15:29:23,755 - gaia.gaia.models - INFO - using output weights [0.5500000715255737, 0.5500000715255737, 0.0, 0.0, 0.0, 0.0, 0.0, 0.0, 0.0, 0.351999968290329, 0.3879999816417694, 0.42399996519088745, 0.4599999785423279, 0.4959999918937683, 0.531999945640564, 0.5679999589920044, 0.6039999723434448, 0.6399999856948853, 0.6759999990463257, 0.7120000123977661, 0.7480000257492065, 0.784000039100647, 0.8199999928474426, 0.8560000061988831, 0.8920000195503235, 0.9279999732971191, 0.9639999866485596, 1.0, 0.10000000149011612, 0.13600000739097595, 0.171999990940094, 0.20800000429153442, 0.24399998784065247, 0.2800000011920929, 0.31599998474121094, 0.351999968290329, 0.3879999816417694, 0.42399996519088745, 0.4599999785423279, 0.4959999918937683, 0.531999945640564, 0.5679999589920044, 0.6039999723434448, 0.6399999856948853, 0.6759999990463257, 0.7120000123977661, 0.7480000257492065, 0.784000039100647, 0.8199999928474426, 0.8560000061988831, 0.8920000195503235, 0.9279999732971191, 0.9639999866485596, 1.0]\n",
      "2024-04-17 15:29:23,757 - gaia.gaia.models - WARNING - unkown kwargs ['dataset_params', 'seed', 'ckpt', 'model_type', 'model_grid', 'upweigh_low_levels']\n"
     ]
    },
    {
     "name": "stderr",
     "output_type": "stream",
     "text": [
      "Lightning automatically upgraded your loaded checkpoint from v1.8.2 to v2.0.9.post0. To apply the upgrade to your files permanently, run `python -m pytorch_lightning.utilities.upgrade_checkpoint --file lightning_logs/version_4/checkpoints/epoch=99-step=8300.ckpt`\n"
     ]
    },
    {
     "name": "stdout",
     "output_type": "stream",
     "text": [
      "2024-04-17 15:29:24,550 - gaia.gaia.models - WARNING - no stats provided, assuming will be loaded later, initializing randomly\n",
      "2024-04-17 15:29:24,551 - gaia.gaia.layers - WARNING - hardcoding min std threshold to 1e-10\n",
      "2024-04-17 15:29:24,551 - gaia.gaia.layers - WARNING - hardcoding min std threshold to 1e-10\n",
      "2024-04-17 15:29:24,558 - gaia.gaia.models - INFO - using output weights [0.5500000715255737, 0.5500000715255737, 0.0, 0.0, 0.0, 0.0, 0.0, 0.0, 0.0, 0.351999968290329, 0.3879999816417694, 0.42399996519088745, 0.4599999785423279, 0.4959999918937683, 0.531999945640564, 0.5679999589920044, 0.6039999723434448, 0.6399999856948853, 0.6759999990463257, 0.7120000123977661, 0.7480000257492065, 0.784000039100647, 0.8199999928474426, 0.8560000061988831, 0.8920000195503235, 0.9279999732971191, 0.9639999866485596, 1.0, 0.10000000149011612, 0.13600000739097595, 0.171999990940094, 0.20800000429153442, 0.24399998784065247, 0.2800000011920929, 0.31599998474121094, 0.351999968290329, 0.3879999816417694, 0.42399996519088745, 0.4599999785423279, 0.4959999918937683, 0.531999945640564, 0.5679999589920044, 0.6039999723434448, 0.6399999856948853, 0.6759999990463257, 0.7120000123977661, 0.7480000257492065, 0.784000039100647, 0.8199999928474426, 0.8560000061988831, 0.8920000195503235, 0.9279999732971191, 0.9639999866485596, 1.0]\n",
      "2024-04-17 15:29:24,558 - gaia.gaia.models - WARNING - unkown kwargs ['dataset_params', 'seed', 'ckpt', 'model_type', 'model_grid', 'upweigh_low_levels']\n"
     ]
    },
    {
     "name": "stderr",
     "output_type": "stream",
     "text": [
      "Lightning automatically upgraded your loaded checkpoint from v1.8.2 to v2.0.9.post0. To apply the upgrade to your files permanently, run `python -m pytorch_lightning.utilities.upgrade_checkpoint --file lightning_logs/version_5/checkpoints/epoch=99-step=24700.ckpt`\n"
     ]
    },
    {
     "name": "stdout",
     "output_type": "stream",
     "text": [
      "2024-04-17 15:29:25,668 - gaia.gaia.models - WARNING - no stats provided, assuming will be loaded later, initializing randomly\n",
      "2024-04-17 15:29:25,669 - gaia.gaia.layers - WARNING - hardcoding min std threshold to 1e-10\n",
      "2024-04-17 15:29:25,670 - gaia.gaia.layers - WARNING - hardcoding min std threshold to 1e-10\n",
      "2024-04-17 15:29:25,698 - gaia.gaia.models - INFO - using output weights [0.5500000715255737, 0.5500000715255737, 0.0, 0.0, 0.0, 0.0, 0.0, 0.0, 0.0, 0.351999968290329, 0.3879999816417694, 0.42399996519088745, 0.4599999785423279, 0.4959999918937683, 0.531999945640564, 0.5679999589920044, 0.6039999723434448, 0.6399999856948853, 0.6759999990463257, 0.7120000123977661, 0.7480000257492065, 0.784000039100647, 0.8199999928474426, 0.8560000061988831, 0.8920000195503235, 0.9279999732971191, 0.9639999866485596, 1.0, 0.10000000149011612, 0.13600000739097595, 0.171999990940094, 0.20800000429153442, 0.24399998784065247, 0.2800000011920929, 0.31599998474121094, 0.351999968290329, 0.3879999816417694, 0.42399996519088745, 0.4599999785423279, 0.4959999918937683, 0.531999945640564, 0.5679999589920044, 0.6039999723434448, 0.6399999856948853, 0.6759999990463257, 0.7120000123977661, 0.7480000257492065, 0.784000039100647, 0.8199999928474426, 0.8560000061988831, 0.8920000195503235, 0.9279999732971191, 0.9639999866485596, 1.0]\n",
      "2024-04-17 15:29:25,699 - gaia.gaia.models - WARNING - unkown kwargs ['dataset_params', 'seed', 'ckpt', 'model_type', 'model_grid', 'upweigh_low_levels']\n"
     ]
    },
    {
     "name": "stderr",
     "output_type": "stream",
     "text": [
      "Lightning automatically upgraded your loaded checkpoint from v1.8.2 to v2.0.9.post0. To apply the upgrade to your files permanently, run `python -m pytorch_lightning.utilities.upgrade_checkpoint --file lightning_logs/version_6/checkpoints/epoch=99-step=49300.ckpt`\n"
     ]
    },
    {
     "name": "stdout",
     "output_type": "stream",
     "text": [
      "2024-04-17 15:29:28,396 - gaia.gaia.models - WARNING - no stats provided, assuming will be loaded later, initializing randomly\n",
      "2024-04-17 15:29:28,397 - gaia.gaia.layers - WARNING - hardcoding min std threshold to 1e-10\n",
      "2024-04-17 15:29:28,397 - gaia.gaia.layers - WARNING - hardcoding min std threshold to 1e-10\n",
      "2024-04-17 15:29:28,522 - gaia.gaia.models - INFO - using output weights [0.5500000715255737, 0.5500000715255737, 0.0, 0.0, 0.0, 0.0, 0.0, 0.0, 0.0, 0.351999968290329, 0.3879999816417694, 0.42399996519088745, 0.4599999785423279, 0.4959999918937683, 0.531999945640564, 0.5679999589920044, 0.6039999723434448, 0.6399999856948853, 0.6759999990463257, 0.7120000123977661, 0.7480000257492065, 0.784000039100647, 0.8199999928474426, 0.8560000061988831, 0.8920000195503235, 0.9279999732971191, 0.9639999866485596, 1.0, 0.10000000149011612, 0.13600000739097595, 0.171999990940094, 0.20800000429153442, 0.24399998784065247, 0.2800000011920929, 0.31599998474121094, 0.351999968290329, 0.3879999816417694, 0.42399996519088745, 0.4599999785423279, 0.4959999918937683, 0.531999945640564, 0.5679999589920044, 0.6039999723434448, 0.6399999856948853, 0.6759999990463257, 0.7120000123977661, 0.7480000257492065, 0.784000039100647, 0.8199999928474426, 0.8560000061988831, 0.8920000195503235, 0.9279999732971191, 0.9639999866485596, 1.0]\n",
      "2024-04-17 15:29:28,523 - gaia.gaia.models - WARNING - unkown kwargs ['dataset_params', 'seed', 'ckpt', 'model_type', 'model_grid', 'upweigh_low_levels']\n"
     ]
    },
    {
     "name": "stderr",
     "output_type": "stream",
     "text": [
      "Lightning automatically upgraded your loaded checkpoint from v1.8.2 to v2.0.9.post0. To apply the upgrade to your files permanently, run `python -m pytorch_lightning.utilities.upgrade_checkpoint --file lightning_logs/version_7/checkpoints/epoch=98-step=8217.ckpt`\n"
     ]
    },
    {
     "name": "stdout",
     "output_type": "stream",
     "text": [
      "2024-04-17 15:29:29,311 - gaia.gaia.models - WARNING - no stats provided, assuming will be loaded later, initializing randomly\n",
      "2024-04-17 15:29:29,312 - gaia.gaia.layers - WARNING - hardcoding min std threshold to 1e-10\n",
      "2024-04-17 15:29:29,313 - gaia.gaia.layers - WARNING - hardcoding min std threshold to 1e-10\n",
      "2024-04-17 15:29:29,326 - gaia.gaia.models - INFO - using output weights [0.5500000715255737, 0.5500000715255737, 0.0, 0.0, 0.0, 0.0, 0.0, 0.0, 0.0, 0.351999968290329, 0.3879999816417694, 0.42399996519088745, 0.4599999785423279, 0.4959999918937683, 0.531999945640564, 0.5679999589920044, 0.6039999723434448, 0.6399999856948853, 0.6759999990463257, 0.7120000123977661, 0.7480000257492065, 0.784000039100647, 0.8199999928474426, 0.8560000061988831, 0.8920000195503235, 0.9279999732971191, 0.9639999866485596, 1.0, 0.10000000149011612, 0.13600000739097595, 0.171999990940094, 0.20800000429153442, 0.24399998784065247, 0.2800000011920929, 0.31599998474121094, 0.351999968290329, 0.3879999816417694, 0.42399996519088745, 0.4599999785423279, 0.4959999918937683, 0.531999945640564, 0.5679999589920044, 0.6039999723434448, 0.6399999856948853, 0.6759999990463257, 0.7120000123977661, 0.7480000257492065, 0.784000039100647, 0.8199999928474426, 0.8560000061988831, 0.8920000195503235, 0.9279999732971191, 0.9639999866485596, 1.0]\n",
      "2024-04-17 15:29:29,327 - gaia.gaia.models - WARNING - unkown kwargs ['dataset_params', 'seed', 'ckpt', 'model_type', 'model_grid', 'upweigh_low_levels']\n"
     ]
    },
    {
     "name": "stderr",
     "output_type": "stream",
     "text": [
      "Lightning automatically upgraded your loaded checkpoint from v1.8.2 to v2.0.9.post0. To apply the upgrade to your files permanently, run `python -m pytorch_lightning.utilities.upgrade_checkpoint --file lightning_logs/version_8/checkpoints/epoch=99-step=8300.ckpt`\n"
     ]
    },
    {
     "name": "stdout",
     "output_type": "stream",
     "text": [
      "2024-04-17 15:29:29,950 - gaia.gaia.models - WARNING - no stats provided, assuming will be loaded later, initializing randomly\n",
      "2024-04-17 15:29:29,951 - gaia.gaia.layers - WARNING - hardcoding min std threshold to 1e-10\n",
      "2024-04-17 15:29:29,951 - gaia.gaia.layers - WARNING - hardcoding min std threshold to 1e-10\n",
      "2024-04-17 15:29:29,955 - gaia.gaia.models - INFO - using output weights [0.5500000715255737, 0.5500000715255737, 0.0, 0.0, 0.0, 0.0, 0.0, 0.0, 0.0, 0.351999968290329, 0.3879999816417694, 0.42399996519088745, 0.4599999785423279, 0.4959999918937683, 0.531999945640564, 0.5679999589920044, 0.6039999723434448, 0.6399999856948853, 0.6759999990463257, 0.7120000123977661, 0.7480000257492065, 0.784000039100647, 0.8199999928474426, 0.8560000061988831, 0.8920000195503235, 0.9279999732971191, 0.9639999866485596, 1.0, 0.10000000149011612, 0.13600000739097595, 0.171999990940094, 0.20800000429153442, 0.24399998784065247, 0.2800000011920929, 0.31599998474121094, 0.351999968290329, 0.3879999816417694, 0.42399996519088745, 0.4599999785423279, 0.4959999918937683, 0.531999945640564, 0.5679999589920044, 0.6039999723434448, 0.6399999856948853, 0.6759999990463257, 0.7120000123977661, 0.7480000257492065, 0.784000039100647, 0.8199999928474426, 0.8560000061988831, 0.8920000195503235, 0.9279999732971191, 0.9639999866485596, 1.0]\n",
      "2024-04-17 15:29:29,956 - gaia.gaia.models - WARNING - unkown kwargs ['dataset_params', 'seed', 'ckpt', 'model_type', 'model_grid', 'upweigh_low_levels']\n"
     ]
    },
    {
     "name": "stderr",
     "output_type": "stream",
     "text": [
      "Lightning automatically upgraded your loaded checkpoint from v1.8.2 to v2.0.9.post0. To apply the upgrade to your files permanently, run `python -m pytorch_lightning.utilities.upgrade_checkpoint --file lightning_logs/version_9/checkpoints/epoch=99-step=24700.ckpt`\n"
     ]
    },
    {
     "name": "stdout",
     "output_type": "stream",
     "text": [
      "2024-04-17 15:29:30,910 - gaia.gaia.models - WARNING - no stats provided, assuming will be loaded later, initializing randomly\n",
      "2024-04-17 15:29:30,911 - gaia.gaia.layers - WARNING - hardcoding min std threshold to 1e-10\n",
      "2024-04-17 15:29:30,912 - gaia.gaia.layers - WARNING - hardcoding min std threshold to 1e-10\n",
      "2024-04-17 15:29:30,984 - gaia.gaia.models - INFO - using output weights [0.5500000715255737, 0.5500000715255737, 0.0, 0.0, 0.0, 0.0, 0.0, 0.0, 0.0, 0.351999968290329, 0.3879999816417694, 0.42399996519088745, 0.4599999785423279, 0.4959999918937683, 0.531999945640564, 0.5679999589920044, 0.6039999723434448, 0.6399999856948853, 0.6759999990463257, 0.7120000123977661, 0.7480000257492065, 0.784000039100647, 0.8199999928474426, 0.8560000061988831, 0.8920000195503235, 0.9279999732971191, 0.9639999866485596, 1.0, 0.10000000149011612, 0.13600000739097595, 0.171999990940094, 0.20800000429153442, 0.24399998784065247, 0.2800000011920929, 0.31599998474121094, 0.351999968290329, 0.3879999816417694, 0.42399996519088745, 0.4599999785423279, 0.4959999918937683, 0.531999945640564, 0.5679999589920044, 0.6039999723434448, 0.6399999856948853, 0.6759999990463257, 0.7120000123977661, 0.7480000257492065, 0.784000039100647, 0.8199999928474426, 0.8560000061988831, 0.8920000195503235, 0.9279999732971191, 0.9639999866485596, 1.0]\n",
      "2024-04-17 15:29:30,985 - gaia.gaia.models - WARNING - unkown kwargs ['dataset_params', 'seed', 'ckpt', 'model_type', 'model_grid', 'upweigh_low_levels']\n"
     ]
    },
    {
     "name": "stderr",
     "output_type": "stream",
     "text": [
      "Lightning automatically upgraded your loaded checkpoint from v1.8.2 to v2.0.9.post0. To apply the upgrade to your files permanently, run `python -m pytorch_lightning.utilities.upgrade_checkpoint --file lightning_logs/version_10/checkpoints/epoch=99-step=12400.ckpt`\n"
     ]
    },
    {
     "name": "stdout",
     "output_type": "stream",
     "text": [
      "2024-04-17 15:29:31,975 - gaia.gaia.models - WARNING - no stats provided, assuming will be loaded later, initializing randomly\n",
      "2024-04-17 15:29:31,976 - gaia.gaia.layers - WARNING - hardcoding min std threshold to 1e-10\n",
      "2024-04-17 15:29:31,976 - gaia.gaia.layers - WARNING - hardcoding min std threshold to 1e-10\n",
      "2024-04-17 15:29:31,993 - gaia.gaia.models - INFO - using output weights [0.5500000715255737, 0.5500000715255737, 0.0, 0.0, 0.0, 0.0, 0.0, 0.0, 0.0, 0.351999968290329, 0.3879999816417694, 0.42399996519088745, 0.4599999785423279, 0.4959999918937683, 0.531999945640564, 0.5679999589920044, 0.6039999723434448, 0.6399999856948853, 0.6759999990463257, 0.7120000123977661, 0.7480000257492065, 0.784000039100647, 0.8199999928474426, 0.8560000061988831, 0.8920000195503235, 0.9279999732971191, 0.9639999866485596, 1.0, 0.10000000149011612, 0.13600000739097595, 0.171999990940094, 0.20800000429153442, 0.24399998784065247, 0.2800000011920929, 0.31599998474121094, 0.351999968290329, 0.3879999816417694, 0.42399996519088745, 0.4599999785423279, 0.4959999918937683, 0.531999945640564, 0.5679999589920044, 0.6039999723434448, 0.6399999856948853, 0.6759999990463257, 0.7120000123977661, 0.7480000257492065, 0.784000039100647, 0.8199999928474426, 0.8560000061988831, 0.8920000195503235, 0.9279999732971191, 0.9639999866485596, 1.0]\n",
      "2024-04-17 15:29:31,994 - gaia.gaia.models - WARNING - unkown kwargs ['dataset_params', 'seed', 'ckpt', 'model_type', 'model_grid', 'upweigh_low_levels']\n"
     ]
    },
    {
     "name": "stderr",
     "output_type": "stream",
     "text": [
      "Lightning automatically upgraded your loaded checkpoint from v1.8.2 to v2.0.9.post0. To apply the upgrade to your files permanently, run `python -m pytorch_lightning.utilities.upgrade_checkpoint --file lightning_logs/version_11/checkpoints/epoch=99-step=12400.ckpt`\n"
     ]
    },
    {
     "name": "stdout",
     "output_type": "stream",
     "text": [
      "2024-04-17 15:29:33,235 - gaia.gaia.models - WARNING - no stats provided, assuming will be loaded later, initializing randomly\n",
      "2024-04-17 15:29:33,235 - gaia.gaia.layers - WARNING - hardcoding min std threshold to 1e-10\n",
      "2024-04-17 15:29:33,236 - gaia.gaia.layers - WARNING - hardcoding min std threshold to 1e-10\n",
      "2024-04-17 15:29:33,258 - gaia.gaia.models - INFO - using output weights [0.5500000715255737, 0.5500000715255737, 0.0, 0.0, 0.0, 0.0, 0.0, 0.0, 0.0, 0.351999968290329, 0.3879999816417694, 0.42399996519088745, 0.4599999785423279, 0.4959999918937683, 0.531999945640564, 0.5679999589920044, 0.6039999723434448, 0.6399999856948853, 0.6759999990463257, 0.7120000123977661, 0.7480000257492065, 0.784000039100647, 0.8199999928474426, 0.8560000061988831, 0.8920000195503235, 0.9279999732971191, 0.9639999866485596, 1.0, 0.10000000149011612, 0.13600000739097595, 0.171999990940094, 0.20800000429153442, 0.24399998784065247, 0.2800000011920929, 0.31599998474121094, 0.351999968290329, 0.3879999816417694, 0.42399996519088745, 0.4599999785423279, 0.4959999918937683, 0.531999945640564, 0.5679999589920044, 0.6039999723434448, 0.6399999856948853, 0.6759999990463257, 0.7120000123977661, 0.7480000257492065, 0.784000039100647, 0.8199999928474426, 0.8560000061988831, 0.8920000195503235, 0.9279999732971191, 0.9639999866485596, 1.0]\n",
      "2024-04-17 15:29:33,259 - gaia.gaia.models - WARNING - unkown kwargs ['dataset_params', 'seed', 'ckpt', 'model_type', 'model_grid', 'upweigh_low_levels']\n"
     ]
    },
    {
     "name": "stderr",
     "output_type": "stream",
     "text": [
      "Lightning automatically upgraded your loaded checkpoint from v1.8.2 to v2.0.9.post0. To apply the upgrade to your files permanently, run `python -m pytorch_lightning.utilities.upgrade_checkpoint --file lightning_logs/version_12/checkpoints/epoch=99-step=8300.ckpt`\n"
     ]
    },
    {
     "name": "stdout",
     "output_type": "stream",
     "text": [
      "2024-04-17 15:29:33,466 - gaia.gaia.models - WARNING - no stats provided, assuming will be loaded later, initializing randomly\n",
      "2024-04-17 15:29:33,467 - gaia.gaia.layers - WARNING - hardcoding min std threshold to 1e-10\n",
      "2024-04-17 15:29:33,467 - gaia.gaia.layers - WARNING - hardcoding min std threshold to 1e-10\n",
      "2024-04-17 15:29:33,470 - gaia.gaia.models - INFO - using output weights [0.5500000715255737, 0.5500000715255737, 0.0, 0.0, 0.0, 0.0, 0.0, 0.0, 0.0, 0.351999968290329, 0.3879999816417694, 0.42399996519088745, 0.4599999785423279, 0.4959999918937683, 0.531999945640564, 0.5679999589920044, 0.6039999723434448, 0.6399999856948853, 0.6759999990463257, 0.7120000123977661, 0.7480000257492065, 0.784000039100647, 0.8199999928474426, 0.8560000061988831, 0.8920000195503235, 0.9279999732971191, 0.9639999866485596, 1.0, 0.10000000149011612, 0.13600000739097595, 0.171999990940094, 0.20800000429153442, 0.24399998784065247, 0.2800000011920929, 0.31599998474121094, 0.351999968290329, 0.3879999816417694, 0.42399996519088745, 0.4599999785423279, 0.4959999918937683, 0.531999945640564, 0.5679999589920044, 0.6039999723434448, 0.6399999856948853, 0.6759999990463257, 0.7120000123977661, 0.7480000257492065, 0.784000039100647, 0.8199999928474426, 0.8560000061988831, 0.8920000195503235, 0.9279999732971191, 0.9639999866485596, 1.0]\n",
      "2024-04-17 15:29:33,470 - gaia.gaia.models - WARNING - unkown kwargs ['dataset_params', 'seed', 'ckpt', 'model_type', 'model_grid', 'upweigh_low_levels']\n"
     ]
    },
    {
     "name": "stderr",
     "output_type": "stream",
     "text": [
      "Lightning automatically upgraded your loaded checkpoint from v1.8.2 to v2.0.9.post0. To apply the upgrade to your files permanently, run `python -m pytorch_lightning.utilities.upgrade_checkpoint --file lightning_logs/version_13/checkpoints/epoch=99-step=8300.ckpt`\n"
     ]
    },
    {
     "name": "stdout",
     "output_type": "stream",
     "text": [
      "2024-04-17 15:29:33,637 - gaia.gaia.models - WARNING - no stats provided, assuming will be loaded later, initializing randomly\n",
      "2024-04-17 15:29:33,638 - gaia.gaia.layers - WARNING - hardcoding min std threshold to 1e-10\n",
      "2024-04-17 15:29:33,639 - gaia.gaia.layers - WARNING - hardcoding min std threshold to 1e-10\n",
      "2024-04-17 15:29:33,642 - gaia.gaia.models - INFO - using output weights [0.5500000715255737, 0.5500000715255737, 0.0, 0.0, 0.0, 0.0, 0.0, 0.0, 0.0, 0.351999968290329, 0.3879999816417694, 0.42399996519088745, 0.4599999785423279, 0.4959999918937683, 0.531999945640564, 0.5679999589920044, 0.6039999723434448, 0.6399999856948853, 0.6759999990463257, 0.7120000123977661, 0.7480000257492065, 0.784000039100647, 0.8199999928474426, 0.8560000061988831, 0.8920000195503235, 0.9279999732971191, 0.9639999866485596, 1.0, 0.10000000149011612, 0.13600000739097595, 0.171999990940094, 0.20800000429153442, 0.24399998784065247, 0.2800000011920929, 0.31599998474121094, 0.351999968290329, 0.3879999816417694, 0.42399996519088745, 0.4599999785423279, 0.4959999918937683, 0.531999945640564, 0.5679999589920044, 0.6039999723434448, 0.6399999856948853, 0.6759999990463257, 0.7120000123977661, 0.7480000257492065, 0.784000039100647, 0.8199999928474426, 0.8560000061988831, 0.8920000195503235, 0.9279999732971191, 0.9639999866485596, 1.0]\n",
      "2024-04-17 15:29:33,643 - gaia.gaia.models - WARNING - unkown kwargs ['dataset_params', 'seed', 'ckpt', 'model_type', 'model_grid', 'upweigh_low_levels']\n"
     ]
    },
    {
     "name": "stderr",
     "output_type": "stream",
     "text": [
      "Lightning automatically upgraded your loaded checkpoint from v1.8.2 to v2.0.9.post0. To apply the upgrade to your files permanently, run `python -m pytorch_lightning.utilities.upgrade_checkpoint --file lightning_logs/version_14/checkpoints/epoch=99-step=8300.ckpt`\n"
     ]
    },
    {
     "name": "stdout",
     "output_type": "stream",
     "text": [
      "2024-04-17 15:29:33,996 - gaia.gaia.models - WARNING - no stats provided, assuming will be loaded later, initializing randomly\n",
      "2024-04-17 15:29:33,997 - gaia.gaia.layers - WARNING - hardcoding min std threshold to 1e-10\n",
      "2024-04-17 15:29:33,998 - gaia.gaia.layers - WARNING - hardcoding min std threshold to 1e-10\n",
      "2024-04-17 15:29:34,002 - gaia.gaia.models - INFO - using output weights [0.5500000715255737, 0.5500000715255737, 0.0, 0.0, 0.0, 0.0, 0.0, 0.0, 0.0, 0.351999968290329, 0.3879999816417694, 0.42399996519088745, 0.4599999785423279, 0.4959999918937683, 0.531999945640564, 0.5679999589920044, 0.6039999723434448, 0.6399999856948853, 0.6759999990463257, 0.7120000123977661, 0.7480000257492065, 0.784000039100647, 0.8199999928474426, 0.8560000061988831, 0.8920000195503235, 0.9279999732971191, 0.9639999866485596, 1.0, 0.10000000149011612, 0.13600000739097595, 0.171999990940094, 0.20800000429153442, 0.24399998784065247, 0.2800000011920929, 0.31599998474121094, 0.351999968290329, 0.3879999816417694, 0.42399996519088745, 0.4599999785423279, 0.4959999918937683, 0.531999945640564, 0.5679999589920044, 0.6039999723434448, 0.6399999856948853, 0.6759999990463257, 0.7120000123977661, 0.7480000257492065, 0.784000039100647, 0.8199999928474426, 0.8560000061988831, 0.8920000195503235, 0.9279999732971191, 0.9639999866485596, 1.0]\n",
      "2024-04-17 15:29:34,003 - gaia.gaia.models - WARNING - unkown kwargs ['dataset_params', 'seed', 'ckpt', 'model_type', 'model_grid', 'upweigh_low_levels']\n"
     ]
    },
    {
     "name": "stderr",
     "output_type": "stream",
     "text": [
      "Lightning automatically upgraded your loaded checkpoint from v1.8.2 to v2.0.9.post0. To apply the upgrade to your files permanently, run `python -m pytorch_lightning.utilities.upgrade_checkpoint --file lightning_logs/version_15/checkpoints/epoch=99-step=8300.ckpt`\n"
     ]
    },
    {
     "name": "stdout",
     "output_type": "stream",
     "text": [
      "2024-04-17 15:29:34,527 - gaia.gaia.models - WARNING - no stats provided, assuming will be loaded later, initializing randomly\n",
      "2024-04-17 15:29:34,527 - gaia.gaia.layers - WARNING - hardcoding min std threshold to 1e-10\n",
      "2024-04-17 15:29:34,528 - gaia.gaia.layers - WARNING - hardcoding min std threshold to 1e-10\n",
      "2024-04-17 15:29:34,534 - gaia.gaia.models - INFO - using output weights [0.5500000715255737, 0.5500000715255737, 0.0, 0.0, 0.0, 0.0, 0.0, 0.0, 0.0, 0.351999968290329, 0.3879999816417694, 0.42399996519088745, 0.4599999785423279, 0.4959999918937683, 0.531999945640564, 0.5679999589920044, 0.6039999723434448, 0.6399999856948853, 0.6759999990463257, 0.7120000123977661, 0.7480000257492065, 0.784000039100647, 0.8199999928474426, 0.8560000061988831, 0.8920000195503235, 0.9279999732971191, 0.9639999866485596, 1.0, 0.10000000149011612, 0.13600000739097595, 0.171999990940094, 0.20800000429153442, 0.24399998784065247, 0.2800000011920929, 0.31599998474121094, 0.351999968290329, 0.3879999816417694, 0.42399996519088745, 0.4599999785423279, 0.4959999918937683, 0.531999945640564, 0.5679999589920044, 0.6039999723434448, 0.6399999856948853, 0.6759999990463257, 0.7120000123977661, 0.7480000257492065, 0.784000039100647, 0.8199999928474426, 0.8560000061988831, 0.8920000195503235, 0.9279999732971191, 0.9639999866485596, 1.0]\n",
      "2024-04-17 15:29:34,535 - gaia.gaia.models - WARNING - unkown kwargs ['dataset_params', 'seed', 'ckpt', 'model_type', 'model_grid', 'upweigh_low_levels']\n"
     ]
    },
    {
     "name": "stderr",
     "output_type": "stream",
     "text": [
      "Lightning automatically upgraded your loaded checkpoint from v1.8.2 to v2.0.9.post0. To apply the upgrade to your files permanently, run `python -m pytorch_lightning.utilities.upgrade_checkpoint --file lightning_logs/version_16/checkpoints/epoch=99-step=49300.ckpt`\n"
     ]
    },
    {
     "name": "stdout",
     "output_type": "stream",
     "text": [
      "2024-04-17 15:29:37,187 - gaia.gaia.models - WARNING - no stats provided, assuming will be loaded later, initializing randomly\n",
      "2024-04-17 15:29:37,188 - gaia.gaia.layers - WARNING - hardcoding min std threshold to 1e-10\n",
      "2024-04-17 15:29:37,189 - gaia.gaia.layers - WARNING - hardcoding min std threshold to 1e-10\n",
      "2024-04-17 15:29:37,265 - gaia.gaia.models - INFO - using output weights [0.5500000715255737, 0.5500000715255737, 0.0, 0.0, 0.0, 0.0, 0.0, 0.0, 0.0, 0.351999968290329, 0.3879999816417694, 0.42399996519088745, 0.4599999785423279, 0.4959999918937683, 0.531999945640564, 0.5679999589920044, 0.6039999723434448, 0.6399999856948853, 0.6759999990463257, 0.7120000123977661, 0.7480000257492065, 0.784000039100647, 0.8199999928474426, 0.8560000061988831, 0.8920000195503235, 0.9279999732971191, 0.9639999866485596, 1.0, 0.10000000149011612, 0.13600000739097595, 0.171999990940094, 0.20800000429153442, 0.24399998784065247, 0.2800000011920929, 0.31599998474121094, 0.351999968290329, 0.3879999816417694, 0.42399996519088745, 0.4599999785423279, 0.4959999918937683, 0.531999945640564, 0.5679999589920044, 0.6039999723434448, 0.6399999856948853, 0.6759999990463257, 0.7120000123977661, 0.7480000257492065, 0.784000039100647, 0.8199999928474426, 0.8560000061988831, 0.8920000195503235, 0.9279999732971191, 0.9639999866485596, 1.0]\n",
      "2024-04-17 15:29:37,267 - gaia.gaia.models - WARNING - unkown kwargs ['dataset_params', 'seed', 'ckpt', 'model_type', 'model_grid', 'upweigh_low_levels']\n"
     ]
    },
    {
     "name": "stderr",
     "output_type": "stream",
     "text": [
      "Lightning automatically upgraded your loaded checkpoint from v1.8.2 to v2.0.9.post0. To apply the upgrade to your files permanently, run `python -m pytorch_lightning.utilities.upgrade_checkpoint --file lightning_logs/version_17/checkpoints/epoch=99-step=24700.ckpt`\n"
     ]
    },
    {
     "name": "stdout",
     "output_type": "stream",
     "text": [
      "2024-04-17 15:29:37,995 - gaia.gaia.models - WARNING - no stats provided, assuming will be loaded later, initializing randomly\n",
      "2024-04-17 15:29:37,996 - gaia.gaia.layers - WARNING - hardcoding min std threshold to 1e-10\n",
      "2024-04-17 15:29:37,997 - gaia.gaia.layers - WARNING - hardcoding min std threshold to 1e-10\n",
      "2024-04-17 15:29:38,039 - gaia.gaia.models - INFO - using output weights [0.5500000715255737, 0.5500000715255737, 0.0, 0.0, 0.0, 0.0, 0.0, 0.0, 0.0, 0.351999968290329, 0.3879999816417694, 0.42399996519088745, 0.4599999785423279, 0.4959999918937683, 0.531999945640564, 0.5679999589920044, 0.6039999723434448, 0.6399999856948853, 0.6759999990463257, 0.7120000123977661, 0.7480000257492065, 0.784000039100647, 0.8199999928474426, 0.8560000061988831, 0.8920000195503235, 0.9279999732971191, 0.9639999866485596, 1.0, 0.10000000149011612, 0.13600000739097595, 0.171999990940094, 0.20800000429153442, 0.24399998784065247, 0.2800000011920929, 0.31599998474121094, 0.351999968290329, 0.3879999816417694, 0.42399996519088745, 0.4599999785423279, 0.4959999918937683, 0.531999945640564, 0.5679999589920044, 0.6039999723434448, 0.6399999856948853, 0.6759999990463257, 0.7120000123977661, 0.7480000257492065, 0.784000039100647, 0.8199999928474426, 0.8560000061988831, 0.8920000195503235, 0.9279999732971191, 0.9639999866485596, 1.0]\n",
      "2024-04-17 15:29:38,040 - gaia.gaia.models - WARNING - unkown kwargs ['dataset_params', 'seed', 'ckpt', 'model_type', 'model_grid', 'upweigh_low_levels']\n"
     ]
    },
    {
     "name": "stderr",
     "output_type": "stream",
     "text": [
      "Lightning automatically upgraded your loaded checkpoint from v1.8.2 to v2.0.9.post0. To apply the upgrade to your files permanently, run `python -m pytorch_lightning.utilities.upgrade_checkpoint --file lightning_logs/version_18/checkpoints/epoch=98-step=8217.ckpt`\n"
     ]
    },
    {
     "name": "stdout",
     "output_type": "stream",
     "text": [
      "2024-04-17 15:29:38,246 - gaia.gaia.models - WARNING - no stats provided, assuming will be loaded later, initializing randomly\n",
      "2024-04-17 15:29:38,247 - gaia.gaia.layers - WARNING - hardcoding min std threshold to 1e-10\n",
      "2024-04-17 15:29:38,247 - gaia.gaia.layers - WARNING - hardcoding min std threshold to 1e-10\n",
      "2024-04-17 15:29:38,249 - gaia.gaia.models - INFO - using output weights [0.5500000715255737, 0.5500000715255737, 0.0, 0.0, 0.0, 0.0, 0.0, 0.0, 0.0, 0.351999968290329, 0.3879999816417694, 0.42399996519088745, 0.4599999785423279, 0.4959999918937683, 0.531999945640564, 0.5679999589920044, 0.6039999723434448, 0.6399999856948853, 0.6759999990463257, 0.7120000123977661, 0.7480000257492065, 0.784000039100647, 0.8199999928474426, 0.8560000061988831, 0.8920000195503235, 0.9279999732971191, 0.9639999866485596, 1.0, 0.10000000149011612, 0.13600000739097595, 0.171999990940094, 0.20800000429153442, 0.24399998784065247, 0.2800000011920929, 0.31599998474121094, 0.351999968290329, 0.3879999816417694, 0.42399996519088745, 0.4599999785423279, 0.4959999918937683, 0.531999945640564, 0.5679999589920044, 0.6039999723434448, 0.6399999856948853, 0.6759999990463257, 0.7120000123977661, 0.7480000257492065, 0.784000039100647, 0.8199999928474426, 0.8560000061988831, 0.8920000195503235, 0.9279999732971191, 0.9639999866485596, 1.0]\n",
      "2024-04-17 15:29:38,250 - gaia.gaia.models - WARNING - unkown kwargs ['dataset_params', 'seed', 'ckpt', 'model_type', 'model_grid', 'upweigh_low_levels']\n"
     ]
    },
    {
     "name": "stderr",
     "output_type": "stream",
     "text": [
      "Lightning automatically upgraded your loaded checkpoint from v1.8.2 to v2.0.9.post0. To apply the upgrade to your files permanently, run `python -m pytorch_lightning.utilities.upgrade_checkpoint --file lightning_logs/version_19/checkpoints/epoch=99-step=8300.ckpt`\n"
     ]
    },
    {
     "name": "stdout",
     "output_type": "stream",
     "text": [
      "2024-04-17 15:29:38,566 - gaia.gaia.models - WARNING - no stats provided, assuming will be loaded later, initializing randomly\n",
      "2024-04-17 15:29:38,566 - gaia.gaia.layers - WARNING - hardcoding min std threshold to 1e-10\n",
      "2024-04-17 15:29:38,567 - gaia.gaia.layers - WARNING - hardcoding min std threshold to 1e-10\n",
      "2024-04-17 15:29:38,571 - gaia.gaia.models - INFO - using output weights [0.5500000715255737, 0.5500000715255737, 0.0, 0.0, 0.0, 0.0, 0.0, 0.0, 0.0, 0.351999968290329, 0.3879999816417694, 0.42399996519088745, 0.4599999785423279, 0.4959999918937683, 0.531999945640564, 0.5679999589920044, 0.6039999723434448, 0.6399999856948853, 0.6759999990463257, 0.7120000123977661, 0.7480000257492065, 0.784000039100647, 0.8199999928474426, 0.8560000061988831, 0.8920000195503235, 0.9279999732971191, 0.9639999866485596, 1.0, 0.10000000149011612, 0.13600000739097595, 0.171999990940094, 0.20800000429153442, 0.24399998784065247, 0.2800000011920929, 0.31599998474121094, 0.351999968290329, 0.3879999816417694, 0.42399996519088745, 0.4599999785423279, 0.4959999918937683, 0.531999945640564, 0.5679999589920044, 0.6039999723434448, 0.6399999856948853, 0.6759999990463257, 0.7120000123977661, 0.7480000257492065, 0.784000039100647, 0.8199999928474426, 0.8560000061988831, 0.8920000195503235, 0.9279999732971191, 0.9639999866485596, 1.0]\n",
      "2024-04-17 15:29:38,572 - gaia.gaia.models - WARNING - unkown kwargs ['dataset_params', 'seed', 'ckpt', 'model_type', 'model_grid', 'upweigh_low_levels']\n"
     ]
    },
    {
     "name": "stderr",
     "output_type": "stream",
     "text": [
      "Lightning automatically upgraded your loaded checkpoint from v1.8.2 to v2.0.9.post0. To apply the upgrade to your files permanently, run `python -m pytorch_lightning.utilities.upgrade_checkpoint --file lightning_logs/version_20/checkpoints/epoch=99-step=8300.ckpt`\n"
     ]
    },
    {
     "name": "stdout",
     "output_type": "stream",
     "text": [
      "2024-04-17 15:29:39,161 - gaia.gaia.models - WARNING - no stats provided, assuming will be loaded later, initializing randomly\n",
      "2024-04-17 15:29:39,162 - gaia.gaia.layers - WARNING - hardcoding min std threshold to 1e-10\n",
      "2024-04-17 15:29:39,163 - gaia.gaia.layers - WARNING - hardcoding min std threshold to 1e-10\n",
      "2024-04-17 15:29:39,184 - gaia.gaia.models - INFO - using output weights [0.5500000715255737, 0.5500000715255737, 0.0, 0.0, 0.0, 0.0, 0.0, 0.0, 0.0, 0.351999968290329, 0.3879999816417694, 0.42399996519088745, 0.4599999785423279, 0.4959999918937683, 0.531999945640564, 0.5679999589920044, 0.6039999723434448, 0.6399999856948853, 0.6759999990463257, 0.7120000123977661, 0.7480000257492065, 0.784000039100647, 0.8199999928474426, 0.8560000061988831, 0.8920000195503235, 0.9279999732971191, 0.9639999866485596, 1.0, 0.10000000149011612, 0.13600000739097595, 0.171999990940094, 0.20800000429153442, 0.24399998784065247, 0.2800000011920929, 0.31599998474121094, 0.351999968290329, 0.3879999816417694, 0.42399996519088745, 0.4599999785423279, 0.4959999918937683, 0.531999945640564, 0.5679999589920044, 0.6039999723434448, 0.6399999856948853, 0.6759999990463257, 0.7120000123977661, 0.7480000257492065, 0.784000039100647, 0.8199999928474426, 0.8560000061988831, 0.8920000195503235, 0.9279999732971191, 0.9639999866485596, 1.0]\n",
      "2024-04-17 15:29:39,185 - gaia.gaia.models - WARNING - unkown kwargs ['dataset_params', 'seed', 'ckpt', 'model_type', 'model_grid', 'upweigh_low_levels']\n"
     ]
    },
    {
     "name": "stderr",
     "output_type": "stream",
     "text": [
      "Lightning automatically upgraded your loaded checkpoint from v1.8.2 to v2.0.9.post0. To apply the upgrade to your files permanently, run `python -m pytorch_lightning.utilities.upgrade_checkpoint --file lightning_logs/version_21/checkpoints/epoch=99-step=24700.ckpt`\n"
     ]
    },
    {
     "name": "stdout",
     "output_type": "stream",
     "text": [
      "2024-04-17 15:29:40,676 - gaia.gaia.models - WARNING - no stats provided, assuming will be loaded later, initializing randomly\n",
      "2024-04-17 15:29:40,677 - gaia.gaia.layers - WARNING - hardcoding min std threshold to 1e-10\n",
      "2024-04-17 15:29:40,678 - gaia.gaia.layers - WARNING - hardcoding min std threshold to 1e-10\n",
      "2024-04-17 15:29:40,739 - gaia.gaia.models - INFO - using output weights [0.5500000715255737, 0.5500000715255737, 0.0, 0.0, 0.0, 0.0, 0.0, 0.0, 0.0, 0.351999968290329, 0.3879999816417694, 0.42399996519088745, 0.4599999785423279, 0.4959999918937683, 0.531999945640564, 0.5679999589920044, 0.6039999723434448, 0.6399999856948853, 0.6759999990463257, 0.7120000123977661, 0.7480000257492065, 0.784000039100647, 0.8199999928474426, 0.8560000061988831, 0.8920000195503235, 0.9279999732971191, 0.9639999866485596, 1.0, 0.10000000149011612, 0.13600000739097595, 0.171999990940094, 0.20800000429153442, 0.24399998784065247, 0.2800000011920929, 0.31599998474121094, 0.351999968290329, 0.3879999816417694, 0.42399996519088745, 0.4599999785423279, 0.4959999918937683, 0.531999945640564, 0.5679999589920044, 0.6039999723434448, 0.6399999856948853, 0.6759999990463257, 0.7120000123977661, 0.7480000257492065, 0.784000039100647, 0.8199999928474426, 0.8560000061988831, 0.8920000195503235, 0.9279999732971191, 0.9639999866485596, 1.0]\n",
      "2024-04-17 15:29:40,740 - gaia.gaia.models - WARNING - unkown kwargs ['dataset_params', 'seed', 'ckpt', 'model_type', 'model_grid', 'upweigh_low_levels']\n"
     ]
    },
    {
     "name": "stderr",
     "output_type": "stream",
     "text": [
      "Lightning automatically upgraded your loaded checkpoint from v1.8.2 to v2.0.9.post0. To apply the upgrade to your files permanently, run `python -m pytorch_lightning.utilities.upgrade_checkpoint --file lightning_logs/version_22/checkpoints/epoch=98-step=8217.ckpt`\n"
     ]
    },
    {
     "name": "stdout",
     "output_type": "stream",
     "text": [
      "2024-04-17 15:29:41,025 - gaia.gaia.models - WARNING - no stats provided, assuming will be loaded later, initializing randomly\n",
      "2024-04-17 15:29:41,026 - gaia.gaia.layers - WARNING - hardcoding min std threshold to 1e-10\n",
      "2024-04-17 15:29:41,026 - gaia.gaia.layers - WARNING - hardcoding min std threshold to 1e-10\n",
      "2024-04-17 15:29:41,031 - gaia.gaia.models - INFO - using output weights [0.5500000715255737, 0.5500000715255737, 0.0, 0.0, 0.0, 0.0, 0.0, 0.0, 0.0, 0.351999968290329, 0.3879999816417694, 0.42399996519088745, 0.4599999785423279, 0.4959999918937683, 0.531999945640564, 0.5679999589920044, 0.6039999723434448, 0.6399999856948853, 0.6759999990463257, 0.7120000123977661, 0.7480000257492065, 0.784000039100647, 0.8199999928474426, 0.8560000061988831, 0.8920000195503235, 0.9279999732971191, 0.9639999866485596, 1.0, 0.10000000149011612, 0.13600000739097595, 0.171999990940094, 0.20800000429153442, 0.24399998784065247, 0.2800000011920929, 0.31599998474121094, 0.351999968290329, 0.3879999816417694, 0.42399996519088745, 0.4599999785423279, 0.4959999918937683, 0.531999945640564, 0.5679999589920044, 0.6039999723434448, 0.6399999856948853, 0.6759999990463257, 0.7120000123977661, 0.7480000257492065, 0.784000039100647, 0.8199999928474426, 0.8560000061988831, 0.8920000195503235, 0.9279999732971191, 0.9639999866485596, 1.0]\n",
      "2024-04-17 15:29:41,031 - gaia.gaia.models - WARNING - unkown kwargs ['dataset_params', 'seed', 'ckpt', 'model_type', 'model_grid', 'upweigh_low_levels']\n"
     ]
    },
    {
     "name": "stderr",
     "output_type": "stream",
     "text": [
      "Lightning automatically upgraded your loaded checkpoint from v1.8.2 to v2.0.9.post0. To apply the upgrade to your files permanently, run `python -m pytorch_lightning.utilities.upgrade_checkpoint --file lightning_logs/version_23/checkpoints/epoch=99-step=8300.ckpt`\n"
     ]
    },
    {
     "name": "stdout",
     "output_type": "stream",
     "text": [
      "2024-04-17 15:29:41,485 - gaia.gaia.models - WARNING - no stats provided, assuming will be loaded later, initializing randomly\n",
      "2024-04-17 15:29:41,485 - gaia.gaia.layers - WARNING - hardcoding min std threshold to 1e-10\n",
      "2024-04-17 15:29:41,486 - gaia.gaia.layers - WARNING - hardcoding min std threshold to 1e-10\n",
      "2024-04-17 15:29:41,494 - gaia.gaia.models - INFO - using output weights [0.5500000715255737, 0.5500000715255737, 0.0, 0.0, 0.0, 0.0, 0.0, 0.0, 0.0, 0.351999968290329, 0.3879999816417694, 0.42399996519088745, 0.4599999785423279, 0.4959999918937683, 0.531999945640564, 0.5679999589920044, 0.6039999723434448, 0.6399999856948853, 0.6759999990463257, 0.7120000123977661, 0.7480000257492065, 0.784000039100647, 0.8199999928474426, 0.8560000061988831, 0.8920000195503235, 0.9279999732971191, 0.9639999866485596, 1.0, 0.10000000149011612, 0.13600000739097595, 0.171999990940094, 0.20800000429153442, 0.24399998784065247, 0.2800000011920929, 0.31599998474121094, 0.351999968290329, 0.3879999816417694, 0.42399996519088745, 0.4599999785423279, 0.4959999918937683, 0.531999945640564, 0.5679999589920044, 0.6039999723434448, 0.6399999856948853, 0.6759999990463257, 0.7120000123977661, 0.7480000257492065, 0.784000039100647, 0.8199999928474426, 0.8560000061988831, 0.8920000195503235, 0.9279999732971191, 0.9639999866485596, 1.0]\n",
      "2024-04-17 15:29:41,495 - gaia.gaia.models - WARNING - unkown kwargs ['dataset_params', 'seed', 'ckpt', 'model_type', 'model_grid', 'upweigh_low_levels']\n"
     ]
    },
    {
     "name": "stderr",
     "output_type": "stream",
     "text": [
      "Lightning automatically upgraded your loaded checkpoint from v1.8.2 to v2.0.9.post0. To apply the upgrade to your files permanently, run `python -m pytorch_lightning.utilities.upgrade_checkpoint --file lightning_logs/version_24/checkpoints/epoch=99-step=8300.ckpt`\n"
     ]
    },
    {
     "name": "stdout",
     "output_type": "stream",
     "text": [
      "2024-04-17 15:29:41,584 - gaia.gaia.models - WARNING - no stats provided, assuming will be loaded later, initializing randomly\n",
      "2024-04-17 15:29:41,584 - gaia.gaia.layers - WARNING - hardcoding min std threshold to 1e-10\n",
      "2024-04-17 15:29:41,585 - gaia.gaia.layers - WARNING - hardcoding min std threshold to 1e-10\n",
      "2024-04-17 15:29:41,586 - gaia.gaia.models - INFO - using output weights [0.5500000715255737, 0.5500000715255737, 0.0, 0.0, 0.0, 0.0, 0.0, 0.0, 0.0, 0.351999968290329, 0.3879999816417694, 0.42399996519088745, 0.4599999785423279, 0.4959999918937683, 0.531999945640564, 0.5679999589920044, 0.6039999723434448, 0.6399999856948853, 0.6759999990463257, 0.7120000123977661, 0.7480000257492065, 0.784000039100647, 0.8199999928474426, 0.8560000061988831, 0.8920000195503235, 0.9279999732971191, 0.9639999866485596, 1.0, 0.10000000149011612, 0.13600000739097595, 0.171999990940094, 0.20800000429153442, 0.24399998784065247, 0.2800000011920929, 0.31599998474121094, 0.351999968290329, 0.3879999816417694, 0.42399996519088745, 0.4599999785423279, 0.4959999918937683, 0.531999945640564, 0.5679999589920044, 0.6039999723434448, 0.6399999856948853, 0.6759999990463257, 0.7120000123977661, 0.7480000257492065, 0.784000039100647, 0.8199999928474426, 0.8560000061988831, 0.8920000195503235, 0.9279999732971191, 0.9639999866485596, 1.0]\n",
      "2024-04-17 15:29:41,587 - gaia.gaia.models - WARNING - unkown kwargs ['dataset_params', 'seed', 'ckpt', 'model_type', 'model_grid', 'upweigh_low_levels']\n"
     ]
    }
   ],
   "source": [
    "model_dirs = [m for m in glob.glob(\"lightning_logs/*\")]#if os.path.exists(os.path.join(m,\"test_results.json\"))]\n",
    "data = []\n",
    "\n",
    "fields = [\"hidden_size\",\"num_layers\",\"model_type\"]\n",
    "\n",
    "\n",
    "data = []\n",
    "\n",
    "for m in model_dirs:\n",
    "    \n",
    "    model = TrainingModel.load_from_checkpoint(get_checkpoint_file(m), map_location=\"cpu\")\n",
    "    \n",
    "    num_params = sum([p.numel() for p in model.parameters()])\n",
    "    \n",
    "    test_file = os.path.join(m,\"test_results_cam4_fixed.json\")\n",
    "    test_results = pd.read_json(test_file, orient = \"records\").iloc[0]\n",
    "    test_results.loc[\"num_params\"]=num_params\n",
    "    test_results.loc[\"hidden_size\"] = model.model.hidden_size\n",
    "    test_results.loc[\"num_layers\"] = model.model.num_layers\n",
    "    \n",
    "    data.append(test_results)\n",
    "    \n",
    "#     params = load_hparams_file(m)\n",
    "#     if params:\n",
    "#         test_file = os.path.join(m,\"test_results.json\")\n",
    "#         test_results = pd.read_json(test_file, orient = \"records\").iloc[0]\n",
    "#         for f in fields:\n",
    "#             test_results[f] = params[\"model_config\"][f]\n",
    "        \n",
    "#         # test_results[\"ignore_input_variables\"] = params.get(\"ignore_input_variables\")\n",
    "#         # test_results[\"memory_variables\"] = params.get(\"memory_variables\")\n",
    "#         data.append(test_results.to_frame().T)\n",
    "        \n",
    "data = pd.concat(data,axis=1,ignore_index=True).T"
   ]
  },
  {
   "cell_type": "code",
   "execution_count": 3,
   "id": "d126e591-97a7-4b76-8351-04fe878edecf",
   "metadata": {},
   "outputs": [],
   "source": [
    "data.columns = [c.replace(\"test_skill_ave_trunc_\",\"\").replace(\"test_skill_ave_clipped\",\"test_skill\") for c in data.columns]"
   ]
  },
  {
   "cell_type": "code",
   "execution_count": 4,
   "id": "2675a991-2ac8-4e84-8604-572f5e530110",
   "metadata": {},
   "outputs": [
    {
     "data": {
      "application/javascript": "(function(root) {\n  function now() {\n    return new Date();\n  }\n\n  var force = true;\n  var py_version = '3.2.2'.replace('rc', '-rc.').replace('.dev', '-dev.');\n  var is_dev = py_version.indexOf(\"+\") !== -1 || py_version.indexOf(\"-\") !== -1;\n  var reloading = false;\n  var Bokeh = root.Bokeh;\n  var bokeh_loaded = Bokeh != null && (Bokeh.version === py_version || (Bokeh.versions !== undefined && Bokeh.versions.has(py_version)));\n\n  if (typeof (root._bokeh_timeout) === \"undefined\" || force) {\n    root._bokeh_timeout = Date.now() + 5000;\n    root._bokeh_failed_load = false;\n  }\n\n  function run_callbacks() {\n    try {\n      root._bokeh_onload_callbacks.forEach(function(callback) {\n        if (callback != null)\n          callback();\n      });\n    } finally {\n      delete root._bokeh_onload_callbacks;\n    }\n    console.debug(\"Bokeh: all callbacks have finished\");\n  }\n\n  function load_libs(css_urls, js_urls, js_modules, js_exports, callback) {\n    if (css_urls == null) css_urls = [];\n    if (js_urls == null) js_urls = [];\n    if (js_modules == null) js_modules = [];\n    if (js_exports == null) js_exports = {};\n\n    root._bokeh_onload_callbacks.push(callback);\n\n    if (root._bokeh_is_loading > 0) {\n      console.debug(\"Bokeh: BokehJS is being loaded, scheduling callback at\", now());\n      return null;\n    }\n    if (js_urls.length === 0 && js_modules.length === 0 && Object.keys(js_exports).length === 0) {\n      run_callbacks();\n      return null;\n    }\n    if (!reloading) {\n      console.debug(\"Bokeh: BokehJS not loaded, scheduling load and callback at\", now());\n    }\n\n    function on_load() {\n      root._bokeh_is_loading--;\n      if (root._bokeh_is_loading === 0) {\n        console.debug(\"Bokeh: all BokehJS libraries/stylesheets loaded\");\n        run_callbacks()\n      }\n    }\n    window._bokeh_on_load = on_load\n\n    function on_error() {\n      console.error(\"failed to load \" + url);\n    }\n\n    var skip = [];\n    if (window.requirejs) {\n      window.requirejs.config({'packages': {}, 'paths': {'jspanel': 'https://cdn.jsdelivr.net/npm/jspanel4@4.12.0/dist/jspanel', 'jspanel-modal': 'https://cdn.jsdelivr.net/npm/jspanel4@4.12.0/dist/extensions/modal/jspanel.modal', 'jspanel-tooltip': 'https://cdn.jsdelivr.net/npm/jspanel4@4.12.0/dist/extensions/tooltip/jspanel.tooltip', 'jspanel-hint': 'https://cdn.jsdelivr.net/npm/jspanel4@4.12.0/dist/extensions/hint/jspanel.hint', 'jspanel-layout': 'https://cdn.jsdelivr.net/npm/jspanel4@4.12.0/dist/extensions/layout/jspanel.layout', 'jspanel-contextmenu': 'https://cdn.jsdelivr.net/npm/jspanel4@4.12.0/dist/extensions/contextmenu/jspanel.contextmenu', 'jspanel-dock': 'https://cdn.jsdelivr.net/npm/jspanel4@4.12.0/dist/extensions/dock/jspanel.dock', 'gridstack': 'https://cdn.jsdelivr.net/npm/gridstack@7.2.3/dist/gridstack-all', 'notyf': 'https://cdn.jsdelivr.net/npm/notyf@3/notyf.min'}, 'shim': {'jspanel': {'exports': 'jsPanel'}, 'gridstack': {'exports': 'GridStack'}}});\n      require([\"jspanel\"], function(jsPanel) {\n\twindow.jsPanel = jsPanel\n\ton_load()\n      })\n      require([\"jspanel-modal\"], function() {\n\ton_load()\n      })\n      require([\"jspanel-tooltip\"], function() {\n\ton_load()\n      })\n      require([\"jspanel-hint\"], function() {\n\ton_load()\n      })\n      require([\"jspanel-layout\"], function() {\n\ton_load()\n      })\n      require([\"jspanel-contextmenu\"], function() {\n\ton_load()\n      })\n      require([\"jspanel-dock\"], function() {\n\ton_load()\n      })\n      require([\"gridstack\"], function(GridStack) {\n\twindow.GridStack = GridStack\n\ton_load()\n      })\n      require([\"notyf\"], function() {\n\ton_load()\n      })\n      root._bokeh_is_loading = css_urls.length + 9;\n    } else {\n      root._bokeh_is_loading = css_urls.length + js_urls.length + js_modules.length + Object.keys(js_exports).length;\n    }\n\n    var existing_stylesheets = []\n    var links = document.getElementsByTagName('link')\n    for (var i = 0; i < links.length; i++) {\n      var link = links[i]\n      if (link.href != null) {\n\texisting_stylesheets.push(link.href)\n      }\n    }\n    for (var i = 0; i < css_urls.length; i++) {\n      var url = css_urls[i];\n      if (existing_stylesheets.indexOf(url) !== -1) {\n\ton_load()\n\tcontinue;\n      }\n      const element = document.createElement(\"link\");\n      element.onload = on_load;\n      element.onerror = on_error;\n      element.rel = \"stylesheet\";\n      element.type = \"text/css\";\n      element.href = url;\n      console.debug(\"Bokeh: injecting link tag for BokehJS stylesheet: \", url);\n      document.body.appendChild(element);\n    }    if (((window['jsPanel'] !== undefined) && (!(window['jsPanel'] instanceof HTMLElement))) || window.requirejs) {\n      var urls = ['https://cdn.holoviz.org/panel/1.2.3/dist/bundled/floatpanel/jspanel4@4.12.0/dist/jspanel.js', 'https://cdn.holoviz.org/panel/1.2.3/dist/bundled/floatpanel/jspanel4@4.12.0/dist/extensions/modal/jspanel.modal.js', 'https://cdn.holoviz.org/panel/1.2.3/dist/bundled/floatpanel/jspanel4@4.12.0/dist/extensions/tooltip/jspanel.tooltip.js', 'https://cdn.holoviz.org/panel/1.2.3/dist/bundled/floatpanel/jspanel4@4.12.0/dist/extensions/hint/jspanel.hint.js', 'https://cdn.holoviz.org/panel/1.2.3/dist/bundled/floatpanel/jspanel4@4.12.0/dist/extensions/layout/jspanel.layout.js', 'https://cdn.holoviz.org/panel/1.2.3/dist/bundled/floatpanel/jspanel4@4.12.0/dist/extensions/contextmenu/jspanel.contextmenu.js', 'https://cdn.holoviz.org/panel/1.2.3/dist/bundled/floatpanel/jspanel4@4.12.0/dist/extensions/dock/jspanel.dock.js'];\n      for (var i = 0; i < urls.length; i++) {\n        skip.push(urls[i])\n      }\n    }    if (((window['GridStack'] !== undefined) && (!(window['GridStack'] instanceof HTMLElement))) || window.requirejs) {\n      var urls = ['https://cdn.holoviz.org/panel/1.2.3/dist/bundled/gridstack/gridstack@7.2.3/dist/gridstack-all.js'];\n      for (var i = 0; i < urls.length; i++) {\n        skip.push(urls[i])\n      }\n    }    if (((window['Notyf'] !== undefined) && (!(window['Notyf'] instanceof HTMLElement))) || window.requirejs) {\n      var urls = ['https://cdn.holoviz.org/panel/1.2.3/dist/bundled/notificationarea/notyf@3/notyf.min.js'];\n      for (var i = 0; i < urls.length; i++) {\n        skip.push(urls[i])\n      }\n    }    var existing_scripts = []\n    var scripts = document.getElementsByTagName('script')\n    for (var i = 0; i < scripts.length; i++) {\n      var script = scripts[i]\n      if (script.src != null) {\n\texisting_scripts.push(script.src)\n      }\n    }\n    for (var i = 0; i < js_urls.length; i++) {\n      var url = js_urls[i];\n      if (skip.indexOf(url) !== -1 || existing_scripts.indexOf(url) !== -1) {\n\tif (!window.requirejs) {\n\t  on_load();\n\t}\n\tcontinue;\n      }\n      var element = document.createElement('script');\n      element.onload = on_load;\n      element.onerror = on_error;\n      element.async = false;\n      element.src = url;\n      console.debug(\"Bokeh: injecting script tag for BokehJS library: \", url);\n      document.head.appendChild(element);\n    }\n    for (var i = 0; i < js_modules.length; i++) {\n      var url = js_modules[i];\n      if (skip.indexOf(url) !== -1 || existing_scripts.indexOf(url) !== -1) {\n\tif (!window.requirejs) {\n\t  on_load();\n\t}\n\tcontinue;\n      }\n      var element = document.createElement('script');\n      element.onload = on_load;\n      element.onerror = on_error;\n      element.async = false;\n      element.src = url;\n      element.type = \"module\";\n      console.debug(\"Bokeh: injecting script tag for BokehJS library: \", url);\n      document.head.appendChild(element);\n    }\n    for (const name in js_exports) {\n      var url = js_exports[name];\n      if (skip.indexOf(url) >= 0 || root[name] != null) {\n\tif (!window.requirejs) {\n\t  on_load();\n\t}\n\tcontinue;\n      }\n      var element = document.createElement('script');\n      element.onerror = on_error;\n      element.async = false;\n      element.type = \"module\";\n      console.debug(\"Bokeh: injecting script tag for BokehJS library: \", url);\n      element.textContent = `\n      import ${name} from \"${url}\"\n      window.${name} = ${name}\n      window._bokeh_on_load()\n      `\n      document.head.appendChild(element);\n    }\n    if (!js_urls.length && !js_modules.length) {\n      on_load()\n    }\n  };\n\n  function inject_raw_css(css) {\n    const element = document.createElement(\"style\");\n    element.appendChild(document.createTextNode(css));\n    document.body.appendChild(element);\n  }\n\n  var js_urls = [\"https://cdn.bokeh.org/bokeh/release/bokeh-3.2.2.min.js\", \"https://cdn.bokeh.org/bokeh/release/bokeh-gl-3.2.2.min.js\", \"https://cdn.bokeh.org/bokeh/release/bokeh-widgets-3.2.2.min.js\", \"https://cdn.bokeh.org/bokeh/release/bokeh-tables-3.2.2.min.js\", \"https://cdn.holoviz.org/panel/1.2.3/dist/panel.min.js\"];\n  var js_modules = [];\n  var js_exports = {};\n  var css_urls = [];\n  var inline_js = [    function(Bokeh) {\n      Bokeh.set_log_level(\"info\");\n    },\nfunction(Bokeh) {} // ensure no trailing comma for IE\n  ];\n\n  function run_inline_js() {\n    if ((root.Bokeh !== undefined) || (force === true)) {\n      for (var i = 0; i < inline_js.length; i++) {\n        inline_js[i].call(root, root.Bokeh);\n      }\n      // Cache old bokeh versions\n      if (Bokeh != undefined && !reloading) {\n\tvar NewBokeh = root.Bokeh;\n\tif (Bokeh.versions === undefined) {\n\t  Bokeh.versions = new Map();\n\t}\n\tif (NewBokeh.version !== Bokeh.version) {\n\t  Bokeh.versions.set(NewBokeh.version, NewBokeh)\n\t}\n\troot.Bokeh = Bokeh;\n      }} else if (Date.now() < root._bokeh_timeout) {\n      setTimeout(run_inline_js, 100);\n    } else if (!root._bokeh_failed_load) {\n      console.log(\"Bokeh: BokehJS failed to load within specified timeout.\");\n      root._bokeh_failed_load = true;\n    }\n    root._bokeh_is_initializing = false\n  }\n\n  function load_or_wait() {\n    // Implement a backoff loop that tries to ensure we do not load multiple\n    // versions of Bokeh and its dependencies at the same time.\n    // In recent versions we use the root._bokeh_is_initializing flag\n    // to determine whether there is an ongoing attempt to initialize\n    // bokeh, however for backward compatibility we also try to ensure\n    // that we do not start loading a newer (Panel>=1.0 and Bokeh>3) version\n    // before older versions are fully initialized.\n    if (root._bokeh_is_initializing && Date.now() > root._bokeh_timeout) {\n      root._bokeh_is_initializing = false;\n      root._bokeh_onload_callbacks = undefined;\n      console.log(\"Bokeh: BokehJS was loaded multiple times but one version failed to initialize.\");\n      load_or_wait();\n    } else if (root._bokeh_is_initializing || (typeof root._bokeh_is_initializing === \"undefined\" && root._bokeh_onload_callbacks !== undefined)) {\n      setTimeout(load_or_wait, 100);\n    } else {\n      Bokeh = root.Bokeh;\n      bokeh_loaded = Bokeh != null && (Bokeh.version === py_version || (Bokeh.versions !== undefined && Bokeh.versions.has(py_version)));\n      root._bokeh_is_initializing = true\n      root._bokeh_onload_callbacks = []\n      if (!reloading && (!bokeh_loaded || is_dev)) {\n\troot.Bokeh = undefined;\n      }\n      load_libs(css_urls, js_urls, js_modules, js_exports, function() {\n\tconsole.debug(\"Bokeh: BokehJS plotting callback run at\", now());\n\trun_inline_js();\n      });\n    }\n  }\n  // Give older versions of the autoload script a head-start to ensure\n  // they initialize before we start loading newer version.\n  setTimeout(load_or_wait, 100)\n}(window));",
      "application/vnd.holoviews_load.v0+json": ""
     },
     "metadata": {},
     "output_type": "display_data"
    },
    {
     "data": {
      "application/javascript": "\nif ((window.PyViz === undefined) || (window.PyViz instanceof HTMLElement)) {\n  window.PyViz = {comms: {}, comm_status:{}, kernels:{}, receivers: {}, plot_index: []}\n}\n\n\n    function JupyterCommManager() {\n    }\n\n    JupyterCommManager.prototype.register_target = function(plot_id, comm_id, msg_handler) {\n      if (window.comm_manager || ((window.Jupyter !== undefined) && (Jupyter.notebook.kernel != null))) {\n        var comm_manager = window.comm_manager || Jupyter.notebook.kernel.comm_manager;\n        comm_manager.register_target(comm_id, function(comm) {\n          comm.on_msg(msg_handler);\n        });\n      } else if ((plot_id in window.PyViz.kernels) && (window.PyViz.kernels[plot_id])) {\n        window.PyViz.kernels[plot_id].registerCommTarget(comm_id, function(comm) {\n          comm.onMsg = msg_handler;\n        });\n      } else if (typeof google != 'undefined' && google.colab.kernel != null) {\n        google.colab.kernel.comms.registerTarget(comm_id, (comm) => {\n          var messages = comm.messages[Symbol.asyncIterator]();\n          function processIteratorResult(result) {\n            var message = result.value;\n            console.log(message)\n            var content = {data: message.data, comm_id};\n            var buffers = []\n            for (var buffer of message.buffers || []) {\n              buffers.push(new DataView(buffer))\n            }\n            var metadata = message.metadata || {};\n            var msg = {content, buffers, metadata}\n            msg_handler(msg);\n            return messages.next().then(processIteratorResult);\n          }\n          return messages.next().then(processIteratorResult);\n        })\n      }\n    }\n\n    JupyterCommManager.prototype.get_client_comm = function(plot_id, comm_id, msg_handler) {\n      if (comm_id in window.PyViz.comms) {\n        return window.PyViz.comms[comm_id];\n      } else if (window.comm_manager || ((window.Jupyter !== undefined) && (Jupyter.notebook.kernel != null))) {\n        var comm_manager = window.comm_manager || Jupyter.notebook.kernel.comm_manager;\n        var comm = comm_manager.new_comm(comm_id, {}, {}, {}, comm_id);\n        if (msg_handler) {\n          comm.on_msg(msg_handler);\n        }\n      } else if ((plot_id in window.PyViz.kernels) && (window.PyViz.kernels[plot_id])) {\n        var comm = window.PyViz.kernels[plot_id].connectToComm(comm_id);\n        comm.open();\n        if (msg_handler) {\n          comm.onMsg = msg_handler;\n        }\n      } else if (typeof google != 'undefined' && google.colab.kernel != null) {\n        var comm_promise = google.colab.kernel.comms.open(comm_id)\n        comm_promise.then((comm) => {\n          window.PyViz.comms[comm_id] = comm;\n          if (msg_handler) {\n            var messages = comm.messages[Symbol.asyncIterator]();\n            function processIteratorResult(result) {\n              var message = result.value;\n              var content = {data: message.data};\n              var metadata = message.metadata || {comm_id};\n              var msg = {content, metadata}\n              msg_handler(msg);\n              return messages.next().then(processIteratorResult);\n            }\n            return messages.next().then(processIteratorResult);\n          }\n        }) \n        var sendClosure = (data, metadata, buffers, disposeOnDone) => {\n          return comm_promise.then((comm) => {\n            comm.send(data, metadata, buffers, disposeOnDone);\n          });\n        };\n        var comm = {\n          send: sendClosure\n        };\n      }\n      window.PyViz.comms[comm_id] = comm;\n      return comm;\n    }\n    window.PyViz.comm_manager = new JupyterCommManager();\n    \n\n\nvar JS_MIME_TYPE = 'application/javascript';\nvar HTML_MIME_TYPE = 'text/html';\nvar EXEC_MIME_TYPE = 'application/vnd.holoviews_exec.v0+json';\nvar CLASS_NAME = 'output';\n\n/**\n * Render data to the DOM node\n */\nfunction render(props, node) {\n  var div = document.createElement(\"div\");\n  var script = document.createElement(\"script\");\n  node.appendChild(div);\n  node.appendChild(script);\n}\n\n/**\n * Handle when a new output is added\n */\nfunction handle_add_output(event, handle) {\n  var output_area = handle.output_area;\n  var output = handle.output;\n  if ((output.data == undefined) || (!output.data.hasOwnProperty(EXEC_MIME_TYPE))) {\n    return\n  }\n  var id = output.metadata[EXEC_MIME_TYPE][\"id\"];\n  var toinsert = output_area.element.find(\".\" + CLASS_NAME.split(' ')[0]);\n  if (id !== undefined) {\n    var nchildren = toinsert.length;\n    var html_node = toinsert[nchildren-1].children[0];\n    html_node.innerHTML = output.data[HTML_MIME_TYPE];\n    var scripts = [];\n    var nodelist = html_node.querySelectorAll(\"script\");\n    for (var i in nodelist) {\n      if (nodelist.hasOwnProperty(i)) {\n        scripts.push(nodelist[i])\n      }\n    }\n\n    scripts.forEach( function (oldScript) {\n      var newScript = document.createElement(\"script\");\n      var attrs = [];\n      var nodemap = oldScript.attributes;\n      for (var j in nodemap) {\n        if (nodemap.hasOwnProperty(j)) {\n          attrs.push(nodemap[j])\n        }\n      }\n      attrs.forEach(function(attr) { newScript.setAttribute(attr.name, attr.value) });\n      newScript.appendChild(document.createTextNode(oldScript.innerHTML));\n      oldScript.parentNode.replaceChild(newScript, oldScript);\n    });\n    if (JS_MIME_TYPE in output.data) {\n      toinsert[nchildren-1].children[1].textContent = output.data[JS_MIME_TYPE];\n    }\n    output_area._hv_plot_id = id;\n    if ((window.Bokeh !== undefined) && (id in Bokeh.index)) {\n      window.PyViz.plot_index[id] = Bokeh.index[id];\n    } else {\n      window.PyViz.plot_index[id] = null;\n    }\n  } else if (output.metadata[EXEC_MIME_TYPE][\"server_id\"] !== undefined) {\n    var bk_div = document.createElement(\"div\");\n    bk_div.innerHTML = output.data[HTML_MIME_TYPE];\n    var script_attrs = bk_div.children[0].attributes;\n    for (var i = 0; i < script_attrs.length; i++) {\n      toinsert[toinsert.length - 1].childNodes[1].setAttribute(script_attrs[i].name, script_attrs[i].value);\n    }\n    // store reference to server id on output_area\n    output_area._bokeh_server_id = output.metadata[EXEC_MIME_TYPE][\"server_id\"];\n  }\n}\n\n/**\n * Handle when an output is cleared or removed\n */\nfunction handle_clear_output(event, handle) {\n  var id = handle.cell.output_area._hv_plot_id;\n  var server_id = handle.cell.output_area._bokeh_server_id;\n  if (((id === undefined) || !(id in PyViz.plot_index)) && (server_id !== undefined)) { return; }\n  var comm = window.PyViz.comm_manager.get_client_comm(\"hv-extension-comm\", \"hv-extension-comm\", function () {});\n  if (server_id !== null) {\n    comm.send({event_type: 'server_delete', 'id': server_id});\n    return;\n  } else if (comm !== null) {\n    comm.send({event_type: 'delete', 'id': id});\n  }\n  delete PyViz.plot_index[id];\n  if ((window.Bokeh !== undefined) & (id in window.Bokeh.index)) {\n    var doc = window.Bokeh.index[id].model.document\n    doc.clear();\n    const i = window.Bokeh.documents.indexOf(doc);\n    if (i > -1) {\n      window.Bokeh.documents.splice(i, 1);\n    }\n  }\n}\n\n/**\n * Handle kernel restart event\n */\nfunction handle_kernel_cleanup(event, handle) {\n  delete PyViz.comms[\"hv-extension-comm\"];\n  window.PyViz.plot_index = {}\n}\n\n/**\n * Handle update_display_data messages\n */\nfunction handle_update_output(event, handle) {\n  handle_clear_output(event, {cell: {output_area: handle.output_area}})\n  handle_add_output(event, handle)\n}\n\nfunction register_renderer(events, OutputArea) {\n  function append_mime(data, metadata, element) {\n    // create a DOM node to render to\n    var toinsert = this.create_output_subarea(\n    metadata,\n    CLASS_NAME,\n    EXEC_MIME_TYPE\n    );\n    this.keyboard_manager.register_events(toinsert);\n    // Render to node\n    var props = {data: data, metadata: metadata[EXEC_MIME_TYPE]};\n    render(props, toinsert[0]);\n    element.append(toinsert);\n    return toinsert\n  }\n\n  events.on('output_added.OutputArea', handle_add_output);\n  events.on('output_updated.OutputArea', handle_update_output);\n  events.on('clear_output.CodeCell', handle_clear_output);\n  events.on('delete.Cell', handle_clear_output);\n  events.on('kernel_ready.Kernel', handle_kernel_cleanup);\n\n  OutputArea.prototype.register_mime_type(EXEC_MIME_TYPE, append_mime, {\n    safe: true,\n    index: 0\n  });\n}\n\nif (window.Jupyter !== undefined) {\n  try {\n    var events = require('base/js/events');\n    var OutputArea = require('notebook/js/outputarea').OutputArea;\n    if (OutputArea.prototype.mime_types().indexOf(EXEC_MIME_TYPE) == -1) {\n      register_renderer(events, OutputArea);\n    }\n  } catch(err) {\n  }\n}\n",
      "application/vnd.holoviews_load.v0+json": ""
     },
     "metadata": {},
     "output_type": "display_data"
    },
    {
     "data": {
      "text/html": [
       "<style>*[data-root-id],\n",
       "*[data-root-id] > * {\n",
       "  box-sizing: border-box;\n",
       "  font-family: var(--jp-ui-font-family);\n",
       "  font-size: var(--jp-ui-font-size1);\n",
       "  color: var(--vscode-editor-foreground, var(--jp-ui-font-color1));\n",
       "}\n",
       "\n",
       "/* Override VSCode background color */\n",
       ".cell-output-ipywidget-background:has(\n",
       "    > .cell-output-ipywidget-background > .lm-Widget > *[data-root-id]\n",
       "  ),\n",
       ".cell-output-ipywidget-background:has(> .lm-Widget > *[data-root-id]) {\n",
       "  background-color: transparent !important;\n",
       "}\n",
       "</style>"
      ]
     },
     "metadata": {},
     "output_type": "display_data"
    },
    {
     "data": {
      "text/html": [
       "\n",
       "<div class=\"logo-block\">\n",
       "<img src='data:image/png;base64,iVBORw0KGgoAAAANSUhEUgAAAEAAAABACAYAAACqaXHeAAAABHNCSVQICAgIfAhkiAAAAAlwSFlz\n",
       "AAAB+wAAAfsBxc2miwAAABl0RVh0U29mdHdhcmUAd3d3Lmlua3NjYXBlLm9yZ5vuPBoAAA6zSURB\n",
       "VHic7ZtpeFRVmsf/5966taWqUlUJ2UioBBJiIBAwCZtog9IOgjqACsogKtqirT2ttt069nQ/zDzt\n",
       "tI4+CrJIREFaFgWhBXpUNhHZQoKBkIUASchWla1S+3ar7r1nPkDaCAnZKoQP/D7mnPOe9/xy76n3\n",
       "nFSAW9ziFoPFNED2LLK5wcyBDObkb8ZkxuaoSYlI6ZcOKq1eWFdedqNzGHQBk9RMEwFAASkk0Xw3\n",
       "ETacDNi2vtvc7L0ROdw0AjoSotQVkKSvHQz/wRO1lScGModBFbDMaNRN1A4tUBCS3lk7BWhQkgpD\n",
       "lG4852/+7DWr1R3uHAZVQDsbh6ZPN7CyxUrCzJMRouusj0ipRwD2uKm0Zn5d2dFwzX1TCGhnmdGo\n",
       "G62Nna+isiUqhkzuKrkQaJlPEv5mFl2fvGg2t/VnzkEV8F5ioioOEWkLG86fvbpthynjdhXYZziQ\n",
       "x1hC9J2NFyi8vCTt91Fh04KGip0AaG9zuCk2wQCVyoNU3Hjezee9bq92duzzTmxsRJoy+jEZZZYo\n",
       "GTKJ6SJngdJqAfRzpze0+jHreUtPc7gpBLQnIYK6BYp/uGhw9YK688eu7v95ysgshcg9qSLMo3JC\n",
       "4jqLKQFBgdKDPoQ+Pltb8dUyQLpeDjeVgI6EgLIQFT5tEl3rn2losHVsexbZ3EyT9wE1uGdkIPcy\n",
       "BGxn8QUq1QrA5nqW5i2tLqvrrM9NK6AdkVIvL9E9bZL/oyfMVd/jqvc8LylzRBKDJSzIExwhQzuL\n",
       "QYGQj4rHfFTc8mUdu3E7yoLtbTe9gI4EqVgVkug2i5+uXGo919ixbRog+3fTbQ8qJe4ZOYNfMoTI\n",
       "OoshUNosgO60AisX15aeI2PSIp5KiFLI9ubb1vV3Qb2ltwLakUCDAkWX7/nHKRmmGIl9VgYsUhJm\n",
       "2NXjKYADtM1ygne9QQDIXlk49FBstMKx66D1v4+XuQr7vqTe0VcBHQlRWiOCbmmSYe2SqtL6q5rJ\n",
       "zsTb7lKx3FKOYC4DoqyS/B5bvLPxvD9Qtf6saxYLQGJErmDOdOMr/zo96km1nElr8bmPOBwI9COv\n",
       "HnFPRIwmkSOv9kcAS4heRsidOkpeWBgZM+UBrTFAXNYL5Vf2ii9c1trNzpYdaoVil3WIc+wdk+gQ\n",
       "noie3ecCcxt9ITcLAPWt/laGEO/9U6PmzZkenTtsSMQ8uYywJVW+grCstAvCIaAdArAsIWkRDDs/\n",
       "KzLm2YcjY1Lv0UdW73HabE9n6V66cxSzfEmuJssTpKGVp+0vHq73FwL46eOjpMpbRAnNmJFrGJNu\n",
       "Ukf9Yrz+3rghiumCKNXXWPhLYcjxGsIpoCMsIRoFITkW8AuyM8jC1+/QLx4bozCEJIq38+1rtpR6\n",
       "V/yzb8eBlRb3fo5l783N0CWolAzJHaVNzkrTzlEp2bQ2q3TC5gn6wpnoQAmwSiGh2GitnTmVMc5O\n",
       "UyfKWUKCIsU7+fZDKwqdT6DDpvkzAX4/+AMFjk0tDp5GRXLpQ2MUmhgDp5gxQT8+Y7hyPsMi8uxF\n",
       "71H0oebujHALECjFKaW9Lm68n18wXp2kVzIcABytD5iXFzg+WVXkegpAsOOYziqo0OkK76GyquC3\n",
       "ltZAzMhhqlSNmmWTE5T6e3IN05ITFLM4GdN0vtZ3ob8Jh1NAKXFbm5PtLU/eqTSlGjkNAJjdgn/N\n",
       "aedXa0tdi7+t9G0FIF49rtMSEgAs1kDLkTPO7ebm4IUWeyh1bKomXqlgMG6kJmHcSM0clYLJ8XtR\n",
       "1GTnbV3F6I5wCGikAb402npp1h1s7LQUZZSMIfALFOuL3UUrfnS8+rez7v9qcold5tilgHbO1fjK\n",
       "9ubb17u9oshxzMiUBKXWqJNxd+fqb0tLVs4lILFnK71H0Ind7uiPgACVcFJlrb0tV6DzxqqTIhUM\n",
       "CwDf1/rrVhTa33/3pGPxJYdQ2l2cbgVcQSosdx8uqnDtbGjh9SlDVSMNWhlnilfqZk42Th2ZpLpf\n",
       "xrHec5e815zrr0dfBZSwzkZfqsv+1FS1KUknUwPARVvItfKUY+cn57yP7qv07UE3p8B2uhUwLk09\n",
       "e0SCOrK+hbdYHYLjRIl71wWzv9jpEoeOHhGRrJAzyEyNiJuUqX0g2sBN5kGK6y2Blp5M3lsB9Qh4\n",
       "y2Ja6x6+i0ucmKgwMATwhSjdUu49tKrQ/pvN5d53ml2CGwCmJipmKjgmyuaXzNeL2a0AkQ01Th5j\n",
       "2DktO3Jyk8f9vcOBQHV94OK+fPumJmvQHxJoWkaKWq9Vs+yUsbq0zGT1I4RgeH2b5wef7+c7bl8F\n",
       "eKgoHVVZa8ZPEORzR6sT1BzDUAD/d9F78e2Tzv99v8D+fLVTqAKAsbGamKey1Mt9Ann4eH3gTXTz\n",
       "idWtAJ8PQWOk7NzSeQn/OTHDuEikVF1R4z8BQCy+6D1aWRfY0tTGG2OM8rRoPaeIj5ZHzJxszElN\n",
       "VM8K8JS5WOfv8mzRnQAKoEhmt8gyPM4lU9SmBK1MCQBnW4KONT86v1hZ1PbwSXPw4JWussVjtH9Y\n",
       "NCoiL9UoH/6PSu8jFrfY2t36erQHXLIEakMi1SydmzB31h3GGXFDFNPaK8Rme9B79Ixrd0WN+1ij\n",
       "NRQ/doRmuFLBkHSTOm5GruG+pFjFdAmorG4IXH1Qua6ASniclfFtDYt+oUjKipPrCQB7QBQ2lrgP\n",
       "fFzm+9XWUtcqJ3/5vDLDpJ79XHZk3u8nGZ42qlj1+ydtbxysCezrydp6ugmipNJ7WBPB5tydY0jP\n",
       "HaVNzs3QzeE4ZpTbI+ZbnSFPbVOw9vsfnVvqWnirPyCNGD08IlqtYkh2hjZ5dErEQzoNm+6ykyOt\n",
       "Lt5/PQEuSRRKo22VkydK+vvS1XEKlhCJAnsqvcVvH7f/ZU2R67eXbMEGAMiIV5oWZWiWvz5Fv2xG\n",
       "sjqNJQRvn3Rs2lji/lNP19VjAQDgD7FHhujZB9OGqYxRkZxixgRDVlqS6uEOFaJUVu0rPFzctrnF\n",
       "JqijImVp8dEKVWyUXDk92zAuMZ6bFwpBU1HrOw6AdhQgUooChb0+ItMbWJitSo5Ws3IAOGEOtL53\n",
       "0vHZih9sC4vtofZ7Qu6523V/fmGcds1TY3V36pUsBwAbSlxnVh2xLfAD/IAIMDf7XYIkNmXfpp2l\n",
       "18rkAJAy9HKFaIr/qULkeQQKy9zf1JgDB2uaeFNGijo5QsUyacNUUTOnGO42xSnv4oOwpDi1zYkc\n",
       "efUc3I5Gk6PhyTuVKaOGyLUAYPGIoY9Pu/atL/L92+4q9wbflRJ2Trpm/jPjdBtfnqB/dIThcl8A\n",
       "KG7hbRuKnb8qsQsVvVlTrwQAQMUlf3kwJI24Z4JhPMtcfng5GcH49GsrxJpGvvHIaeem2ma+KSjQ\n",
       "lIwUdYyCY8j4dE1KzijNnIP2llF2wcXNnsoapw9XxsgYAl6k+KzUXbi2yP3KR2ecf6z3BFsBICdW\n",
       "nvnIaG3eHybqX7vbpEqUMT+9OL4Qpe8VON7dXuFd39v19FoAABRVePbGGuXTszO0P7tu6lghUonE\n",
       "llRdrhArLvmKdh9u29jcFiRRkfLUxBiFNiqSU9icoZQHo5mYBI1MBgBH6wMNb+U7Pnw337H4gi1Y\n",
       "ciWs+uks3Z9fztUvfzxTm9Ne8XXkvQLHNytOOZeiD4e0PgkAIAYCYknKUNUDSXEKzdWNpnil7r4p\n",
       "xqkjTarZMtk/K8TQ6Qve78qqvXurGwIJqcOUKfUWHsm8KGvxSP68YudXq4pcj39X49uOK2X142O0\n",
       "Tz5/u/7TVybqH0rSya6ZBwD21/gubbrgWdDgEOx9WUhfBaC2ibcEBYm7a7x+ukrBMNcEZggyR0TE\n",
       "T8zUPjikQ4VosQZbTpS4vqizBKvqmvjsqnpfzaZyx9JPiz1/bfGKdgD45XB1zoIMzYbfTdS/NClB\n",
       "Gct0USiY3YL/g0LHy/uq/Ef6uo5+n0R/vyhp17Klpge763f8rMu6YU/zrn2nml+2WtH+Z+5IAAFc\n",
       "2bUTdTDOSNa9+cQY7YLsOIXhevEkCvzph7a8laecz/Un/z4/Ae04XeL3UQb57IwU9ZDr9UuKVajv\n",
       "nxp1+1UVIo/LjztZkKH59fO3G/JemqCfmaCRqbqbd90ZZ8FfjtkfAyD0J/9+C2h1hDwsSxvGjNDc\n",
       "b4zk5NfrSwiQblLHzZhg+Jf4aPlUwpDqkQqa9nimbt1/TDH8OitGMaQnj+RJS6B1fbF7SY1TqO5v\n",
       "/v0WAADl1f7zokgS7s7VT2DZ7pegUjBM7mjtiDZbcN4j0YrHH0rXpCtY0qPX0cVL0rv5jv/ZXend\n",
       "0u/EESYBAFBU4T4Qa5TflZOhTe7pmKpaP8kCVUVw1+yhXfJWvn1P3hnXi33JsTN6PnP3hHZ8Z3/h\n",
       "aLHzmkNPuPj7Bc/F/Q38CwjTpSwQXgE4Vmwry9tpfq/ZFgqFMy4AVDtCvi8rvMvOmv0N4YwbVgEA\n",
       "sPM72/KVnzfspmH7HQGCRLG2yL1+z8XwvPcdCbsAANh+xPzstgMtxeGKt+6MK3/tacfvwhWvIwMi\n",
       "oKEBtm0H7W+UVfkc/Y1V0BhoPlDr/w1w/eu1vjIgAgDg22OtX6/eYfnEz/focrZTHAFR+PSs56/7\n",
       "q32nwpjazxgwAQCwcU/T62t3WL7r6/jVRa6/byp1rei+Z98ZUAEAhEPHPc8fKnTU9nbgtnOe8h0l\n",
       "9hcGIqmODLQAHCy2Xti6v/XNRivf43f4fFvIteu854+VHnR7q9tfBlwAAGz+pnndB9vM26UebAe8\n",
       "SLHujPOTPVW+rwY+sxskAAC2HrA8t2Vvc7ffP1r9o+vwR2dcr92InIAbKKC1FZ5tB1tf+/G8p8sv\n",
       "N/9Q5zd/XR34LYCwV5JdccMEAMDBk45DH243r/X4xGvqxFa/GNpS7n6rwOwNWwHVE26oAADYurf1\n",
       "zx/utOzt+DMKYM0p17YtZZ5VNzqfsB2HewG1WXE8PoZ7gOclbTIvynZf9JV+fqZtfgs/8F/Nu5rB\n",
       "EIBmJ+8QRMmpU7EzGRsf2FzuePqYRbzh/zE26EwdrT10f6r6o8HOYzCJB9Dpff8tbnGLG8L/A/WE\n",
       "roTBs2RqAAAAAElFTkSuQmCC'\n",
       "     style='height:25px; border-radius:12px; display: inline-block; float: left; vertical-align: middle'></img>\n",
       "\n",
       "\n",
       "  <img src='data:image/png;base64,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'\n",
       "       style='height:15px; border-radius:12px; display: inline-block; float: left'></img>\n",
       "  \n",
       "\n",
       "\n",
       "\n",
       "\n",
       "</div>\n"
      ]
     },
     "metadata": {},
     "output_type": "display_data"
    }
   ],
   "source": [
    "import holoviews as hv\n",
    "hv.extension(\"bokeh\")\n",
    "import hvplot.pandas"
   ]
  },
  {
   "cell_type": "code",
   "execution_count": 22,
   "id": "f3828ebf-0e46-431f-99d9-9029d2210794",
   "metadata": {},
   "outputs": [
    {
     "data": {},
     "metadata": {},
     "output_type": "display_data"
    },
    {
     "data": {
      "application/vnd.holoviews_exec.v0+json": "",
      "text/html": [
       "<div id='fc5d6281-9285-476b-8af5-f2493fbe19ff'>\n",
       "  <div id=\"dd4eb2cf-7f5b-4829-a586-ca8512d3c11a\" data-root-id=\"fc5d6281-9285-476b-8af5-f2493fbe19ff\" style=\"display: contents;\"></div>\n",
       "</div>\n",
       "<script type=\"application/javascript\">(function(root) {\n",
       "  var docs_json = {\"90a78679-9b7f-44b4-bb81-f2e88778c234\":{\"version\":\"3.2.2\",\"title\":\"Bokeh Application\",\"roots\":[{\"type\":\"object\",\"name\":\"Row\",\"id\":\"fc5d6281-9285-476b-8af5-f2493fbe19ff\",\"attributes\":{\"name\":\"Row16937\",\"tags\":[\"embedded\"],\"stylesheets\":[\"\\n:host(.pn-loading.pn-arc):before, .pn-loading.pn-arc:before {\\n  background-image: url(\\\"data:image/svg+xml;base64,PHN2ZyB4bWxucz0iaHR0cDovL3d3dy53My5vcmcvMjAwMC9zdmciIHN0eWxlPSJtYXJnaW46IGF1dG87IGJhY2tncm91bmQ6IG5vbmU7IGRpc3BsYXk6IGJsb2NrOyBzaGFwZS1yZW5kZXJpbmc6IGF1dG87IiB2aWV3Qm94PSIwIDAgMTAwIDEwMCIgcHJlc2VydmVBc3BlY3RSYXRpbz0ieE1pZFlNaWQiPiAgPGNpcmNsZSBjeD0iNTAiIGN5PSI1MCIgZmlsbD0ibm9uZSIgc3Ryb2tlPSIjYzNjM2MzIiBzdHJva2Utd2lkdGg9IjEwIiByPSIzNSIgc3Ryb2tlLWRhc2hhcnJheT0iMTY0LjkzMzYxNDMxMzQ2NDE1IDU2Ljk3Nzg3MTQzNzgyMTM4Ij4gICAgPGFuaW1hdGVUcmFuc2Zvcm0gYXR0cmlidXRlTmFtZT0idHJhbnNmb3JtIiB0eXBlPSJyb3RhdGUiIHJlcGVhdENvdW50PSJpbmRlZmluaXRlIiBkdXI9IjFzIiB2YWx1ZXM9IjAgNTAgNTA7MzYwIDUwIDUwIiBrZXlUaW1lcz0iMDsxIj48L2FuaW1hdGVUcmFuc2Zvcm0+ICA8L2NpcmNsZT48L3N2Zz4=\\\");\\n  background-size: auto calc(min(50%, 400px));\\n}\",{\"type\":\"object\",\"name\":\"ImportedStyleSheet\",\"id\":\"4f2fde7b-2339-4c83-a0c7-065bfe5cc8a2\",\"attributes\":{\"url\":\"https://cdn.holoviz.org/panel/1.2.3/dist/css/loading.css\"}},{\"type\":\"object\",\"name\":\"ImportedStyleSheet\",\"id\":\"aa86f22f-9383-4878-9173-02d7a5cd8e3e\",\"attributes\":{\"url\":\"https://cdn.holoviz.org/panel/1.2.3/dist/css/listpanel.css\"}},{\"type\":\"object\",\"name\":\"ImportedStyleSheet\",\"id\":\"7446f8d5-4060-468f-a104-01d60c53181e\",\"attributes\":{\"url\":\"https://cdn.holoviz.org/panel/1.2.3/dist/bundled/theme/default.css\"}},{\"type\":\"object\",\"name\":\"ImportedStyleSheet\",\"id\":\"d857d103-3dc8-4145-881c-af948afcd85c\",\"attributes\":{\"url\":\"https://cdn.holoviz.org/panel/1.2.3/dist/bundled/theme/native.css\"}}],\"min_width\":700,\"margin\":0,\"sizing_mode\":\"stretch_width\",\"align\":\"start\",\"children\":[{\"type\":\"object\",\"name\":\"Spacer\",\"id\":\"cb7cb9ce-9cb6-4630-a354-fdf528c1a0eb\",\"attributes\":{\"name\":\"HSpacer16946\",\"stylesheets\":[\"\\n:host(.pn-loading.pn-arc):before, .pn-loading.pn-arc:before {\\n  background-image: url(\\\"data:image/svg+xml;base64,PHN2ZyB4bWxucz0iaHR0cDovL3d3dy53My5vcmcvMjAwMC9zdmciIHN0eWxlPSJtYXJnaW46IGF1dG87IGJhY2tncm91bmQ6IG5vbmU7IGRpc3BsYXk6IGJsb2NrOyBzaGFwZS1yZW5kZXJpbmc6IGF1dG87IiB2aWV3Qm94PSIwIDAgMTAwIDEwMCIgcHJlc2VydmVBc3BlY3RSYXRpbz0ieE1pZFlNaWQiPiAgPGNpcmNsZSBjeD0iNTAiIGN5PSI1MCIgZmlsbD0ibm9uZSIgc3Ryb2tlPSIjYzNjM2MzIiBzdHJva2Utd2lkdGg9IjEwIiByPSIzNSIgc3Ryb2tlLWRhc2hhcnJheT0iMTY0LjkzMzYxNDMxMzQ2NDE1IDU2Ljk3Nzg3MTQzNzgyMTM4Ij4gICAgPGFuaW1hdGVUcmFuc2Zvcm0gYXR0cmlidXRlTmFtZT0idHJhbnNmb3JtIiB0eXBlPSJyb3RhdGUiIHJlcGVhdENvdW50PSJpbmRlZmluaXRlIiBkdXI9IjFzIiB2YWx1ZXM9IjAgNTAgNTA7MzYwIDUwIDUwIiBrZXlUaW1lcz0iMDsxIj48L2FuaW1hdGVUcmFuc2Zvcm0+ICA8L2NpcmNsZT48L3N2Zz4=\\\");\\n  background-size: auto calc(min(50%, 400px));\\n}\",{\"id\":\"4f2fde7b-2339-4c83-a0c7-065bfe5cc8a2\"},{\"id\":\"7446f8d5-4060-468f-a104-01d60c53181e\"},{\"id\":\"d857d103-3dc8-4145-881c-af948afcd85c\"}],\"margin\":0,\"sizing_mode\":\"stretch_width\",\"align\":\"start\"}},{\"type\":\"object\",\"name\":\"Figure\",\"id\":\"6fb2e094-f643-4750-bdab-52ad0d2ac0e7\",\"attributes\":{\"width\":700,\"height\":300,\"margin\":[5,10],\"sizing_mode\":\"fixed\",\"align\":\"start\",\"x_range\":{\"type\":\"object\",\"name\":\"Range1d\",\"id\":\"0bed8be3-c4b6-49d8-a6f7-000cad77dab8\",\"attributes\":{\"tags\":[[[\"num_params\",\"num_params\",null]],[]],\"start\":32732.346565257427,\"end\":110611732.40121199,\"reset_start\":32732.346565257427,\"reset_end\":110611732.40121199}},\"y_range\":{\"type\":\"object\",\"name\":\"Range1d\",\"id\":\"42ccdd1d-2747-42a9-9f5f-327a3649ddc4\",\"attributes\":{\"tags\":[[[\"test_skill\",\"test_skill\",null]],{\"type\":\"map\",\"entries\":[[\"invert_yaxis\",false],[\"autorange\",false]]}],\"start\":0.6887557983398429,\"end\":0.8911904811859133,\"reset_start\":0.6887557983398429,\"reset_end\":0.8911904811859133}},\"x_scale\":{\"type\":\"object\",\"name\":\"LogScale\",\"id\":\"7d545438-d74b-419d-88a6-1656b900f3fa\"},\"y_scale\":{\"type\":\"object\",\"name\":\"LinearScale\",\"id\":\"43c40214-60a2-48d3-a7ce-ff39639cc2af\"},\"title\":{\"type\":\"object\",\"name\":\"Title\",\"id\":\"bcbe046a-e1d0-4695-a49c-8a61445d0ae3\",\"attributes\":{\"text_color\":\"black\",\"text_font_size\":\"12pt\"}},\"renderers\":[{\"type\":\"object\",\"name\":\"GlyphRenderer\",\"id\":\"50854793-5b44-4ff5-950a-3f964ed4a638\",\"attributes\":{\"name\":\"128\",\"data_source\":{\"type\":\"object\",\"name\":\"ColumnDataSource\",\"id\":\"5c2c054f-6c7f-44ba-a12b-a37d197f5cdf\",\"attributes\":{\"selected\":{\"type\":\"object\",\"name\":\"Selection\",\"id\":\"32b8b8be-350b-421b-ab00-357a977de37d\",\"attributes\":{\"indices\":[],\"line_indices\":[]}},\"selection_policy\":{\"type\":\"object\",\"name\":\"UnionRenderers\",\"id\":\"ba06e9bc-10cb-4527-a135-db561210658e\"},\"data\":{\"type\":\"map\",\"entries\":[[\"num_params\",{\"type\":\"ndarray\",\"array\":{\"type\":\"bytes\",\"data\":\"AAAAAMAG5kAAAAAAYDPzQAAAAABgY/tAAAAAALAFDEEAAAAA2CwVQQ==\"},\"shape\":[5],\"dtype\":\"float64\",\"order\":\"little\"}],[\"test_skill\",{\"type\":\"ndarray\",\"array\":{\"type\":\"bytes\",\"data\":\"+f//n3uU5j/8//9/kafoP/7//x/lJOk/AAAAYGFA6T/+//8/uiHpPw==\"},\"shape\":[5],\"dtype\":\"float64\",\"order\":\"little\"}],[\"hidden_size\",[128.0,128.0,128.0,128.0,128.0]]]}}},\"view\":{\"type\":\"object\",\"name\":\"CDSView\",\"id\":\"4f5a547e-a28c-48f7-b84e-46fbf78dbe11\",\"attributes\":{\"filter\":{\"type\":\"object\",\"name\":\"AllIndices\",\"id\":\"947f9673-719e-4929-983a-f6df2804e6e7\"}}},\"glyph\":{\"type\":\"object\",\"name\":\"Line\",\"id\":\"acc1a254-eda4-4c89-ace6-f36e61cbd2ee\",\"attributes\":{\"tags\":[\"apply_ranges\"],\"x\":{\"type\":\"field\",\"field\":\"num_params\"},\"y\":{\"type\":\"field\",\"field\":\"test_skill\"},\"line_color\":\"#30a2da\",\"line_width\":0.5}},\"selection_glyph\":{\"type\":\"object\",\"name\":\"Line\",\"id\":\"386ddc14-3621-4a7c-a577-e1cdd73529b1\",\"attributes\":{\"tags\":[\"apply_ranges\"],\"x\":{\"type\":\"field\",\"field\":\"num_params\"},\"y\":{\"type\":\"field\",\"field\":\"test_skill\"},\"line_color\":\"#30a2da\",\"line_width\":0.5}},\"nonselection_glyph\":{\"type\":\"object\",\"name\":\"Line\",\"id\":\"6983ca69-d9b5-4997-868d-3f93e108f2fe\",\"attributes\":{\"tags\":[\"apply_ranges\"],\"x\":{\"type\":\"field\",\"field\":\"num_params\"},\"y\":{\"type\":\"field\",\"field\":\"test_skill\"},\"line_color\":\"#30a2da\",\"line_alpha\":0.1,\"line_width\":0.5}},\"muted_glyph\":{\"type\":\"object\",\"name\":\"Line\",\"id\":\"cb1816cb-221b-4e33-b4d8-0ba0aa5a4de7\",\"attributes\":{\"tags\":[\"apply_ranges\"],\"x\":{\"type\":\"field\",\"field\":\"num_params\"},\"y\":{\"type\":\"field\",\"field\":\"test_skill\"},\"line_color\":\"#30a2da\",\"line_alpha\":0.2,\"line_width\":0.5}}}},{\"type\":\"object\",\"name\":\"GlyphRenderer\",\"id\":\"292c8ae6-9c7d-4f61-b99c-92949e523dd3\",\"attributes\":{\"name\":\"256\",\"data_source\":{\"type\":\"object\",\"name\":\"ColumnDataSource\",\"id\":\"f84126dd-9ec5-404d-b7df-c3a4246d154f\",\"attributes\":{\"selected\":{\"type\":\"object\",\"name\":\"Selection\",\"id\":\"ea3fa73b-1c4e-4f1f-943f-fc2e3b1b4253\",\"attributes\":{\"indices\":[],\"line_indices\":[]}},\"selection_policy\":{\"type\":\"object\",\"name\":\"UnionRenderers\",\"id\":\"a6644e4a-566c-49a4-a4a3-158bea42189f\"},\"data\":{\"type\":\"map\",\"entries\":[[\"num_params\",{\"type\":\"ndarray\",\"array\":{\"type\":\"bytes\",\"data\":\"AAAAAGAD/kAAAAAAsDEPQQAAAADYsBdBAAAAAGwCKkEAAAAANhY0QQ==\"},\"shape\":[5],\"dtype\":\"float64\",\"order\":\"little\"}],[\"test_skill\",{\"type\":\"ndarray\",\"array\":{\"type\":\"bytes\",\"data\":\"AQAAIIbH5z/+//9/C+TpP/r//1+4a+o/+v//P/eQ6j/5////3JfqPw==\"},\"shape\":[5],\"dtype\":\"float64\",\"order\":\"little\"}],[\"hidden_size\",[256.0,256.0,256.0,256.0,256.0]]]}}},\"view\":{\"type\":\"object\",\"name\":\"CDSView\",\"id\":\"80d2a904-2fdb-4342-9999-ef58ccc863aa\",\"attributes\":{\"filter\":{\"type\":\"object\",\"name\":\"AllIndices\",\"id\":\"f488de0a-0867-46f0-aca5-65de71ed202c\"}}},\"glyph\":{\"type\":\"object\",\"name\":\"Line\",\"id\":\"526d4b1c-aacb-4157-9125-f24775fdede1\",\"attributes\":{\"tags\":[\"apply_ranges\"],\"x\":{\"type\":\"field\",\"field\":\"num_params\"},\"y\":{\"type\":\"field\",\"field\":\"test_skill\"},\"line_color\":\"#fc4f30\",\"line_width\":0.5}},\"selection_glyph\":{\"type\":\"object\",\"name\":\"Line\",\"id\":\"00677d32-ea42-4a81-9eea-81b22f4b9287\",\"attributes\":{\"tags\":[\"apply_ranges\"],\"x\":{\"type\":\"field\",\"field\":\"num_params\"},\"y\":{\"type\":\"field\",\"field\":\"test_skill\"},\"line_color\":\"#fc4f30\",\"line_width\":0.5}},\"nonselection_glyph\":{\"type\":\"object\",\"name\":\"Line\",\"id\":\"1ef5ad3d-d416-44b7-98ef-d2f898705d61\",\"attributes\":{\"tags\":[\"apply_ranges\"],\"x\":{\"type\":\"field\",\"field\":\"num_params\"},\"y\":{\"type\":\"field\",\"field\":\"test_skill\"},\"line_color\":\"#fc4f30\",\"line_alpha\":0.1,\"line_width\":0.5}},\"muted_glyph\":{\"type\":\"object\",\"name\":\"Line\",\"id\":\"38e55385-f8ea-48e3-98f6-48043b243f5e\",\"attributes\":{\"tags\":[\"apply_ranges\"],\"x\":{\"type\":\"field\",\"field\":\"num_params\"},\"y\":{\"type\":\"field\",\"field\":\"test_skill\"},\"line_color\":\"#fc4f30\",\"line_alpha\":0.2,\"line_width\":0.5}}}},{\"type\":\"object\",\"name\":\"GlyphRenderer\",\"id\":\"36121594-1d4e-464c-ac15-2f668ac79877\",\"attributes\":{\"name\":\"512\",\"data_source\":{\"type\":\"object\",\"name\":\"ColumnDataSource\",\"id\":\"af29d198-c945-40c5-8af0-4f4a660758ac\",\"attributes\":{\"selected\":{\"type\":\"object\",\"name\":\"Selection\",\"id\":\"8b2ff8a2-5009-46dd-a979-8059f7a44930\",\"attributes\":{\"indices\":[],\"line_indices\":[]}},\"selection_policy\":{\"type\":\"object\",\"name\":\"UnionRenderers\",\"id\":\"3577edf7-fdf9-4d90-92fc-4df47665665c\"},\"data\":{\"type\":\"map\",\"entries\":[[\"num_params\",{\"type\":\"ndarray\",\"array\":{\"type\":\"bytes\",\"data\":\"AAAAANgAF0EAAAAAbJgrQQAAAAA22DVBAAAAABsBSUEAAACADYtTQQ==\"},\"shape\":[5],\"dtype\":\"float64\",\"order\":\"little\"}],[\"test_skill\",{\"type\":\"ndarray\",\"array\":{\"type\":\"bytes\",\"data\":\"+v//n/+t6D/4//+/GsfqPwEAAEDRNus//f//Pxif6z/9//+/sIXrPw==\"},\"shape\":[5],\"dtype\":\"float64\",\"order\":\"little\"}],[\"hidden_size\",[512.0,512.0,512.0,512.0,512.0]]]}}},\"view\":{\"type\":\"object\",\"name\":\"CDSView\",\"id\":\"8326b50c-9f6e-4bdc-8c5f-800efad47b3b\",\"attributes\":{\"filter\":{\"type\":\"object\",\"name\":\"AllIndices\",\"id\":\"6eca2bb0-9523-473b-b79e-0dee4f62cc9e\"}}},\"glyph\":{\"type\":\"object\",\"name\":\"Line\",\"id\":\"b5ce0ae2-414f-4cd1-b74f-c468c30be8ef\",\"attributes\":{\"tags\":[\"apply_ranges\"],\"x\":{\"type\":\"field\",\"field\":\"num_params\"},\"y\":{\"type\":\"field\",\"field\":\"test_skill\"},\"line_color\":\"#e5ae38\",\"line_width\":0.5}},\"selection_glyph\":{\"type\":\"object\",\"name\":\"Line\",\"id\":\"77707f24-8391-402a-9ee1-106dbb2fa34c\",\"attributes\":{\"tags\":[\"apply_ranges\"],\"x\":{\"type\":\"field\",\"field\":\"num_params\"},\"y\":{\"type\":\"field\",\"field\":\"test_skill\"},\"line_color\":\"#e5ae38\",\"line_width\":0.5}},\"nonselection_glyph\":{\"type\":\"object\",\"name\":\"Line\",\"id\":\"d794ae81-ba6f-4bd5-a443-df83ef81ad49\",\"attributes\":{\"tags\":[\"apply_ranges\"],\"x\":{\"type\":\"field\",\"field\":\"num_params\"},\"y\":{\"type\":\"field\",\"field\":\"test_skill\"},\"line_color\":\"#e5ae38\",\"line_alpha\":0.1,\"line_width\":0.5}},\"muted_glyph\":{\"type\":\"object\",\"name\":\"Line\",\"id\":\"740bb247-becc-4ea0-afd6-47f1a2542a62\",\"attributes\":{\"tags\":[\"apply_ranges\"],\"x\":{\"type\":\"field\",\"field\":\"num_params\"},\"y\":{\"type\":\"field\",\"field\":\"test_skill\"},\"line_color\":\"#e5ae38\",\"line_alpha\":0.2,\"line_width\":0.5}}}},{\"type\":\"object\",\"name\":\"GlyphRenderer\",\"id\":\"930acd3b-800d-4bf0-a009-a05228a33871\",\"attributes\":{\"name\":\"1024\",\"data_source\":{\"type\":\"object\",\"name\":\"ColumnDataSource\",\"id\":\"0b254158-f263-432c-a0f6-c3b7e98b8f8c\",\"attributes\":{\"selected\":{\"type\":\"object\",\"name\":\"Selection\",\"id\":\"ddab2988-a371-45b0-81a7-d1149c609b0d\",\"attributes\":{\"indices\":[],\"line_indices\":[]}},\"selection_policy\":{\"type\":\"object\",\"name\":\"UnionRenderers\",\"id\":\"21c07639-22bf-4300-b5bb-f0b4c2a4abf3\"},\"data\":{\"type\":\"map\",\"entries\":[[\"num_params\",{\"type\":\"ndarray\",\"array\":{\"type\":\"bytes\",\"data\":\"AAAAADaAM0EAAAAAG8xJQQAAAIAN7FRBAAAAwIaAaEEAAABgg0VzQQ==\"},\"shape\":[5],\"dtype\":\"float64\",\"order\":\"little\"}],[\"test_skill\",{\"type\":\"ndarray\",\"array\":{\"type\":\"bytes\",\"data\":\"+f///xJM6T/6//9/fnfrP/v//3905Os/+///n+H46z/4////puXrPw==\"},\"shape\":[5],\"dtype\":\"float64\",\"order\":\"little\"}],[\"hidden_size\",[1024.0,1024.0,1024.0,1024.0,1024.0]]]}}},\"view\":{\"type\":\"object\",\"name\":\"CDSView\",\"id\":\"d8ab9f80-b233-441d-a4f5-133bb20b81c3\",\"attributes\":{\"filter\":{\"type\":\"object\",\"name\":\"AllIndices\",\"id\":\"8d0694d0-b282-41fc-9527-ca983a6eb0ab\"}}},\"glyph\":{\"type\":\"object\",\"name\":\"Line\",\"id\":\"3c8a0f70-c1d1-41ce-b09b-5776d662d884\",\"attributes\":{\"tags\":[\"apply_ranges\"],\"x\":{\"type\":\"field\",\"field\":\"num_params\"},\"y\":{\"type\":\"field\",\"field\":\"test_skill\"},\"line_color\":\"#6d904f\",\"line_width\":0.5}},\"selection_glyph\":{\"type\":\"object\",\"name\":\"Line\",\"id\":\"635464f4-b6cd-4286-92a4-7cd79c5782d3\",\"attributes\":{\"tags\":[\"apply_ranges\"],\"x\":{\"type\":\"field\",\"field\":\"num_params\"},\"y\":{\"type\":\"field\",\"field\":\"test_skill\"},\"line_color\":\"#6d904f\",\"line_width\":0.5}},\"nonselection_glyph\":{\"type\":\"object\",\"name\":\"Line\",\"id\":\"358dcfe2-e8b7-4a26-9942-4ed1de961742\",\"attributes\":{\"tags\":[\"apply_ranges\"],\"x\":{\"type\":\"field\",\"field\":\"num_params\"},\"y\":{\"type\":\"field\",\"field\":\"test_skill\"},\"line_color\":\"#6d904f\",\"line_alpha\":0.1,\"line_width\":0.5}},\"muted_glyph\":{\"type\":\"object\",\"name\":\"Line\",\"id\":\"81c9d43b-195b-4f66-accb-3f1e5d5d79c5\",\"attributes\":{\"tags\":[\"apply_ranges\"],\"x\":{\"type\":\"field\",\"field\":\"num_params\"},\"y\":{\"type\":\"field\",\"field\":\"test_skill\"},\"line_color\":\"#6d904f\",\"line_alpha\":0.2,\"line_width\":0.5}}}},{\"type\":\"object\",\"name\":\"GlyphRenderer\",\"id\":\"9ded3a8d-e35c-4e27-9399-80ffbbceda31\",\"attributes\":{\"name\":\"2048\",\"data_source\":{\"type\":\"object\",\"name\":\"ColumnDataSource\",\"id\":\"e930addc-1220-474d-ab9b-ed3501d725b7\",\"attributes\":{\"selected\":{\"type\":\"object\",\"name\":\"Selection\",\"id\":\"b5165c89-e091-4651-aacd-2e28f3794554\",\"attributes\":{\"indices\":[],\"line_indices\":[]}},\"selection_policy\":{\"type\":\"object\",\"name\":\"UnionRenderers\",\"id\":\"ce98b36e-18c4-461a-87d2-a9cfaee59824\"},\"data\":{\"type\":\"map\",\"entries\":[[\"num_params\",{\"type\":\"ndarray\",\"array\":{\"type\":\"bytes\",\"data\":\"AAAAgA3AUUEAAADABuZoQQAAAGADdnRBAAAAsEFAiEEAAADYwCKTQQ==\"},\"shape\":[5],\"dtype\":\"float64\",\"order\":\"little\"}],[\"test_skill\",{\"type\":\"ndarray\",\"array\":{\"type\":\"bytes\",\"data\":\"+///v3Fu6j8AAACgN9PrP/v//18k9+s/AQAA4G/66z/6////efDrPw==\"},\"shape\":[5],\"dtype\":\"float64\",\"order\":\"little\"}],[\"hidden_size\",[2048.0,2048.0,2048.0,2048.0,2048.0]]]}}},\"view\":{\"type\":\"object\",\"name\":\"CDSView\",\"id\":\"b06c8359-7fe1-4c5d-93b3-e0fb8f6d37b4\",\"attributes\":{\"filter\":{\"type\":\"object\",\"name\":\"AllIndices\",\"id\":\"810d0a94-b185-4d96-bfc5-fcd63e0ee6c7\"}}},\"glyph\":{\"type\":\"object\",\"name\":\"Line\",\"id\":\"bc02f004-e704-412c-b988-2f31187adffc\",\"attributes\":{\"tags\":[\"apply_ranges\"],\"x\":{\"type\":\"field\",\"field\":\"num_params\"},\"y\":{\"type\":\"field\",\"field\":\"test_skill\"},\"line_color\":\"#8b8b8b\",\"line_width\":0.5}},\"selection_glyph\":{\"type\":\"object\",\"name\":\"Line\",\"id\":\"f42d9311-acaf-4d41-aaa2-d16fedc8f07a\",\"attributes\":{\"tags\":[\"apply_ranges\"],\"x\":{\"type\":\"field\",\"field\":\"num_params\"},\"y\":{\"type\":\"field\",\"field\":\"test_skill\"},\"line_color\":\"#8b8b8b\",\"line_width\":0.5}},\"nonselection_glyph\":{\"type\":\"object\",\"name\":\"Line\",\"id\":\"f2e8ba52-c332-4233-997a-b644e0cf6938\",\"attributes\":{\"tags\":[\"apply_ranges\"],\"x\":{\"type\":\"field\",\"field\":\"num_params\"},\"y\":{\"type\":\"field\",\"field\":\"test_skill\"},\"line_color\":\"#8b8b8b\",\"line_alpha\":0.1,\"line_width\":0.5}},\"muted_glyph\":{\"type\":\"object\",\"name\":\"Line\",\"id\":\"e744d0c2-f50f-4ed3-808a-da42cf51b13a\",\"attributes\":{\"tags\":[\"apply_ranges\"],\"x\":{\"type\":\"field\",\"field\":\"num_params\"},\"y\":{\"type\":\"field\",\"field\":\"test_skill\"},\"line_color\":\"#8b8b8b\",\"line_alpha\":0.2,\"line_width\":0.5}}}},{\"type\":\"object\",\"name\":\"GlyphRenderer\",\"id\":\"fba45601-9122-4ed6-9714-02ae47e5cf21\",\"attributes\":{\"name\":\"128\",\"data_source\":{\"type\":\"object\",\"name\":\"ColumnDataSource\",\"id\":\"1a240357-08b7-4bee-a03d-a9cbeb45f952\",\"attributes\":{\"selected\":{\"type\":\"object\",\"name\":\"Selection\",\"id\":\"1c2175d2-9c9e-4a92-afa6-95a7f822e93a\",\"attributes\":{\"indices\":[],\"line_indices\":[]}},\"selection_policy\":{\"type\":\"object\",\"name\":\"UnionRenderers\",\"id\":\"3703fe33-c499-45f9-9a3e-19a814a32f9c\"},\"data\":{\"type\":\"map\",\"entries\":[[\"num_params\",{\"type\":\"ndarray\",\"array\":{\"type\":\"bytes\",\"data\":\"AAAAAMAG5kAAAAAAYDPzQAAAAABgY/tAAAAAALAFDEEAAAAA2CwVQQ==\"},\"shape\":[5],\"dtype\":\"float64\",\"order\":\"little\"}],[\"test_skill\",{\"type\":\"ndarray\",\"array\":{\"type\":\"bytes\",\"data\":\"+f//n3uU5j/8//9/kafoP/7//x/lJOk/AAAAYGFA6T/+//8/uiHpPw==\"},\"shape\":[5],\"dtype\":\"float64\",\"order\":\"little\"}],[\"hidden_size\",[128.0,128.0,128.0,128.0,128.0]]]}}},\"view\":{\"type\":\"object\",\"name\":\"CDSView\",\"id\":\"d37b4a34-0102-407e-a097-cb1ffa33a252\",\"attributes\":{\"filter\":{\"type\":\"object\",\"name\":\"AllIndices\",\"id\":\"81818278-cd39-4bbb-b5d0-fe9e21f1167d\"}}},\"glyph\":{\"type\":\"object\",\"name\":\"Scatter\",\"id\":\"1919f537-d7ca-4b55-a031-91aba2abd4aa\",\"attributes\":{\"tags\":[\"apply_ranges\"],\"x\":{\"type\":\"field\",\"field\":\"num_params\"},\"y\":{\"type\":\"field\",\"field\":\"test_skill\"},\"size\":{\"type\":\"value\",\"value\":5.477225575051661},\"line_color\":{\"type\":\"value\",\"value\":\"#30a2da\"},\"fill_color\":{\"type\":\"value\",\"value\":\"#30a2da\"},\"hatch_color\":{\"type\":\"value\",\"value\":\"#30a2da\"}}},\"selection_glyph\":{\"type\":\"object\",\"name\":\"Scatter\",\"id\":\"99032438-8a2b-47a5-9d45-f19e9db6a4e5\",\"attributes\":{\"tags\":[\"apply_ranges\"],\"x\":{\"type\":\"field\",\"field\":\"num_params\"},\"y\":{\"type\":\"field\",\"field\":\"test_skill\"},\"size\":{\"type\":\"value\",\"value\":5.477225575051661},\"angle\":{\"type\":\"value\",\"value\":0.0},\"line_color\":{\"type\":\"value\",\"value\":\"#30a2da\"},\"line_alpha\":{\"type\":\"value\",\"value\":1.0},\"line_width\":{\"type\":\"value\",\"value\":1},\"line_join\":{\"type\":\"value\",\"value\":\"bevel\"},\"line_cap\":{\"type\":\"value\",\"value\":\"butt\"},\"line_dash\":{\"type\":\"value\",\"value\":[]},\"line_dash_offset\":{\"type\":\"value\",\"value\":0},\"fill_color\":{\"type\":\"value\",\"value\":\"#30a2da\"},\"fill_alpha\":{\"type\":\"value\",\"value\":1.0},\"hatch_color\":{\"type\":\"value\",\"value\":\"#30a2da\"},\"hatch_alpha\":{\"type\":\"value\",\"value\":1.0},\"hatch_scale\":{\"type\":\"value\",\"value\":12.0},\"hatch_pattern\":{\"type\":\"value\",\"value\":null},\"hatch_weight\":{\"type\":\"value\",\"value\":1.0},\"marker\":{\"type\":\"value\",\"value\":\"circle\"}}},\"nonselection_glyph\":{\"type\":\"object\",\"name\":\"Scatter\",\"id\":\"87ddcdb0-8497-4ee9-b852-06cc0f0fb1ca\",\"attributes\":{\"tags\":[\"apply_ranges\"],\"x\":{\"type\":\"field\",\"field\":\"num_params\"},\"y\":{\"type\":\"field\",\"field\":\"test_skill\"},\"size\":{\"type\":\"value\",\"value\":5.477225575051661},\"line_color\":{\"type\":\"value\",\"value\":\"#30a2da\"},\"line_alpha\":{\"type\":\"value\",\"value\":0.1},\"fill_color\":{\"type\":\"value\",\"value\":\"#30a2da\"},\"fill_alpha\":{\"type\":\"value\",\"value\":0.1},\"hatch_color\":{\"type\":\"value\",\"value\":\"#30a2da\"},\"hatch_alpha\":{\"type\":\"value\",\"value\":0.1}}},\"muted_glyph\":{\"type\":\"object\",\"name\":\"Scatter\",\"id\":\"51af8f40-8cd1-44ad-84e2-445c3e0e696d\",\"attributes\":{\"tags\":[\"apply_ranges\"],\"x\":{\"type\":\"field\",\"field\":\"num_params\"},\"y\":{\"type\":\"field\",\"field\":\"test_skill\"},\"size\":{\"type\":\"value\",\"value\":5.477225575051661},\"line_color\":{\"type\":\"value\",\"value\":\"#30a2da\"},\"line_alpha\":{\"type\":\"value\",\"value\":0.2},\"fill_color\":{\"type\":\"value\",\"value\":\"#30a2da\"},\"fill_alpha\":{\"type\":\"value\",\"value\":0.2},\"hatch_color\":{\"type\":\"value\",\"value\":\"#30a2da\"},\"hatch_alpha\":{\"type\":\"value\",\"value\":0.2}}}}},{\"type\":\"object\",\"name\":\"GlyphRenderer\",\"id\":\"15290ab1-1fc3-48ca-b738-2d7e83bb92e1\",\"attributes\":{\"name\":\"256\",\"data_source\":{\"type\":\"object\",\"name\":\"ColumnDataSource\",\"id\":\"413564a8-1857-4d50-89fc-fe3c568ae41e\",\"attributes\":{\"selected\":{\"type\":\"object\",\"name\":\"Selection\",\"id\":\"d44a4634-1344-4eaa-a89a-70f5cba109c8\",\"attributes\":{\"indices\":[],\"line_indices\":[]}},\"selection_policy\":{\"type\":\"object\",\"name\":\"UnionRenderers\",\"id\":\"712fcddd-6369-4502-9f3e-5ef22090098c\"},\"data\":{\"type\":\"map\",\"entries\":[[\"num_params\",{\"type\":\"ndarray\",\"array\":{\"type\":\"bytes\",\"data\":\"AAAAAGAD/kAAAAAAsDEPQQAAAADYsBdBAAAAAGwCKkEAAAAANhY0QQ==\"},\"shape\":[5],\"dtype\":\"float64\",\"order\":\"little\"}],[\"test_skill\",{\"type\":\"ndarray\",\"array\":{\"type\":\"bytes\",\"data\":\"AQAAIIbH5z/+//9/C+TpP/r//1+4a+o/+v//P/eQ6j/5////3JfqPw==\"},\"shape\":[5],\"dtype\":\"float64\",\"order\":\"little\"}],[\"hidden_size\",[256.0,256.0,256.0,256.0,256.0]]]}}},\"view\":{\"type\":\"object\",\"name\":\"CDSView\",\"id\":\"d4b8b2ec-7334-4d20-81fe-341004e5d3b7\",\"attributes\":{\"filter\":{\"type\":\"object\",\"name\":\"AllIndices\",\"id\":\"2d53eaf7-2f06-4480-a3c1-15cf869a0f63\"}}},\"glyph\":{\"type\":\"object\",\"name\":\"Scatter\",\"id\":\"20c9cc1a-abd2-4027-859e-0918e0db0b81\",\"attributes\":{\"tags\":[\"apply_ranges\"],\"x\":{\"type\":\"field\",\"field\":\"num_params\"},\"y\":{\"type\":\"field\",\"field\":\"test_skill\"},\"size\":{\"type\":\"value\",\"value\":5.477225575051661},\"line_color\":{\"type\":\"value\",\"value\":\"#fc4f30\"},\"fill_color\":{\"type\":\"value\",\"value\":\"#fc4f30\"},\"hatch_color\":{\"type\":\"value\",\"value\":\"#fc4f30\"}}},\"selection_glyph\":{\"type\":\"object\",\"name\":\"Scatter\",\"id\":\"0ce91a03-06fa-432e-b8e8-20ac717b540d\",\"attributes\":{\"tags\":[\"apply_ranges\"],\"x\":{\"type\":\"field\",\"field\":\"num_params\"},\"y\":{\"type\":\"field\",\"field\":\"test_skill\"},\"size\":{\"type\":\"value\",\"value\":5.477225575051661},\"angle\":{\"type\":\"value\",\"value\":0.0},\"line_color\":{\"type\":\"value\",\"value\":\"#fc4f30\"},\"line_alpha\":{\"type\":\"value\",\"value\":1.0},\"line_width\":{\"type\":\"value\",\"value\":1},\"line_join\":{\"type\":\"value\",\"value\":\"bevel\"},\"line_cap\":{\"type\":\"value\",\"value\":\"butt\"},\"line_dash\":{\"type\":\"value\",\"value\":[]},\"line_dash_offset\":{\"type\":\"value\",\"value\":0},\"fill_color\":{\"type\":\"value\",\"value\":\"#fc4f30\"},\"fill_alpha\":{\"type\":\"value\",\"value\":1.0},\"hatch_color\":{\"type\":\"value\",\"value\":\"#fc4f30\"},\"hatch_alpha\":{\"type\":\"value\",\"value\":1.0},\"hatch_scale\":{\"type\":\"value\",\"value\":12.0},\"hatch_pattern\":{\"type\":\"value\",\"value\":null},\"hatch_weight\":{\"type\":\"value\",\"value\":1.0},\"marker\":{\"type\":\"value\",\"value\":\"circle\"}}},\"nonselection_glyph\":{\"type\":\"object\",\"name\":\"Scatter\",\"id\":\"e9250f3d-5730-4677-8de9-5275b220a54f\",\"attributes\":{\"tags\":[\"apply_ranges\"],\"x\":{\"type\":\"field\",\"field\":\"num_params\"},\"y\":{\"type\":\"field\",\"field\":\"test_skill\"},\"size\":{\"type\":\"value\",\"value\":5.477225575051661},\"line_color\":{\"type\":\"value\",\"value\":\"#fc4f30\"},\"line_alpha\":{\"type\":\"value\",\"value\":0.1},\"fill_color\":{\"type\":\"value\",\"value\":\"#fc4f30\"},\"fill_alpha\":{\"type\":\"value\",\"value\":0.1},\"hatch_color\":{\"type\":\"value\",\"value\":\"#fc4f30\"},\"hatch_alpha\":{\"type\":\"value\",\"value\":0.1}}},\"muted_glyph\":{\"type\":\"object\",\"name\":\"Scatter\",\"id\":\"d3fac8e4-c803-48b3-9e3d-5e1699330db4\",\"attributes\":{\"tags\":[\"apply_ranges\"],\"x\":{\"type\":\"field\",\"field\":\"num_params\"},\"y\":{\"type\":\"field\",\"field\":\"test_skill\"},\"size\":{\"type\":\"value\",\"value\":5.477225575051661},\"line_color\":{\"type\":\"value\",\"value\":\"#fc4f30\"},\"line_alpha\":{\"type\":\"value\",\"value\":0.2},\"fill_color\":{\"type\":\"value\",\"value\":\"#fc4f30\"},\"fill_alpha\":{\"type\":\"value\",\"value\":0.2},\"hatch_color\":{\"type\":\"value\",\"value\":\"#fc4f30\"},\"hatch_alpha\":{\"type\":\"value\",\"value\":0.2}}}}},{\"type\":\"object\",\"name\":\"GlyphRenderer\",\"id\":\"b5246edf-0b7c-42a9-852b-d2c7b6aac09a\",\"attributes\":{\"name\":\"512\",\"data_source\":{\"type\":\"object\",\"name\":\"ColumnDataSource\",\"id\":\"f613a85f-baa7-41c5-a2cc-3ae55578a422\",\"attributes\":{\"selected\":{\"type\":\"object\",\"name\":\"Selection\",\"id\":\"d12f9b77-3847-4f55-8989-01fe8956bb17\",\"attributes\":{\"indices\":[],\"line_indices\":[]}},\"selection_policy\":{\"type\":\"object\",\"name\":\"UnionRenderers\",\"id\":\"9b6a7a3e-5982-467d-81b9-5e57e89c0624\"},\"data\":{\"type\":\"map\",\"entries\":[[\"num_params\",{\"type\":\"ndarray\",\"array\":{\"type\":\"bytes\",\"data\":\"AAAAANgAF0EAAAAAbJgrQQAAAAA22DVBAAAAABsBSUEAAACADYtTQQ==\"},\"shape\":[5],\"dtype\":\"float64\",\"order\":\"little\"}],[\"test_skill\",{\"type\":\"ndarray\",\"array\":{\"type\":\"bytes\",\"data\":\"+v//n/+t6D/4//+/GsfqPwEAAEDRNus//f//Pxif6z/9//+/sIXrPw==\"},\"shape\":[5],\"dtype\":\"float64\",\"order\":\"little\"}],[\"hidden_size\",[512.0,512.0,512.0,512.0,512.0]]]}}},\"view\":{\"type\":\"object\",\"name\":\"CDSView\",\"id\":\"1d37bb42-2cd9-4b4a-8816-9a7c91ea08b3\",\"attributes\":{\"filter\":{\"type\":\"object\",\"name\":\"AllIndices\",\"id\":\"15c3d9a3-8a6e-41c5-979a-68119b45ca87\"}}},\"glyph\":{\"type\":\"object\",\"name\":\"Scatter\",\"id\":\"507350f7-a983-4bf2-b8c8-845195e617c9\",\"attributes\":{\"tags\":[\"apply_ranges\"],\"x\":{\"type\":\"field\",\"field\":\"num_params\"},\"y\":{\"type\":\"field\",\"field\":\"test_skill\"},\"size\":{\"type\":\"value\",\"value\":5.477225575051661},\"line_color\":{\"type\":\"value\",\"value\":\"#e5ae38\"},\"fill_color\":{\"type\":\"value\",\"value\":\"#e5ae38\"},\"hatch_color\":{\"type\":\"value\",\"value\":\"#e5ae38\"}}},\"selection_glyph\":{\"type\":\"object\",\"name\":\"Scatter\",\"id\":\"f9f56201-0db2-4020-af83-8ff4f3c0f22d\",\"attributes\":{\"tags\":[\"apply_ranges\"],\"x\":{\"type\":\"field\",\"field\":\"num_params\"},\"y\":{\"type\":\"field\",\"field\":\"test_skill\"},\"size\":{\"type\":\"value\",\"value\":5.477225575051661},\"angle\":{\"type\":\"value\",\"value\":0.0},\"line_color\":{\"type\":\"value\",\"value\":\"#e5ae38\"},\"line_alpha\":{\"type\":\"value\",\"value\":1.0},\"line_width\":{\"type\":\"value\",\"value\":1},\"line_join\":{\"type\":\"value\",\"value\":\"bevel\"},\"line_cap\":{\"type\":\"value\",\"value\":\"butt\"},\"line_dash\":{\"type\":\"value\",\"value\":[]},\"line_dash_offset\":{\"type\":\"value\",\"value\":0},\"fill_color\":{\"type\":\"value\",\"value\":\"#e5ae38\"},\"fill_alpha\":{\"type\":\"value\",\"value\":1.0},\"hatch_color\":{\"type\":\"value\",\"value\":\"#e5ae38\"},\"hatch_alpha\":{\"type\":\"value\",\"value\":1.0},\"hatch_scale\":{\"type\":\"value\",\"value\":12.0},\"hatch_pattern\":{\"type\":\"value\",\"value\":null},\"hatch_weight\":{\"type\":\"value\",\"value\":1.0},\"marker\":{\"type\":\"value\",\"value\":\"circle\"}}},\"nonselection_glyph\":{\"type\":\"object\",\"name\":\"Scatter\",\"id\":\"9df24f9c-fd46-424b-8f13-ea7d6f48e2cf\",\"attributes\":{\"tags\":[\"apply_ranges\"],\"x\":{\"type\":\"field\",\"field\":\"num_params\"},\"y\":{\"type\":\"field\",\"field\":\"test_skill\"},\"size\":{\"type\":\"value\",\"value\":5.477225575051661},\"line_color\":{\"type\":\"value\",\"value\":\"#e5ae38\"},\"line_alpha\":{\"type\":\"value\",\"value\":0.1},\"fill_color\":{\"type\":\"value\",\"value\":\"#e5ae38\"},\"fill_alpha\":{\"type\":\"value\",\"value\":0.1},\"hatch_color\":{\"type\":\"value\",\"value\":\"#e5ae38\"},\"hatch_alpha\":{\"type\":\"value\",\"value\":0.1}}},\"muted_glyph\":{\"type\":\"object\",\"name\":\"Scatter\",\"id\":\"2635472f-ccfb-4630-82db-bda50457ff0d\",\"attributes\":{\"tags\":[\"apply_ranges\"],\"x\":{\"type\":\"field\",\"field\":\"num_params\"},\"y\":{\"type\":\"field\",\"field\":\"test_skill\"},\"size\":{\"type\":\"value\",\"value\":5.477225575051661},\"line_color\":{\"type\":\"value\",\"value\":\"#e5ae38\"},\"line_alpha\":{\"type\":\"value\",\"value\":0.2},\"fill_color\":{\"type\":\"value\",\"value\":\"#e5ae38\"},\"fill_alpha\":{\"type\":\"value\",\"value\":0.2},\"hatch_color\":{\"type\":\"value\",\"value\":\"#e5ae38\"},\"hatch_alpha\":{\"type\":\"value\",\"value\":0.2}}}}},{\"type\":\"object\",\"name\":\"GlyphRenderer\",\"id\":\"bff938c1-b51f-454f-90c3-73560b5c9d69\",\"attributes\":{\"name\":\"1024\",\"data_source\":{\"type\":\"object\",\"name\":\"ColumnDataSource\",\"id\":\"0f2dc3df-9f55-4958-b66e-b22ff4bf5c3a\",\"attributes\":{\"selected\":{\"type\":\"object\",\"name\":\"Selection\",\"id\":\"61f818ac-0e26-4069-992b-78bcbc905b0b\",\"attributes\":{\"indices\":[],\"line_indices\":[]}},\"selection_policy\":{\"type\":\"object\",\"name\":\"UnionRenderers\",\"id\":\"9f1621fb-0771-47f4-aece-1274f8c201d4\"},\"data\":{\"type\":\"map\",\"entries\":[[\"num_params\",{\"type\":\"ndarray\",\"array\":{\"type\":\"bytes\",\"data\":\"AAAAADaAM0EAAAAAG8xJQQAAAIAN7FRBAAAAwIaAaEEAAABgg0VzQQ==\"},\"shape\":[5],\"dtype\":\"float64\",\"order\":\"little\"}],[\"test_skill\",{\"type\":\"ndarray\",\"array\":{\"type\":\"bytes\",\"data\":\"+f///xJM6T/6//9/fnfrP/v//3905Os/+///n+H46z/4////puXrPw==\"},\"shape\":[5],\"dtype\":\"float64\",\"order\":\"little\"}],[\"hidden_size\",[1024.0,1024.0,1024.0,1024.0,1024.0]]]}}},\"view\":{\"type\":\"object\",\"name\":\"CDSView\",\"id\":\"ccc17c38-7d33-42d8-87cd-7c3e47a3cc78\",\"attributes\":{\"filter\":{\"type\":\"object\",\"name\":\"AllIndices\",\"id\":\"566f8b33-56e7-4554-acc6-3958856a9056\"}}},\"glyph\":{\"type\":\"object\",\"name\":\"Scatter\",\"id\":\"ff8c5d50-1ddb-4116-a37b-93d39654fbd0\",\"attributes\":{\"tags\":[\"apply_ranges\"],\"x\":{\"type\":\"field\",\"field\":\"num_params\"},\"y\":{\"type\":\"field\",\"field\":\"test_skill\"},\"size\":{\"type\":\"value\",\"value\":5.477225575051661},\"line_color\":{\"type\":\"value\",\"value\":\"#6d904f\"},\"fill_color\":{\"type\":\"value\",\"value\":\"#6d904f\"},\"hatch_color\":{\"type\":\"value\",\"value\":\"#6d904f\"}}},\"selection_glyph\":{\"type\":\"object\",\"name\":\"Scatter\",\"id\":\"3ff76893-60be-44f5-8c6d-86bf0d45fc23\",\"attributes\":{\"tags\":[\"apply_ranges\"],\"x\":{\"type\":\"field\",\"field\":\"num_params\"},\"y\":{\"type\":\"field\",\"field\":\"test_skill\"},\"size\":{\"type\":\"value\",\"value\":5.477225575051661},\"angle\":{\"type\":\"value\",\"value\":0.0},\"line_color\":{\"type\":\"value\",\"value\":\"#6d904f\"},\"line_alpha\":{\"type\":\"value\",\"value\":1.0},\"line_width\":{\"type\":\"value\",\"value\":1},\"line_join\":{\"type\":\"value\",\"value\":\"bevel\"},\"line_cap\":{\"type\":\"value\",\"value\":\"butt\"},\"line_dash\":{\"type\":\"value\",\"value\":[]},\"line_dash_offset\":{\"type\":\"value\",\"value\":0},\"fill_color\":{\"type\":\"value\",\"value\":\"#6d904f\"},\"fill_alpha\":{\"type\":\"value\",\"value\":1.0},\"hatch_color\":{\"type\":\"value\",\"value\":\"#6d904f\"},\"hatch_alpha\":{\"type\":\"value\",\"value\":1.0},\"hatch_scale\":{\"type\":\"value\",\"value\":12.0},\"hatch_pattern\":{\"type\":\"value\",\"value\":null},\"hatch_weight\":{\"type\":\"value\",\"value\":1.0},\"marker\":{\"type\":\"value\",\"value\":\"circle\"}}},\"nonselection_glyph\":{\"type\":\"object\",\"name\":\"Scatter\",\"id\":\"25aea1fd-3a6c-4cde-8986-64d42fdfd731\",\"attributes\":{\"tags\":[\"apply_ranges\"],\"x\":{\"type\":\"field\",\"field\":\"num_params\"},\"y\":{\"type\":\"field\",\"field\":\"test_skill\"},\"size\":{\"type\":\"value\",\"value\":5.477225575051661},\"line_color\":{\"type\":\"value\",\"value\":\"#6d904f\"},\"line_alpha\":{\"type\":\"value\",\"value\":0.1},\"fill_color\":{\"type\":\"value\",\"value\":\"#6d904f\"},\"fill_alpha\":{\"type\":\"value\",\"value\":0.1},\"hatch_color\":{\"type\":\"value\",\"value\":\"#6d904f\"},\"hatch_alpha\":{\"type\":\"value\",\"value\":0.1}}},\"muted_glyph\":{\"type\":\"object\",\"name\":\"Scatter\",\"id\":\"16500dd8-5f6d-4760-a283-a6fcae88e3ba\",\"attributes\":{\"tags\":[\"apply_ranges\"],\"x\":{\"type\":\"field\",\"field\":\"num_params\"},\"y\":{\"type\":\"field\",\"field\":\"test_skill\"},\"size\":{\"type\":\"value\",\"value\":5.477225575051661},\"line_color\":{\"type\":\"value\",\"value\":\"#6d904f\"},\"line_alpha\":{\"type\":\"value\",\"value\":0.2},\"fill_color\":{\"type\":\"value\",\"value\":\"#6d904f\"},\"fill_alpha\":{\"type\":\"value\",\"value\":0.2},\"hatch_color\":{\"type\":\"value\",\"value\":\"#6d904f\"},\"hatch_alpha\":{\"type\":\"value\",\"value\":0.2}}}}},{\"type\":\"object\",\"name\":\"GlyphRenderer\",\"id\":\"75414cb3-a379-49ae-8fd2-18df4f206c56\",\"attributes\":{\"name\":\"2048\",\"data_source\":{\"type\":\"object\",\"name\":\"ColumnDataSource\",\"id\":\"bc78f4c5-9006-4026-bf65-75fda570a29f\",\"attributes\":{\"selected\":{\"type\":\"object\",\"name\":\"Selection\",\"id\":\"4aaa5805-bd29-4992-acd6-a562c8bf044d\",\"attributes\":{\"indices\":[],\"line_indices\":[]}},\"selection_policy\":{\"type\":\"object\",\"name\":\"UnionRenderers\",\"id\":\"e7fd1563-7b73-4281-89d7-3dc3ff4b7d34\"},\"data\":{\"type\":\"map\",\"entries\":[[\"num_params\",{\"type\":\"ndarray\",\"array\":{\"type\":\"bytes\",\"data\":\"AAAAgA3AUUEAAADABuZoQQAAAGADdnRBAAAAsEFAiEEAAADYwCKTQQ==\"},\"shape\":[5],\"dtype\":\"float64\",\"order\":\"little\"}],[\"test_skill\",{\"type\":\"ndarray\",\"array\":{\"type\":\"bytes\",\"data\":\"+///v3Fu6j8AAACgN9PrP/v//18k9+s/AQAA4G/66z/6////efDrPw==\"},\"shape\":[5],\"dtype\":\"float64\",\"order\":\"little\"}],[\"hidden_size\",[2048.0,2048.0,2048.0,2048.0,2048.0]]]}}},\"view\":{\"type\":\"object\",\"name\":\"CDSView\",\"id\":\"60da205d-a019-4103-853d-058a7ca0346b\",\"attributes\":{\"filter\":{\"type\":\"object\",\"name\":\"AllIndices\",\"id\":\"1840ea31-c367-4dc3-a9f3-a580ad0b266a\"}}},\"glyph\":{\"type\":\"object\",\"name\":\"Scatter\",\"id\":\"0b578507-ca24-447e-9b34-b0a30530abde\",\"attributes\":{\"tags\":[\"apply_ranges\"],\"x\":{\"type\":\"field\",\"field\":\"num_params\"},\"y\":{\"type\":\"field\",\"field\":\"test_skill\"},\"size\":{\"type\":\"value\",\"value\":5.477225575051661},\"line_color\":{\"type\":\"value\",\"value\":\"#8b8b8b\"},\"fill_color\":{\"type\":\"value\",\"value\":\"#8b8b8b\"},\"hatch_color\":{\"type\":\"value\",\"value\":\"#8b8b8b\"}}},\"selection_glyph\":{\"type\":\"object\",\"name\":\"Scatter\",\"id\":\"ae829d83-e783-4a7d-b8ee-32fdfa88efcf\",\"attributes\":{\"tags\":[\"apply_ranges\"],\"x\":{\"type\":\"field\",\"field\":\"num_params\"},\"y\":{\"type\":\"field\",\"field\":\"test_skill\"},\"size\":{\"type\":\"value\",\"value\":5.477225575051661},\"angle\":{\"type\":\"value\",\"value\":0.0},\"line_color\":{\"type\":\"value\",\"value\":\"#8b8b8b\"},\"line_alpha\":{\"type\":\"value\",\"value\":1.0},\"line_width\":{\"type\":\"value\",\"value\":1},\"line_join\":{\"type\":\"value\",\"value\":\"bevel\"},\"line_cap\":{\"type\":\"value\",\"value\":\"butt\"},\"line_dash\":{\"type\":\"value\",\"value\":[]},\"line_dash_offset\":{\"type\":\"value\",\"value\":0},\"fill_color\":{\"type\":\"value\",\"value\":\"#8b8b8b\"},\"fill_alpha\":{\"type\":\"value\",\"value\":1.0},\"hatch_color\":{\"type\":\"value\",\"value\":\"#8b8b8b\"},\"hatch_alpha\":{\"type\":\"value\",\"value\":1.0},\"hatch_scale\":{\"type\":\"value\",\"value\":12.0},\"hatch_pattern\":{\"type\":\"value\",\"value\":null},\"hatch_weight\":{\"type\":\"value\",\"value\":1.0},\"marker\":{\"type\":\"value\",\"value\":\"circle\"}}},\"nonselection_glyph\":{\"type\":\"object\",\"name\":\"Scatter\",\"id\":\"103617bd-3dfb-42ec-9d9b-7647c771f60d\",\"attributes\":{\"tags\":[\"apply_ranges\"],\"x\":{\"type\":\"field\",\"field\":\"num_params\"},\"y\":{\"type\":\"field\",\"field\":\"test_skill\"},\"size\":{\"type\":\"value\",\"value\":5.477225575051661},\"line_color\":{\"type\":\"value\",\"value\":\"#8b8b8b\"},\"line_alpha\":{\"type\":\"value\",\"value\":0.1},\"fill_color\":{\"type\":\"value\",\"value\":\"#8b8b8b\"},\"fill_alpha\":{\"type\":\"value\",\"value\":0.1},\"hatch_color\":{\"type\":\"value\",\"value\":\"#8b8b8b\"},\"hatch_alpha\":{\"type\":\"value\",\"value\":0.1}}},\"muted_glyph\":{\"type\":\"object\",\"name\":\"Scatter\",\"id\":\"0c633201-5dee-4b11-b66d-c57d1bacff58\",\"attributes\":{\"tags\":[\"apply_ranges\"],\"x\":{\"type\":\"field\",\"field\":\"num_params\"},\"y\":{\"type\":\"field\",\"field\":\"test_skill\"},\"size\":{\"type\":\"value\",\"value\":5.477225575051661},\"line_color\":{\"type\":\"value\",\"value\":\"#8b8b8b\"},\"line_alpha\":{\"type\":\"value\",\"value\":0.2},\"fill_color\":{\"type\":\"value\",\"value\":\"#8b8b8b\"},\"fill_alpha\":{\"type\":\"value\",\"value\":0.2},\"hatch_color\":{\"type\":\"value\",\"value\":\"#8b8b8b\"},\"hatch_alpha\":{\"type\":\"value\",\"value\":0.2}}}}},{\"type\":\"object\",\"name\":\"GlyphRenderer\",\"id\":\"6fe93d43-4f6c-4fc0-9bdb-e3b8a0694f08\",\"attributes\":{\"data_source\":{\"type\":\"object\",\"name\":\"ColumnDataSource\",\"id\":\"87a1b678-6abc-4e22-8546-63b991f71789\",\"attributes\":{\"selected\":{\"type\":\"object\",\"name\":\"Selection\",\"id\":\"e28bd1bb-694a-42c6-b046-956717fc8f78\",\"attributes\":{\"indices\":[],\"line_indices\":[]}},\"selection_policy\":{\"type\":\"object\",\"name\":\"UnionRenderers\",\"id\":\"5bd7d03f-b0a4-42d9-8a40-8ff5de425a21\"},\"data\":{\"type\":\"map\",\"entries\":[[\"num_params\",{\"type\":\"ndarray\",\"array\":{\"type\":\"bytes\",\"data\":\"AAAAANgsFUEAAAAAYDPzQAAAAABgY/tAAAAAALAFDEEAAAAAwAbmQA==\"},\"shape\":[5],\"dtype\":\"float64\",\"order\":\"little\"}],[\"test_skill\",{\"type\":\"ndarray\",\"array\":{\"type\":\"bytes\",\"data\":\"/v//P7oh6T/8//9/kafoP/7//x/lJOk/AAAAYGFA6T/5//+fe5TmPw==\"},\"shape\":[5],\"dtype\":\"float64\",\"order\":\"little\"}],[\"num_layers\",[\"21\",\"5\",\"7\",\"14\",\"3\"]]]}}},\"view\":{\"type\":\"object\",\"name\":\"CDSView\",\"id\":\"bbf957ed-d284-405a-a31c-2b8c263d0c66\",\"attributes\":{\"filter\":{\"type\":\"object\",\"name\":\"AllIndices\",\"id\":\"b7434d18-136e-4ac6-83a5-d0b019168db3\"}}},\"glyph\":{\"type\":\"object\",\"name\":\"Text\",\"id\":\"3e69678d-9ad9-40da-a35a-87dba160e248\",\"attributes\":{\"tags\":[\"apply_ranges\"],\"x\":{\"type\":\"field\",\"field\":\"num_params\"},\"y\":{\"type\":\"field\",\"field\":\"test_skill\",\"transform\":{\"type\":\"object\",\"name\":\"Dodge\",\"id\":\"f7a91d30-fd16-40db-b0a0-6b61c667b016\",\"attributes\":{\"value\":0.01}}},\"text\":{\"type\":\"field\",\"field\":\"num_layers\"},\"text_color\":{\"type\":\"value\",\"value\":\"black\"},\"text_font_size\":{\"type\":\"value\",\"value\":\"10pt\"},\"text_align\":{\"type\":\"value\",\"value\":\"center\"},\"text_baseline\":{\"type\":\"value\",\"value\":\"middle\"}}},\"selection_glyph\":{\"type\":\"object\",\"name\":\"Text\",\"id\":\"1d9711a3-5f49-47b1-b2c3-31a1b3c6bd15\",\"attributes\":{\"tags\":[\"apply_ranges\"],\"x\":{\"type\":\"field\",\"field\":\"num_params\"},\"y\":{\"type\":\"field\",\"field\":\"test_skill\",\"transform\":{\"id\":\"f7a91d30-fd16-40db-b0a0-6b61c667b016\"}},\"text\":{\"type\":\"field\",\"field\":\"num_layers\"},\"angle\":{\"type\":\"value\",\"value\":0},\"x_offset\":{\"type\":\"value\",\"value\":0},\"y_offset\":{\"type\":\"value\",\"value\":0},\"text_color\":{\"type\":\"value\",\"value\":\"black\"},\"text_outline_color\":{\"type\":\"value\",\"value\":null},\"text_alpha\":{\"type\":\"value\",\"value\":1.0},\"text_font_size\":{\"type\":\"value\",\"value\":\"10pt\"},\"text_font_style\":{\"type\":\"value\",\"value\":\"normal\"},\"text_align\":{\"type\":\"value\",\"value\":\"center\"},\"text_baseline\":{\"type\":\"value\",\"value\":\"middle\"},\"text_line_height\":{\"type\":\"value\",\"value\":1.2},\"background_fill_color\":{\"type\":\"value\",\"value\":null},\"background_fill_alpha\":{\"type\":\"value\",\"value\":1.0},\"background_hatch_color\":{\"type\":\"value\",\"value\":null},\"background_hatch_alpha\":{\"type\":\"value\",\"value\":1.0},\"background_hatch_scale\":{\"type\":\"value\",\"value\":12.0},\"background_hatch_pattern\":{\"type\":\"value\",\"value\":null},\"background_hatch_weight\":{\"type\":\"value\",\"value\":1.0},\"border_line_color\":{\"type\":\"value\",\"value\":null},\"border_line_alpha\":{\"type\":\"value\",\"value\":1.0},\"border_line_width\":{\"type\":\"value\",\"value\":1},\"border_line_join\":{\"type\":\"value\",\"value\":\"bevel\"},\"border_line_cap\":{\"type\":\"value\",\"value\":\"butt\"},\"border_line_dash\":{\"type\":\"value\",\"value\":[]},\"border_line_dash_offset\":{\"type\":\"value\",\"value\":0}}},\"nonselection_glyph\":{\"type\":\"object\",\"name\":\"Text\",\"id\":\"ba6c087d-9eaa-457d-ba74-83663963953b\",\"attributes\":{\"tags\":[\"apply_ranges\"],\"x\":{\"type\":\"field\",\"field\":\"num_params\"},\"y\":{\"type\":\"field\",\"field\":\"test_skill\",\"transform\":{\"id\":\"f7a91d30-fd16-40db-b0a0-6b61c667b016\"}},\"text\":{\"type\":\"field\",\"field\":\"num_layers\"},\"text_color\":{\"type\":\"value\",\"value\":\"black\"},\"text_alpha\":{\"type\":\"value\",\"value\":0.1},\"text_font_size\":{\"type\":\"value\",\"value\":\"10pt\"},\"text_align\":{\"type\":\"value\",\"value\":\"center\"},\"text_baseline\":{\"type\":\"value\",\"value\":\"middle\"}}},\"muted_glyph\":{\"type\":\"object\",\"name\":\"Text\",\"id\":\"5b4f90e3-ab35-4e8a-b456-c1a55af5731d\",\"attributes\":{\"tags\":[\"apply_ranges\"],\"x\":{\"type\":\"field\",\"field\":\"num_params\"},\"y\":{\"type\":\"field\",\"field\":\"test_skill\",\"transform\":{\"id\":\"f7a91d30-fd16-40db-b0a0-6b61c667b016\"}},\"text\":{\"type\":\"field\",\"field\":\"num_layers\"},\"text_color\":{\"type\":\"value\",\"value\":\"black\"},\"text_alpha\":{\"type\":\"value\",\"value\":0.2},\"text_font_size\":{\"type\":\"value\",\"value\":\"10pt\"},\"text_align\":{\"type\":\"value\",\"value\":\"center\"},\"text_baseline\":{\"type\":\"value\",\"value\":\"middle\"}}}}}],\"toolbar\":{\"type\":\"object\",\"name\":\"Toolbar\",\"id\":\"0bb253b9-a037-4c29-80b2-0032354bb6b8\",\"attributes\":{\"tools\":[{\"type\":\"object\",\"name\":\"WheelZoomTool\",\"id\":\"bca4ea1d-2467-4af4-a698-daaefec775db\",\"attributes\":{\"tags\":[\"hv_created\"],\"zoom_together\":\"none\"}},{\"type\":\"object\",\"name\":\"HoverTool\",\"id\":\"b845eeab-7c02-4dc9-a8a0-e17947e124a2\",\"attributes\":{\"tags\":[\"hv_created\"],\"renderers\":[{\"id\":\"50854793-5b44-4ff5-950a-3f964ed4a638\"},{\"id\":\"292c8ae6-9c7d-4f61-b99c-92949e523dd3\"},{\"id\":\"36121594-1d4e-464c-ac15-2f668ac79877\"},{\"id\":\"930acd3b-800d-4bf0-a009-a05228a33871\"},{\"id\":\"9ded3a8d-e35c-4e27-9399-80ffbbceda31\"},{\"id\":\"fba45601-9122-4ed6-9714-02ae47e5cf21\"},{\"id\":\"15290ab1-1fc3-48ca-b738-2d7e83bb92e1\"},{\"id\":\"b5246edf-0b7c-42a9-852b-d2c7b6aac09a\"},{\"id\":\"bff938c1-b51f-454f-90c3-73560b5c9d69\"},{\"id\":\"75414cb3-a379-49ae-8fd2-18df4f206c56\"}],\"tooltips\":[[\"hidden_size\",\"@{hidden_size}\"],[\"num_params\",\"@{num_params}\"],[\"test_skill\",\"@{test_skill}\"]]}},{\"type\":\"object\",\"name\":\"HoverTool\",\"id\":\"d4cb3593-0e9f-4109-846a-bef3a8a811d4\",\"attributes\":{\"tags\":[\"hv_created\"],\"renderers\":[{\"id\":\"6fe93d43-4f6c-4fc0-9bdb-e3b8a0694f08\"}],\"tooltips\":[[\"num_params\",\"@{num_params}\"],[\"test_skill\",\"@{test_skill}\"],[\"num_layers\",\"@{num_layers}\"]]}},{\"type\":\"object\",\"name\":\"SaveTool\",\"id\":\"cae373e2-209c-488e-a4ff-502140b0c6a4\"},{\"type\":\"object\",\"name\":\"PanTool\",\"id\":\"aa791086-8c58-4c12-87e9-f2d03f547f91\"},{\"type\":\"object\",\"name\":\"BoxZoomTool\",\"id\":\"e6d6d825-eb57-4969-9986-aa4547f76b8f\",\"attributes\":{\"overlay\":{\"type\":\"object\",\"name\":\"BoxAnnotation\",\"id\":\"bd881c79-4f6e-4c91-ae16-fcee3c44a090\",\"attributes\":{\"syncable\":false,\"level\":\"overlay\",\"visible\":false,\"left_units\":\"canvas\",\"right_units\":\"canvas\",\"bottom_units\":\"canvas\",\"top_units\":\"canvas\",\"line_color\":\"black\",\"line_alpha\":1.0,\"line_width\":2,\"line_dash\":[4,4],\"fill_color\":\"lightgrey\",\"fill_alpha\":0.5}}}},{\"type\":\"object\",\"name\":\"ResetTool\",\"id\":\"602ecc2b-ed66-4911-9a5f-4a0db5c5af58\"}],\"active_drag\":{\"id\":\"aa791086-8c58-4c12-87e9-f2d03f547f91\"},\"active_scroll\":{\"id\":\"bca4ea1d-2467-4af4-a698-daaefec775db\"}}},\"left\":[{\"type\":\"object\",\"name\":\"LinearAxis\",\"id\":\"34c787f3-3d91-48c7-ad5b-500ba258083c\",\"attributes\":{\"ticker\":{\"type\":\"object\",\"name\":\"BasicTicker\",\"id\":\"3b1cc862-df7b-4755-a4df-bca4d048ff00\",\"attributes\":{\"mantissas\":[1,2,5]}},\"formatter\":{\"type\":\"object\",\"name\":\"BasicTickFormatter\",\"id\":\"536c7691-ae86-4717-aa42-ce9cd4d5643d\"},\"axis_label\":\"test skill\",\"major_label_policy\":{\"type\":\"object\",\"name\":\"AllLabels\",\"id\":\"e48d6389-596b-4a87-bc22-b74464757c40\"}}}],\"right\":[{\"type\":\"object\",\"name\":\"Legend\",\"id\":\"13e10d43-2564-4f7d-b4b5-0c918fb3564b\",\"attributes\":{\"location\":[0,0],\"click_policy\":\"mute\",\"items\":[{\"type\":\"object\",\"name\":\"LegendItem\",\"id\":\"783dcaac-0385-40e5-a7a8-580a47f6877d\",\"attributes\":{\"label\":{\"type\":\"value\",\"value\":\"128\"},\"renderers\":[{\"id\":\"50854793-5b44-4ff5-950a-3f964ed4a638\"},{\"id\":\"fba45601-9122-4ed6-9714-02ae47e5cf21\"}]}},{\"type\":\"object\",\"name\":\"LegendItem\",\"id\":\"57e44d9c-7454-4bac-9ca6-33b8cacbbead\",\"attributes\":{\"label\":{\"type\":\"value\",\"value\":\"256\"},\"renderers\":[{\"id\":\"292c8ae6-9c7d-4f61-b99c-92949e523dd3\"},{\"id\":\"15290ab1-1fc3-48ca-b738-2d7e83bb92e1\"}]}},{\"type\":\"object\",\"name\":\"LegendItem\",\"id\":\"353820fe-9fa6-4483-9f00-5ffd913d7cf8\",\"attributes\":{\"label\":{\"type\":\"value\",\"value\":\"512\"},\"renderers\":[{\"id\":\"36121594-1d4e-464c-ac15-2f668ac79877\"},{\"id\":\"b5246edf-0b7c-42a9-852b-d2c7b6aac09a\"}]}},{\"type\":\"object\",\"name\":\"LegendItem\",\"id\":\"026e406a-a66a-4a63-8a44-482f55afbea3\",\"attributes\":{\"label\":{\"type\":\"value\",\"value\":\"1024\"},\"renderers\":[{\"id\":\"930acd3b-800d-4bf0-a009-a05228a33871\"},{\"id\":\"bff938c1-b51f-454f-90c3-73560b5c9d69\"}]}},{\"type\":\"object\",\"name\":\"LegendItem\",\"id\":\"049352ea-7553-454a-87f2-f66b5d23ad56\",\"attributes\":{\"label\":{\"type\":\"value\",\"value\":\"2048\"},\"renderers\":[{\"id\":\"9ded3a8d-e35c-4e27-9399-80ffbbceda31\"},{\"id\":\"75414cb3-a379-49ae-8fd2-18df4f206c56\"}]}}]}}],\"below\":[{\"type\":\"object\",\"name\":\"LogAxis\",\"id\":\"e00c45c6-e118-4e2c-b353-99084e2b5b4f\",\"attributes\":{\"ticker\":{\"type\":\"object\",\"name\":\"LogTicker\",\"id\":\"a50758cc-6d9c-49a7-a52e-ad3057f50327\",\"attributes\":{\"num_minor_ticks\":10,\"mantissas\":[1,5]}},\"formatter\":{\"type\":\"object\",\"name\":\"LogTickFormatter\",\"id\":\"80572d2e-ded3-4bfb-b5ed-c8cfee6c6523\"},\"axis_label\":\"number of parameters\",\"major_label_policy\":{\"type\":\"object\",\"name\":\"AllLabels\",\"id\":\"4bb4d104-c1bc-43d8-9879-3abeef7ae9dc\"}}}],\"center\":[{\"type\":\"object\",\"name\":\"Grid\",\"id\":\"74bd1f48-66fa-4c17-bf07-25e9a413c3c8\",\"attributes\":{\"axis\":{\"id\":\"e00c45c6-e118-4e2c-b353-99084e2b5b4f\"},\"ticker\":{\"id\":\"a50758cc-6d9c-49a7-a52e-ad3057f50327\"}}},{\"type\":\"object\",\"name\":\"Grid\",\"id\":\"9b6590b7-95de-4c0c-ba80-8f870e63a9ee\",\"attributes\":{\"dimension\":1,\"axis\":{\"id\":\"34c787f3-3d91-48c7-ad5b-500ba258083c\"},\"ticker\":{\"id\":\"3b1cc862-df7b-4755-a4df-bca4d048ff00\"}}}],\"min_border_top\":10,\"min_border_bottom\":10,\"min_border_left\":10,\"min_border_right\":10,\"output_backend\":\"webgl\"}},{\"type\":\"object\",\"name\":\"Spacer\",\"id\":\"4f72df45-91f4-4cc5-a226-cd44681beb1b\",\"attributes\":{\"name\":\"HSpacer16949\",\"stylesheets\":[\"\\n:host(.pn-loading.pn-arc):before, .pn-loading.pn-arc:before {\\n  background-image: url(\\\"data:image/svg+xml;base64,PHN2ZyB4bWxucz0iaHR0cDovL3d3dy53My5vcmcvMjAwMC9zdmciIHN0eWxlPSJtYXJnaW46IGF1dG87IGJhY2tncm91bmQ6IG5vbmU7IGRpc3BsYXk6IGJsb2NrOyBzaGFwZS1yZW5kZXJpbmc6IGF1dG87IiB2aWV3Qm94PSIwIDAgMTAwIDEwMCIgcHJlc2VydmVBc3BlY3RSYXRpbz0ieE1pZFlNaWQiPiAgPGNpcmNsZSBjeD0iNTAiIGN5PSI1MCIgZmlsbD0ibm9uZSIgc3Ryb2tlPSIjYzNjM2MzIiBzdHJva2Utd2lkdGg9IjEwIiByPSIzNSIgc3Ryb2tlLWRhc2hhcnJheT0iMTY0LjkzMzYxNDMxMzQ2NDE1IDU2Ljk3Nzg3MTQzNzgyMTM4Ij4gICAgPGFuaW1hdGVUcmFuc2Zvcm0gYXR0cmlidXRlTmFtZT0idHJhbnNmb3JtIiB0eXBlPSJyb3RhdGUiIHJlcGVhdENvdW50PSJpbmRlZmluaXRlIiBkdXI9IjFzIiB2YWx1ZXM9IjAgNTAgNTA7MzYwIDUwIDUwIiBrZXlUaW1lcz0iMDsxIj48L2FuaW1hdGVUcmFuc2Zvcm0+ICA8L2NpcmNsZT48L3N2Zz4=\\\");\\n  background-size: auto calc(min(50%, 400px));\\n}\",{\"id\":\"4f2fde7b-2339-4c83-a0c7-065bfe5cc8a2\"},{\"id\":\"7446f8d5-4060-468f-a104-01d60c53181e\"},{\"id\":\"d857d103-3dc8-4145-881c-af948afcd85c\"}],\"margin\":0,\"sizing_mode\":\"stretch_width\",\"align\":\"start\"}}]}}],\"defs\":[{\"type\":\"model\",\"name\":\"ReactiveHTML1\"},{\"type\":\"model\",\"name\":\"FlexBox1\",\"properties\":[{\"name\":\"align_content\",\"kind\":\"Any\",\"default\":\"flex-start\"},{\"name\":\"align_items\",\"kind\":\"Any\",\"default\":\"flex-start\"},{\"name\":\"flex_direction\",\"kind\":\"Any\",\"default\":\"row\"},{\"name\":\"flex_wrap\",\"kind\":\"Any\",\"default\":\"wrap\"},{\"name\":\"justify_content\",\"kind\":\"Any\",\"default\":\"flex-start\"}]},{\"type\":\"model\",\"name\":\"FloatPanel1\",\"properties\":[{\"name\":\"config\",\"kind\":\"Any\",\"default\":{\"type\":\"map\"}},{\"name\":\"contained\",\"kind\":\"Any\",\"default\":true},{\"name\":\"position\",\"kind\":\"Any\",\"default\":\"right-top\"},{\"name\":\"offsetx\",\"kind\":\"Any\",\"default\":null},{\"name\":\"offsety\",\"kind\":\"Any\",\"default\":null},{\"name\":\"theme\",\"kind\":\"Any\",\"default\":\"primary\"},{\"name\":\"status\",\"kind\":\"Any\",\"default\":\"normalized\"}]},{\"type\":\"model\",\"name\":\"GridStack1\",\"properties\":[{\"name\":\"mode\",\"kind\":\"Any\",\"default\":\"warn\"},{\"name\":\"ncols\",\"kind\":\"Any\",\"default\":null},{\"name\":\"nrows\",\"kind\":\"Any\",\"default\":null},{\"name\":\"allow_resize\",\"kind\":\"Any\",\"default\":true},{\"name\":\"allow_drag\",\"kind\":\"Any\",\"default\":true},{\"name\":\"state\",\"kind\":\"Any\",\"default\":[]}]},{\"type\":\"model\",\"name\":\"drag1\",\"properties\":[{\"name\":\"slider_width\",\"kind\":\"Any\",\"default\":5},{\"name\":\"slider_color\",\"kind\":\"Any\",\"default\":\"black\"},{\"name\":\"value\",\"kind\":\"Any\",\"default\":50}]},{\"type\":\"model\",\"name\":\"click1\",\"properties\":[{\"name\":\"terminal_output\",\"kind\":\"Any\",\"default\":\"\"},{\"name\":\"debug_name\",\"kind\":\"Any\",\"default\":\"\"},{\"name\":\"clears\",\"kind\":\"Any\",\"default\":0}]},{\"type\":\"model\",\"name\":\"FastWrapper1\",\"properties\":[{\"name\":\"object\",\"kind\":\"Any\",\"default\":null},{\"name\":\"style\",\"kind\":\"Any\",\"default\":null}]},{\"type\":\"model\",\"name\":\"NotificationAreaBase1\",\"properties\":[{\"name\":\"js_events\",\"kind\":\"Any\",\"default\":{\"type\":\"map\"}},{\"name\":\"position\",\"kind\":\"Any\",\"default\":\"bottom-right\"},{\"name\":\"_clear\",\"kind\":\"Any\",\"default\":0}]},{\"type\":\"model\",\"name\":\"NotificationArea1\",\"properties\":[{\"name\":\"js_events\",\"kind\":\"Any\",\"default\":{\"type\":\"map\"}},{\"name\":\"notifications\",\"kind\":\"Any\",\"default\":[]},{\"name\":\"position\",\"kind\":\"Any\",\"default\":\"bottom-right\"},{\"name\":\"_clear\",\"kind\":\"Any\",\"default\":0},{\"name\":\"types\",\"kind\":\"Any\",\"default\":[{\"type\":\"map\",\"entries\":[[\"type\",\"warning\"],[\"background\",\"#ffc107\"],[\"icon\",{\"type\":\"map\",\"entries\":[[\"className\",\"fas fa-exclamation-triangle\"],[\"tagName\",\"i\"],[\"color\",\"white\"]]}]]},{\"type\":\"map\",\"entries\":[[\"type\",\"info\"],[\"background\",\"#007bff\"],[\"icon\",{\"type\":\"map\",\"entries\":[[\"className\",\"fas fa-info-circle\"],[\"tagName\",\"i\"],[\"color\",\"white\"]]}]]}]}]},{\"type\":\"model\",\"name\":\"Notification\",\"properties\":[{\"name\":\"background\",\"kind\":\"Any\",\"default\":null},{\"name\":\"duration\",\"kind\":\"Any\",\"default\":3000},{\"name\":\"icon\",\"kind\":\"Any\",\"default\":null},{\"name\":\"message\",\"kind\":\"Any\",\"default\":\"\"},{\"name\":\"notification_type\",\"kind\":\"Any\",\"default\":null},{\"name\":\"_destroyed\",\"kind\":\"Any\",\"default\":false}]},{\"type\":\"model\",\"name\":\"TemplateActions1\",\"properties\":[{\"name\":\"open_modal\",\"kind\":\"Any\",\"default\":0},{\"name\":\"close_modal\",\"kind\":\"Any\",\"default\":0}]},{\"type\":\"model\",\"name\":\"BootstrapTemplateActions1\",\"properties\":[{\"name\":\"open_modal\",\"kind\":\"Any\",\"default\":0},{\"name\":\"close_modal\",\"kind\":\"Any\",\"default\":0}]},{\"type\":\"model\",\"name\":\"MaterialTemplateActions1\",\"properties\":[{\"name\":\"open_modal\",\"kind\":\"Any\",\"default\":0},{\"name\":\"close_modal\",\"kind\":\"Any\",\"default\":0}]}]}};\n",
       "  var render_items = [{\"docid\":\"90a78679-9b7f-44b4-bb81-f2e88778c234\",\"roots\":{\"fc5d6281-9285-476b-8af5-f2493fbe19ff\":\"dd4eb2cf-7f5b-4829-a586-ca8512d3c11a\"},\"root_ids\":[\"fc5d6281-9285-476b-8af5-f2493fbe19ff\"]}];\n",
       "  var docs = Object.values(docs_json)\n",
       "  if (!docs) {\n",
       "    return\n",
       "  }\n",
       "  const py_version = docs[0].version.replace('rc', '-rc.').replace('.dev', '-dev.')\n",
       "  const is_dev = py_version.indexOf(\"+\") !== -1 || py_version.indexOf(\"-\") !== -1\n",
       "  function embed_document(root) {\n",
       "    var Bokeh = get_bokeh(root)\n",
       "    Bokeh.embed.embed_items_notebook(docs_json, render_items);\n",
       "    for (const render_item of render_items) {\n",
       "      for (const root_id of render_item.root_ids) {\n",
       "\tconst id_el = document.getElementById(root_id)\n",
       "\tif (id_el.children.length && (id_el.children[0].className === 'bk-root')) {\n",
       "\t  const root_el = id_el.children[0]\n",
       "\t  root_el.id = root_el.id + '-rendered'\n",
       "\t}\n",
       "      }\n",
       "    }\n",
       "  }\n",
       "  function get_bokeh(root) {\n",
       "    if (root.Bokeh === undefined) {\n",
       "      return null\n",
       "    } else if (root.Bokeh.version !== py_version && !is_dev) {\n",
       "      if (root.Bokeh.versions === undefined || !root.Bokeh.versions.has(py_version)) {\n",
       "\treturn null\n",
       "      }\n",
       "      return root.Bokeh.versions.get(py_version);\n",
       "    } else if (root.Bokeh.version === py_version) {\n",
       "      return root.Bokeh\n",
       "    }\n",
       "    return null\n",
       "  }\n",
       "  function is_loaded(root) {\n",
       "    var Bokeh = get_bokeh(root)\n",
       "    return (Bokeh != null && Bokeh.Panel !== undefined)\n",
       "  }\n",
       "  if (is_loaded(root)) {\n",
       "    embed_document(root);\n",
       "  } else {\n",
       "    var attempts = 0;\n",
       "    var timer = setInterval(function(root) {\n",
       "      if (is_loaded(root)) {\n",
       "        clearInterval(timer);\n",
       "        embed_document(root);\n",
       "      } else if (document.readyState == \"complete\") {\n",
       "        attempts++;\n",
       "        if (attempts > 200) {\n",
       "          clearInterval(timer);\n",
       "\t  var Bokeh = get_bokeh(root)\n",
       "\t  if (Bokeh == null || Bokeh.Panel == null) {\n",
       "            console.warn(\"Panel: ERROR: Unable to run Panel code because Bokeh or Panel library is missing\");\n",
       "\t  } else {\n",
       "\t    console.warn(\"Panel: WARNING: Attempting to render but not all required libraries could be resolved.\")\n",
       "\t    embed_document(root)\n",
       "\t  }\n",
       "        }\n",
       "      }\n",
       "    }, 25, root)\n",
       "  }\n",
       "})(window);</script>"
      ],
      "text/plain": [
       ":Overlay\n",
       "   .NdOverlay.I  :NdOverlay   [hidden_size]\n",
       "      :Curve   [num_params]   (test_skill)\n",
       "   .NdOverlay.II :NdOverlay   [hidden_size]\n",
       "      :Scatter   [num_params]   (test_skill)\n",
       "   .Labels.I     :Labels   [num_params,test_skill]   (num_layers)"
      ]
     },
     "execution_count": 22,
     "metadata": {
      "application/vnd.holoviews_exec.v0+json": {
       "id": "fc5d6281-9285-476b-8af5-f2493fbe19ff"
      }
     },
     "output_type": "execute_result"
    }
   ],
   "source": [
    "p = data.sort_values(\"num_params\").hvplot.line(x = \"num_params\", y = \"test_skill\",  by=\"hidden_size\", xlabel = \"number of parameters\", group_label = \"hidden size\",ylabel = \"test skill\", logx = True, grid = True, padding = .1 ,line_width = .5)*\\\n",
    "    data.sort_values(\"num_params\").hvplot.scatter(x = \"num_params\", y = \"test_skill\",  by=\"hidden_size\",logx = True, padding = .1, group_label = \"hidden size\")*\\\n",
    "    data.query(\"hidden_size==128\").hvplot.labels(x = \"num_params\", y = \"test_skill\", text = \"num_layers\",text_color = \"black\",group_label = \"hidden size\").opts(yoffset = .01, text_font_size = \"10pt\")\n",
    "hv.save(p,\"param_sweep.html\")\n",
    "p"
   ]
  }
 ],
 "metadata": {
  "kernelspec": {
   "display_name": "torch2",
   "language": "python",
   "name": "python3"
  },
  "language_info": {
   "codemirror_mode": {
    "name": "ipython",
    "version": 3
   },
   "file_extension": ".py",
   "mimetype": "text/x-python",
   "name": "python",
   "nbconvert_exporter": "python",
   "pygments_lexer": "ipython3",
   "version": "3.10.13"
  }
 },
 "nbformat": 4,
 "nbformat_minor": 5
}
