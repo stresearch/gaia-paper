{
 "cells": [
  {
   "cell_type": "code",
   "execution_count": 1,
   "id": "a24eaa50-68b8-4cb8-86c7-b599f87ef924",
   "metadata": {
    "tags": []
   },
   "outputs": [
    {
     "data": {
      "application/javascript": "(function(root) {\n  function now() {\n    return new Date();\n  }\n\n  var force = true;\n  var py_version = '3.2.2'.replace('rc', '-rc.').replace('.dev', '-dev.');\n  var is_dev = py_version.indexOf(\"+\") !== -1 || py_version.indexOf(\"-\") !== -1;\n  var reloading = false;\n  var Bokeh = root.Bokeh;\n  var bokeh_loaded = Bokeh != null && (Bokeh.version === py_version || (Bokeh.versions !== undefined && Bokeh.versions.has(py_version)));\n\n  if (typeof (root._bokeh_timeout) === \"undefined\" || force) {\n    root._bokeh_timeout = Date.now() + 5000;\n    root._bokeh_failed_load = false;\n  }\n\n  function run_callbacks() {\n    try {\n      root._bokeh_onload_callbacks.forEach(function(callback) {\n        if (callback != null)\n          callback();\n      });\n    } finally {\n      delete root._bokeh_onload_callbacks;\n    }\n    console.debug(\"Bokeh: all callbacks have finished\");\n  }\n\n  function load_libs(css_urls, js_urls, js_modules, js_exports, callback) {\n    if (css_urls == null) css_urls = [];\n    if (js_urls == null) js_urls = [];\n    if (js_modules == null) js_modules = [];\n    if (js_exports == null) js_exports = {};\n\n    root._bokeh_onload_callbacks.push(callback);\n\n    if (root._bokeh_is_loading > 0) {\n      console.debug(\"Bokeh: BokehJS is being loaded, scheduling callback at\", now());\n      return null;\n    }\n    if (js_urls.length === 0 && js_modules.length === 0 && Object.keys(js_exports).length === 0) {\n      run_callbacks();\n      return null;\n    }\n    if (!reloading) {\n      console.debug(\"Bokeh: BokehJS not loaded, scheduling load and callback at\", now());\n    }\n\n    function on_load() {\n      root._bokeh_is_loading--;\n      if (root._bokeh_is_loading === 0) {\n        console.debug(\"Bokeh: all BokehJS libraries/stylesheets loaded\");\n        run_callbacks()\n      }\n    }\n    window._bokeh_on_load = on_load\n\n    function on_error() {\n      console.error(\"failed to load \" + url);\n    }\n\n    var skip = [];\n    if (window.requirejs) {\n      window.requirejs.config({'packages': {}, 'paths': {'jspanel': 'https://cdn.jsdelivr.net/npm/jspanel4@4.12.0/dist/jspanel', 'jspanel-modal': 'https://cdn.jsdelivr.net/npm/jspanel4@4.12.0/dist/extensions/modal/jspanel.modal', 'jspanel-tooltip': 'https://cdn.jsdelivr.net/npm/jspanel4@4.12.0/dist/extensions/tooltip/jspanel.tooltip', 'jspanel-hint': 'https://cdn.jsdelivr.net/npm/jspanel4@4.12.0/dist/extensions/hint/jspanel.hint', 'jspanel-layout': 'https://cdn.jsdelivr.net/npm/jspanel4@4.12.0/dist/extensions/layout/jspanel.layout', 'jspanel-contextmenu': 'https://cdn.jsdelivr.net/npm/jspanel4@4.12.0/dist/extensions/contextmenu/jspanel.contextmenu', 'jspanel-dock': 'https://cdn.jsdelivr.net/npm/jspanel4@4.12.0/dist/extensions/dock/jspanel.dock', 'gridstack': 'https://cdn.jsdelivr.net/npm/gridstack@7.2.3/dist/gridstack-all', 'notyf': 'https://cdn.jsdelivr.net/npm/notyf@3/notyf.min'}, 'shim': {'jspanel': {'exports': 'jsPanel'}, 'gridstack': {'exports': 'GridStack'}}});\n      require([\"jspanel\"], function(jsPanel) {\n\twindow.jsPanel = jsPanel\n\ton_load()\n      })\n      require([\"jspanel-modal\"], function() {\n\ton_load()\n      })\n      require([\"jspanel-tooltip\"], function() {\n\ton_load()\n      })\n      require([\"jspanel-hint\"], function() {\n\ton_load()\n      })\n      require([\"jspanel-layout\"], function() {\n\ton_load()\n      })\n      require([\"jspanel-contextmenu\"], function() {\n\ton_load()\n      })\n      require([\"jspanel-dock\"], function() {\n\ton_load()\n      })\n      require([\"gridstack\"], function(GridStack) {\n\twindow.GridStack = GridStack\n\ton_load()\n      })\n      require([\"notyf\"], function() {\n\ton_load()\n      })\n      root._bokeh_is_loading = css_urls.length + 9;\n    } else {\n      root._bokeh_is_loading = css_urls.length + js_urls.length + js_modules.length + Object.keys(js_exports).length;\n    }\n\n    var existing_stylesheets = []\n    var links = document.getElementsByTagName('link')\n    for (var i = 0; i < links.length; i++) {\n      var link = links[i]\n      if (link.href != null) {\n\texisting_stylesheets.push(link.href)\n      }\n    }\n    for (var i = 0; i < css_urls.length; i++) {\n      var url = css_urls[i];\n      if (existing_stylesheets.indexOf(url) !== -1) {\n\ton_load()\n\tcontinue;\n      }\n      const element = document.createElement(\"link\");\n      element.onload = on_load;\n      element.onerror = on_error;\n      element.rel = \"stylesheet\";\n      element.type = \"text/css\";\n      element.href = url;\n      console.debug(\"Bokeh: injecting link tag for BokehJS stylesheet: \", url);\n      document.body.appendChild(element);\n    }    if (((window['jsPanel'] !== undefined) && (!(window['jsPanel'] instanceof HTMLElement))) || window.requirejs) {\n      var urls = ['https://cdn.holoviz.org/panel/1.2.3/dist/bundled/floatpanel/jspanel4@4.12.0/dist/jspanel.js', 'https://cdn.holoviz.org/panel/1.2.3/dist/bundled/floatpanel/jspanel4@4.12.0/dist/extensions/modal/jspanel.modal.js', 'https://cdn.holoviz.org/panel/1.2.3/dist/bundled/floatpanel/jspanel4@4.12.0/dist/extensions/tooltip/jspanel.tooltip.js', 'https://cdn.holoviz.org/panel/1.2.3/dist/bundled/floatpanel/jspanel4@4.12.0/dist/extensions/hint/jspanel.hint.js', 'https://cdn.holoviz.org/panel/1.2.3/dist/bundled/floatpanel/jspanel4@4.12.0/dist/extensions/layout/jspanel.layout.js', 'https://cdn.holoviz.org/panel/1.2.3/dist/bundled/floatpanel/jspanel4@4.12.0/dist/extensions/contextmenu/jspanel.contextmenu.js', 'https://cdn.holoviz.org/panel/1.2.3/dist/bundled/floatpanel/jspanel4@4.12.0/dist/extensions/dock/jspanel.dock.js'];\n      for (var i = 0; i < urls.length; i++) {\n        skip.push(urls[i])\n      }\n    }    if (((window['GridStack'] !== undefined) && (!(window['GridStack'] instanceof HTMLElement))) || window.requirejs) {\n      var urls = ['https://cdn.holoviz.org/panel/1.2.3/dist/bundled/gridstack/gridstack@7.2.3/dist/gridstack-all.js'];\n      for (var i = 0; i < urls.length; i++) {\n        skip.push(urls[i])\n      }\n    }    if (((window['Notyf'] !== undefined) && (!(window['Notyf'] instanceof HTMLElement))) || window.requirejs) {\n      var urls = ['https://cdn.holoviz.org/panel/1.2.3/dist/bundled/notificationarea/notyf@3/notyf.min.js'];\n      for (var i = 0; i < urls.length; i++) {\n        skip.push(urls[i])\n      }\n    }    var existing_scripts = []\n    var scripts = document.getElementsByTagName('script')\n    for (var i = 0; i < scripts.length; i++) {\n      var script = scripts[i]\n      if (script.src != null) {\n\texisting_scripts.push(script.src)\n      }\n    }\n    for (var i = 0; i < js_urls.length; i++) {\n      var url = js_urls[i];\n      if (skip.indexOf(url) !== -1 || existing_scripts.indexOf(url) !== -1) {\n\tif (!window.requirejs) {\n\t  on_load();\n\t}\n\tcontinue;\n      }\n      var element = document.createElement('script');\n      element.onload = on_load;\n      element.onerror = on_error;\n      element.async = false;\n      element.src = url;\n      console.debug(\"Bokeh: injecting script tag for BokehJS library: \", url);\n      document.head.appendChild(element);\n    }\n    for (var i = 0; i < js_modules.length; i++) {\n      var url = js_modules[i];\n      if (skip.indexOf(url) !== -1 || existing_scripts.indexOf(url) !== -1) {\n\tif (!window.requirejs) {\n\t  on_load();\n\t}\n\tcontinue;\n      }\n      var element = document.createElement('script');\n      element.onload = on_load;\n      element.onerror = on_error;\n      element.async = false;\n      element.src = url;\n      element.type = \"module\";\n      console.debug(\"Bokeh: injecting script tag for BokehJS library: \", url);\n      document.head.appendChild(element);\n    }\n    for (const name in js_exports) {\n      var url = js_exports[name];\n      if (skip.indexOf(url) >= 0 || root[name] != null) {\n\tif (!window.requirejs) {\n\t  on_load();\n\t}\n\tcontinue;\n      }\n      var element = document.createElement('script');\n      element.onerror = on_error;\n      element.async = false;\n      element.type = \"module\";\n      console.debug(\"Bokeh: injecting script tag for BokehJS library: \", url);\n      element.textContent = `\n      import ${name} from \"${url}\"\n      window.${name} = ${name}\n      window._bokeh_on_load()\n      `\n      document.head.appendChild(element);\n    }\n    if (!js_urls.length && !js_modules.length) {\n      on_load()\n    }\n  };\n\n  function inject_raw_css(css) {\n    const element = document.createElement(\"style\");\n    element.appendChild(document.createTextNode(css));\n    document.body.appendChild(element);\n  }\n\n  var js_urls = [\"https://cdn.bokeh.org/bokeh/release/bokeh-3.2.2.min.js\", \"https://cdn.bokeh.org/bokeh/release/bokeh-gl-3.2.2.min.js\", \"https://cdn.bokeh.org/bokeh/release/bokeh-widgets-3.2.2.min.js\", \"https://cdn.bokeh.org/bokeh/release/bokeh-tables-3.2.2.min.js\", \"https://cdn.holoviz.org/panel/1.2.3/dist/panel.min.js\"];\n  var js_modules = [];\n  var js_exports = {};\n  var css_urls = [];\n  var inline_js = [    function(Bokeh) {\n      Bokeh.set_log_level(\"info\");\n    },\nfunction(Bokeh) {} // ensure no trailing comma for IE\n  ];\n\n  function run_inline_js() {\n    if ((root.Bokeh !== undefined) || (force === true)) {\n      for (var i = 0; i < inline_js.length; i++) {\n        inline_js[i].call(root, root.Bokeh);\n      }\n      // Cache old bokeh versions\n      if (Bokeh != undefined && !reloading) {\n\tvar NewBokeh = root.Bokeh;\n\tif (Bokeh.versions === undefined) {\n\t  Bokeh.versions = new Map();\n\t}\n\tif (NewBokeh.version !== Bokeh.version) {\n\t  Bokeh.versions.set(NewBokeh.version, NewBokeh)\n\t}\n\troot.Bokeh = Bokeh;\n      }} else if (Date.now() < root._bokeh_timeout) {\n      setTimeout(run_inline_js, 100);\n    } else if (!root._bokeh_failed_load) {\n      console.log(\"Bokeh: BokehJS failed to load within specified timeout.\");\n      root._bokeh_failed_load = true;\n    }\n    root._bokeh_is_initializing = false\n  }\n\n  function load_or_wait() {\n    // Implement a backoff loop that tries to ensure we do not load multiple\n    // versions of Bokeh and its dependencies at the same time.\n    // In recent versions we use the root._bokeh_is_initializing flag\n    // to determine whether there is an ongoing attempt to initialize\n    // bokeh, however for backward compatibility we also try to ensure\n    // that we do not start loading a newer (Panel>=1.0 and Bokeh>3) version\n    // before older versions are fully initialized.\n    if (root._bokeh_is_initializing && Date.now() > root._bokeh_timeout) {\n      root._bokeh_is_initializing = false;\n      root._bokeh_onload_callbacks = undefined;\n      console.log(\"Bokeh: BokehJS was loaded multiple times but one version failed to initialize.\");\n      load_or_wait();\n    } else if (root._bokeh_is_initializing || (typeof root._bokeh_is_initializing === \"undefined\" && root._bokeh_onload_callbacks !== undefined)) {\n      setTimeout(load_or_wait, 100);\n    } else {\n      Bokeh = root.Bokeh;\n      bokeh_loaded = Bokeh != null && (Bokeh.version === py_version || (Bokeh.versions !== undefined && Bokeh.versions.has(py_version)));\n      root._bokeh_is_initializing = true\n      root._bokeh_onload_callbacks = []\n      if (!reloading && (!bokeh_loaded || is_dev)) {\n\troot.Bokeh = undefined;\n      }\n      load_libs(css_urls, js_urls, js_modules, js_exports, function() {\n\tconsole.debug(\"Bokeh: BokehJS plotting callback run at\", now());\n\trun_inline_js();\n      });\n    }\n  }\n  // Give older versions of the autoload script a head-start to ensure\n  // they initialize before we start loading newer version.\n  setTimeout(load_or_wait, 100)\n}(window));",
      "application/vnd.holoviews_load.v0+json": ""
     },
     "metadata": {},
     "output_type": "display_data"
    },
    {
     "data": {
      "application/javascript": "\nif ((window.PyViz === undefined) || (window.PyViz instanceof HTMLElement)) {\n  window.PyViz = {comms: {}, comm_status:{}, kernels:{}, receivers: {}, plot_index: []}\n}\n\n\n    function JupyterCommManager() {\n    }\n\n    JupyterCommManager.prototype.register_target = function(plot_id, comm_id, msg_handler) {\n      if (window.comm_manager || ((window.Jupyter !== undefined) && (Jupyter.notebook.kernel != null))) {\n        var comm_manager = window.comm_manager || Jupyter.notebook.kernel.comm_manager;\n        comm_manager.register_target(comm_id, function(comm) {\n          comm.on_msg(msg_handler);\n        });\n      } else if ((plot_id in window.PyViz.kernels) && (window.PyViz.kernels[plot_id])) {\n        window.PyViz.kernels[plot_id].registerCommTarget(comm_id, function(comm) {\n          comm.onMsg = msg_handler;\n        });\n      } else if (typeof google != 'undefined' && google.colab.kernel != null) {\n        google.colab.kernel.comms.registerTarget(comm_id, (comm) => {\n          var messages = comm.messages[Symbol.asyncIterator]();\n          function processIteratorResult(result) {\n            var message = result.value;\n            console.log(message)\n            var content = {data: message.data, comm_id};\n            var buffers = []\n            for (var buffer of message.buffers || []) {\n              buffers.push(new DataView(buffer))\n            }\n            var metadata = message.metadata || {};\n            var msg = {content, buffers, metadata}\n            msg_handler(msg);\n            return messages.next().then(processIteratorResult);\n          }\n          return messages.next().then(processIteratorResult);\n        })\n      }\n    }\n\n    JupyterCommManager.prototype.get_client_comm = function(plot_id, comm_id, msg_handler) {\n      if (comm_id in window.PyViz.comms) {\n        return window.PyViz.comms[comm_id];\n      } else if (window.comm_manager || ((window.Jupyter !== undefined) && (Jupyter.notebook.kernel != null))) {\n        var comm_manager = window.comm_manager || Jupyter.notebook.kernel.comm_manager;\n        var comm = comm_manager.new_comm(comm_id, {}, {}, {}, comm_id);\n        if (msg_handler) {\n          comm.on_msg(msg_handler);\n        }\n      } else if ((plot_id in window.PyViz.kernels) && (window.PyViz.kernels[plot_id])) {\n        var comm = window.PyViz.kernels[plot_id].connectToComm(comm_id);\n        comm.open();\n        if (msg_handler) {\n          comm.onMsg = msg_handler;\n        }\n      } else if (typeof google != 'undefined' && google.colab.kernel != null) {\n        var comm_promise = google.colab.kernel.comms.open(comm_id)\n        comm_promise.then((comm) => {\n          window.PyViz.comms[comm_id] = comm;\n          if (msg_handler) {\n            var messages = comm.messages[Symbol.asyncIterator]();\n            function processIteratorResult(result) {\n              var message = result.value;\n              var content = {data: message.data};\n              var metadata = message.metadata || {comm_id};\n              var msg = {content, metadata}\n              msg_handler(msg);\n              return messages.next().then(processIteratorResult);\n            }\n            return messages.next().then(processIteratorResult);\n          }\n        }) \n        var sendClosure = (data, metadata, buffers, disposeOnDone) => {\n          return comm_promise.then((comm) => {\n            comm.send(data, metadata, buffers, disposeOnDone);\n          });\n        };\n        var comm = {\n          send: sendClosure\n        };\n      }\n      window.PyViz.comms[comm_id] = comm;\n      return comm;\n    }\n    window.PyViz.comm_manager = new JupyterCommManager();\n    \n\n\nvar JS_MIME_TYPE = 'application/javascript';\nvar HTML_MIME_TYPE = 'text/html';\nvar EXEC_MIME_TYPE = 'application/vnd.holoviews_exec.v0+json';\nvar CLASS_NAME = 'output';\n\n/**\n * Render data to the DOM node\n */\nfunction render(props, node) {\n  var div = document.createElement(\"div\");\n  var script = document.createElement(\"script\");\n  node.appendChild(div);\n  node.appendChild(script);\n}\n\n/**\n * Handle when a new output is added\n */\nfunction handle_add_output(event, handle) {\n  var output_area = handle.output_area;\n  var output = handle.output;\n  if ((output.data == undefined) || (!output.data.hasOwnProperty(EXEC_MIME_TYPE))) {\n    return\n  }\n  var id = output.metadata[EXEC_MIME_TYPE][\"id\"];\n  var toinsert = output_area.element.find(\".\" + CLASS_NAME.split(' ')[0]);\n  if (id !== undefined) {\n    var nchildren = toinsert.length;\n    var html_node = toinsert[nchildren-1].children[0];\n    html_node.innerHTML = output.data[HTML_MIME_TYPE];\n    var scripts = [];\n    var nodelist = html_node.querySelectorAll(\"script\");\n    for (var i in nodelist) {\n      if (nodelist.hasOwnProperty(i)) {\n        scripts.push(nodelist[i])\n      }\n    }\n\n    scripts.forEach( function (oldScript) {\n      var newScript = document.createElement(\"script\");\n      var attrs = [];\n      var nodemap = oldScript.attributes;\n      for (var j in nodemap) {\n        if (nodemap.hasOwnProperty(j)) {\n          attrs.push(nodemap[j])\n        }\n      }\n      attrs.forEach(function(attr) { newScript.setAttribute(attr.name, attr.value) });\n      newScript.appendChild(document.createTextNode(oldScript.innerHTML));\n      oldScript.parentNode.replaceChild(newScript, oldScript);\n    });\n    if (JS_MIME_TYPE in output.data) {\n      toinsert[nchildren-1].children[1].textContent = output.data[JS_MIME_TYPE];\n    }\n    output_area._hv_plot_id = id;\n    if ((window.Bokeh !== undefined) && (id in Bokeh.index)) {\n      window.PyViz.plot_index[id] = Bokeh.index[id];\n    } else {\n      window.PyViz.plot_index[id] = null;\n    }\n  } else if (output.metadata[EXEC_MIME_TYPE][\"server_id\"] !== undefined) {\n    var bk_div = document.createElement(\"div\");\n    bk_div.innerHTML = output.data[HTML_MIME_TYPE];\n    var script_attrs = bk_div.children[0].attributes;\n    for (var i = 0; i < script_attrs.length; i++) {\n      toinsert[toinsert.length - 1].childNodes[1].setAttribute(script_attrs[i].name, script_attrs[i].value);\n    }\n    // store reference to server id on output_area\n    output_area._bokeh_server_id = output.metadata[EXEC_MIME_TYPE][\"server_id\"];\n  }\n}\n\n/**\n * Handle when an output is cleared or removed\n */\nfunction handle_clear_output(event, handle) {\n  var id = handle.cell.output_area._hv_plot_id;\n  var server_id = handle.cell.output_area._bokeh_server_id;\n  if (((id === undefined) || !(id in PyViz.plot_index)) && (server_id !== undefined)) { return; }\n  var comm = window.PyViz.comm_manager.get_client_comm(\"hv-extension-comm\", \"hv-extension-comm\", function () {});\n  if (server_id !== null) {\n    comm.send({event_type: 'server_delete', 'id': server_id});\n    return;\n  } else if (comm !== null) {\n    comm.send({event_type: 'delete', 'id': id});\n  }\n  delete PyViz.plot_index[id];\n  if ((window.Bokeh !== undefined) & (id in window.Bokeh.index)) {\n    var doc = window.Bokeh.index[id].model.document\n    doc.clear();\n    const i = window.Bokeh.documents.indexOf(doc);\n    if (i > -1) {\n      window.Bokeh.documents.splice(i, 1);\n    }\n  }\n}\n\n/**\n * Handle kernel restart event\n */\nfunction handle_kernel_cleanup(event, handle) {\n  delete PyViz.comms[\"hv-extension-comm\"];\n  window.PyViz.plot_index = {}\n}\n\n/**\n * Handle update_display_data messages\n */\nfunction handle_update_output(event, handle) {\n  handle_clear_output(event, {cell: {output_area: handle.output_area}})\n  handle_add_output(event, handle)\n}\n\nfunction register_renderer(events, OutputArea) {\n  function append_mime(data, metadata, element) {\n    // create a DOM node to render to\n    var toinsert = this.create_output_subarea(\n    metadata,\n    CLASS_NAME,\n    EXEC_MIME_TYPE\n    );\n    this.keyboard_manager.register_events(toinsert);\n    // Render to node\n    var props = {data: data, metadata: metadata[EXEC_MIME_TYPE]};\n    render(props, toinsert[0]);\n    element.append(toinsert);\n    return toinsert\n  }\n\n  events.on('output_added.OutputArea', handle_add_output);\n  events.on('output_updated.OutputArea', handle_update_output);\n  events.on('clear_output.CodeCell', handle_clear_output);\n  events.on('delete.Cell', handle_clear_output);\n  events.on('kernel_ready.Kernel', handle_kernel_cleanup);\n\n  OutputArea.prototype.register_mime_type(EXEC_MIME_TYPE, append_mime, {\n    safe: true,\n    index: 0\n  });\n}\n\nif (window.Jupyter !== undefined) {\n  try {\n    var events = require('base/js/events');\n    var OutputArea = require('notebook/js/outputarea').OutputArea;\n    if (OutputArea.prototype.mime_types().indexOf(EXEC_MIME_TYPE) == -1) {\n      register_renderer(events, OutputArea);\n    }\n  } catch(err) {\n  }\n}\n",
      "application/vnd.holoviews_load.v0+json": ""
     },
     "metadata": {},
     "output_type": "display_data"
    },
    {
     "data": {
      "text/html": [
       "<style>*[data-root-id],\n",
       "*[data-root-id] > * {\n",
       "  box-sizing: border-box;\n",
       "  font-family: var(--jp-ui-font-family);\n",
       "  font-size: var(--jp-ui-font-size1);\n",
       "  color: var(--vscode-editor-foreground, var(--jp-ui-font-color1));\n",
       "}\n",
       "\n",
       "/* Override VSCode background color */\n",
       ".cell-output-ipywidget-background:has(\n",
       "    > .cell-output-ipywidget-background > .lm-Widget > *[data-root-id]\n",
       "  ),\n",
       ".cell-output-ipywidget-background:has(> .lm-Widget > *[data-root-id]) {\n",
       "  background-color: transparent !important;\n",
       "}\n",
       "</style>"
      ]
     },
     "metadata": {},
     "output_type": "display_data"
    },
    {
     "data": {
      "text/html": [
       "\n",
       "<div class=\"logo-block\">\n",
       "<img src='data:image/png;base64,iVBORw0KGgoAAAANSUhEUgAAAEAAAABACAYAAACqaXHeAAAABHNCSVQICAgIfAhkiAAAAAlwSFlz\n",
       "AAAB+wAAAfsBxc2miwAAABl0RVh0U29mdHdhcmUAd3d3Lmlua3NjYXBlLm9yZ5vuPBoAAA6zSURB\n",
       "VHic7ZtpeFRVmsf/5966taWqUlUJ2UioBBJiIBAwCZtog9IOgjqACsogKtqirT2ttt069nQ/zDzt\n",
       "tI4+CrJIREFaFgWhBXpUNhHZQoKBkIUASchWla1S+3ar7r1nPkDaCAnZKoQP/D7mnPOe9/xy76n3\n",
       "nFSAW9ziFoPFNED2LLK5wcyBDObkb8ZkxuaoSYlI6ZcOKq1eWFdedqNzGHQBk9RMEwFAASkk0Xw3\n",
       "ETacDNi2vtvc7L0ROdw0AjoSotQVkKSvHQz/wRO1lScGModBFbDMaNRN1A4tUBCS3lk7BWhQkgpD\n",
       "lG4852/+7DWr1R3uHAZVQDsbh6ZPN7CyxUrCzJMRouusj0ipRwD2uKm0Zn5d2dFwzX1TCGhnmdGo\n",
       "G62Nna+isiUqhkzuKrkQaJlPEv5mFl2fvGg2t/VnzkEV8F5ioioOEWkLG86fvbpthynjdhXYZziQ\n",
       "x1hC9J2NFyi8vCTt91Fh04KGip0AaG9zuCk2wQCVyoNU3Hjezee9bq92duzzTmxsRJoy+jEZZZYo\n",
       "GTKJ6SJngdJqAfRzpze0+jHreUtPc7gpBLQnIYK6BYp/uGhw9YK688eu7v95ysgshcg9qSLMo3JC\n",
       "4jqLKQFBgdKDPoQ+Pltb8dUyQLpeDjeVgI6EgLIQFT5tEl3rn2losHVsexbZ3EyT9wE1uGdkIPcy\n",
       "BGxn8QUq1QrA5nqW5i2tLqvrrM9NK6AdkVIvL9E9bZL/oyfMVd/jqvc8LylzRBKDJSzIExwhQzuL\n",
       "QYGQj4rHfFTc8mUdu3E7yoLtbTe9gI4EqVgVkug2i5+uXGo919ixbRog+3fTbQ8qJe4ZOYNfMoTI\n",
       "OoshUNosgO60AisX15aeI2PSIp5KiFLI9ubb1vV3Qb2ltwLakUCDAkWX7/nHKRmmGIl9VgYsUhJm\n",
       "2NXjKYADtM1ygne9QQDIXlk49FBstMKx66D1v4+XuQr7vqTe0VcBHQlRWiOCbmmSYe2SqtL6q5rJ\n",
       "zsTb7lKx3FKOYC4DoqyS/B5bvLPxvD9Qtf6saxYLQGJErmDOdOMr/zo96km1nElr8bmPOBwI9COv\n",
       "HnFPRIwmkSOv9kcAS4heRsidOkpeWBgZM+UBrTFAXNYL5Vf2ii9c1trNzpYdaoVil3WIc+wdk+gQ\n",
       "noie3ecCcxt9ITcLAPWt/laGEO/9U6PmzZkenTtsSMQ8uYywJVW+grCstAvCIaAdArAsIWkRDDs/\n",
       "KzLm2YcjY1Lv0UdW73HabE9n6V66cxSzfEmuJssTpKGVp+0vHq73FwL46eOjpMpbRAnNmJFrGJNu\n",
       "Ukf9Yrz+3rghiumCKNXXWPhLYcjxGsIpoCMsIRoFITkW8AuyM8jC1+/QLx4bozCEJIq38+1rtpR6\n",
       "V/yzb8eBlRb3fo5l783N0CWolAzJHaVNzkrTzlEp2bQ2q3TC5gn6wpnoQAmwSiGh2GitnTmVMc5O\n",
       "UyfKWUKCIsU7+fZDKwqdT6DDpvkzAX4/+AMFjk0tDp5GRXLpQ2MUmhgDp5gxQT8+Y7hyPsMi8uxF\n",
       "71H0oebujHALECjFKaW9Lm68n18wXp2kVzIcABytD5iXFzg+WVXkegpAsOOYziqo0OkK76GyquC3\n",
       "ltZAzMhhqlSNmmWTE5T6e3IN05ITFLM4GdN0vtZ3ob8Jh1NAKXFbm5PtLU/eqTSlGjkNAJjdgn/N\n",
       "aedXa0tdi7+t9G0FIF49rtMSEgAs1kDLkTPO7ebm4IUWeyh1bKomXqlgMG6kJmHcSM0clYLJ8XtR\n",
       "1GTnbV3F6I5wCGikAb402npp1h1s7LQUZZSMIfALFOuL3UUrfnS8+rez7v9qcold5tilgHbO1fjK\n",
       "9ubb17u9oshxzMiUBKXWqJNxd+fqb0tLVs4lILFnK71H0Ind7uiPgACVcFJlrb0tV6DzxqqTIhUM\n",
       "CwDf1/rrVhTa33/3pGPxJYdQ2l2cbgVcQSosdx8uqnDtbGjh9SlDVSMNWhlnilfqZk42Th2ZpLpf\n",
       "xrHec5e815zrr0dfBZSwzkZfqsv+1FS1KUknUwPARVvItfKUY+cn57yP7qv07UE3p8B2uhUwLk09\n",
       "e0SCOrK+hbdYHYLjRIl71wWzv9jpEoeOHhGRrJAzyEyNiJuUqX0g2sBN5kGK6y2Blp5M3lsB9Qh4\n",
       "y2Ja6x6+i0ucmKgwMATwhSjdUu49tKrQ/pvN5d53ml2CGwCmJipmKjgmyuaXzNeL2a0AkQ01Th5j\n",
       "2DktO3Jyk8f9vcOBQHV94OK+fPumJmvQHxJoWkaKWq9Vs+yUsbq0zGT1I4RgeH2b5wef7+c7bl8F\n",
       "eKgoHVVZa8ZPEORzR6sT1BzDUAD/d9F78e2Tzv99v8D+fLVTqAKAsbGamKey1Mt9Ann4eH3gTXTz\n",
       "idWtAJ8PQWOk7NzSeQn/OTHDuEikVF1R4z8BQCy+6D1aWRfY0tTGG2OM8rRoPaeIj5ZHzJxszElN\n",
       "VM8K8JS5WOfv8mzRnQAKoEhmt8gyPM4lU9SmBK1MCQBnW4KONT86v1hZ1PbwSXPw4JWussVjtH9Y\n",
       "NCoiL9UoH/6PSu8jFrfY2t36erQHXLIEakMi1SydmzB31h3GGXFDFNPaK8Rme9B79Ixrd0WN+1ij\n",
       "NRQ/doRmuFLBkHSTOm5GruG+pFjFdAmorG4IXH1Qua6ASniclfFtDYt+oUjKipPrCQB7QBQ2lrgP\n",
       "fFzm+9XWUtcqJ3/5vDLDpJ79XHZk3u8nGZ42qlj1+ydtbxysCezrydp6ugmipNJ7WBPB5tydY0jP\n",
       "HaVNzs3QzeE4ZpTbI+ZbnSFPbVOw9vsfnVvqWnirPyCNGD08IlqtYkh2hjZ5dErEQzoNm+6ykyOt\n",
       "Lt5/PQEuSRRKo22VkydK+vvS1XEKlhCJAnsqvcVvH7f/ZU2R67eXbMEGAMiIV5oWZWiWvz5Fv2xG\n",
       "sjqNJQRvn3Rs2lji/lNP19VjAQDgD7FHhujZB9OGqYxRkZxixgRDVlqS6uEOFaJUVu0rPFzctrnF\n",
       "JqijImVp8dEKVWyUXDk92zAuMZ6bFwpBU1HrOw6AdhQgUooChb0+ItMbWJitSo5Ws3IAOGEOtL53\n",
       "0vHZih9sC4vtofZ7Qu6523V/fmGcds1TY3V36pUsBwAbSlxnVh2xLfAD/IAIMDf7XYIkNmXfpp2l\n",
       "18rkAJAy9HKFaIr/qULkeQQKy9zf1JgDB2uaeFNGijo5QsUyacNUUTOnGO42xSnv4oOwpDi1zYkc\n",
       "efUc3I5Gk6PhyTuVKaOGyLUAYPGIoY9Pu/atL/L92+4q9wbflRJ2Trpm/jPjdBtfnqB/dIThcl8A\n",
       "KG7hbRuKnb8qsQsVvVlTrwQAQMUlf3kwJI24Z4JhPMtcfng5GcH49GsrxJpGvvHIaeem2ma+KSjQ\n",
       "lIwUdYyCY8j4dE1KzijNnIP2llF2wcXNnsoapw9XxsgYAl6k+KzUXbi2yP3KR2ecf6z3BFsBICdW\n",
       "nvnIaG3eHybqX7vbpEqUMT+9OL4Qpe8VON7dXuFd39v19FoAABRVePbGGuXTszO0P7tu6lghUonE\n",
       "llRdrhArLvmKdh9u29jcFiRRkfLUxBiFNiqSU9icoZQHo5mYBI1MBgBH6wMNb+U7Pnw337H4gi1Y\n",
       "ciWs+uks3Z9fztUvfzxTm9Ne8XXkvQLHNytOOZeiD4e0PgkAIAYCYknKUNUDSXEKzdWNpnil7r4p\n",
       "xqkjTarZMtk/K8TQ6Qve78qqvXurGwIJqcOUKfUWHsm8KGvxSP68YudXq4pcj39X49uOK2X142O0\n",
       "Tz5/u/7TVybqH0rSya6ZBwD21/gubbrgWdDgEOx9WUhfBaC2ibcEBYm7a7x+ukrBMNcEZggyR0TE\n",
       "T8zUPjikQ4VosQZbTpS4vqizBKvqmvjsqnpfzaZyx9JPiz1/bfGKdgD45XB1zoIMzYbfTdS/NClB\n",
       "Gct0USiY3YL/g0LHy/uq/Ef6uo5+n0R/vyhp17Klpge763f8rMu6YU/zrn2nml+2WtH+Z+5IAAFc\n",
       "2bUTdTDOSNa9+cQY7YLsOIXhevEkCvzph7a8laecz/Un/z4/Ae04XeL3UQb57IwU9ZDr9UuKVajv\n",
       "nxp1+1UVIo/LjztZkKH59fO3G/JemqCfmaCRqbqbd90ZZ8FfjtkfAyD0J/9+C2h1hDwsSxvGjNDc\n",
       "b4zk5NfrSwiQblLHzZhg+Jf4aPlUwpDqkQqa9nimbt1/TDH8OitGMaQnj+RJS6B1fbF7SY1TqO5v\n",
       "/v0WAADl1f7zokgS7s7VT2DZ7pegUjBM7mjtiDZbcN4j0YrHH0rXpCtY0qPX0cVL0rv5jv/ZXend\n",
       "0u/EESYBAFBU4T4Qa5TflZOhTe7pmKpaP8kCVUVw1+yhXfJWvn1P3hnXi33JsTN6PnP3hHZ8Z3/h\n",
       "aLHzmkNPuPj7Bc/F/Q38CwjTpSwQXgE4Vmwry9tpfq/ZFgqFMy4AVDtCvi8rvMvOmv0N4YwbVgEA\n",
       "sPM72/KVnzfspmH7HQGCRLG2yL1+z8XwvPcdCbsAANh+xPzstgMtxeGKt+6MK3/tacfvwhWvIwMi\n",
       "oKEBtm0H7W+UVfkc/Y1V0BhoPlDr/w1w/eu1vjIgAgDg22OtX6/eYfnEz/focrZTHAFR+PSs56/7\n",
       "q32nwpjazxgwAQCwcU/T62t3WL7r6/jVRa6/byp1rei+Z98ZUAEAhEPHPc8fKnTU9nbgtnOe8h0l\n",
       "9hcGIqmODLQAHCy2Xti6v/XNRivf43f4fFvIteu854+VHnR7q9tfBlwAAGz+pnndB9vM26UebAe8\n",
       "SLHujPOTPVW+rwY+sxskAAC2HrA8t2Vvc7ffP1r9o+vwR2dcr92InIAbKKC1FZ5tB1tf+/G8p8sv\n",
       "N/9Q5zd/XR34LYCwV5JdccMEAMDBk45DH243r/X4xGvqxFa/GNpS7n6rwOwNWwHVE26oAADYurf1\n",
       "zx/utOzt+DMKYM0p17YtZZ5VNzqfsB2HewG1WXE8PoZ7gOclbTIvynZf9JV+fqZtfgs/8F/Nu5rB\n",
       "EIBmJ+8QRMmpU7EzGRsf2FzuePqYRbzh/zE26EwdrT10f6r6o8HOYzCJB9Dpff8tbnGLG8L/A/WE\n",
       "roTBs2RqAAAAAElFTkSuQmCC'\n",
       "     style='height:25px; border-radius:12px; display: inline-block; float: left; vertical-align: middle'></img>\n",
       "\n",
       "\n",
       "  <img src='data:image/png;base64,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'\n",
       "       style='height:15px; border-radius:12px; display: inline-block; float: left'></img>\n",
       "  \n",
       "\n",
       "\n",
       "\n",
       "\n",
       "</div>\n"
      ]
     },
     "metadata": {},
     "output_type": "display_data"
    },
    {
     "data": {
      "application/javascript": "(function(root) {\n  function now() {\n    return new Date();\n  }\n\n  var force = true;\n  var py_version = '3.2.2'.replace('rc', '-rc.').replace('.dev', '-dev.');\n  var is_dev = py_version.indexOf(\"+\") !== -1 || py_version.indexOf(\"-\") !== -1;\n  var reloading = true;\n  var Bokeh = root.Bokeh;\n  var bokeh_loaded = Bokeh != null && (Bokeh.version === py_version || (Bokeh.versions !== undefined && Bokeh.versions.has(py_version)));\n\n  if (typeof (root._bokeh_timeout) === \"undefined\" || force) {\n    root._bokeh_timeout = Date.now() + 5000;\n    root._bokeh_failed_load = false;\n  }\n\n  function run_callbacks() {\n    try {\n      root._bokeh_onload_callbacks.forEach(function(callback) {\n        if (callback != null)\n          callback();\n      });\n    } finally {\n      delete root._bokeh_onload_callbacks;\n    }\n    console.debug(\"Bokeh: all callbacks have finished\");\n  }\n\n  function load_libs(css_urls, js_urls, js_modules, js_exports, callback) {\n    if (css_urls == null) css_urls = [];\n    if (js_urls == null) js_urls = [];\n    if (js_modules == null) js_modules = [];\n    if (js_exports == null) js_exports = {};\n\n    root._bokeh_onload_callbacks.push(callback);\n\n    if (root._bokeh_is_loading > 0) {\n      console.debug(\"Bokeh: BokehJS is being loaded, scheduling callback at\", now());\n      return null;\n    }\n    if (js_urls.length === 0 && js_modules.length === 0 && Object.keys(js_exports).length === 0) {\n      run_callbacks();\n      return null;\n    }\n    if (!reloading) {\n      console.debug(\"Bokeh: BokehJS not loaded, scheduling load and callback at\", now());\n    }\n\n    function on_load() {\n      root._bokeh_is_loading--;\n      if (root._bokeh_is_loading === 0) {\n        console.debug(\"Bokeh: all BokehJS libraries/stylesheets loaded\");\n        run_callbacks()\n      }\n    }\n    window._bokeh_on_load = on_load\n\n    function on_error() {\n      console.error(\"failed to load \" + url);\n    }\n\n    var skip = [];\n    if (window.requirejs) {\n      window.requirejs.config({'packages': {}, 'paths': {'jspanel': 'https://cdn.jsdelivr.net/npm/jspanel4@4.12.0/dist/jspanel', 'jspanel-modal': 'https://cdn.jsdelivr.net/npm/jspanel4@4.12.0/dist/extensions/modal/jspanel.modal', 'jspanel-tooltip': 'https://cdn.jsdelivr.net/npm/jspanel4@4.12.0/dist/extensions/tooltip/jspanel.tooltip', 'jspanel-hint': 'https://cdn.jsdelivr.net/npm/jspanel4@4.12.0/dist/extensions/hint/jspanel.hint', 'jspanel-layout': 'https://cdn.jsdelivr.net/npm/jspanel4@4.12.0/dist/extensions/layout/jspanel.layout', 'jspanel-contextmenu': 'https://cdn.jsdelivr.net/npm/jspanel4@4.12.0/dist/extensions/contextmenu/jspanel.contextmenu', 'jspanel-dock': 'https://cdn.jsdelivr.net/npm/jspanel4@4.12.0/dist/extensions/dock/jspanel.dock', 'gridstack': 'https://cdn.jsdelivr.net/npm/gridstack@7.2.3/dist/gridstack-all', 'notyf': 'https://cdn.jsdelivr.net/npm/notyf@3/notyf.min'}, 'shim': {'jspanel': {'exports': 'jsPanel'}, 'gridstack': {'exports': 'GridStack'}}});\n      require([\"jspanel\"], function(jsPanel) {\n\twindow.jsPanel = jsPanel\n\ton_load()\n      })\n      require([\"jspanel-modal\"], function() {\n\ton_load()\n      })\n      require([\"jspanel-tooltip\"], function() {\n\ton_load()\n      })\n      require([\"jspanel-hint\"], function() {\n\ton_load()\n      })\n      require([\"jspanel-layout\"], function() {\n\ton_load()\n      })\n      require([\"jspanel-contextmenu\"], function() {\n\ton_load()\n      })\n      require([\"jspanel-dock\"], function() {\n\ton_load()\n      })\n      require([\"gridstack\"], function(GridStack) {\n\twindow.GridStack = GridStack\n\ton_load()\n      })\n      require([\"notyf\"], function() {\n\ton_load()\n      })\n      root._bokeh_is_loading = css_urls.length + 9;\n    } else {\n      root._bokeh_is_loading = css_urls.length + js_urls.length + js_modules.length + Object.keys(js_exports).length;\n    }\n\n    var existing_stylesheets = []\n    var links = document.getElementsByTagName('link')\n    for (var i = 0; i < links.length; i++) {\n      var link = links[i]\n      if (link.href != null) {\n\texisting_stylesheets.push(link.href)\n      }\n    }\n    for (var i = 0; i < css_urls.length; i++) {\n      var url = css_urls[i];\n      if (existing_stylesheets.indexOf(url) !== -1) {\n\ton_load()\n\tcontinue;\n      }\n      const element = document.createElement(\"link\");\n      element.onload = on_load;\n      element.onerror = on_error;\n      element.rel = \"stylesheet\";\n      element.type = \"text/css\";\n      element.href = url;\n      console.debug(\"Bokeh: injecting link tag for BokehJS stylesheet: \", url);\n      document.body.appendChild(element);\n    }    if (((window['jsPanel'] !== undefined) && (!(window['jsPanel'] instanceof HTMLElement))) || window.requirejs) {\n      var urls = ['https://cdn.holoviz.org/panel/1.2.3/dist/bundled/floatpanel/jspanel4@4.12.0/dist/jspanel.js', 'https://cdn.holoviz.org/panel/1.2.3/dist/bundled/floatpanel/jspanel4@4.12.0/dist/extensions/modal/jspanel.modal.js', 'https://cdn.holoviz.org/panel/1.2.3/dist/bundled/floatpanel/jspanel4@4.12.0/dist/extensions/tooltip/jspanel.tooltip.js', 'https://cdn.holoviz.org/panel/1.2.3/dist/bundled/floatpanel/jspanel4@4.12.0/dist/extensions/hint/jspanel.hint.js', 'https://cdn.holoviz.org/panel/1.2.3/dist/bundled/floatpanel/jspanel4@4.12.0/dist/extensions/layout/jspanel.layout.js', 'https://cdn.holoviz.org/panel/1.2.3/dist/bundled/floatpanel/jspanel4@4.12.0/dist/extensions/contextmenu/jspanel.contextmenu.js', 'https://cdn.holoviz.org/panel/1.2.3/dist/bundled/floatpanel/jspanel4@4.12.0/dist/extensions/dock/jspanel.dock.js'];\n      for (var i = 0; i < urls.length; i++) {\n        skip.push(urls[i])\n      }\n    }    if (((window['GridStack'] !== undefined) && (!(window['GridStack'] instanceof HTMLElement))) || window.requirejs) {\n      var urls = ['https://cdn.holoviz.org/panel/1.2.3/dist/bundled/gridstack/gridstack@7.2.3/dist/gridstack-all.js'];\n      for (var i = 0; i < urls.length; i++) {\n        skip.push(urls[i])\n      }\n    }    if (((window['Notyf'] !== undefined) && (!(window['Notyf'] instanceof HTMLElement))) || window.requirejs) {\n      var urls = ['https://cdn.holoviz.org/panel/1.2.3/dist/bundled/notificationarea/notyf@3/notyf.min.js'];\n      for (var i = 0; i < urls.length; i++) {\n        skip.push(urls[i])\n      }\n    }    var existing_scripts = []\n    var scripts = document.getElementsByTagName('script')\n    for (var i = 0; i < scripts.length; i++) {\n      var script = scripts[i]\n      if (script.src != null) {\n\texisting_scripts.push(script.src)\n      }\n    }\n    for (var i = 0; i < js_urls.length; i++) {\n      var url = js_urls[i];\n      if (skip.indexOf(url) !== -1 || existing_scripts.indexOf(url) !== -1) {\n\tif (!window.requirejs) {\n\t  on_load();\n\t}\n\tcontinue;\n      }\n      var element = document.createElement('script');\n      element.onload = on_load;\n      element.onerror = on_error;\n      element.async = false;\n      element.src = url;\n      console.debug(\"Bokeh: injecting script tag for BokehJS library: \", url);\n      document.head.appendChild(element);\n    }\n    for (var i = 0; i < js_modules.length; i++) {\n      var url = js_modules[i];\n      if (skip.indexOf(url) !== -1 || existing_scripts.indexOf(url) !== -1) {\n\tif (!window.requirejs) {\n\t  on_load();\n\t}\n\tcontinue;\n      }\n      var element = document.createElement('script');\n      element.onload = on_load;\n      element.onerror = on_error;\n      element.async = false;\n      element.src = url;\n      element.type = \"module\";\n      console.debug(\"Bokeh: injecting script tag for BokehJS library: \", url);\n      document.head.appendChild(element);\n    }\n    for (const name in js_exports) {\n      var url = js_exports[name];\n      if (skip.indexOf(url) >= 0 || root[name] != null) {\n\tif (!window.requirejs) {\n\t  on_load();\n\t}\n\tcontinue;\n      }\n      var element = document.createElement('script');\n      element.onerror = on_error;\n      element.async = false;\n      element.type = \"module\";\n      console.debug(\"Bokeh: injecting script tag for BokehJS library: \", url);\n      element.textContent = `\n      import ${name} from \"${url}\"\n      window.${name} = ${name}\n      window._bokeh_on_load()\n      `\n      document.head.appendChild(element);\n    }\n    if (!js_urls.length && !js_modules.length) {\n      on_load()\n    }\n  };\n\n  function inject_raw_css(css) {\n    const element = document.createElement(\"style\");\n    element.appendChild(document.createTextNode(css));\n    document.body.appendChild(element);\n  }\n\n  var js_urls = [];\n  var js_modules = [];\n  var js_exports = {};\n  var css_urls = [];\n  var inline_js = [    function(Bokeh) {\n      Bokeh.set_log_level(\"info\");\n    },\nfunction(Bokeh) {} // ensure no trailing comma for IE\n  ];\n\n  function run_inline_js() {\n    if ((root.Bokeh !== undefined) || (force === true)) {\n      for (var i = 0; i < inline_js.length; i++) {\n        inline_js[i].call(root, root.Bokeh);\n      }\n      // Cache old bokeh versions\n      if (Bokeh != undefined && !reloading) {\n\tvar NewBokeh = root.Bokeh;\n\tif (Bokeh.versions === undefined) {\n\t  Bokeh.versions = new Map();\n\t}\n\tif (NewBokeh.version !== Bokeh.version) {\n\t  Bokeh.versions.set(NewBokeh.version, NewBokeh)\n\t}\n\troot.Bokeh = Bokeh;\n      }} else if (Date.now() < root._bokeh_timeout) {\n      setTimeout(run_inline_js, 100);\n    } else if (!root._bokeh_failed_load) {\n      console.log(\"Bokeh: BokehJS failed to load within specified timeout.\");\n      root._bokeh_failed_load = true;\n    }\n    root._bokeh_is_initializing = false\n  }\n\n  function load_or_wait() {\n    // Implement a backoff loop that tries to ensure we do not load multiple\n    // versions of Bokeh and its dependencies at the same time.\n    // In recent versions we use the root._bokeh_is_initializing flag\n    // to determine whether there is an ongoing attempt to initialize\n    // bokeh, however for backward compatibility we also try to ensure\n    // that we do not start loading a newer (Panel>=1.0 and Bokeh>3) version\n    // before older versions are fully initialized.\n    if (root._bokeh_is_initializing && Date.now() > root._bokeh_timeout) {\n      root._bokeh_is_initializing = false;\n      root._bokeh_onload_callbacks = undefined;\n      console.log(\"Bokeh: BokehJS was loaded multiple times but one version failed to initialize.\");\n      load_or_wait();\n    } else if (root._bokeh_is_initializing || (typeof root._bokeh_is_initializing === \"undefined\" && root._bokeh_onload_callbacks !== undefined)) {\n      setTimeout(load_or_wait, 100);\n    } else {\n      Bokeh = root.Bokeh;\n      bokeh_loaded = Bokeh != null && (Bokeh.version === py_version || (Bokeh.versions !== undefined && Bokeh.versions.has(py_version)));\n      root._bokeh_is_initializing = true\n      root._bokeh_onload_callbacks = []\n      if (!reloading && (!bokeh_loaded || is_dev)) {\n\troot.Bokeh = undefined;\n      }\n      load_libs(css_urls, js_urls, js_modules, js_exports, function() {\n\tconsole.debug(\"Bokeh: BokehJS plotting callback run at\", now());\n\trun_inline_js();\n      });\n    }\n  }\n  // Give older versions of the autoload script a head-start to ensure\n  // they initialize before we start loading newer version.\n  setTimeout(load_or_wait, 100)\n}(window));",
      "application/vnd.holoviews_load.v0+json": ""
     },
     "metadata": {},
     "output_type": "display_data"
    },
    {
     "data": {
      "application/javascript": "\nif ((window.PyViz === undefined) || (window.PyViz instanceof HTMLElement)) {\n  window.PyViz = {comms: {}, comm_status:{}, kernels:{}, receivers: {}, plot_index: []}\n}\n\n\n    function JupyterCommManager() {\n    }\n\n    JupyterCommManager.prototype.register_target = function(plot_id, comm_id, msg_handler) {\n      if (window.comm_manager || ((window.Jupyter !== undefined) && (Jupyter.notebook.kernel != null))) {\n        var comm_manager = window.comm_manager || Jupyter.notebook.kernel.comm_manager;\n        comm_manager.register_target(comm_id, function(comm) {\n          comm.on_msg(msg_handler);\n        });\n      } else if ((plot_id in window.PyViz.kernels) && (window.PyViz.kernels[plot_id])) {\n        window.PyViz.kernels[plot_id].registerCommTarget(comm_id, function(comm) {\n          comm.onMsg = msg_handler;\n        });\n      } else if (typeof google != 'undefined' && google.colab.kernel != null) {\n        google.colab.kernel.comms.registerTarget(comm_id, (comm) => {\n          var messages = comm.messages[Symbol.asyncIterator]();\n          function processIteratorResult(result) {\n            var message = result.value;\n            console.log(message)\n            var content = {data: message.data, comm_id};\n            var buffers = []\n            for (var buffer of message.buffers || []) {\n              buffers.push(new DataView(buffer))\n            }\n            var metadata = message.metadata || {};\n            var msg = {content, buffers, metadata}\n            msg_handler(msg);\n            return messages.next().then(processIteratorResult);\n          }\n          return messages.next().then(processIteratorResult);\n        })\n      }\n    }\n\n    JupyterCommManager.prototype.get_client_comm = function(plot_id, comm_id, msg_handler) {\n      if (comm_id in window.PyViz.comms) {\n        return window.PyViz.comms[comm_id];\n      } else if (window.comm_manager || ((window.Jupyter !== undefined) && (Jupyter.notebook.kernel != null))) {\n        var comm_manager = window.comm_manager || Jupyter.notebook.kernel.comm_manager;\n        var comm = comm_manager.new_comm(comm_id, {}, {}, {}, comm_id);\n        if (msg_handler) {\n          comm.on_msg(msg_handler);\n        }\n      } else if ((plot_id in window.PyViz.kernels) && (window.PyViz.kernels[plot_id])) {\n        var comm = window.PyViz.kernels[plot_id].connectToComm(comm_id);\n        comm.open();\n        if (msg_handler) {\n          comm.onMsg = msg_handler;\n        }\n      } else if (typeof google != 'undefined' && google.colab.kernel != null) {\n        var comm_promise = google.colab.kernel.comms.open(comm_id)\n        comm_promise.then((comm) => {\n          window.PyViz.comms[comm_id] = comm;\n          if (msg_handler) {\n            var messages = comm.messages[Symbol.asyncIterator]();\n            function processIteratorResult(result) {\n              var message = result.value;\n              var content = {data: message.data};\n              var metadata = message.metadata || {comm_id};\n              var msg = {content, metadata}\n              msg_handler(msg);\n              return messages.next().then(processIteratorResult);\n            }\n            return messages.next().then(processIteratorResult);\n          }\n        }) \n        var sendClosure = (data, metadata, buffers, disposeOnDone) => {\n          return comm_promise.then((comm) => {\n            comm.send(data, metadata, buffers, disposeOnDone);\n          });\n        };\n        var comm = {\n          send: sendClosure\n        };\n      }\n      window.PyViz.comms[comm_id] = comm;\n      return comm;\n    }\n    window.PyViz.comm_manager = new JupyterCommManager();\n    \n\n\nvar JS_MIME_TYPE = 'application/javascript';\nvar HTML_MIME_TYPE = 'text/html';\nvar EXEC_MIME_TYPE = 'application/vnd.holoviews_exec.v0+json';\nvar CLASS_NAME = 'output';\n\n/**\n * Render data to the DOM node\n */\nfunction render(props, node) {\n  var div = document.createElement(\"div\");\n  var script = document.createElement(\"script\");\n  node.appendChild(div);\n  node.appendChild(script);\n}\n\n/**\n * Handle when a new output is added\n */\nfunction handle_add_output(event, handle) {\n  var output_area = handle.output_area;\n  var output = handle.output;\n  if ((output.data == undefined) || (!output.data.hasOwnProperty(EXEC_MIME_TYPE))) {\n    return\n  }\n  var id = output.metadata[EXEC_MIME_TYPE][\"id\"];\n  var toinsert = output_area.element.find(\".\" + CLASS_NAME.split(' ')[0]);\n  if (id !== undefined) {\n    var nchildren = toinsert.length;\n    var html_node = toinsert[nchildren-1].children[0];\n    html_node.innerHTML = output.data[HTML_MIME_TYPE];\n    var scripts = [];\n    var nodelist = html_node.querySelectorAll(\"script\");\n    for (var i in nodelist) {\n      if (nodelist.hasOwnProperty(i)) {\n        scripts.push(nodelist[i])\n      }\n    }\n\n    scripts.forEach( function (oldScript) {\n      var newScript = document.createElement(\"script\");\n      var attrs = [];\n      var nodemap = oldScript.attributes;\n      for (var j in nodemap) {\n        if (nodemap.hasOwnProperty(j)) {\n          attrs.push(nodemap[j])\n        }\n      }\n      attrs.forEach(function(attr) { newScript.setAttribute(attr.name, attr.value) });\n      newScript.appendChild(document.createTextNode(oldScript.innerHTML));\n      oldScript.parentNode.replaceChild(newScript, oldScript);\n    });\n    if (JS_MIME_TYPE in output.data) {\n      toinsert[nchildren-1].children[1].textContent = output.data[JS_MIME_TYPE];\n    }\n    output_area._hv_plot_id = id;\n    if ((window.Bokeh !== undefined) && (id in Bokeh.index)) {\n      window.PyViz.plot_index[id] = Bokeh.index[id];\n    } else {\n      window.PyViz.plot_index[id] = null;\n    }\n  } else if (output.metadata[EXEC_MIME_TYPE][\"server_id\"] !== undefined) {\n    var bk_div = document.createElement(\"div\");\n    bk_div.innerHTML = output.data[HTML_MIME_TYPE];\n    var script_attrs = bk_div.children[0].attributes;\n    for (var i = 0; i < script_attrs.length; i++) {\n      toinsert[toinsert.length - 1].childNodes[1].setAttribute(script_attrs[i].name, script_attrs[i].value);\n    }\n    // store reference to server id on output_area\n    output_area._bokeh_server_id = output.metadata[EXEC_MIME_TYPE][\"server_id\"];\n  }\n}\n\n/**\n * Handle when an output is cleared or removed\n */\nfunction handle_clear_output(event, handle) {\n  var id = handle.cell.output_area._hv_plot_id;\n  var server_id = handle.cell.output_area._bokeh_server_id;\n  if (((id === undefined) || !(id in PyViz.plot_index)) && (server_id !== undefined)) { return; }\n  var comm = window.PyViz.comm_manager.get_client_comm(\"hv-extension-comm\", \"hv-extension-comm\", function () {});\n  if (server_id !== null) {\n    comm.send({event_type: 'server_delete', 'id': server_id});\n    return;\n  } else if (comm !== null) {\n    comm.send({event_type: 'delete', 'id': id});\n  }\n  delete PyViz.plot_index[id];\n  if ((window.Bokeh !== undefined) & (id in window.Bokeh.index)) {\n    var doc = window.Bokeh.index[id].model.document\n    doc.clear();\n    const i = window.Bokeh.documents.indexOf(doc);\n    if (i > -1) {\n      window.Bokeh.documents.splice(i, 1);\n    }\n  }\n}\n\n/**\n * Handle kernel restart event\n */\nfunction handle_kernel_cleanup(event, handle) {\n  delete PyViz.comms[\"hv-extension-comm\"];\n  window.PyViz.plot_index = {}\n}\n\n/**\n * Handle update_display_data messages\n */\nfunction handle_update_output(event, handle) {\n  handle_clear_output(event, {cell: {output_area: handle.output_area}})\n  handle_add_output(event, handle)\n}\n\nfunction register_renderer(events, OutputArea) {\n  function append_mime(data, metadata, element) {\n    // create a DOM node to render to\n    var toinsert = this.create_output_subarea(\n    metadata,\n    CLASS_NAME,\n    EXEC_MIME_TYPE\n    );\n    this.keyboard_manager.register_events(toinsert);\n    // Render to node\n    var props = {data: data, metadata: metadata[EXEC_MIME_TYPE]};\n    render(props, toinsert[0]);\n    element.append(toinsert);\n    return toinsert\n  }\n\n  events.on('output_added.OutputArea', handle_add_output);\n  events.on('output_updated.OutputArea', handle_update_output);\n  events.on('clear_output.CodeCell', handle_clear_output);\n  events.on('delete.Cell', handle_clear_output);\n  events.on('kernel_ready.Kernel', handle_kernel_cleanup);\n\n  OutputArea.prototype.register_mime_type(EXEC_MIME_TYPE, append_mime, {\n    safe: true,\n    index: 0\n  });\n}\n\nif (window.Jupyter !== undefined) {\n  try {\n    var events = require('base/js/events');\n    var OutputArea = require('notebook/js/outputarea').OutputArea;\n    if (OutputArea.prototype.mime_types().indexOf(EXEC_MIME_TYPE) == -1) {\n      register_renderer(events, OutputArea);\n    }\n  } catch(err) {\n  }\n}\n",
      "application/vnd.holoviews_load.v0+json": ""
     },
     "metadata": {},
     "output_type": "display_data"
    },
    {
     "data": {
      "text/html": [
       "<style>*[data-root-id],\n",
       "*[data-root-id] > * {\n",
       "  box-sizing: border-box;\n",
       "  font-family: var(--jp-ui-font-family);\n",
       "  font-size: var(--jp-ui-font-size1);\n",
       "  color: var(--vscode-editor-foreground, var(--jp-ui-font-color1));\n",
       "}\n",
       "\n",
       "/* Override VSCode background color */\n",
       ".cell-output-ipywidget-background:has(\n",
       "    > .cell-output-ipywidget-background > .lm-Widget > *[data-root-id]\n",
       "  ),\n",
       ".cell-output-ipywidget-background:has(> .lm-Widget > *[data-root-id]) {\n",
       "  background-color: transparent !important;\n",
       "}\n",
       "</style>"
      ]
     },
     "metadata": {},
     "output_type": "display_data"
    },
    {
     "name": "stdout",
     "output_type": "stream",
     "text": [
      "2024-04-17 15:37:42,191 - gaia.gaia.config - INFO - no dataset provided ... you must be loading it from an existing model\n"
     ]
    }
   ],
   "source": [
    "import sys\n",
    "sys.path.append(\"/proj/gaia-climate/team/kirill/gaia-surrogate\")\n",
    "from gaia.models import TrainingModel\n",
    "from gaia.training import get_checkpoint_file, load_hparams_file\n",
    "import glob,os\n",
    "import pandas as pd\n",
    "from pathlib import Path\n",
    "import tqdm.auto as tqdm"
   ]
  },
  {
   "cell_type": "code",
   "execution_count": 2,
   "id": "759d969d-7bd2-44ee-921c-5993acaa6dda",
   "metadata": {
    "tags": []
   },
   "outputs": [
    {
     "data": {
      "application/vnd.jupyter.widget-view+json": {
       "model_id": "1fce01c532184072b9b7d09fa308326b",
       "version_major": 2,
       "version_minor": 0
      },
      "text/plain": [
       "  0%|          | 0/30 [00:00<?, ?it/s]"
      ]
     },
     "metadata": {},
     "output_type": "display_data"
    },
    {
     "name": "stderr",
     "output_type": "stream",
     "text": [
      "Lightning automatically upgraded your loaded checkpoint from v1.8.2 to v2.0.9.post0. To apply the upgrade to your files permanently, run `python -m pytorch_lightning.utilities.upgrade_checkpoint --file lightning_logs/version_0/checkpoints/epoch=99-step=394200.ckpt`\n"
     ]
    },
    {
     "name": "stdout",
     "output_type": "stream",
     "text": [
      "2024-04-17 15:37:51,048 - gaia.gaia.models - WARNING - no stats provided, assuming will be loaded later, initializing randomly\n",
      "2024-04-17 15:37:51,090 - gaia.gaia.layers - WARNING - hardcoding min std threshold to 1e-10\n",
      "2024-04-17 15:37:51,091 - gaia.gaia.layers - WARNING - hardcoding min std threshold to 1e-10\n",
      "2024-04-17 15:37:51,295 - gaia.gaia.models - INFO - unknown kwargs {'input_size': 164, 'output_size': 54}\n",
      "2024-04-17 15:37:51,296 - gaia.gaia.models - INFO - using output weights [0.5500000715255737, 0.5500000715255737, 0.0, 0.0, 0.0, 0.0, 0.0, 0.0, 0.0, 0.351999968290329, 0.3879999816417694, 0.42399996519088745, 0.4599999785423279, 0.4959999918937683, 0.531999945640564, 0.5679999589920044, 0.6039999723434448, 0.6399999856948853, 0.6759999990463257, 0.7120000123977661, 0.7480000257492065, 0.784000039100647, 0.8199999928474426, 0.8560000061988831, 0.8920000195503235, 0.9279999732971191, 0.9639999866485596, 1.0, 0.10000000149011612, 0.13600000739097595, 0.171999990940094, 0.20800000429153442, 0.24399998784065247, 0.2800000011920929, 0.31599998474121094, 0.351999968290329, 0.3879999816417694, 0.42399996519088745, 0.4599999785423279, 0.4959999918937683, 0.531999945640564, 0.5679999589920044, 0.6039999723434448, 0.6399999856948853, 0.6759999990463257, 0.7120000123977661, 0.7480000257492065, 0.784000039100647, 0.8199999928474426, 0.8560000061988831, 0.8920000195503235, 0.9279999732971191, 0.9639999866485596, 1.0]\n",
      "2024-04-17 15:37:51,297 - gaia.gaia.models - WARNING - unkown kwargs ['dataset_params', 'seed', 'ckpt', 'model_type', 'model_grid', 'upweigh_low_levels']\n"
     ]
    },
    {
     "name": "stderr",
     "output_type": "stream",
     "text": [
      "Lightning automatically upgraded your loaded checkpoint from v1.7.7 to v2.0.9.post0. To apply the upgrade to your files permanently, run `python -m pytorch_lightning.utilities.upgrade_checkpoint --file lightning_logs/version_1/checkpoints/epoch=99-step=78900.ckpt`\n"
     ]
    },
    {
     "name": "stdout",
     "output_type": "stream",
     "text": [
      "2024-04-17 15:37:52,846 - gaia.gaia.models - WARNING - no stats provided, assuming will be loaded later, initializing randomly\n",
      "2024-04-17 15:37:52,847 - gaia.gaia.layers - WARNING - hardcoding min std threshold to 1e-10\n",
      "2024-04-17 15:37:52,847 - gaia.gaia.layers - WARNING - hardcoding min std threshold to 1e-10\n",
      "2024-04-17 15:37:52,866 - gaia.gaia.models - INFO - unknown kwargs {'input_size': 164, 'output_size': 54}\n",
      "2024-04-17 15:37:52,866 - gaia.gaia.models - INFO - using output weights [0.5500000715255737, 0.5500000715255737, 0.0, 0.0, 0.0, 0.0, 0.0, 0.0, 0.0, 0.351999968290329, 0.3879999816417694, 0.42399996519088745, 0.4599999785423279, 0.4959999918937683, 0.531999945640564, 0.5679999589920044, 0.6039999723434448, 0.6399999856948853, 0.6759999990463257, 0.7120000123977661, 0.7480000257492065, 0.784000039100647, 0.8199999928474426, 0.8560000061988831, 0.8920000195503235, 0.9279999732971191, 0.9639999866485596, 1.0, 0.10000000149011612, 0.13600000739097595, 0.171999990940094, 0.20800000429153442, 0.24399998784065247, 0.2800000011920929, 0.31599998474121094, 0.351999968290329, 0.3879999816417694, 0.42399996519088745, 0.4599999785423279, 0.4959999918937683, 0.531999945640564, 0.5679999589920044, 0.6039999723434448, 0.6399999856948853, 0.6759999990463257, 0.7120000123977661, 0.7480000257492065, 0.784000039100647, 0.8199999928474426, 0.8560000061988831, 0.8920000195503235, 0.9279999732971191, 0.9639999866485596, 1.0]\n",
      "2024-04-17 15:37:52,867 - gaia.gaia.models - WARNING - unkown kwargs ['dataset_params', 'seed', 'ckpt', 'model_type', 'model_grid', 'upweigh_low_levels']\n"
     ]
    },
    {
     "name": "stderr",
     "output_type": "stream",
     "text": [
      "Lightning automatically upgraded your loaded checkpoint from v1.7.7 to v2.0.9.post0. To apply the upgrade to your files permanently, run `python -m pytorch_lightning.utilities.upgrade_checkpoint --file lightning_logs/version_2/checkpoints/epoch=99-step=19800.ckpt`\n"
     ]
    },
    {
     "name": "stdout",
     "output_type": "stream",
     "text": [
      "2024-04-17 15:37:53,529 - gaia.gaia.models - WARNING - no stats provided, assuming will be loaded later, initializing randomly\n",
      "2024-04-17 15:37:53,529 - gaia.gaia.layers - WARNING - hardcoding min std threshold to 1e-10\n",
      "2024-04-17 15:37:53,530 - gaia.gaia.layers - WARNING - hardcoding min std threshold to 1e-10\n",
      "2024-04-17 15:37:53,539 - gaia.gaia.models - INFO - using output weights [0.5500000715255737, 0.5500000715255737, 0.0, 0.0, 0.0, 0.0, 0.0, 0.0, 0.0, 0.351999968290329, 0.3879999816417694, 0.42399996519088745, 0.4599999785423279, 0.4959999918937683, 0.531999945640564, 0.5679999589920044, 0.6039999723434448, 0.6399999856948853, 0.6759999990463257, 0.7120000123977661, 0.7480000257492065, 0.784000039100647, 0.8199999928474426, 0.8560000061988831, 0.8920000195503235, 0.9279999732971191, 0.9639999866485596, 1.0, 0.10000000149011612, 0.13600000739097595, 0.171999990940094, 0.20800000429153442, 0.24399998784065247, 0.2800000011920929, 0.31599998474121094, 0.351999968290329, 0.3879999816417694, 0.42399996519088745, 0.4599999785423279, 0.4959999918937683, 0.531999945640564, 0.5679999589920044, 0.6039999723434448, 0.6399999856948853, 0.6759999990463257, 0.7120000123977661, 0.7480000257492065, 0.784000039100647, 0.8199999928474426, 0.8560000061988831, 0.8920000195503235, 0.9279999732971191, 0.9639999866485596, 1.0]\n",
      "2024-04-17 15:37:53,540 - gaia.gaia.models - WARNING - unkown kwargs ['dataset_params', 'seed', 'ckpt', 'model_type', 'model_grid', 'upweigh_low_levels']\n"
     ]
    },
    {
     "name": "stderr",
     "output_type": "stream",
     "text": [
      "Lightning automatically upgraded your loaded checkpoint from v1.7.7 to v2.0.9.post0. To apply the upgrade to your files permanently, run `python -m pytorch_lightning.utilities.upgrade_checkpoint --file lightning_logs/version_3/checkpoints/epoch=99-step=24700.ckpt`\n"
     ]
    },
    {
     "name": "stdout",
     "output_type": "stream",
     "text": [
      "2024-04-17 15:37:54,365 - gaia.gaia.models - WARNING - no stats provided, assuming will be loaded later, initializing randomly\n",
      "2024-04-17 15:37:54,366 - gaia.gaia.layers - WARNING - hardcoding min std threshold to 1e-10\n",
      "2024-04-17 15:37:54,366 - gaia.gaia.layers - WARNING - hardcoding min std threshold to 1e-10\n",
      "2024-04-17 15:37:54,377 - gaia.gaia.models - INFO - using output weights [0.5500000715255737, 0.5500000715255737, 0.0, 0.0, 0.0, 0.0, 0.0, 0.0, 0.0, 0.351999968290329, 0.3879999816417694, 0.42399996519088745, 0.4599999785423279, 0.4959999918937683, 0.531999945640564, 0.5679999589920044, 0.6039999723434448, 0.6399999856948853, 0.6759999990463257, 0.7120000123977661, 0.7480000257492065, 0.784000039100647, 0.8199999928474426, 0.8560000061988831, 0.8920000195503235, 0.9279999732971191, 0.9639999866485596, 1.0, 0.10000000149011612, 0.13600000739097595, 0.171999990940094, 0.20800000429153442, 0.24399998784065247, 0.2800000011920929, 0.31599998474121094, 0.351999968290329, 0.3879999816417694, 0.42399996519088745, 0.4599999785423279, 0.4959999918937683, 0.531999945640564, 0.5679999589920044, 0.6039999723434448, 0.6399999856948853, 0.6759999990463257, 0.7120000123977661, 0.7480000257492065, 0.784000039100647, 0.8199999928474426, 0.8560000061988831, 0.8920000195503235, 0.9279999732971191, 0.9639999866485596, 1.0]\n",
      "2024-04-17 15:37:54,377 - gaia.gaia.models - WARNING - unkown kwargs ['dataset_params', 'seed', 'ckpt', 'model_type', 'model_grid', 'upweigh_low_levels']\n"
     ]
    },
    {
     "name": "stderr",
     "output_type": "stream",
     "text": [
      "Lightning automatically upgraded your loaded checkpoint from v1.7.7 to v2.0.9.post0. To apply the upgrade to your files permanently, run `python -m pytorch_lightning.utilities.upgrade_checkpoint --file lightning_logs/version_4/checkpoints/epoch=99-step=98600.ckpt`\n"
     ]
    },
    {
     "name": "stdout",
     "output_type": "stream",
     "text": [
      "2024-04-17 15:37:56,703 - gaia.gaia.models - WARNING - no stats provided, assuming will be loaded later, initializing randomly\n",
      "2024-04-17 15:37:56,704 - gaia.gaia.layers - WARNING - hardcoding min std threshold to 1e-10\n",
      "2024-04-17 15:37:56,704 - gaia.gaia.layers - WARNING - hardcoding min std threshold to 1e-10\n",
      "2024-04-17 15:37:56,800 - gaia.gaia.models - INFO - unknown kwargs {'input_size': 164, 'output_size': 54}\n",
      "2024-04-17 15:37:56,802 - gaia.gaia.models - INFO - using output weights [0.5500000715255737, 0.5500000715255737, 0.0, 0.0, 0.0, 0.0, 0.0, 0.0, 0.0, 0.351999968290329, 0.3879999816417694, 0.42399996519088745, 0.4599999785423279, 0.4959999918937683, 0.531999945640564, 0.5679999589920044, 0.6039999723434448, 0.6399999856948853, 0.6759999990463257, 0.7120000123977661, 0.7480000257492065, 0.784000039100647, 0.8199999928474426, 0.8560000061988831, 0.8920000195503235, 0.9279999732971191, 0.9639999866485596, 1.0, 0.10000000149011612, 0.13600000739097595, 0.171999990940094, 0.20800000429153442, 0.24399998784065247, 0.2800000011920929, 0.31599998474121094, 0.351999968290329, 0.3879999816417694, 0.42399996519088745, 0.4599999785423279, 0.4959999918937683, 0.531999945640564, 0.5679999589920044, 0.6039999723434448, 0.6399999856948853, 0.6759999990463257, 0.7120000123977661, 0.7480000257492065, 0.784000039100647, 0.8199999928474426, 0.8560000061988831, 0.8920000195503235, 0.9279999732971191, 0.9639999866485596, 1.0]\n",
      "2024-04-17 15:37:56,803 - gaia.gaia.models - WARNING - unkown kwargs ['dataset_params', 'seed', 'ckpt', 'model_type', 'model_grid', 'upweigh_low_levels']\n"
     ]
    },
    {
     "name": "stderr",
     "output_type": "stream",
     "text": [
      "Lightning automatically upgraded your loaded checkpoint from v1.8.2 to v2.0.9.post0. To apply the upgrade to your files permanently, run `python -m pytorch_lightning.utilities.upgrade_checkpoint --file ../model-hyperparams/lightning_logs/version_0/checkpoints/epoch=99-step=98600.ckpt`\n"
     ]
    },
    {
     "name": "stdout",
     "output_type": "stream",
     "text": [
      "2024-04-17 15:37:57,202 - gaia.gaia.models - WARNING - no stats provided, assuming will be loaded later, initializing randomly\n",
      "2024-04-17 15:37:57,203 - gaia.gaia.layers - WARNING - hardcoding min std threshold to 1e-10\n",
      "2024-04-17 15:37:57,203 - gaia.gaia.layers - WARNING - hardcoding min std threshold to 1e-10\n",
      "2024-04-17 15:37:57,634 - gaia.gaia.models - INFO - using output weights [0.5500000715255737, 0.5500000715255737, 0.0, 0.0, 0.0, 0.0, 0.0, 0.0, 0.0, 0.351999968290329, 0.3879999816417694, 0.42399996519088745, 0.4599999785423279, 0.4959999918937683, 0.531999945640564, 0.5679999589920044, 0.6039999723434448, 0.6399999856948853, 0.6759999990463257, 0.7120000123977661, 0.7480000257492065, 0.784000039100647, 0.8199999928474426, 0.8560000061988831, 0.8920000195503235, 0.9279999732971191, 0.9639999866485596, 1.0, 0.10000000149011612, 0.13600000739097595, 0.171999990940094, 0.20800000429153442, 0.24399998784065247, 0.2800000011920929, 0.31599998474121094, 0.351999968290329, 0.3879999816417694, 0.42399996519088745, 0.4599999785423279, 0.4959999918937683, 0.531999945640564, 0.5679999589920044, 0.6039999723434448, 0.6399999856948853, 0.6759999990463257, 0.7120000123977661, 0.7480000257492065, 0.784000039100647, 0.8199999928474426, 0.8560000061988831, 0.8920000195503235, 0.9279999732971191, 0.9639999866485596, 1.0]\n",
      "2024-04-17 15:37:57,636 - gaia.gaia.models - WARNING - unkown kwargs ['dataset_params', 'seed', 'ckpt', 'model_type', 'model_grid', 'upweigh_low_levels']\n"
     ]
    },
    {
     "name": "stderr",
     "output_type": "stream",
     "text": [
      "Lightning automatically upgraded your loaded checkpoint from v1.8.2 to v2.0.9.post0. To apply the upgrade to your files permanently, run `python -m pytorch_lightning.utilities.upgrade_checkpoint --file ../model-hyperparams/lightning_logs/version_1/checkpoints/epoch=99-step=49300.ckpt`\n"
     ]
    },
    {
     "name": "stdout",
     "output_type": "stream",
     "text": [
      "2024-04-17 15:37:58,277 - gaia.gaia.models - WARNING - no stats provided, assuming will be loaded later, initializing randomly\n",
      "2024-04-17 15:37:58,277 - gaia.gaia.layers - WARNING - hardcoding min std threshold to 1e-10\n",
      "2024-04-17 15:37:58,278 - gaia.gaia.layers - WARNING - hardcoding min std threshold to 1e-10\n",
      "2024-04-17 15:37:58,388 - gaia.gaia.models - INFO - using output weights [0.5500000715255737, 0.5500000715255737, 0.0, 0.0, 0.0, 0.0, 0.0, 0.0, 0.0, 0.351999968290329, 0.3879999816417694, 0.42399996519088745, 0.4599999785423279, 0.4959999918937683, 0.531999945640564, 0.5679999589920044, 0.6039999723434448, 0.6399999856948853, 0.6759999990463257, 0.7120000123977661, 0.7480000257492065, 0.784000039100647, 0.8199999928474426, 0.8560000061988831, 0.8920000195503235, 0.9279999732971191, 0.9639999866485596, 1.0, 0.10000000149011612, 0.13600000739097595, 0.171999990940094, 0.20800000429153442, 0.24399998784065247, 0.2800000011920929, 0.31599998474121094, 0.351999968290329, 0.3879999816417694, 0.42399996519088745, 0.4599999785423279, 0.4959999918937683, 0.531999945640564, 0.5679999589920044, 0.6039999723434448, 0.6399999856948853, 0.6759999990463257, 0.7120000123977661, 0.7480000257492065, 0.784000039100647, 0.8199999928474426, 0.8560000061988831, 0.8920000195503235, 0.9279999732971191, 0.9639999866485596, 1.0]\n",
      "2024-04-17 15:37:58,389 - gaia.gaia.models - WARNING - unkown kwargs ['dataset_params', 'seed', 'ckpt', 'model_type', 'model_grid', 'upweigh_low_levels']\n"
     ]
    },
    {
     "name": "stderr",
     "output_type": "stream",
     "text": [
      "Lightning automatically upgraded your loaded checkpoint from v1.8.2 to v2.0.9.post0. To apply the upgrade to your files permanently, run `python -m pytorch_lightning.utilities.upgrade_checkpoint --file ../model-hyperparams/lightning_logs/version_2/checkpoints/epoch=99-step=24700.ckpt`\n"
     ]
    },
    {
     "name": "stdout",
     "output_type": "stream",
     "text": [
      "2024-04-17 15:37:58,479 - gaia.gaia.models - WARNING - no stats provided, assuming will be loaded later, initializing randomly\n",
      "2024-04-17 15:37:58,479 - gaia.gaia.layers - WARNING - hardcoding min std threshold to 1e-10\n",
      "2024-04-17 15:37:58,480 - gaia.gaia.layers - WARNING - hardcoding min std threshold to 1e-10\n",
      "2024-04-17 15:37:58,558 - gaia.gaia.models - INFO - using output weights [0.5500000715255737, 0.5500000715255737, 0.0, 0.0, 0.0, 0.0, 0.0, 0.0, 0.0, 0.351999968290329, 0.3879999816417694, 0.42399996519088745, 0.4599999785423279, 0.4959999918937683, 0.531999945640564, 0.5679999589920044, 0.6039999723434448, 0.6399999856948853, 0.6759999990463257, 0.7120000123977661, 0.7480000257492065, 0.784000039100647, 0.8199999928474426, 0.8560000061988831, 0.8920000195503235, 0.9279999732971191, 0.9639999866485596, 1.0, 0.10000000149011612, 0.13600000739097595, 0.171999990940094, 0.20800000429153442, 0.24399998784065247, 0.2800000011920929, 0.31599998474121094, 0.351999968290329, 0.3879999816417694, 0.42399996519088745, 0.4599999785423279, 0.4959999918937683, 0.531999945640564, 0.5679999589920044, 0.6039999723434448, 0.6399999856948853, 0.6759999990463257, 0.7120000123977661, 0.7480000257492065, 0.784000039100647, 0.8199999928474426, 0.8560000061988831, 0.8920000195503235, 0.9279999732971191, 0.9639999866485596, 1.0]\n",
      "2024-04-17 15:37:58,559 - gaia.gaia.models - WARNING - unkown kwargs ['dataset_params', 'seed', 'ckpt', 'model_type', 'model_grid', 'upweigh_low_levels']\n"
     ]
    },
    {
     "name": "stderr",
     "output_type": "stream",
     "text": [
      "Lightning automatically upgraded your loaded checkpoint from v1.8.2 to v2.0.9.post0. To apply the upgrade to your files permanently, run `python -m pytorch_lightning.utilities.upgrade_checkpoint --file ../model-hyperparams/lightning_logs/version_3/checkpoints/epoch=99-step=98600.ckpt`\n"
     ]
    },
    {
     "name": "stdout",
     "output_type": "stream",
     "text": [
      "2024-04-17 15:37:58,832 - gaia.gaia.models - WARNING - no stats provided, assuming will be loaded later, initializing randomly\n",
      "2024-04-17 15:37:58,833 - gaia.gaia.layers - WARNING - hardcoding min std threshold to 1e-10\n",
      "2024-04-17 15:37:58,833 - gaia.gaia.layers - WARNING - hardcoding min std threshold to 1e-10\n",
      "2024-04-17 15:37:59,106 - gaia.gaia.models - INFO - using output weights [0.5500000715255737, 0.5500000715255737, 0.0, 0.0, 0.0, 0.0, 0.0, 0.0, 0.0, 0.351999968290329, 0.3879999816417694, 0.42399996519088745, 0.4599999785423279, 0.4959999918937683, 0.531999945640564, 0.5679999589920044, 0.6039999723434448, 0.6399999856948853, 0.6759999990463257, 0.7120000123977661, 0.7480000257492065, 0.784000039100647, 0.8199999928474426, 0.8560000061988831, 0.8920000195503235, 0.9279999732971191, 0.9639999866485596, 1.0, 0.10000000149011612, 0.13600000739097595, 0.171999990940094, 0.20800000429153442, 0.24399998784065247, 0.2800000011920929, 0.31599998474121094, 0.351999968290329, 0.3879999816417694, 0.42399996519088745, 0.4599999785423279, 0.4959999918937683, 0.531999945640564, 0.5679999589920044, 0.6039999723434448, 0.6399999856948853, 0.6759999990463257, 0.7120000123977661, 0.7480000257492065, 0.784000039100647, 0.8199999928474426, 0.8560000061988831, 0.8920000195503235, 0.9279999732971191, 0.9639999866485596, 1.0]\n",
      "2024-04-17 15:37:59,107 - gaia.gaia.models - WARNING - unkown kwargs ['dataset_params', 'seed', 'ckpt', 'model_type', 'model_grid', 'upweigh_low_levels']\n"
     ]
    },
    {
     "name": "stderr",
     "output_type": "stream",
     "text": [
      "Lightning automatically upgraded your loaded checkpoint from v1.8.2 to v2.0.9.post0. To apply the upgrade to your files permanently, run `python -m pytorch_lightning.utilities.upgrade_checkpoint --file ../model-hyperparams/lightning_logs/version_4/checkpoints/epoch=99-step=8300.ckpt`\n"
     ]
    },
    {
     "name": "stdout",
     "output_type": "stream",
     "text": [
      "2024-04-17 15:37:59,159 - gaia.gaia.models - WARNING - no stats provided, assuming will be loaded later, initializing randomly\n",
      "2024-04-17 15:37:59,160 - gaia.gaia.layers - WARNING - hardcoding min std threshold to 1e-10\n",
      "2024-04-17 15:37:59,160 - gaia.gaia.layers - WARNING - hardcoding min std threshold to 1e-10\n",
      "2024-04-17 15:37:59,166 - gaia.gaia.models - INFO - using output weights [0.5500000715255737, 0.5500000715255737, 0.0, 0.0, 0.0, 0.0, 0.0, 0.0, 0.0, 0.351999968290329, 0.3879999816417694, 0.42399996519088745, 0.4599999785423279, 0.4959999918937683, 0.531999945640564, 0.5679999589920044, 0.6039999723434448, 0.6399999856948853, 0.6759999990463257, 0.7120000123977661, 0.7480000257492065, 0.784000039100647, 0.8199999928474426, 0.8560000061988831, 0.8920000195503235, 0.9279999732971191, 0.9639999866485596, 1.0, 0.10000000149011612, 0.13600000739097595, 0.171999990940094, 0.20800000429153442, 0.24399998784065247, 0.2800000011920929, 0.31599998474121094, 0.351999968290329, 0.3879999816417694, 0.42399996519088745, 0.4599999785423279, 0.4959999918937683, 0.531999945640564, 0.5679999589920044, 0.6039999723434448, 0.6399999856948853, 0.6759999990463257, 0.7120000123977661, 0.7480000257492065, 0.784000039100647, 0.8199999928474426, 0.8560000061988831, 0.8920000195503235, 0.9279999732971191, 0.9639999866485596, 1.0]\n",
      "2024-04-17 15:37:59,167 - gaia.gaia.models - WARNING - unkown kwargs ['dataset_params', 'seed', 'ckpt', 'model_type', 'model_grid', 'upweigh_low_levels']\n"
     ]
    },
    {
     "name": "stderr",
     "output_type": "stream",
     "text": [
      "Lightning automatically upgraded your loaded checkpoint from v1.8.2 to v2.0.9.post0. To apply the upgrade to your files permanently, run `python -m pytorch_lightning.utilities.upgrade_checkpoint --file ../model-hyperparams/lightning_logs/version_5/checkpoints/epoch=99-step=24700.ckpt`\n"
     ]
    },
    {
     "name": "stdout",
     "output_type": "stream",
     "text": [
      "2024-04-17 15:37:59,240 - gaia.gaia.models - WARNING - no stats provided, assuming will be loaded later, initializing randomly\n",
      "2024-04-17 15:37:59,241 - gaia.gaia.layers - WARNING - hardcoding min std threshold to 1e-10\n",
      "2024-04-17 15:37:59,241 - gaia.gaia.layers - WARNING - hardcoding min std threshold to 1e-10\n",
      "2024-04-17 15:37:59,264 - gaia.gaia.models - INFO - using output weights [0.5500000715255737, 0.5500000715255737, 0.0, 0.0, 0.0, 0.0, 0.0, 0.0, 0.0, 0.351999968290329, 0.3879999816417694, 0.42399996519088745, 0.4599999785423279, 0.4959999918937683, 0.531999945640564, 0.5679999589920044, 0.6039999723434448, 0.6399999856948853, 0.6759999990463257, 0.7120000123977661, 0.7480000257492065, 0.784000039100647, 0.8199999928474426, 0.8560000061988831, 0.8920000195503235, 0.9279999732971191, 0.9639999866485596, 1.0, 0.10000000149011612, 0.13600000739097595, 0.171999990940094, 0.20800000429153442, 0.24399998784065247, 0.2800000011920929, 0.31599998474121094, 0.351999968290329, 0.3879999816417694, 0.42399996519088745, 0.4599999785423279, 0.4959999918937683, 0.531999945640564, 0.5679999589920044, 0.6039999723434448, 0.6399999856948853, 0.6759999990463257, 0.7120000123977661, 0.7480000257492065, 0.784000039100647, 0.8199999928474426, 0.8560000061988831, 0.8920000195503235, 0.9279999732971191, 0.9639999866485596, 1.0]\n",
      "2024-04-17 15:37:59,265 - gaia.gaia.models - WARNING - unkown kwargs ['dataset_params', 'seed', 'ckpt', 'model_type', 'model_grid', 'upweigh_low_levels']\n"
     ]
    },
    {
     "name": "stderr",
     "output_type": "stream",
     "text": [
      "Lightning automatically upgraded your loaded checkpoint from v1.8.2 to v2.0.9.post0. To apply the upgrade to your files permanently, run `python -m pytorch_lightning.utilities.upgrade_checkpoint --file ../model-hyperparams/lightning_logs/version_6/checkpoints/epoch=99-step=49300.ckpt`\n"
     ]
    },
    {
     "name": "stdout",
     "output_type": "stream",
     "text": [
      "2024-04-17 15:37:59,402 - gaia.gaia.models - WARNING - no stats provided, assuming will be loaded later, initializing randomly\n",
      "2024-04-17 15:37:59,403 - gaia.gaia.layers - WARNING - hardcoding min std threshold to 1e-10\n",
      "2024-04-17 15:37:59,403 - gaia.gaia.layers - WARNING - hardcoding min std threshold to 1e-10\n",
      "2024-04-17 15:37:59,521 - gaia.gaia.models - INFO - using output weights [0.5500000715255737, 0.5500000715255737, 0.0, 0.0, 0.0, 0.0, 0.0, 0.0, 0.0, 0.351999968290329, 0.3879999816417694, 0.42399996519088745, 0.4599999785423279, 0.4959999918937683, 0.531999945640564, 0.5679999589920044, 0.6039999723434448, 0.6399999856948853, 0.6759999990463257, 0.7120000123977661, 0.7480000257492065, 0.784000039100647, 0.8199999928474426, 0.8560000061988831, 0.8920000195503235, 0.9279999732971191, 0.9639999866485596, 1.0, 0.10000000149011612, 0.13600000739097595, 0.171999990940094, 0.20800000429153442, 0.24399998784065247, 0.2800000011920929, 0.31599998474121094, 0.351999968290329, 0.3879999816417694, 0.42399996519088745, 0.4599999785423279, 0.4959999918937683, 0.531999945640564, 0.5679999589920044, 0.6039999723434448, 0.6399999856948853, 0.6759999990463257, 0.7120000123977661, 0.7480000257492065, 0.784000039100647, 0.8199999928474426, 0.8560000061988831, 0.8920000195503235, 0.9279999732971191, 0.9639999866485596, 1.0]\n",
      "2024-04-17 15:37:59,522 - gaia.gaia.models - WARNING - unkown kwargs ['dataset_params', 'seed', 'ckpt', 'model_type', 'model_grid', 'upweigh_low_levels']\n"
     ]
    },
    {
     "name": "stderr",
     "output_type": "stream",
     "text": [
      "Lightning automatically upgraded your loaded checkpoint from v1.8.2 to v2.0.9.post0. To apply the upgrade to your files permanently, run `python -m pytorch_lightning.utilities.upgrade_checkpoint --file ../model-hyperparams/lightning_logs/version_7/checkpoints/epoch=98-step=8217.ckpt`\n"
     ]
    },
    {
     "name": "stdout",
     "output_type": "stream",
     "text": [
      "2024-04-17 15:37:59,565 - gaia.gaia.models - WARNING - no stats provided, assuming will be loaded later, initializing randomly\n",
      "2024-04-17 15:37:59,566 - gaia.gaia.layers - WARNING - hardcoding min std threshold to 1e-10\n",
      "2024-04-17 15:37:59,567 - gaia.gaia.layers - WARNING - hardcoding min std threshold to 1e-10\n",
      "2024-04-17 15:37:59,578 - gaia.gaia.models - INFO - using output weights [0.5500000715255737, 0.5500000715255737, 0.0, 0.0, 0.0, 0.0, 0.0, 0.0, 0.0, 0.351999968290329, 0.3879999816417694, 0.42399996519088745, 0.4599999785423279, 0.4959999918937683, 0.531999945640564, 0.5679999589920044, 0.6039999723434448, 0.6399999856948853, 0.6759999990463257, 0.7120000123977661, 0.7480000257492065, 0.784000039100647, 0.8199999928474426, 0.8560000061988831, 0.8920000195503235, 0.9279999732971191, 0.9639999866485596, 1.0, 0.10000000149011612, 0.13600000739097595, 0.171999990940094, 0.20800000429153442, 0.24399998784065247, 0.2800000011920929, 0.31599998474121094, 0.351999968290329, 0.3879999816417694, 0.42399996519088745, 0.4599999785423279, 0.4959999918937683, 0.531999945640564, 0.5679999589920044, 0.6039999723434448, 0.6399999856948853, 0.6759999990463257, 0.7120000123977661, 0.7480000257492065, 0.784000039100647, 0.8199999928474426, 0.8560000061988831, 0.8920000195503235, 0.9279999732971191, 0.9639999866485596, 1.0]\n",
      "2024-04-17 15:37:59,579 - gaia.gaia.models - WARNING - unkown kwargs ['dataset_params', 'seed', 'ckpt', 'model_type', 'model_grid', 'upweigh_low_levels']\n"
     ]
    },
    {
     "name": "stderr",
     "output_type": "stream",
     "text": [
      "Lightning automatically upgraded your loaded checkpoint from v1.8.2 to v2.0.9.post0. To apply the upgrade to your files permanently, run `python -m pytorch_lightning.utilities.upgrade_checkpoint --file ../model-hyperparams/lightning_logs/version_8/checkpoints/epoch=99-step=8300.ckpt`\n"
     ]
    },
    {
     "name": "stdout",
     "output_type": "stream",
     "text": [
      "2024-04-17 15:37:59,622 - gaia.gaia.models - WARNING - no stats provided, assuming will be loaded later, initializing randomly\n",
      "2024-04-17 15:37:59,623 - gaia.gaia.layers - WARNING - hardcoding min std threshold to 1e-10\n",
      "2024-04-17 15:37:59,623 - gaia.gaia.layers - WARNING - hardcoding min std threshold to 1e-10\n",
      "2024-04-17 15:37:59,628 - gaia.gaia.models - INFO - using output weights [0.5500000715255737, 0.5500000715255737, 0.0, 0.0, 0.0, 0.0, 0.0, 0.0, 0.0, 0.351999968290329, 0.3879999816417694, 0.42399996519088745, 0.4599999785423279, 0.4959999918937683, 0.531999945640564, 0.5679999589920044, 0.6039999723434448, 0.6399999856948853, 0.6759999990463257, 0.7120000123977661, 0.7480000257492065, 0.784000039100647, 0.8199999928474426, 0.8560000061988831, 0.8920000195503235, 0.9279999732971191, 0.9639999866485596, 1.0, 0.10000000149011612, 0.13600000739097595, 0.171999990940094, 0.20800000429153442, 0.24399998784065247, 0.2800000011920929, 0.31599998474121094, 0.351999968290329, 0.3879999816417694, 0.42399996519088745, 0.4599999785423279, 0.4959999918937683, 0.531999945640564, 0.5679999589920044, 0.6039999723434448, 0.6399999856948853, 0.6759999990463257, 0.7120000123977661, 0.7480000257492065, 0.784000039100647, 0.8199999928474426, 0.8560000061988831, 0.8920000195503235, 0.9279999732971191, 0.9639999866485596, 1.0]\n",
      "2024-04-17 15:37:59,628 - gaia.gaia.models - WARNING - unkown kwargs ['dataset_params', 'seed', 'ckpt', 'model_type', 'model_grid', 'upweigh_low_levels']\n"
     ]
    },
    {
     "name": "stderr",
     "output_type": "stream",
     "text": [
      "Lightning automatically upgraded your loaded checkpoint from v1.8.2 to v2.0.9.post0. To apply the upgrade to your files permanently, run `python -m pytorch_lightning.utilities.upgrade_checkpoint --file ../model-hyperparams/lightning_logs/version_9/checkpoints/epoch=99-step=24700.ckpt`\n"
     ]
    },
    {
     "name": "stdout",
     "output_type": "stream",
     "text": [
      "2024-04-17 15:37:59,683 - gaia.gaia.models - WARNING - no stats provided, assuming will be loaded later, initializing randomly\n",
      "2024-04-17 15:37:59,684 - gaia.gaia.layers - WARNING - hardcoding min std threshold to 1e-10\n",
      "2024-04-17 15:37:59,684 - gaia.gaia.layers - WARNING - hardcoding min std threshold to 1e-10\n",
      "2024-04-17 15:37:59,717 - gaia.gaia.models - INFO - using output weights [0.5500000715255737, 0.5500000715255737, 0.0, 0.0, 0.0, 0.0, 0.0, 0.0, 0.0, 0.351999968290329, 0.3879999816417694, 0.42399996519088745, 0.4599999785423279, 0.4959999918937683, 0.531999945640564, 0.5679999589920044, 0.6039999723434448, 0.6399999856948853, 0.6759999990463257, 0.7120000123977661, 0.7480000257492065, 0.784000039100647, 0.8199999928474426, 0.8560000061988831, 0.8920000195503235, 0.9279999732971191, 0.9639999866485596, 1.0, 0.10000000149011612, 0.13600000739097595, 0.171999990940094, 0.20800000429153442, 0.24399998784065247, 0.2800000011920929, 0.31599998474121094, 0.351999968290329, 0.3879999816417694, 0.42399996519088745, 0.4599999785423279, 0.4959999918937683, 0.531999945640564, 0.5679999589920044, 0.6039999723434448, 0.6399999856948853, 0.6759999990463257, 0.7120000123977661, 0.7480000257492065, 0.784000039100647, 0.8199999928474426, 0.8560000061988831, 0.8920000195503235, 0.9279999732971191, 0.9639999866485596, 1.0]\n",
      "2024-04-17 15:37:59,718 - gaia.gaia.models - WARNING - unkown kwargs ['dataset_params', 'seed', 'ckpt', 'model_type', 'model_grid', 'upweigh_low_levels']\n"
     ]
    },
    {
     "name": "stderr",
     "output_type": "stream",
     "text": [
      "Lightning automatically upgraded your loaded checkpoint from v1.8.2 to v2.0.9.post0. To apply the upgrade to your files permanently, run `python -m pytorch_lightning.utilities.upgrade_checkpoint --file ../model-hyperparams/lightning_logs/version_10/checkpoints/epoch=99-step=12400.ckpt`\n"
     ]
    },
    {
     "name": "stdout",
     "output_type": "stream",
     "text": [
      "2024-04-17 15:37:59,758 - gaia.gaia.models - WARNING - no stats provided, assuming will be loaded later, initializing randomly\n",
      "2024-04-17 15:37:59,759 - gaia.gaia.layers - WARNING - hardcoding min std threshold to 1e-10\n",
      "2024-04-17 15:37:59,759 - gaia.gaia.layers - WARNING - hardcoding min std threshold to 1e-10\n",
      "2024-04-17 15:37:59,777 - gaia.gaia.models - INFO - using output weights [0.5500000715255737, 0.5500000715255737, 0.0, 0.0, 0.0, 0.0, 0.0, 0.0, 0.0, 0.351999968290329, 0.3879999816417694, 0.42399996519088745, 0.4599999785423279, 0.4959999918937683, 0.531999945640564, 0.5679999589920044, 0.6039999723434448, 0.6399999856948853, 0.6759999990463257, 0.7120000123977661, 0.7480000257492065, 0.784000039100647, 0.8199999928474426, 0.8560000061988831, 0.8920000195503235, 0.9279999732971191, 0.9639999866485596, 1.0, 0.10000000149011612, 0.13600000739097595, 0.171999990940094, 0.20800000429153442, 0.24399998784065247, 0.2800000011920929, 0.31599998474121094, 0.351999968290329, 0.3879999816417694, 0.42399996519088745, 0.4599999785423279, 0.4959999918937683, 0.531999945640564, 0.5679999589920044, 0.6039999723434448, 0.6399999856948853, 0.6759999990463257, 0.7120000123977661, 0.7480000257492065, 0.784000039100647, 0.8199999928474426, 0.8560000061988831, 0.8920000195503235, 0.9279999732971191, 0.9639999866485596, 1.0]\n",
      "2024-04-17 15:37:59,778 - gaia.gaia.models - WARNING - unkown kwargs ['dataset_params', 'seed', 'ckpt', 'model_type', 'model_grid', 'upweigh_low_levels']\n"
     ]
    },
    {
     "name": "stderr",
     "output_type": "stream",
     "text": [
      "Lightning automatically upgraded your loaded checkpoint from v1.8.2 to v2.0.9.post0. To apply the upgrade to your files permanently, run `python -m pytorch_lightning.utilities.upgrade_checkpoint --file ../model-hyperparams/lightning_logs/version_11/checkpoints/epoch=99-step=12400.ckpt`\n"
     ]
    },
    {
     "name": "stdout",
     "output_type": "stream",
     "text": [
      "2024-04-17 15:37:59,825 - gaia.gaia.models - WARNING - no stats provided, assuming will be loaded later, initializing randomly\n",
      "2024-04-17 15:37:59,825 - gaia.gaia.layers - WARNING - hardcoding min std threshold to 1e-10\n",
      "2024-04-17 15:37:59,826 - gaia.gaia.layers - WARNING - hardcoding min std threshold to 1e-10\n",
      "2024-04-17 15:37:59,845 - gaia.gaia.models - INFO - using output weights [0.5500000715255737, 0.5500000715255737, 0.0, 0.0, 0.0, 0.0, 0.0, 0.0, 0.0, 0.351999968290329, 0.3879999816417694, 0.42399996519088745, 0.4599999785423279, 0.4959999918937683, 0.531999945640564, 0.5679999589920044, 0.6039999723434448, 0.6399999856948853, 0.6759999990463257, 0.7120000123977661, 0.7480000257492065, 0.784000039100647, 0.8199999928474426, 0.8560000061988831, 0.8920000195503235, 0.9279999732971191, 0.9639999866485596, 1.0, 0.10000000149011612, 0.13600000739097595, 0.171999990940094, 0.20800000429153442, 0.24399998784065247, 0.2800000011920929, 0.31599998474121094, 0.351999968290329, 0.3879999816417694, 0.42399996519088745, 0.4599999785423279, 0.4959999918937683, 0.531999945640564, 0.5679999589920044, 0.6039999723434448, 0.6399999856948853, 0.6759999990463257, 0.7120000123977661, 0.7480000257492065, 0.784000039100647, 0.8199999928474426, 0.8560000061988831, 0.8920000195503235, 0.9279999732971191, 0.9639999866485596, 1.0]\n",
      "2024-04-17 15:37:59,846 - gaia.gaia.models - WARNING - unkown kwargs ['dataset_params', 'seed', 'ckpt', 'model_type', 'model_grid', 'upweigh_low_levels']\n"
     ]
    },
    {
     "name": "stderr",
     "output_type": "stream",
     "text": [
      "Lightning automatically upgraded your loaded checkpoint from v1.8.2 to v2.0.9.post0. To apply the upgrade to your files permanently, run `python -m pytorch_lightning.utilities.upgrade_checkpoint --file ../model-hyperparams/lightning_logs/version_12/checkpoints/epoch=99-step=8300.ckpt`\n"
     ]
    },
    {
     "name": "stdout",
     "output_type": "stream",
     "text": [
      "2024-04-17 15:37:59,880 - gaia.gaia.models - WARNING - no stats provided, assuming will be loaded later, initializing randomly\n",
      "2024-04-17 15:37:59,881 - gaia.gaia.layers - WARNING - hardcoding min std threshold to 1e-10\n",
      "2024-04-17 15:37:59,881 - gaia.gaia.layers - WARNING - hardcoding min std threshold to 1e-10\n",
      "2024-04-17 15:37:59,883 - gaia.gaia.models - INFO - using output weights [0.5500000715255737, 0.5500000715255737, 0.0, 0.0, 0.0, 0.0, 0.0, 0.0, 0.0, 0.351999968290329, 0.3879999816417694, 0.42399996519088745, 0.4599999785423279, 0.4959999918937683, 0.531999945640564, 0.5679999589920044, 0.6039999723434448, 0.6399999856948853, 0.6759999990463257, 0.7120000123977661, 0.7480000257492065, 0.784000039100647, 0.8199999928474426, 0.8560000061988831, 0.8920000195503235, 0.9279999732971191, 0.9639999866485596, 1.0, 0.10000000149011612, 0.13600000739097595, 0.171999990940094, 0.20800000429153442, 0.24399998784065247, 0.2800000011920929, 0.31599998474121094, 0.351999968290329, 0.3879999816417694, 0.42399996519088745, 0.4599999785423279, 0.4959999918937683, 0.531999945640564, 0.5679999589920044, 0.6039999723434448, 0.6399999856948853, 0.6759999990463257, 0.7120000123977661, 0.7480000257492065, 0.784000039100647, 0.8199999928474426, 0.8560000061988831, 0.8920000195503235, 0.9279999732971191, 0.9639999866485596, 1.0]\n",
      "2024-04-17 15:37:59,884 - gaia.gaia.models - WARNING - unkown kwargs ['dataset_params', 'seed', 'ckpt', 'model_type', 'model_grid', 'upweigh_low_levels']\n"
     ]
    },
    {
     "name": "stderr",
     "output_type": "stream",
     "text": [
      "Lightning automatically upgraded your loaded checkpoint from v1.8.2 to v2.0.9.post0. To apply the upgrade to your files permanently, run `python -m pytorch_lightning.utilities.upgrade_checkpoint --file ../model-hyperparams/lightning_logs/version_13/checkpoints/epoch=99-step=8300.ckpt`\n"
     ]
    },
    {
     "name": "stdout",
     "output_type": "stream",
     "text": [
      "2024-04-17 15:37:59,908 - gaia.gaia.models - WARNING - no stats provided, assuming will be loaded later, initializing randomly\n",
      "2024-04-17 15:37:59,909 - gaia.gaia.layers - WARNING - hardcoding min std threshold to 1e-10\n",
      "2024-04-17 15:37:59,909 - gaia.gaia.layers - WARNING - hardcoding min std threshold to 1e-10\n",
      "2024-04-17 15:37:59,912 - gaia.gaia.models - INFO - using output weights [0.5500000715255737, 0.5500000715255737, 0.0, 0.0, 0.0, 0.0, 0.0, 0.0, 0.0, 0.351999968290329, 0.3879999816417694, 0.42399996519088745, 0.4599999785423279, 0.4959999918937683, 0.531999945640564, 0.5679999589920044, 0.6039999723434448, 0.6399999856948853, 0.6759999990463257, 0.7120000123977661, 0.7480000257492065, 0.784000039100647, 0.8199999928474426, 0.8560000061988831, 0.8920000195503235, 0.9279999732971191, 0.9639999866485596, 1.0, 0.10000000149011612, 0.13600000739097595, 0.171999990940094, 0.20800000429153442, 0.24399998784065247, 0.2800000011920929, 0.31599998474121094, 0.351999968290329, 0.3879999816417694, 0.42399996519088745, 0.4599999785423279, 0.4959999918937683, 0.531999945640564, 0.5679999589920044, 0.6039999723434448, 0.6399999856948853, 0.6759999990463257, 0.7120000123977661, 0.7480000257492065, 0.784000039100647, 0.8199999928474426, 0.8560000061988831, 0.8920000195503235, 0.9279999732971191, 0.9639999866485596, 1.0]\n",
      "2024-04-17 15:37:59,912 - gaia.gaia.models - WARNING - unkown kwargs ['dataset_params', 'seed', 'ckpt', 'model_type', 'model_grid', 'upweigh_low_levels']\n"
     ]
    },
    {
     "name": "stderr",
     "output_type": "stream",
     "text": [
      "Lightning automatically upgraded your loaded checkpoint from v1.8.2 to v2.0.9.post0. To apply the upgrade to your files permanently, run `python -m pytorch_lightning.utilities.upgrade_checkpoint --file ../model-hyperparams/lightning_logs/version_14/checkpoints/epoch=99-step=8300.ckpt`\n"
     ]
    },
    {
     "name": "stdout",
     "output_type": "stream",
     "text": [
      "2024-04-17 15:37:59,935 - gaia.gaia.models - WARNING - no stats provided, assuming will be loaded later, initializing randomly\n",
      "2024-04-17 15:37:59,936 - gaia.gaia.layers - WARNING - hardcoding min std threshold to 1e-10\n",
      "2024-04-17 15:37:59,936 - gaia.gaia.layers - WARNING - hardcoding min std threshold to 1e-10\n",
      "2024-04-17 15:37:59,939 - gaia.gaia.models - INFO - using output weights [0.5500000715255737, 0.5500000715255737, 0.0, 0.0, 0.0, 0.0, 0.0, 0.0, 0.0, 0.351999968290329, 0.3879999816417694, 0.42399996519088745, 0.4599999785423279, 0.4959999918937683, 0.531999945640564, 0.5679999589920044, 0.6039999723434448, 0.6399999856948853, 0.6759999990463257, 0.7120000123977661, 0.7480000257492065, 0.784000039100647, 0.8199999928474426, 0.8560000061988831, 0.8920000195503235, 0.9279999732971191, 0.9639999866485596, 1.0, 0.10000000149011612, 0.13600000739097595, 0.171999990940094, 0.20800000429153442, 0.24399998784065247, 0.2800000011920929, 0.31599998474121094, 0.351999968290329, 0.3879999816417694, 0.42399996519088745, 0.4599999785423279, 0.4959999918937683, 0.531999945640564, 0.5679999589920044, 0.6039999723434448, 0.6399999856948853, 0.6759999990463257, 0.7120000123977661, 0.7480000257492065, 0.784000039100647, 0.8199999928474426, 0.8560000061988831, 0.8920000195503235, 0.9279999732971191, 0.9639999866485596, 1.0]\n",
      "2024-04-17 15:37:59,940 - gaia.gaia.models - WARNING - unkown kwargs ['dataset_params', 'seed', 'ckpt', 'model_type', 'model_grid', 'upweigh_low_levels']\n"
     ]
    },
    {
     "name": "stderr",
     "output_type": "stream",
     "text": [
      "Lightning automatically upgraded your loaded checkpoint from v1.8.2 to v2.0.9.post0. To apply the upgrade to your files permanently, run `python -m pytorch_lightning.utilities.upgrade_checkpoint --file ../model-hyperparams/lightning_logs/version_15/checkpoints/epoch=99-step=8300.ckpt`\n"
     ]
    },
    {
     "name": "stdout",
     "output_type": "stream",
     "text": [
      "2024-04-17 15:37:59,966 - gaia.gaia.models - WARNING - no stats provided, assuming will be loaded later, initializing randomly\n",
      "2024-04-17 15:37:59,967 - gaia.gaia.layers - WARNING - hardcoding min std threshold to 1e-10\n",
      "2024-04-17 15:37:59,967 - gaia.gaia.layers - WARNING - hardcoding min std threshold to 1e-10\n",
      "2024-04-17 15:37:59,973 - gaia.gaia.models - INFO - using output weights [0.5500000715255737, 0.5500000715255737, 0.0, 0.0, 0.0, 0.0, 0.0, 0.0, 0.0, 0.351999968290329, 0.3879999816417694, 0.42399996519088745, 0.4599999785423279, 0.4959999918937683, 0.531999945640564, 0.5679999589920044, 0.6039999723434448, 0.6399999856948853, 0.6759999990463257, 0.7120000123977661, 0.7480000257492065, 0.784000039100647, 0.8199999928474426, 0.8560000061988831, 0.8920000195503235, 0.9279999732971191, 0.9639999866485596, 1.0, 0.10000000149011612, 0.13600000739097595, 0.171999990940094, 0.20800000429153442, 0.24399998784065247, 0.2800000011920929, 0.31599998474121094, 0.351999968290329, 0.3879999816417694, 0.42399996519088745, 0.4599999785423279, 0.4959999918937683, 0.531999945640564, 0.5679999589920044, 0.6039999723434448, 0.6399999856948853, 0.6759999990463257, 0.7120000123977661, 0.7480000257492065, 0.784000039100647, 0.8199999928474426, 0.8560000061988831, 0.8920000195503235, 0.9279999732971191, 0.9639999866485596, 1.0]\n",
      "2024-04-17 15:37:59,973 - gaia.gaia.models - WARNING - unkown kwargs ['dataset_params', 'seed', 'ckpt', 'model_type', 'model_grid', 'upweigh_low_levels']\n"
     ]
    },
    {
     "name": "stderr",
     "output_type": "stream",
     "text": [
      "Lightning automatically upgraded your loaded checkpoint from v1.8.2 to v2.0.9.post0. To apply the upgrade to your files permanently, run `python -m pytorch_lightning.utilities.upgrade_checkpoint --file ../model-hyperparams/lightning_logs/version_16/checkpoints/epoch=99-step=49300.ckpt`\n"
     ]
    },
    {
     "name": "stdout",
     "output_type": "stream",
     "text": [
      "2024-04-17 15:38:00,059 - gaia.gaia.models - WARNING - no stats provided, assuming will be loaded later, initializing randomly\n",
      "2024-04-17 15:38:00,060 - gaia.gaia.layers - WARNING - hardcoding min std threshold to 1e-10\n",
      "2024-04-17 15:38:00,060 - gaia.gaia.layers - WARNING - hardcoding min std threshold to 1e-10\n",
      "2024-04-17 15:38:00,136 - gaia.gaia.models - INFO - using output weights [0.5500000715255737, 0.5500000715255737, 0.0, 0.0, 0.0, 0.0, 0.0, 0.0, 0.0, 0.351999968290329, 0.3879999816417694, 0.42399996519088745, 0.4599999785423279, 0.4959999918937683, 0.531999945640564, 0.5679999589920044, 0.6039999723434448, 0.6399999856948853, 0.6759999990463257, 0.7120000123977661, 0.7480000257492065, 0.784000039100647, 0.8199999928474426, 0.8560000061988831, 0.8920000195503235, 0.9279999732971191, 0.9639999866485596, 1.0, 0.10000000149011612, 0.13600000739097595, 0.171999990940094, 0.20800000429153442, 0.24399998784065247, 0.2800000011920929, 0.31599998474121094, 0.351999968290329, 0.3879999816417694, 0.42399996519088745, 0.4599999785423279, 0.4959999918937683, 0.531999945640564, 0.5679999589920044, 0.6039999723434448, 0.6399999856948853, 0.6759999990463257, 0.7120000123977661, 0.7480000257492065, 0.784000039100647, 0.8199999928474426, 0.8560000061988831, 0.8920000195503235, 0.9279999732971191, 0.9639999866485596, 1.0]\n",
      "2024-04-17 15:38:00,137 - gaia.gaia.models - WARNING - unkown kwargs ['dataset_params', 'seed', 'ckpt', 'model_type', 'model_grid', 'upweigh_low_levels']\n"
     ]
    },
    {
     "name": "stderr",
     "output_type": "stream",
     "text": [
      "Lightning automatically upgraded your loaded checkpoint from v1.8.2 to v2.0.9.post0. To apply the upgrade to your files permanently, run `python -m pytorch_lightning.utilities.upgrade_checkpoint --file ../model-hyperparams/lightning_logs/version_17/checkpoints/epoch=99-step=24700.ckpt`\n"
     ]
    },
    {
     "name": "stdout",
     "output_type": "stream",
     "text": [
      "2024-04-17 15:38:00,188 - gaia.gaia.models - WARNING - no stats provided, assuming will be loaded later, initializing randomly\n",
      "2024-04-17 15:38:00,189 - gaia.gaia.layers - WARNING - hardcoding min std threshold to 1e-10\n",
      "2024-04-17 15:38:00,189 - gaia.gaia.layers - WARNING - hardcoding min std threshold to 1e-10\n",
      "2024-04-17 15:38:00,211 - gaia.gaia.models - INFO - using output weights [0.5500000715255737, 0.5500000715255737, 0.0, 0.0, 0.0, 0.0, 0.0, 0.0, 0.0, 0.351999968290329, 0.3879999816417694, 0.42399996519088745, 0.4599999785423279, 0.4959999918937683, 0.531999945640564, 0.5679999589920044, 0.6039999723434448, 0.6399999856948853, 0.6759999990463257, 0.7120000123977661, 0.7480000257492065, 0.784000039100647, 0.8199999928474426, 0.8560000061988831, 0.8920000195503235, 0.9279999732971191, 0.9639999866485596, 1.0, 0.10000000149011612, 0.13600000739097595, 0.171999990940094, 0.20800000429153442, 0.24399998784065247, 0.2800000011920929, 0.31599998474121094, 0.351999968290329, 0.3879999816417694, 0.42399996519088745, 0.4599999785423279, 0.4959999918937683, 0.531999945640564, 0.5679999589920044, 0.6039999723434448, 0.6399999856948853, 0.6759999990463257, 0.7120000123977661, 0.7480000257492065, 0.784000039100647, 0.8199999928474426, 0.8560000061988831, 0.8920000195503235, 0.9279999732971191, 0.9639999866485596, 1.0]\n",
      "2024-04-17 15:38:00,212 - gaia.gaia.models - WARNING - unkown kwargs ['dataset_params', 'seed', 'ckpt', 'model_type', 'model_grid', 'upweigh_low_levels']\n"
     ]
    },
    {
     "name": "stderr",
     "output_type": "stream",
     "text": [
      "Lightning automatically upgraded your loaded checkpoint from v1.8.2 to v2.0.9.post0. To apply the upgrade to your files permanently, run `python -m pytorch_lightning.utilities.upgrade_checkpoint --file ../model-hyperparams/lightning_logs/version_18/checkpoints/epoch=98-step=8217.ckpt`\n"
     ]
    },
    {
     "name": "stdout",
     "output_type": "stream",
     "text": [
      "2024-04-17 15:38:00,248 - gaia.gaia.models - WARNING - no stats provided, assuming will be loaded later, initializing randomly\n",
      "2024-04-17 15:38:00,248 - gaia.gaia.layers - WARNING - hardcoding min std threshold to 1e-10\n",
      "2024-04-17 15:38:00,249 - gaia.gaia.layers - WARNING - hardcoding min std threshold to 1e-10\n",
      "2024-04-17 15:38:00,251 - gaia.gaia.models - INFO - using output weights [0.5500000715255737, 0.5500000715255737, 0.0, 0.0, 0.0, 0.0, 0.0, 0.0, 0.0, 0.351999968290329, 0.3879999816417694, 0.42399996519088745, 0.4599999785423279, 0.4959999918937683, 0.531999945640564, 0.5679999589920044, 0.6039999723434448, 0.6399999856948853, 0.6759999990463257, 0.7120000123977661, 0.7480000257492065, 0.784000039100647, 0.8199999928474426, 0.8560000061988831, 0.8920000195503235, 0.9279999732971191, 0.9639999866485596, 1.0, 0.10000000149011612, 0.13600000739097595, 0.171999990940094, 0.20800000429153442, 0.24399998784065247, 0.2800000011920929, 0.31599998474121094, 0.351999968290329, 0.3879999816417694, 0.42399996519088745, 0.4599999785423279, 0.4959999918937683, 0.531999945640564, 0.5679999589920044, 0.6039999723434448, 0.6399999856948853, 0.6759999990463257, 0.7120000123977661, 0.7480000257492065, 0.784000039100647, 0.8199999928474426, 0.8560000061988831, 0.8920000195503235, 0.9279999732971191, 0.9639999866485596, 1.0]\n",
      "2024-04-17 15:38:00,251 - gaia.gaia.models - WARNING - unkown kwargs ['dataset_params', 'seed', 'ckpt', 'model_type', 'model_grid', 'upweigh_low_levels']\n"
     ]
    },
    {
     "name": "stderr",
     "output_type": "stream",
     "text": [
      "Lightning automatically upgraded your loaded checkpoint from v1.8.2 to v2.0.9.post0. To apply the upgrade to your files permanently, run `python -m pytorch_lightning.utilities.upgrade_checkpoint --file ../model-hyperparams/lightning_logs/version_19/checkpoints/epoch=99-step=8300.ckpt`\n"
     ]
    },
    {
     "name": "stdout",
     "output_type": "stream",
     "text": [
      "2024-04-17 15:38:00,287 - gaia.gaia.models - WARNING - no stats provided, assuming will be loaded later, initializing randomly\n",
      "2024-04-17 15:38:00,287 - gaia.gaia.layers - WARNING - hardcoding min std threshold to 1e-10\n",
      "2024-04-17 15:38:00,288 - gaia.gaia.layers - WARNING - hardcoding min std threshold to 1e-10\n",
      "2024-04-17 15:38:00,292 - gaia.gaia.models - INFO - using output weights [0.5500000715255737, 0.5500000715255737, 0.0, 0.0, 0.0, 0.0, 0.0, 0.0, 0.0, 0.351999968290329, 0.3879999816417694, 0.42399996519088745, 0.4599999785423279, 0.4959999918937683, 0.531999945640564, 0.5679999589920044, 0.6039999723434448, 0.6399999856948853, 0.6759999990463257, 0.7120000123977661, 0.7480000257492065, 0.784000039100647, 0.8199999928474426, 0.8560000061988831, 0.8920000195503235, 0.9279999732971191, 0.9639999866485596, 1.0, 0.10000000149011612, 0.13600000739097595, 0.171999990940094, 0.20800000429153442, 0.24399998784065247, 0.2800000011920929, 0.31599998474121094, 0.351999968290329, 0.3879999816417694, 0.42399996519088745, 0.4599999785423279, 0.4959999918937683, 0.531999945640564, 0.5679999589920044, 0.6039999723434448, 0.6399999856948853, 0.6759999990463257, 0.7120000123977661, 0.7480000257492065, 0.784000039100647, 0.8199999928474426, 0.8560000061988831, 0.8920000195503235, 0.9279999732971191, 0.9639999866485596, 1.0]\n",
      "2024-04-17 15:38:00,293 - gaia.gaia.models - WARNING - unkown kwargs ['dataset_params', 'seed', 'ckpt', 'model_type', 'model_grid', 'upweigh_low_levels']\n"
     ]
    },
    {
     "name": "stderr",
     "output_type": "stream",
     "text": [
      "Lightning automatically upgraded your loaded checkpoint from v1.8.2 to v2.0.9.post0. To apply the upgrade to your files permanently, run `python -m pytorch_lightning.utilities.upgrade_checkpoint --file ../model-hyperparams/lightning_logs/version_20/checkpoints/epoch=99-step=8300.ckpt`\n"
     ]
    },
    {
     "name": "stdout",
     "output_type": "stream",
     "text": [
      "2024-04-17 15:38:00,323 - gaia.gaia.models - WARNING - no stats provided, assuming will be loaded later, initializing randomly\n",
      "2024-04-17 15:38:00,324 - gaia.gaia.layers - WARNING - hardcoding min std threshold to 1e-10\n",
      "2024-04-17 15:38:00,324 - gaia.gaia.layers - WARNING - hardcoding min std threshold to 1e-10\n",
      "2024-04-17 15:38:00,348 - gaia.gaia.models - INFO - using output weights [0.5500000715255737, 0.5500000715255737, 0.0, 0.0, 0.0, 0.0, 0.0, 0.0, 0.0, 0.351999968290329, 0.3879999816417694, 0.42399996519088745, 0.4599999785423279, 0.4959999918937683, 0.531999945640564, 0.5679999589920044, 0.6039999723434448, 0.6399999856948853, 0.6759999990463257, 0.7120000123977661, 0.7480000257492065, 0.784000039100647, 0.8199999928474426, 0.8560000061988831, 0.8920000195503235, 0.9279999732971191, 0.9639999866485596, 1.0, 0.10000000149011612, 0.13600000739097595, 0.171999990940094, 0.20800000429153442, 0.24399998784065247, 0.2800000011920929, 0.31599998474121094, 0.351999968290329, 0.3879999816417694, 0.42399996519088745, 0.4599999785423279, 0.4959999918937683, 0.531999945640564, 0.5679999589920044, 0.6039999723434448, 0.6399999856948853, 0.6759999990463257, 0.7120000123977661, 0.7480000257492065, 0.784000039100647, 0.8199999928474426, 0.8560000061988831, 0.8920000195503235, 0.9279999732971191, 0.9639999866485596, 1.0]\n",
      "2024-04-17 15:38:00,349 - gaia.gaia.models - WARNING - unkown kwargs ['dataset_params', 'seed', 'ckpt', 'model_type', 'model_grid', 'upweigh_low_levels']\n"
     ]
    },
    {
     "name": "stderr",
     "output_type": "stream",
     "text": [
      "Lightning automatically upgraded your loaded checkpoint from v1.8.2 to v2.0.9.post0. To apply the upgrade to your files permanently, run `python -m pytorch_lightning.utilities.upgrade_checkpoint --file ../model-hyperparams/lightning_logs/version_21/checkpoints/epoch=99-step=24700.ckpt`\n"
     ]
    },
    {
     "name": "stdout",
     "output_type": "stream",
     "text": [
      "2024-04-17 15:38:00,433 - gaia.gaia.models - WARNING - no stats provided, assuming will be loaded later, initializing randomly\n",
      "2024-04-17 15:38:00,434 - gaia.gaia.layers - WARNING - hardcoding min std threshold to 1e-10\n",
      "2024-04-17 15:38:00,434 - gaia.gaia.layers - WARNING - hardcoding min std threshold to 1e-10\n",
      "2024-04-17 15:38:00,505 - gaia.gaia.models - INFO - using output weights [0.5500000715255737, 0.5500000715255737, 0.0, 0.0, 0.0, 0.0, 0.0, 0.0, 0.0, 0.351999968290329, 0.3879999816417694, 0.42399996519088745, 0.4599999785423279, 0.4959999918937683, 0.531999945640564, 0.5679999589920044, 0.6039999723434448, 0.6399999856948853, 0.6759999990463257, 0.7120000123977661, 0.7480000257492065, 0.784000039100647, 0.8199999928474426, 0.8560000061988831, 0.8920000195503235, 0.9279999732971191, 0.9639999866485596, 1.0, 0.10000000149011612, 0.13600000739097595, 0.171999990940094, 0.20800000429153442, 0.24399998784065247, 0.2800000011920929, 0.31599998474121094, 0.351999968290329, 0.3879999816417694, 0.42399996519088745, 0.4599999785423279, 0.4959999918937683, 0.531999945640564, 0.5679999589920044, 0.6039999723434448, 0.6399999856948853, 0.6759999990463257, 0.7120000123977661, 0.7480000257492065, 0.784000039100647, 0.8199999928474426, 0.8560000061988831, 0.8920000195503235, 0.9279999732971191, 0.9639999866485596, 1.0]\n",
      "2024-04-17 15:38:00,507 - gaia.gaia.models - WARNING - unkown kwargs ['dataset_params', 'seed', 'ckpt', 'model_type', 'model_grid', 'upweigh_low_levels']\n"
     ]
    },
    {
     "name": "stderr",
     "output_type": "stream",
     "text": [
      "Lightning automatically upgraded your loaded checkpoint from v1.8.2 to v2.0.9.post0. To apply the upgrade to your files permanently, run `python -m pytorch_lightning.utilities.upgrade_checkpoint --file ../model-hyperparams/lightning_logs/version_22/checkpoints/epoch=98-step=8217.ckpt`\n"
     ]
    },
    {
     "name": "stdout",
     "output_type": "stream",
     "text": [
      "2024-04-17 15:38:00,555 - gaia.gaia.models - WARNING - no stats provided, assuming will be loaded later, initializing randomly\n",
      "2024-04-17 15:38:00,555 - gaia.gaia.layers - WARNING - hardcoding min std threshold to 1e-10\n",
      "2024-04-17 15:38:00,556 - gaia.gaia.layers - WARNING - hardcoding min std threshold to 1e-10\n",
      "2024-04-17 15:38:00,558 - gaia.gaia.models - INFO - using output weights [0.5500000715255737, 0.5500000715255737, 0.0, 0.0, 0.0, 0.0, 0.0, 0.0, 0.0, 0.351999968290329, 0.3879999816417694, 0.42399996519088745, 0.4599999785423279, 0.4959999918937683, 0.531999945640564, 0.5679999589920044, 0.6039999723434448, 0.6399999856948853, 0.6759999990463257, 0.7120000123977661, 0.7480000257492065, 0.784000039100647, 0.8199999928474426, 0.8560000061988831, 0.8920000195503235, 0.9279999732971191, 0.9639999866485596, 1.0, 0.10000000149011612, 0.13600000739097595, 0.171999990940094, 0.20800000429153442, 0.24399998784065247, 0.2800000011920929, 0.31599998474121094, 0.351999968290329, 0.3879999816417694, 0.42399996519088745, 0.4599999785423279, 0.4959999918937683, 0.531999945640564, 0.5679999589920044, 0.6039999723434448, 0.6399999856948853, 0.6759999990463257, 0.7120000123977661, 0.7480000257492065, 0.784000039100647, 0.8199999928474426, 0.8560000061988831, 0.8920000195503235, 0.9279999732971191, 0.9639999866485596, 1.0]\n",
      "2024-04-17 15:38:00,559 - gaia.gaia.models - WARNING - unkown kwargs ['dataset_params', 'seed', 'ckpt', 'model_type', 'model_grid', 'upweigh_low_levels']\n"
     ]
    },
    {
     "name": "stderr",
     "output_type": "stream",
     "text": [
      "Lightning automatically upgraded your loaded checkpoint from v1.8.2 to v2.0.9.post0. To apply the upgrade to your files permanently, run `python -m pytorch_lightning.utilities.upgrade_checkpoint --file ../model-hyperparams/lightning_logs/version_23/checkpoints/epoch=99-step=8300.ckpt`\n"
     ]
    },
    {
     "name": "stdout",
     "output_type": "stream",
     "text": [
      "2024-04-17 15:38:00,596 - gaia.gaia.models - WARNING - no stats provided, assuming will be loaded later, initializing randomly\n",
      "2024-04-17 15:38:00,597 - gaia.gaia.layers - WARNING - hardcoding min std threshold to 1e-10\n",
      "2024-04-17 15:38:00,597 - gaia.gaia.layers - WARNING - hardcoding min std threshold to 1e-10\n",
      "2024-04-17 15:38:00,616 - gaia.gaia.models - INFO - using output weights [0.5500000715255737, 0.5500000715255737, 0.0, 0.0, 0.0, 0.0, 0.0, 0.0, 0.0, 0.351999968290329, 0.3879999816417694, 0.42399996519088745, 0.4599999785423279, 0.4959999918937683, 0.531999945640564, 0.5679999589920044, 0.6039999723434448, 0.6399999856948853, 0.6759999990463257, 0.7120000123977661, 0.7480000257492065, 0.784000039100647, 0.8199999928474426, 0.8560000061988831, 0.8920000195503235, 0.9279999732971191, 0.9639999866485596, 1.0, 0.10000000149011612, 0.13600000739097595, 0.171999990940094, 0.20800000429153442, 0.24399998784065247, 0.2800000011920929, 0.31599998474121094, 0.351999968290329, 0.3879999816417694, 0.42399996519088745, 0.4599999785423279, 0.4959999918937683, 0.531999945640564, 0.5679999589920044, 0.6039999723434448, 0.6399999856948853, 0.6759999990463257, 0.7120000123977661, 0.7480000257492065, 0.784000039100647, 0.8199999928474426, 0.8560000061988831, 0.8920000195503235, 0.9279999732971191, 0.9639999866485596, 1.0]\n",
      "2024-04-17 15:38:00,617 - gaia.gaia.models - WARNING - unkown kwargs ['dataset_params', 'seed', 'ckpt', 'model_type', 'model_grid', 'upweigh_low_levels']\n"
     ]
    },
    {
     "name": "stderr",
     "output_type": "stream",
     "text": [
      "Lightning automatically upgraded your loaded checkpoint from v1.8.2 to v2.0.9.post0. To apply the upgrade to your files permanently, run `python -m pytorch_lightning.utilities.upgrade_checkpoint --file ../model-hyperparams/lightning_logs/version_24/checkpoints/epoch=99-step=8300.ckpt`\n"
     ]
    },
    {
     "name": "stdout",
     "output_type": "stream",
     "text": [
      "2024-04-17 15:38:00,662 - gaia.gaia.models - WARNING - no stats provided, assuming will be loaded later, initializing randomly\n",
      "2024-04-17 15:38:00,663 - gaia.gaia.layers - WARNING - hardcoding min std threshold to 1e-10\n",
      "2024-04-17 15:38:00,663 - gaia.gaia.layers - WARNING - hardcoding min std threshold to 1e-10\n",
      "2024-04-17 15:38:00,664 - gaia.gaia.models - INFO - using output weights [0.5500000715255737, 0.5500000715255737, 0.0, 0.0, 0.0, 0.0, 0.0, 0.0, 0.0, 0.351999968290329, 0.3879999816417694, 0.42399996519088745, 0.4599999785423279, 0.4959999918937683, 0.531999945640564, 0.5679999589920044, 0.6039999723434448, 0.6399999856948853, 0.6759999990463257, 0.7120000123977661, 0.7480000257492065, 0.784000039100647, 0.8199999928474426, 0.8560000061988831, 0.8920000195503235, 0.9279999732971191, 0.9639999866485596, 1.0, 0.10000000149011612, 0.13600000739097595, 0.171999990940094, 0.20800000429153442, 0.24399998784065247, 0.2800000011920929, 0.31599998474121094, 0.351999968290329, 0.3879999816417694, 0.42399996519088745, 0.4599999785423279, 0.4959999918937683, 0.531999945640564, 0.5679999589920044, 0.6039999723434448, 0.6399999856948853, 0.6759999990463257, 0.7120000123977661, 0.7480000257492065, 0.784000039100647, 0.8199999928474426, 0.8560000061988831, 0.8920000195503235, 0.9279999732971191, 0.9639999866485596, 1.0]\n",
      "2024-04-17 15:38:00,665 - gaia.gaia.models - WARNING - unkown kwargs ['dataset_params', 'seed', 'ckpt', 'model_type', 'model_grid', 'upweigh_low_levels']\n"
     ]
    }
   ],
   "source": [
    "model_dirs = [m for m in glob.glob(\"lightning_logs/*\")]#if os.path.exists(os.path.join(m,\"test_results.json\"))]\n",
    "data = []\n",
    "\n",
    "model_dirs.extend(list(glob.glob(\"../model-hyperparams/lightning_logs/*\")))\n",
    "\n",
    "fields = [\"hidden_size\",\"num_layers\",\"model_type\"]\n",
    "\n",
    "\n",
    "data = []\n",
    "\n",
    "for m in tqdm.tqdm(model_dirs):\n",
    "    try:\n",
    "        ckpt = get_checkpoint_file(m)\n",
    "    except FileNotFoundError:\n",
    "        continue\n",
    "    model = TrainingModel.load_from_checkpoint(ckpt, map_location=\"cpu\")\n",
    "    num_params = sum([p.numel() for p in model.parameters()])\n",
    "    \n",
    "    test_file = list(Path(m).glob(\"test_results_*.json\"))\n",
    "    \n",
    "    if len(test_file) > 0:\n",
    "        test_file = test_file[0]\n",
    "    else:\n",
    "        continue\n",
    "    \n",
    "    test_results = pd.read_json(test_file, orient = \"records\").iloc[0]\n",
    "    test_results.loc[\"num_params\"]=num_params\n",
    "    test_results.loc[\"hidden_size\"] = model.model.hidden_size\n",
    "    test_results.loc[\"num_layers\"] = model.model.num_layers\n",
    "    test_results.loc[\"model_type\"] = model.hparams.model_type\n",
    "    \n",
    "    if model.hparams.model_type == \"fcn\":\n",
    "        if model.model.hidden_size == 512 and model.model.num_layers == 7:\n",
    "            data.append(test_results)\n",
    "        elif model.model.hidden_size == 256 and model.model.num_layers == 21:\n",
    "            data.append(test_results)\n",
    "        \n",
    "    else:\n",
    "    \n",
    "    \n",
    "        data.append(test_results)\n",
    "    \n",
    "#     params = load_hparams_file(m)\n",
    "#     if params:\n",
    "#         test_file = os.path.join(m,\"test_results.json\")\n",
    "#         test_results = pd.read_json(test_file, orient = \"records\").iloc[0]\n",
    "#         for f in fields:\n",
    "#             test_results[f] = params[\"model_config\"][f]\n",
    "        \n",
    "#         # test_results[\"ignore_input_variables\"] = params.get(\"ignore_input_variables\")\n",
    "#         # test_results[\"memory_variables\"] = params.get(\"memory_variables\")\n",
    "#         data.append(test_results.to_frame().T)\n",
    "        \n",
    "data = pd.concat(data,axis=1,ignore_index=True).T"
   ]
  },
  {
   "cell_type": "code",
   "execution_count": 3,
   "id": "d5cfc1ec-d4f0-4bf3-b7a7-840fc8494e2c",
   "metadata": {
    "tags": []
   },
   "outputs": [],
   "source": [
    "data.columns = [c.replace(\"test_skill_ave_trunc_\",\"\").replace(\"test_skill_ave_clipped\",\"test_skill\") for c in data.columns]"
   ]
  },
  {
   "cell_type": "code",
   "execution_count": 4,
   "id": "97077307-e791-458a-8bc3-a9c51f58b643",
   "metadata": {
    "tags": []
   },
   "outputs": [
    {
     "data": {
      "application/javascript": "(function(root) {\n  function now() {\n    return new Date();\n  }\n\n  var force = true;\n  var py_version = '3.2.2'.replace('rc', '-rc.').replace('.dev', '-dev.');\n  var is_dev = py_version.indexOf(\"+\") !== -1 || py_version.indexOf(\"-\") !== -1;\n  var reloading = false;\n  var Bokeh = root.Bokeh;\n  var bokeh_loaded = Bokeh != null && (Bokeh.version === py_version || (Bokeh.versions !== undefined && Bokeh.versions.has(py_version)));\n\n  if (typeof (root._bokeh_timeout) === \"undefined\" || force) {\n    root._bokeh_timeout = Date.now() + 5000;\n    root._bokeh_failed_load = false;\n  }\n\n  function run_callbacks() {\n    try {\n      root._bokeh_onload_callbacks.forEach(function(callback) {\n        if (callback != null)\n          callback();\n      });\n    } finally {\n      delete root._bokeh_onload_callbacks;\n    }\n    console.debug(\"Bokeh: all callbacks have finished\");\n  }\n\n  function load_libs(css_urls, js_urls, js_modules, js_exports, callback) {\n    if (css_urls == null) css_urls = [];\n    if (js_urls == null) js_urls = [];\n    if (js_modules == null) js_modules = [];\n    if (js_exports == null) js_exports = {};\n\n    root._bokeh_onload_callbacks.push(callback);\n\n    if (root._bokeh_is_loading > 0) {\n      console.debug(\"Bokeh: BokehJS is being loaded, scheduling callback at\", now());\n      return null;\n    }\n    if (js_urls.length === 0 && js_modules.length === 0 && Object.keys(js_exports).length === 0) {\n      run_callbacks();\n      return null;\n    }\n    if (!reloading) {\n      console.debug(\"Bokeh: BokehJS not loaded, scheduling load and callback at\", now());\n    }\n\n    function on_load() {\n      root._bokeh_is_loading--;\n      if (root._bokeh_is_loading === 0) {\n        console.debug(\"Bokeh: all BokehJS libraries/stylesheets loaded\");\n        run_callbacks()\n      }\n    }\n    window._bokeh_on_load = on_load\n\n    function on_error() {\n      console.error(\"failed to load \" + url);\n    }\n\n    var skip = [];\n    if (window.requirejs) {\n      window.requirejs.config({'packages': {}, 'paths': {'jspanel': 'https://cdn.jsdelivr.net/npm/jspanel4@4.12.0/dist/jspanel', 'jspanel-modal': 'https://cdn.jsdelivr.net/npm/jspanel4@4.12.0/dist/extensions/modal/jspanel.modal', 'jspanel-tooltip': 'https://cdn.jsdelivr.net/npm/jspanel4@4.12.0/dist/extensions/tooltip/jspanel.tooltip', 'jspanel-hint': 'https://cdn.jsdelivr.net/npm/jspanel4@4.12.0/dist/extensions/hint/jspanel.hint', 'jspanel-layout': 'https://cdn.jsdelivr.net/npm/jspanel4@4.12.0/dist/extensions/layout/jspanel.layout', 'jspanel-contextmenu': 'https://cdn.jsdelivr.net/npm/jspanel4@4.12.0/dist/extensions/contextmenu/jspanel.contextmenu', 'jspanel-dock': 'https://cdn.jsdelivr.net/npm/jspanel4@4.12.0/dist/extensions/dock/jspanel.dock', 'gridstack': 'https://cdn.jsdelivr.net/npm/gridstack@7.2.3/dist/gridstack-all', 'notyf': 'https://cdn.jsdelivr.net/npm/notyf@3/notyf.min'}, 'shim': {'jspanel': {'exports': 'jsPanel'}, 'gridstack': {'exports': 'GridStack'}}});\n      require([\"jspanel\"], function(jsPanel) {\n\twindow.jsPanel = jsPanel\n\ton_load()\n      })\n      require([\"jspanel-modal\"], function() {\n\ton_load()\n      })\n      require([\"jspanel-tooltip\"], function() {\n\ton_load()\n      })\n      require([\"jspanel-hint\"], function() {\n\ton_load()\n      })\n      require([\"jspanel-layout\"], function() {\n\ton_load()\n      })\n      require([\"jspanel-contextmenu\"], function() {\n\ton_load()\n      })\n      require([\"jspanel-dock\"], function() {\n\ton_load()\n      })\n      require([\"gridstack\"], function(GridStack) {\n\twindow.GridStack = GridStack\n\ton_load()\n      })\n      require([\"notyf\"], function() {\n\ton_load()\n      })\n      root._bokeh_is_loading = css_urls.length + 9;\n    } else {\n      root._bokeh_is_loading = css_urls.length + js_urls.length + js_modules.length + Object.keys(js_exports).length;\n    }\n\n    var existing_stylesheets = []\n    var links = document.getElementsByTagName('link')\n    for (var i = 0; i < links.length; i++) {\n      var link = links[i]\n      if (link.href != null) {\n\texisting_stylesheets.push(link.href)\n      }\n    }\n    for (var i = 0; i < css_urls.length; i++) {\n      var url = css_urls[i];\n      if (existing_stylesheets.indexOf(url) !== -1) {\n\ton_load()\n\tcontinue;\n      }\n      const element = document.createElement(\"link\");\n      element.onload = on_load;\n      element.onerror = on_error;\n      element.rel = \"stylesheet\";\n      element.type = \"text/css\";\n      element.href = url;\n      console.debug(\"Bokeh: injecting link tag for BokehJS stylesheet: \", url);\n      document.body.appendChild(element);\n    }    if (((window['jsPanel'] !== undefined) && (!(window['jsPanel'] instanceof HTMLElement))) || window.requirejs) {\n      var urls = ['https://cdn.holoviz.org/panel/1.2.3/dist/bundled/floatpanel/jspanel4@4.12.0/dist/jspanel.js', 'https://cdn.holoviz.org/panel/1.2.3/dist/bundled/floatpanel/jspanel4@4.12.0/dist/extensions/modal/jspanel.modal.js', 'https://cdn.holoviz.org/panel/1.2.3/dist/bundled/floatpanel/jspanel4@4.12.0/dist/extensions/tooltip/jspanel.tooltip.js', 'https://cdn.holoviz.org/panel/1.2.3/dist/bundled/floatpanel/jspanel4@4.12.0/dist/extensions/hint/jspanel.hint.js', 'https://cdn.holoviz.org/panel/1.2.3/dist/bundled/floatpanel/jspanel4@4.12.0/dist/extensions/layout/jspanel.layout.js', 'https://cdn.holoviz.org/panel/1.2.3/dist/bundled/floatpanel/jspanel4@4.12.0/dist/extensions/contextmenu/jspanel.contextmenu.js', 'https://cdn.holoviz.org/panel/1.2.3/dist/bundled/floatpanel/jspanel4@4.12.0/dist/extensions/dock/jspanel.dock.js'];\n      for (var i = 0; i < urls.length; i++) {\n        skip.push(urls[i])\n      }\n    }    if (((window['GridStack'] !== undefined) && (!(window['GridStack'] instanceof HTMLElement))) || window.requirejs) {\n      var urls = ['https://cdn.holoviz.org/panel/1.2.3/dist/bundled/gridstack/gridstack@7.2.3/dist/gridstack-all.js'];\n      for (var i = 0; i < urls.length; i++) {\n        skip.push(urls[i])\n      }\n    }    if (((window['Notyf'] !== undefined) && (!(window['Notyf'] instanceof HTMLElement))) || window.requirejs) {\n      var urls = ['https://cdn.holoviz.org/panel/1.2.3/dist/bundled/notificationarea/notyf@3/notyf.min.js'];\n      for (var i = 0; i < urls.length; i++) {\n        skip.push(urls[i])\n      }\n    }    var existing_scripts = []\n    var scripts = document.getElementsByTagName('script')\n    for (var i = 0; i < scripts.length; i++) {\n      var script = scripts[i]\n      if (script.src != null) {\n\texisting_scripts.push(script.src)\n      }\n    }\n    for (var i = 0; i < js_urls.length; i++) {\n      var url = js_urls[i];\n      if (skip.indexOf(url) !== -1 || existing_scripts.indexOf(url) !== -1) {\n\tif (!window.requirejs) {\n\t  on_load();\n\t}\n\tcontinue;\n      }\n      var element = document.createElement('script');\n      element.onload = on_load;\n      element.onerror = on_error;\n      element.async = false;\n      element.src = url;\n      console.debug(\"Bokeh: injecting script tag for BokehJS library: \", url);\n      document.head.appendChild(element);\n    }\n    for (var i = 0; i < js_modules.length; i++) {\n      var url = js_modules[i];\n      if (skip.indexOf(url) !== -1 || existing_scripts.indexOf(url) !== -1) {\n\tif (!window.requirejs) {\n\t  on_load();\n\t}\n\tcontinue;\n      }\n      var element = document.createElement('script');\n      element.onload = on_load;\n      element.onerror = on_error;\n      element.async = false;\n      element.src = url;\n      element.type = \"module\";\n      console.debug(\"Bokeh: injecting script tag for BokehJS library: \", url);\n      document.head.appendChild(element);\n    }\n    for (const name in js_exports) {\n      var url = js_exports[name];\n      if (skip.indexOf(url) >= 0 || root[name] != null) {\n\tif (!window.requirejs) {\n\t  on_load();\n\t}\n\tcontinue;\n      }\n      var element = document.createElement('script');\n      element.onerror = on_error;\n      element.async = false;\n      element.type = \"module\";\n      console.debug(\"Bokeh: injecting script tag for BokehJS library: \", url);\n      element.textContent = `\n      import ${name} from \"${url}\"\n      window.${name} = ${name}\n      window._bokeh_on_load()\n      `\n      document.head.appendChild(element);\n    }\n    if (!js_urls.length && !js_modules.length) {\n      on_load()\n    }\n  };\n\n  function inject_raw_css(css) {\n    const element = document.createElement(\"style\");\n    element.appendChild(document.createTextNode(css));\n    document.body.appendChild(element);\n  }\n\n  var js_urls = [\"https://cdn.bokeh.org/bokeh/release/bokeh-3.2.2.min.js\", \"https://cdn.bokeh.org/bokeh/release/bokeh-gl-3.2.2.min.js\", \"https://cdn.bokeh.org/bokeh/release/bokeh-widgets-3.2.2.min.js\", \"https://cdn.bokeh.org/bokeh/release/bokeh-tables-3.2.2.min.js\", \"https://cdn.holoviz.org/panel/1.2.3/dist/panel.min.js\"];\n  var js_modules = [];\n  var js_exports = {};\n  var css_urls = [];\n  var inline_js = [    function(Bokeh) {\n      Bokeh.set_log_level(\"info\");\n    },\nfunction(Bokeh) {} // ensure no trailing comma for IE\n  ];\n\n  function run_inline_js() {\n    if ((root.Bokeh !== undefined) || (force === true)) {\n      for (var i = 0; i < inline_js.length; i++) {\n        inline_js[i].call(root, root.Bokeh);\n      }\n      // Cache old bokeh versions\n      if (Bokeh != undefined && !reloading) {\n\tvar NewBokeh = root.Bokeh;\n\tif (Bokeh.versions === undefined) {\n\t  Bokeh.versions = new Map();\n\t}\n\tif (NewBokeh.version !== Bokeh.version) {\n\t  Bokeh.versions.set(NewBokeh.version, NewBokeh)\n\t}\n\troot.Bokeh = Bokeh;\n      }} else if (Date.now() < root._bokeh_timeout) {\n      setTimeout(run_inline_js, 100);\n    } else if (!root._bokeh_failed_load) {\n      console.log(\"Bokeh: BokehJS failed to load within specified timeout.\");\n      root._bokeh_failed_load = true;\n    }\n    root._bokeh_is_initializing = false\n  }\n\n  function load_or_wait() {\n    // Implement a backoff loop that tries to ensure we do not load multiple\n    // versions of Bokeh and its dependencies at the same time.\n    // In recent versions we use the root._bokeh_is_initializing flag\n    // to determine whether there is an ongoing attempt to initialize\n    // bokeh, however for backward compatibility we also try to ensure\n    // that we do not start loading a newer (Panel>=1.0 and Bokeh>3) version\n    // before older versions are fully initialized.\n    if (root._bokeh_is_initializing && Date.now() > root._bokeh_timeout) {\n      root._bokeh_is_initializing = false;\n      root._bokeh_onload_callbacks = undefined;\n      console.log(\"Bokeh: BokehJS was loaded multiple times but one version failed to initialize.\");\n      load_or_wait();\n    } else if (root._bokeh_is_initializing || (typeof root._bokeh_is_initializing === \"undefined\" && root._bokeh_onload_callbacks !== undefined)) {\n      setTimeout(load_or_wait, 100);\n    } else {\n      Bokeh = root.Bokeh;\n      bokeh_loaded = Bokeh != null && (Bokeh.version === py_version || (Bokeh.versions !== undefined && Bokeh.versions.has(py_version)));\n      root._bokeh_is_initializing = true\n      root._bokeh_onload_callbacks = []\n      if (!reloading && (!bokeh_loaded || is_dev)) {\n\troot.Bokeh = undefined;\n      }\n      load_libs(css_urls, js_urls, js_modules, js_exports, function() {\n\tconsole.debug(\"Bokeh: BokehJS plotting callback run at\", now());\n\trun_inline_js();\n      });\n    }\n  }\n  // Give older versions of the autoload script a head-start to ensure\n  // they initialize before we start loading newer version.\n  setTimeout(load_or_wait, 100)\n}(window));",
      "application/vnd.holoviews_load.v0+json": ""
     },
     "metadata": {},
     "output_type": "display_data"
    },
    {
     "data": {
      "application/javascript": "\nif ((window.PyViz === undefined) || (window.PyViz instanceof HTMLElement)) {\n  window.PyViz = {comms: {}, comm_status:{}, kernels:{}, receivers: {}, plot_index: []}\n}\n\n\n    function JupyterCommManager() {\n    }\n\n    JupyterCommManager.prototype.register_target = function(plot_id, comm_id, msg_handler) {\n      if (window.comm_manager || ((window.Jupyter !== undefined) && (Jupyter.notebook.kernel != null))) {\n        var comm_manager = window.comm_manager || Jupyter.notebook.kernel.comm_manager;\n        comm_manager.register_target(comm_id, function(comm) {\n          comm.on_msg(msg_handler);\n        });\n      } else if ((plot_id in window.PyViz.kernels) && (window.PyViz.kernels[plot_id])) {\n        window.PyViz.kernels[plot_id].registerCommTarget(comm_id, function(comm) {\n          comm.onMsg = msg_handler;\n        });\n      } else if (typeof google != 'undefined' && google.colab.kernel != null) {\n        google.colab.kernel.comms.registerTarget(comm_id, (comm) => {\n          var messages = comm.messages[Symbol.asyncIterator]();\n          function processIteratorResult(result) {\n            var message = result.value;\n            console.log(message)\n            var content = {data: message.data, comm_id};\n            var buffers = []\n            for (var buffer of message.buffers || []) {\n              buffers.push(new DataView(buffer))\n            }\n            var metadata = message.metadata || {};\n            var msg = {content, buffers, metadata}\n            msg_handler(msg);\n            return messages.next().then(processIteratorResult);\n          }\n          return messages.next().then(processIteratorResult);\n        })\n      }\n    }\n\n    JupyterCommManager.prototype.get_client_comm = function(plot_id, comm_id, msg_handler) {\n      if (comm_id in window.PyViz.comms) {\n        return window.PyViz.comms[comm_id];\n      } else if (window.comm_manager || ((window.Jupyter !== undefined) && (Jupyter.notebook.kernel != null))) {\n        var comm_manager = window.comm_manager || Jupyter.notebook.kernel.comm_manager;\n        var comm = comm_manager.new_comm(comm_id, {}, {}, {}, comm_id);\n        if (msg_handler) {\n          comm.on_msg(msg_handler);\n        }\n      } else if ((plot_id in window.PyViz.kernels) && (window.PyViz.kernels[plot_id])) {\n        var comm = window.PyViz.kernels[plot_id].connectToComm(comm_id);\n        comm.open();\n        if (msg_handler) {\n          comm.onMsg = msg_handler;\n        }\n      } else if (typeof google != 'undefined' && google.colab.kernel != null) {\n        var comm_promise = google.colab.kernel.comms.open(comm_id)\n        comm_promise.then((comm) => {\n          window.PyViz.comms[comm_id] = comm;\n          if (msg_handler) {\n            var messages = comm.messages[Symbol.asyncIterator]();\n            function processIteratorResult(result) {\n              var message = result.value;\n              var content = {data: message.data};\n              var metadata = message.metadata || {comm_id};\n              var msg = {content, metadata}\n              msg_handler(msg);\n              return messages.next().then(processIteratorResult);\n            }\n            return messages.next().then(processIteratorResult);\n          }\n        }) \n        var sendClosure = (data, metadata, buffers, disposeOnDone) => {\n          return comm_promise.then((comm) => {\n            comm.send(data, metadata, buffers, disposeOnDone);\n          });\n        };\n        var comm = {\n          send: sendClosure\n        };\n      }\n      window.PyViz.comms[comm_id] = comm;\n      return comm;\n    }\n    window.PyViz.comm_manager = new JupyterCommManager();\n    \n\n\nvar JS_MIME_TYPE = 'application/javascript';\nvar HTML_MIME_TYPE = 'text/html';\nvar EXEC_MIME_TYPE = 'application/vnd.holoviews_exec.v0+json';\nvar CLASS_NAME = 'output';\n\n/**\n * Render data to the DOM node\n */\nfunction render(props, node) {\n  var div = document.createElement(\"div\");\n  var script = document.createElement(\"script\");\n  node.appendChild(div);\n  node.appendChild(script);\n}\n\n/**\n * Handle when a new output is added\n */\nfunction handle_add_output(event, handle) {\n  var output_area = handle.output_area;\n  var output = handle.output;\n  if ((output.data == undefined) || (!output.data.hasOwnProperty(EXEC_MIME_TYPE))) {\n    return\n  }\n  var id = output.metadata[EXEC_MIME_TYPE][\"id\"];\n  var toinsert = output_area.element.find(\".\" + CLASS_NAME.split(' ')[0]);\n  if (id !== undefined) {\n    var nchildren = toinsert.length;\n    var html_node = toinsert[nchildren-1].children[0];\n    html_node.innerHTML = output.data[HTML_MIME_TYPE];\n    var scripts = [];\n    var nodelist = html_node.querySelectorAll(\"script\");\n    for (var i in nodelist) {\n      if (nodelist.hasOwnProperty(i)) {\n        scripts.push(nodelist[i])\n      }\n    }\n\n    scripts.forEach( function (oldScript) {\n      var newScript = document.createElement(\"script\");\n      var attrs = [];\n      var nodemap = oldScript.attributes;\n      for (var j in nodemap) {\n        if (nodemap.hasOwnProperty(j)) {\n          attrs.push(nodemap[j])\n        }\n      }\n      attrs.forEach(function(attr) { newScript.setAttribute(attr.name, attr.value) });\n      newScript.appendChild(document.createTextNode(oldScript.innerHTML));\n      oldScript.parentNode.replaceChild(newScript, oldScript);\n    });\n    if (JS_MIME_TYPE in output.data) {\n      toinsert[nchildren-1].children[1].textContent = output.data[JS_MIME_TYPE];\n    }\n    output_area._hv_plot_id = id;\n    if ((window.Bokeh !== undefined) && (id in Bokeh.index)) {\n      window.PyViz.plot_index[id] = Bokeh.index[id];\n    } else {\n      window.PyViz.plot_index[id] = null;\n    }\n  } else if (output.metadata[EXEC_MIME_TYPE][\"server_id\"] !== undefined) {\n    var bk_div = document.createElement(\"div\");\n    bk_div.innerHTML = output.data[HTML_MIME_TYPE];\n    var script_attrs = bk_div.children[0].attributes;\n    for (var i = 0; i < script_attrs.length; i++) {\n      toinsert[toinsert.length - 1].childNodes[1].setAttribute(script_attrs[i].name, script_attrs[i].value);\n    }\n    // store reference to server id on output_area\n    output_area._bokeh_server_id = output.metadata[EXEC_MIME_TYPE][\"server_id\"];\n  }\n}\n\n/**\n * Handle when an output is cleared or removed\n */\nfunction handle_clear_output(event, handle) {\n  var id = handle.cell.output_area._hv_plot_id;\n  var server_id = handle.cell.output_area._bokeh_server_id;\n  if (((id === undefined) || !(id in PyViz.plot_index)) && (server_id !== undefined)) { return; }\n  var comm = window.PyViz.comm_manager.get_client_comm(\"hv-extension-comm\", \"hv-extension-comm\", function () {});\n  if (server_id !== null) {\n    comm.send({event_type: 'server_delete', 'id': server_id});\n    return;\n  } else if (comm !== null) {\n    comm.send({event_type: 'delete', 'id': id});\n  }\n  delete PyViz.plot_index[id];\n  if ((window.Bokeh !== undefined) & (id in window.Bokeh.index)) {\n    var doc = window.Bokeh.index[id].model.document\n    doc.clear();\n    const i = window.Bokeh.documents.indexOf(doc);\n    if (i > -1) {\n      window.Bokeh.documents.splice(i, 1);\n    }\n  }\n}\n\n/**\n * Handle kernel restart event\n */\nfunction handle_kernel_cleanup(event, handle) {\n  delete PyViz.comms[\"hv-extension-comm\"];\n  window.PyViz.plot_index = {}\n}\n\n/**\n * Handle update_display_data messages\n */\nfunction handle_update_output(event, handle) {\n  handle_clear_output(event, {cell: {output_area: handle.output_area}})\n  handle_add_output(event, handle)\n}\n\nfunction register_renderer(events, OutputArea) {\n  function append_mime(data, metadata, element) {\n    // create a DOM node to render to\n    var toinsert = this.create_output_subarea(\n    metadata,\n    CLASS_NAME,\n    EXEC_MIME_TYPE\n    );\n    this.keyboard_manager.register_events(toinsert);\n    // Render to node\n    var props = {data: data, metadata: metadata[EXEC_MIME_TYPE]};\n    render(props, toinsert[0]);\n    element.append(toinsert);\n    return toinsert\n  }\n\n  events.on('output_added.OutputArea', handle_add_output);\n  events.on('output_updated.OutputArea', handle_update_output);\n  events.on('clear_output.CodeCell', handle_clear_output);\n  events.on('delete.Cell', handle_clear_output);\n  events.on('kernel_ready.Kernel', handle_kernel_cleanup);\n\n  OutputArea.prototype.register_mime_type(EXEC_MIME_TYPE, append_mime, {\n    safe: true,\n    index: 0\n  });\n}\n\nif (window.Jupyter !== undefined) {\n  try {\n    var events = require('base/js/events');\n    var OutputArea = require('notebook/js/outputarea').OutputArea;\n    if (OutputArea.prototype.mime_types().indexOf(EXEC_MIME_TYPE) == -1) {\n      register_renderer(events, OutputArea);\n    }\n  } catch(err) {\n  }\n}\n",
      "application/vnd.holoviews_load.v0+json": ""
     },
     "metadata": {},
     "output_type": "display_data"
    },
    {
     "data": {
      "text/html": [
       "<style>*[data-root-id],\n",
       "*[data-root-id] > * {\n",
       "  box-sizing: border-box;\n",
       "  font-family: var(--jp-ui-font-family);\n",
       "  font-size: var(--jp-ui-font-size1);\n",
       "  color: var(--vscode-editor-foreground, var(--jp-ui-font-color1));\n",
       "}\n",
       "\n",
       "/* Override VSCode background color */\n",
       ".cell-output-ipywidget-background:has(\n",
       "    > .cell-output-ipywidget-background > .lm-Widget > *[data-root-id]\n",
       "  ),\n",
       ".cell-output-ipywidget-background:has(> .lm-Widget > *[data-root-id]) {\n",
       "  background-color: transparent !important;\n",
       "}\n",
       "</style>"
      ]
     },
     "metadata": {},
     "output_type": "display_data"
    },
    {
     "data": {
      "text/html": [
       "\n",
       "<div class=\"logo-block\">\n",
       "<img src='data:image/png;base64,iVBORw0KGgoAAAANSUhEUgAAAEAAAABACAYAAACqaXHeAAAABHNCSVQICAgIfAhkiAAAAAlwSFlz\n",
       "AAAB+wAAAfsBxc2miwAAABl0RVh0U29mdHdhcmUAd3d3Lmlua3NjYXBlLm9yZ5vuPBoAAA6zSURB\n",
       "VHic7ZtpeFRVmsf/5966taWqUlUJ2UioBBJiIBAwCZtog9IOgjqACsogKtqirT2ttt069nQ/zDzt\n",
       "tI4+CrJIREFaFgWhBXpUNhHZQoKBkIUASchWla1S+3ar7r1nPkDaCAnZKoQP/D7mnPOe9/xy76n3\n",
       "nFSAW9ziFoPFNED2LLK5wcyBDObkb8ZkxuaoSYlI6ZcOKq1eWFdedqNzGHQBk9RMEwFAASkk0Xw3\n",
       "ETacDNi2vtvc7L0ROdw0AjoSotQVkKSvHQz/wRO1lScGModBFbDMaNRN1A4tUBCS3lk7BWhQkgpD\n",
       "lG4852/+7DWr1R3uHAZVQDsbh6ZPN7CyxUrCzJMRouusj0ipRwD2uKm0Zn5d2dFwzX1TCGhnmdGo\n",
       "G62Nna+isiUqhkzuKrkQaJlPEv5mFl2fvGg2t/VnzkEV8F5ioioOEWkLG86fvbpthynjdhXYZziQ\n",
       "x1hC9J2NFyi8vCTt91Fh04KGip0AaG9zuCk2wQCVyoNU3Hjezee9bq92duzzTmxsRJoy+jEZZZYo\n",
       "GTKJ6SJngdJqAfRzpze0+jHreUtPc7gpBLQnIYK6BYp/uGhw9YK688eu7v95ysgshcg9qSLMo3JC\n",
       "4jqLKQFBgdKDPoQ+Pltb8dUyQLpeDjeVgI6EgLIQFT5tEl3rn2losHVsexbZ3EyT9wE1uGdkIPcy\n",
       "BGxn8QUq1QrA5nqW5i2tLqvrrM9NK6AdkVIvL9E9bZL/oyfMVd/jqvc8LylzRBKDJSzIExwhQzuL\n",
       "QYGQj4rHfFTc8mUdu3E7yoLtbTe9gI4EqVgVkug2i5+uXGo919ixbRog+3fTbQ8qJe4ZOYNfMoTI\n",
       "OoshUNosgO60AisX15aeI2PSIp5KiFLI9ubb1vV3Qb2ltwLakUCDAkWX7/nHKRmmGIl9VgYsUhJm\n",
       "2NXjKYADtM1ygne9QQDIXlk49FBstMKx66D1v4+XuQr7vqTe0VcBHQlRWiOCbmmSYe2SqtL6q5rJ\n",
       "zsTb7lKx3FKOYC4DoqyS/B5bvLPxvD9Qtf6saxYLQGJErmDOdOMr/zo96km1nElr8bmPOBwI9COv\n",
       "HnFPRIwmkSOv9kcAS4heRsidOkpeWBgZM+UBrTFAXNYL5Vf2ii9c1trNzpYdaoVil3WIc+wdk+gQ\n",
       "noie3ecCcxt9ITcLAPWt/laGEO/9U6PmzZkenTtsSMQ8uYywJVW+grCstAvCIaAdArAsIWkRDDs/\n",
       "KzLm2YcjY1Lv0UdW73HabE9n6V66cxSzfEmuJssTpKGVp+0vHq73FwL46eOjpMpbRAnNmJFrGJNu\n",
       "Ukf9Yrz+3rghiumCKNXXWPhLYcjxGsIpoCMsIRoFITkW8AuyM8jC1+/QLx4bozCEJIq38+1rtpR6\n",
       "V/yzb8eBlRb3fo5l783N0CWolAzJHaVNzkrTzlEp2bQ2q3TC5gn6wpnoQAmwSiGh2GitnTmVMc5O\n",
       "UyfKWUKCIsU7+fZDKwqdT6DDpvkzAX4/+AMFjk0tDp5GRXLpQ2MUmhgDp5gxQT8+Y7hyPsMi8uxF\n",
       "71H0oebujHALECjFKaW9Lm68n18wXp2kVzIcABytD5iXFzg+WVXkegpAsOOYziqo0OkK76GyquC3\n",
       "ltZAzMhhqlSNmmWTE5T6e3IN05ITFLM4GdN0vtZ3ob8Jh1NAKXFbm5PtLU/eqTSlGjkNAJjdgn/N\n",
       "aedXa0tdi7+t9G0FIF49rtMSEgAs1kDLkTPO7ebm4IUWeyh1bKomXqlgMG6kJmHcSM0clYLJ8XtR\n",
       "1GTnbV3F6I5wCGikAb402npp1h1s7LQUZZSMIfALFOuL3UUrfnS8+rez7v9qcold5tilgHbO1fjK\n",
       "9ubb17u9oshxzMiUBKXWqJNxd+fqb0tLVs4lILFnK71H0Ind7uiPgACVcFJlrb0tV6DzxqqTIhUM\n",
       "CwDf1/rrVhTa33/3pGPxJYdQ2l2cbgVcQSosdx8uqnDtbGjh9SlDVSMNWhlnilfqZk42Th2ZpLpf\n",
       "xrHec5e815zrr0dfBZSwzkZfqsv+1FS1KUknUwPARVvItfKUY+cn57yP7qv07UE3p8B2uhUwLk09\n",
       "e0SCOrK+hbdYHYLjRIl71wWzv9jpEoeOHhGRrJAzyEyNiJuUqX0g2sBN5kGK6y2Blp5M3lsB9Qh4\n",
       "y2Ja6x6+i0ucmKgwMATwhSjdUu49tKrQ/pvN5d53ml2CGwCmJipmKjgmyuaXzNeL2a0AkQ01Th5j\n",
       "2DktO3Jyk8f9vcOBQHV94OK+fPumJmvQHxJoWkaKWq9Vs+yUsbq0zGT1I4RgeH2b5wef7+c7bl8F\n",
       "eKgoHVVZa8ZPEORzR6sT1BzDUAD/d9F78e2Tzv99v8D+fLVTqAKAsbGamKey1Mt9Ann4eH3gTXTz\n",
       "idWtAJ8PQWOk7NzSeQn/OTHDuEikVF1R4z8BQCy+6D1aWRfY0tTGG2OM8rRoPaeIj5ZHzJxszElN\n",
       "VM8K8JS5WOfv8mzRnQAKoEhmt8gyPM4lU9SmBK1MCQBnW4KONT86v1hZ1PbwSXPw4JWussVjtH9Y\n",
       "NCoiL9UoH/6PSu8jFrfY2t36erQHXLIEakMi1SydmzB31h3GGXFDFNPaK8Rme9B79Ixrd0WN+1ij\n",
       "NRQ/doRmuFLBkHSTOm5GruG+pFjFdAmorG4IXH1Qua6ASniclfFtDYt+oUjKipPrCQB7QBQ2lrgP\n",
       "fFzm+9XWUtcqJ3/5vDLDpJ79XHZk3u8nGZ42qlj1+ydtbxysCezrydp6ugmipNJ7WBPB5tydY0jP\n",
       "HaVNzs3QzeE4ZpTbI+ZbnSFPbVOw9vsfnVvqWnirPyCNGD08IlqtYkh2hjZ5dErEQzoNm+6ykyOt\n",
       "Lt5/PQEuSRRKo22VkydK+vvS1XEKlhCJAnsqvcVvH7f/ZU2R67eXbMEGAMiIV5oWZWiWvz5Fv2xG\n",
       "sjqNJQRvn3Rs2lji/lNP19VjAQDgD7FHhujZB9OGqYxRkZxixgRDVlqS6uEOFaJUVu0rPFzctrnF\n",
       "JqijImVp8dEKVWyUXDk92zAuMZ6bFwpBU1HrOw6AdhQgUooChb0+ItMbWJitSo5Ws3IAOGEOtL53\n",
       "0vHZih9sC4vtofZ7Qu6523V/fmGcds1TY3V36pUsBwAbSlxnVh2xLfAD/IAIMDf7XYIkNmXfpp2l\n",
       "18rkAJAy9HKFaIr/qULkeQQKy9zf1JgDB2uaeFNGijo5QsUyacNUUTOnGO42xSnv4oOwpDi1zYkc\n",
       "efUc3I5Gk6PhyTuVKaOGyLUAYPGIoY9Pu/atL/L92+4q9wbflRJ2Trpm/jPjdBtfnqB/dIThcl8A\n",
       "KG7hbRuKnb8qsQsVvVlTrwQAQMUlf3kwJI24Z4JhPMtcfng5GcH49GsrxJpGvvHIaeem2ma+KSjQ\n",
       "lIwUdYyCY8j4dE1KzijNnIP2llF2wcXNnsoapw9XxsgYAl6k+KzUXbi2yP3KR2ecf6z3BFsBICdW\n",
       "nvnIaG3eHybqX7vbpEqUMT+9OL4Qpe8VON7dXuFd39v19FoAABRVePbGGuXTszO0P7tu6lghUonE\n",
       "llRdrhArLvmKdh9u29jcFiRRkfLUxBiFNiqSU9icoZQHo5mYBI1MBgBH6wMNb+U7Pnw337H4gi1Y\n",
       "ciWs+uks3Z9fztUvfzxTm9Ne8XXkvQLHNytOOZeiD4e0PgkAIAYCYknKUNUDSXEKzdWNpnil7r4p\n",
       "xqkjTarZMtk/K8TQ6Qve78qqvXurGwIJqcOUKfUWHsm8KGvxSP68YudXq4pcj39X49uOK2X142O0\n",
       "Tz5/u/7TVybqH0rSya6ZBwD21/gubbrgWdDgEOx9WUhfBaC2ibcEBYm7a7x+ukrBMNcEZggyR0TE\n",
       "T8zUPjikQ4VosQZbTpS4vqizBKvqmvjsqnpfzaZyx9JPiz1/bfGKdgD45XB1zoIMzYbfTdS/NClB\n",
       "Gct0USiY3YL/g0LHy/uq/Ef6uo5+n0R/vyhp17Klpge763f8rMu6YU/zrn2nml+2WtH+Z+5IAAFc\n",
       "2bUTdTDOSNa9+cQY7YLsOIXhevEkCvzph7a8laecz/Un/z4/Ae04XeL3UQb57IwU9ZDr9UuKVajv\n",
       "nxp1+1UVIo/LjztZkKH59fO3G/JemqCfmaCRqbqbd90ZZ8FfjtkfAyD0J/9+C2h1hDwsSxvGjNDc\n",
       "b4zk5NfrSwiQblLHzZhg+Jf4aPlUwpDqkQqa9nimbt1/TDH8OitGMaQnj+RJS6B1fbF7SY1TqO5v\n",
       "/v0WAADl1f7zokgS7s7VT2DZ7pegUjBM7mjtiDZbcN4j0YrHH0rXpCtY0qPX0cVL0rv5jv/ZXend\n",
       "0u/EESYBAFBU4T4Qa5TflZOhTe7pmKpaP8kCVUVw1+yhXfJWvn1P3hnXi33JsTN6PnP3hHZ8Z3/h\n",
       "aLHzmkNPuPj7Bc/F/Q38CwjTpSwQXgE4Vmwry9tpfq/ZFgqFMy4AVDtCvi8rvMvOmv0N4YwbVgEA\n",
       "sPM72/KVnzfspmH7HQGCRLG2yL1+z8XwvPcdCbsAANh+xPzstgMtxeGKt+6MK3/tacfvwhWvIwMi\n",
       "oKEBtm0H7W+UVfkc/Y1V0BhoPlDr/w1w/eu1vjIgAgDg22OtX6/eYfnEz/focrZTHAFR+PSs56/7\n",
       "q32nwpjazxgwAQCwcU/T62t3WL7r6/jVRa6/byp1rei+Z98ZUAEAhEPHPc8fKnTU9nbgtnOe8h0l\n",
       "9hcGIqmODLQAHCy2Xti6v/XNRivf43f4fFvIteu854+VHnR7q9tfBlwAAGz+pnndB9vM26UebAe8\n",
       "SLHujPOTPVW+rwY+sxskAAC2HrA8t2Vvc7ffP1r9o+vwR2dcr92InIAbKKC1FZ5tB1tf+/G8p8sv\n",
       "N/9Q5zd/XR34LYCwV5JdccMEAMDBk45DH243r/X4xGvqxFa/GNpS7n6rwOwNWwHVE26oAADYurf1\n",
       "zx/utOzt+DMKYM0p17YtZZ5VNzqfsB2HewG1WXE8PoZ7gOclbTIvynZf9JV+fqZtfgs/8F/Nu5rB\n",
       "EIBmJ+8QRMmpU7EzGRsf2FzuePqYRbzh/zE26EwdrT10f6r6o8HOYzCJB9Dpff8tbnGLG8L/A/WE\n",
       "roTBs2RqAAAAAElFTkSuQmCC'\n",
       "     style='height:25px; border-radius:12px; display: inline-block; float: left; vertical-align: middle'></img>\n",
       "\n",
       "\n",
       "  <img src='data:image/png;base64,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'\n",
       "       style='height:15px; border-radius:12px; display: inline-block; float: left'></img>\n",
       "  \n",
       "\n",
       "\n",
       "\n",
       "\n",
       "</div>\n"
      ]
     },
     "metadata": {},
     "output_type": "display_data"
    }
   ],
   "source": [
    "import holoviews as hv\n",
    "hv.extension(\"bokeh\")\n",
    "import hvplot.pandas"
   ]
  },
  {
   "cell_type": "code",
   "execution_count": 5,
   "id": "d9438d74-4ff1-4018-a9dc-5859258d6c8e",
   "metadata": {
    "tags": []
   },
   "outputs": [
    {
     "data": {
      "text/html": [
       "<div>\n",
       "<style scoped>\n",
       "    .dataframe tbody tr th:only-of-type {\n",
       "        vertical-align: middle;\n",
       "    }\n",
       "\n",
       "    .dataframe tbody tr th {\n",
       "        vertical-align: top;\n",
       "    }\n",
       "\n",
       "    .dataframe thead th {\n",
       "        text-align: right;\n",
       "    }\n",
       "</style>\n",
       "<table border=\"1\" class=\"dataframe\">\n",
       "  <thead>\n",
       "    <tr style=\"text-align: right;\">\n",
       "      <th></th>\n",
       "      <th>test_mse</th>\n",
       "      <th>PRECT</th>\n",
       "      <th>PRECT_00</th>\n",
       "      <th>PRECC</th>\n",
       "      <th>PRECC_00</th>\n",
       "      <th>PTEQ</th>\n",
       "      <th>PTEQ_00</th>\n",
       "      <th>PTEQ_01</th>\n",
       "      <th>PTEQ_02</th>\n",
       "      <th>PTEQ_03</th>\n",
       "      <th>...</th>\n",
       "      <th>PTTEND_21</th>\n",
       "      <th>PTTEND_22</th>\n",
       "      <th>PTTEND_23</th>\n",
       "      <th>PTTEND_24</th>\n",
       "      <th>PTTEND_25</th>\n",
       "      <th>test_skill</th>\n",
       "      <th>num_params</th>\n",
       "      <th>hidden_size</th>\n",
       "      <th>num_layers</th>\n",
       "      <th>model_type</th>\n",
       "    </tr>\n",
       "  </thead>\n",
       "  <tbody>\n",
       "    <tr>\n",
       "      <th>0</th>\n",
       "      <td>0.160744</td>\n",
       "      <td>0.963007</td>\n",
       "      <td>0.963007</td>\n",
       "      <td>0.953344</td>\n",
       "      <td>0.953344</td>\n",
       "      <td>0.617431</td>\n",
       "      <td>0.0</td>\n",
       "      <td>0.0</td>\n",
       "      <td>0.0</td>\n",
       "      <td>0.0</td>\n",
       "      <td>...</td>\n",
       "      <td>0.825314</td>\n",
       "      <td>0.822657</td>\n",
       "      <td>0.872713</td>\n",
       "      <td>0.880204</td>\n",
       "      <td>0.829762</td>\n",
       "      <td>0.835555</td>\n",
       "      <td>1393924.0</td>\n",
       "      <td>128.0</td>\n",
       "      <td>7.0</td>\n",
       "      <td>transformer</td>\n",
       "    </tr>\n",
       "    <tr>\n",
       "      <th>1</th>\n",
       "      <td>0.155994</td>\n",
       "      <td>0.964089</td>\n",
       "      <td>0.964089</td>\n",
       "      <td>0.954118</td>\n",
       "      <td>0.954118</td>\n",
       "      <td>0.620935</td>\n",
       "      <td>0.0</td>\n",
       "      <td>0.0</td>\n",
       "      <td>0.0</td>\n",
       "      <td>0.0</td>\n",
       "      <td>...</td>\n",
       "      <td>0.833327</td>\n",
       "      <td>0.836004</td>\n",
       "      <td>0.888003</td>\n",
       "      <td>0.88602</td>\n",
       "      <td>0.822037</td>\n",
       "      <td>0.844956</td>\n",
       "      <td>3171076.0</td>\n",
       "      <td>256.0</td>\n",
       "      <td>4.0</td>\n",
       "      <td>transformer</td>\n",
       "    </tr>\n",
       "    <tr>\n",
       "      <th>2</th>\n",
       "      <td>0.195469</td>\n",
       "      <td>0.958087</td>\n",
       "      <td>0.958087</td>\n",
       "      <td>0.939735</td>\n",
       "      <td>0.939735</td>\n",
       "      <td>0.602118</td>\n",
       "      <td>0.0</td>\n",
       "      <td>0.0</td>\n",
       "      <td>0.0</td>\n",
       "      <td>0.0</td>\n",
       "      <td>...</td>\n",
       "      <td>0.796033</td>\n",
       "      <td>0.812215</td>\n",
       "      <td>0.881625</td>\n",
       "      <td>0.879294</td>\n",
       "      <td>0.792855</td>\n",
       "      <td>0.806187</td>\n",
       "      <td>1603588.0</td>\n",
       "      <td>512.0</td>\n",
       "      <td>4.0</td>\n",
       "      <td>conv1d</td>\n",
       "    </tr>\n",
       "    <tr>\n",
       "      <th>3</th>\n",
       "      <td>0.141334</td>\n",
       "      <td>0.971769</td>\n",
       "      <td>0.971769</td>\n",
       "      <td>0.966655</td>\n",
       "      <td>0.966655</td>\n",
       "      <td>0.637296</td>\n",
       "      <td>0.0</td>\n",
       "      <td>0.0</td>\n",
       "      <td>0.0</td>\n",
       "      <td>0.0</td>\n",
       "      <td>...</td>\n",
       "      <td>0.856973</td>\n",
       "      <td>0.864227</td>\n",
       "      <td>0.911597</td>\n",
       "      <td>0.910813</td>\n",
       "      <td>0.847562</td>\n",
       "      <td>0.859525</td>\n",
       "      <td>1591300.0</td>\n",
       "      <td>256.0</td>\n",
       "      <td>10.0</td>\n",
       "      <td>conv1d</td>\n",
       "    </tr>\n",
       "    <tr>\n",
       "      <th>4</th>\n",
       "      <td>0.158807</td>\n",
       "      <td>0.962332</td>\n",
       "      <td>0.962332</td>\n",
       "      <td>0.95161</td>\n",
       "      <td>0.95161</td>\n",
       "      <td>0.61816</td>\n",
       "      <td>0.0</td>\n",
       "      <td>0.0</td>\n",
       "      <td>0.0</td>\n",
       "      <td>0.0</td>\n",
       "      <td>...</td>\n",
       "      <td>0.829595</td>\n",
       "      <td>0.830949</td>\n",
       "      <td>0.884038</td>\n",
       "      <td>0.881275</td>\n",
       "      <td>0.817524</td>\n",
       "      <td>0.842277</td>\n",
       "      <td>1346596.0</td>\n",
       "      <td>96.0</td>\n",
       "      <td>12.0</td>\n",
       "      <td>transformer</td>\n",
       "    </tr>\n",
       "    <tr>\n",
       "      <th>5</th>\n",
       "      <td>0.169617</td>\n",
       "      <td>0.963294</td>\n",
       "      <td>0.963294</td>\n",
       "      <td>0.952214</td>\n",
       "      <td>0.952214</td>\n",
       "      <td>0.597685</td>\n",
       "      <td>0.0</td>\n",
       "      <td>0.0</td>\n",
       "      <td>0.0</td>\n",
       "      <td>0.0</td>\n",
       "      <td>...</td>\n",
       "      <td>0.82358</td>\n",
       "      <td>0.826746</td>\n",
       "      <td>0.882079</td>\n",
       "      <td>0.886617</td>\n",
       "      <td>0.827965</td>\n",
       "      <td>0.831038</td>\n",
       "      <td>1316406.0</td>\n",
       "      <td>256.0</td>\n",
       "      <td>21.0</td>\n",
       "      <td>fcn</td>\n",
       "    </tr>\n",
       "    <tr>\n",
       "      <th>6</th>\n",
       "      <td>0.150452</td>\n",
       "      <td>0.966901</td>\n",
       "      <td>0.966901</td>\n",
       "      <td>0.957961</td>\n",
       "      <td>0.957961</td>\n",
       "      <td>0.612837</td>\n",
       "      <td>0.0</td>\n",
       "      <td>0.0</td>\n",
       "      <td>0.0</td>\n",
       "      <td>0.0</td>\n",
       "      <td>...</td>\n",
       "      <td>0.840114</td>\n",
       "      <td>0.841765</td>\n",
       "      <td>0.893501</td>\n",
       "      <td>0.896795</td>\n",
       "      <td>0.840591</td>\n",
       "      <td>0.850442</td>\n",
       "      <td>1431606.0</td>\n",
       "      <td>512.0</td>\n",
       "      <td>7.0</td>\n",
       "      <td>fcn</td>\n",
       "    </tr>\n",
       "  </tbody>\n",
       "</table>\n",
       "<p>7 rows × 64 columns</p>\n",
       "</div>"
      ],
      "text/plain": [
       "   test_mse     PRECT  PRECT_00     PRECC  PRECC_00      PTEQ PTEQ_00 PTEQ_01  \\\n",
       "0  0.160744  0.963007  0.963007  0.953344  0.953344  0.617431     0.0     0.0   \n",
       "1  0.155994  0.964089  0.964089  0.954118  0.954118  0.620935     0.0     0.0   \n",
       "2  0.195469  0.958087  0.958087  0.939735  0.939735  0.602118     0.0     0.0   \n",
       "3  0.141334  0.971769  0.971769  0.966655  0.966655  0.637296     0.0     0.0   \n",
       "4  0.158807  0.962332  0.962332   0.95161   0.95161   0.61816     0.0     0.0   \n",
       "5  0.169617  0.963294  0.963294  0.952214  0.952214  0.597685     0.0     0.0   \n",
       "6  0.150452  0.966901  0.966901  0.957961  0.957961  0.612837     0.0     0.0   \n",
       "\n",
       "  PTEQ_02 PTEQ_03  ... PTTEND_21 PTTEND_22 PTTEND_23 PTTEND_24 PTTEND_25  \\\n",
       "0     0.0     0.0  ...  0.825314  0.822657  0.872713  0.880204  0.829762   \n",
       "1     0.0     0.0  ...  0.833327  0.836004  0.888003   0.88602  0.822037   \n",
       "2     0.0     0.0  ...  0.796033  0.812215  0.881625  0.879294  0.792855   \n",
       "3     0.0     0.0  ...  0.856973  0.864227  0.911597  0.910813  0.847562   \n",
       "4     0.0     0.0  ...  0.829595  0.830949  0.884038  0.881275  0.817524   \n",
       "5     0.0     0.0  ...   0.82358  0.826746  0.882079  0.886617  0.827965   \n",
       "6     0.0     0.0  ...  0.840114  0.841765  0.893501  0.896795  0.840591   \n",
       "\n",
       "  test_skill num_params hidden_size num_layers   model_type  \n",
       "0   0.835555  1393924.0       128.0        7.0  transformer  \n",
       "1   0.844956  3171076.0       256.0        4.0  transformer  \n",
       "2   0.806187  1603588.0       512.0        4.0       conv1d  \n",
       "3   0.859525  1591300.0       256.0       10.0       conv1d  \n",
       "4   0.842277  1346596.0        96.0       12.0  transformer  \n",
       "5   0.831038  1316406.0       256.0       21.0          fcn  \n",
       "6   0.850442  1431606.0       512.0        7.0          fcn  \n",
       "\n",
       "[7 rows x 64 columns]"
      ]
     },
     "execution_count": 5,
     "metadata": {},
     "output_type": "execute_result"
    }
   ],
   "source": [
    "data"
   ]
  },
  {
   "cell_type": "code",
   "execution_count": null,
   "id": "40d5601d-05c5-4f7e-9f1c-080b4841d8ed",
   "metadata": {
    "tags": []
   },
   "outputs": [],
   "source": [
    "data.query(\"index != 1\")"
   ]
  },
  {
   "cell_type": "code",
   "execution_count": 11,
   "id": "1e32aac6-722e-4b0c-b91b-1fb7d173d625",
   "metadata": {
    "tags": []
   },
   "outputs": [
    {
     "data": {},
     "metadata": {},
     "output_type": "display_data"
    },
    {
     "data": {
      "application/vnd.holoviews_exec.v0+json": "",
      "text/html": [
       "<div id='2073c405-bce4-48ac-8a76-2a0e8562ddcf'>\n",
       "  <div id=\"b0a13726-5ede-4f15-8655-9e609d8ab12a\" data-root-id=\"2073c405-bce4-48ac-8a76-2a0e8562ddcf\" style=\"display: contents;\"></div>\n",
       "</div>\n",
       "<script type=\"application/javascript\">(function(root) {\n",
       "  var docs_json = {\"71949635-b137-4577-acf7-2918e539f127\":{\"version\":\"3.2.2\",\"title\":\"Bokeh Application\",\"roots\":[{\"type\":\"object\",\"name\":\"Row\",\"id\":\"2073c405-bce4-48ac-8a76-2a0e8562ddcf\",\"attributes\":{\"name\":\"Row01948\",\"tags\":[\"embedded\"],\"stylesheets\":[\"\\n:host(.pn-loading.pn-arc):before, .pn-loading.pn-arc:before {\\n  background-image: url(\\\"data:image/svg+xml;base64,PHN2ZyB4bWxucz0iaHR0cDovL3d3dy53My5vcmcvMjAwMC9zdmciIHN0eWxlPSJtYXJnaW46IGF1dG87IGJhY2tncm91bmQ6IG5vbmU7IGRpc3BsYXk6IGJsb2NrOyBzaGFwZS1yZW5kZXJpbmc6IGF1dG87IiB2aWV3Qm94PSIwIDAgMTAwIDEwMCIgcHJlc2VydmVBc3BlY3RSYXRpbz0ieE1pZFlNaWQiPiAgPGNpcmNsZSBjeD0iNTAiIGN5PSI1MCIgZmlsbD0ibm9uZSIgc3Ryb2tlPSIjYzNjM2MzIiBzdHJva2Utd2lkdGg9IjEwIiByPSIzNSIgc3Ryb2tlLWRhc2hhcnJheT0iMTY0LjkzMzYxNDMxMzQ2NDE1IDU2Ljk3Nzg3MTQzNzgyMTM4Ij4gICAgPGFuaW1hdGVUcmFuc2Zvcm0gYXR0cmlidXRlTmFtZT0idHJhbnNmb3JtIiB0eXBlPSJyb3RhdGUiIHJlcGVhdENvdW50PSJpbmRlZmluaXRlIiBkdXI9IjFzIiB2YWx1ZXM9IjAgNTAgNTA7MzYwIDUwIDUwIiBrZXlUaW1lcz0iMDsxIj48L2FuaW1hdGVUcmFuc2Zvcm0+ICA8L2NpcmNsZT48L3N2Zz4=\\\");\\n  background-size: auto calc(min(50%, 400px));\\n}\",{\"type\":\"object\",\"name\":\"ImportedStyleSheet\",\"id\":\"bc2bd0fd-1e58-44f6-9fc0-74898c5c9943\",\"attributes\":{\"url\":\"https://cdn.holoviz.org/panel/1.2.3/dist/css/loading.css\"}},{\"type\":\"object\",\"name\":\"ImportedStyleSheet\",\"id\":\"fb33de19-253a-411a-9aed-48d1717997c1\",\"attributes\":{\"url\":\"https://cdn.holoviz.org/panel/1.2.3/dist/css/listpanel.css\"}},{\"type\":\"object\",\"name\":\"ImportedStyleSheet\",\"id\":\"ad6ce037-e9c2-49bb-ac26-ac065f3cc686\",\"attributes\":{\"url\":\"https://cdn.holoviz.org/panel/1.2.3/dist/bundled/theme/default.css\"}},{\"type\":\"object\",\"name\":\"ImportedStyleSheet\",\"id\":\"0f53e079-21f3-419e-b46a-660ac492fcbb\",\"attributes\":{\"url\":\"https://cdn.holoviz.org/panel/1.2.3/dist/bundled/theme/native.css\"}}],\"min_width\":500,\"margin\":0,\"sizing_mode\":\"stretch_width\",\"align\":\"start\",\"children\":[{\"type\":\"object\",\"name\":\"Spacer\",\"id\":\"ce226ed3-e041-45dc-8b2e-533d4941d4bd\",\"attributes\":{\"name\":\"HSpacer01957\",\"stylesheets\":[\"\\n:host(.pn-loading.pn-arc):before, .pn-loading.pn-arc:before {\\n  background-image: url(\\\"data:image/svg+xml;base64,PHN2ZyB4bWxucz0iaHR0cDovL3d3dy53My5vcmcvMjAwMC9zdmciIHN0eWxlPSJtYXJnaW46IGF1dG87IGJhY2tncm91bmQ6IG5vbmU7IGRpc3BsYXk6IGJsb2NrOyBzaGFwZS1yZW5kZXJpbmc6IGF1dG87IiB2aWV3Qm94PSIwIDAgMTAwIDEwMCIgcHJlc2VydmVBc3BlY3RSYXRpbz0ieE1pZFlNaWQiPiAgPGNpcmNsZSBjeD0iNTAiIGN5PSI1MCIgZmlsbD0ibm9uZSIgc3Ryb2tlPSIjYzNjM2MzIiBzdHJva2Utd2lkdGg9IjEwIiByPSIzNSIgc3Ryb2tlLWRhc2hhcnJheT0iMTY0LjkzMzYxNDMxMzQ2NDE1IDU2Ljk3Nzg3MTQzNzgyMTM4Ij4gICAgPGFuaW1hdGVUcmFuc2Zvcm0gYXR0cmlidXRlTmFtZT0idHJhbnNmb3JtIiB0eXBlPSJyb3RhdGUiIHJlcGVhdENvdW50PSJpbmRlZmluaXRlIiBkdXI9IjFzIiB2YWx1ZXM9IjAgNTAgNTA7MzYwIDUwIDUwIiBrZXlUaW1lcz0iMDsxIj48L2FuaW1hdGVUcmFuc2Zvcm0+ICA8L2NpcmNsZT48L3N2Zz4=\\\");\\n  background-size: auto calc(min(50%, 400px));\\n}\",{\"id\":\"bc2bd0fd-1e58-44f6-9fc0-74898c5c9943\"},{\"id\":\"ad6ce037-e9c2-49bb-ac26-ac065f3cc686\"},{\"id\":\"0f53e079-21f3-419e-b46a-660ac492fcbb\"}],\"margin\":0,\"sizing_mode\":\"stretch_width\",\"align\":\"start\"}},{\"type\":\"object\",\"name\":\"Figure\",\"id\":\"201745a6-8006-4a83-a0ce-7e85fef9f2b2\",\"attributes\":{\"width\":500,\"height\":300,\"margin\":[5,10],\"sizing_mode\":\"fixed\",\"align\":\"start\",\"x_range\":{\"type\":\"object\",\"name\":\"Range1d\",\"id\":\"879e5104-bfb8-4ef5-9d3e-c3719df8787d\",\"attributes\":{\"tags\":[[[\"num_params\",\"num_params\",null]],[]],\"start\":1281944.16,\"end\":1638049.84,\"reset_start\":1281944.16,\"reset_end\":1638049.84}},\"y_range\":{\"type\":\"object\",\"name\":\"Range1d\",\"id\":\"1fffbdfe-b543-40c8-87b4-1bafc3c1616e\",\"attributes\":{\"tags\":[[[\"test_skill\",\"test_skill\",null]],{\"type\":\"map\",\"entries\":[[\"invert_yaxis\",false],[\"autorange\",false]]}],\"start\":0.7955194473266602,\"end\":0.8701929688453669,\"reset_start\":0.7955194473266602,\"reset_end\":0.8701929688453669}},\"x_scale\":{\"type\":\"object\",\"name\":\"LinearScale\",\"id\":\"fed51139-a2f1-4bc2-be82-37f2d5d5df1b\"},\"y_scale\":{\"type\":\"object\",\"name\":\"LinearScale\",\"id\":\"26629272-105b-48e8-a4e4-d2baaceffe84\"},\"title\":{\"type\":\"object\",\"name\":\"Title\",\"id\":\"67053588-bdab-48d1-b19a-a6937fede48e\",\"attributes\":{\"text_color\":\"black\",\"text_font_size\":\"12pt\"}},\"renderers\":[{\"type\":\"object\",\"name\":\"GlyphRenderer\",\"id\":\"0ae13b09-c9c1-4e3d-988c-460a471360d3\",\"attributes\":{\"name\":\"color\",\"data_source\":{\"type\":\"object\",\"name\":\"ColumnDataSource\",\"id\":\"f6731920-74aa-41be-a9d8-8dfdf927d65b\",\"attributes\":{\"selected\":{\"type\":\"object\",\"name\":\"Selection\",\"id\":\"32f6930b-155b-4549-bd96-ef5f3829c06c\",\"attributes\":{\"indices\":[],\"line_indices\":[]}},\"selection_policy\":{\"type\":\"object\",\"name\":\"UnionRenderers\",\"id\":\"57abca52-c8bd-4d26-a45e-2cc2341a82df\"},\"data\":{\"type\":\"map\",\"entries\":[[\"num_params\",{\"type\":\"ndarray\",\"array\":{\"type\":\"bytes\",\"data\":\"AAAAAARFNUEAAAAABHg4QQAAAAAESDhBAAAAACSMNEEAAAAANhY0QQAAAAA22DVB\"},\"shape\":[6],\"dtype\":\"float64\",\"order\":\"little\"}],[\"test_skill\",{\"type\":\"ndarray\",\"array\":{\"type\":\"bytes\",\"data\":\"////X9286j8AAADgSMzpP/z//z87ges/AAAAQO/z6j/5////3JfqPwEAAEDRNus/\"},\"shape\":[6],\"dtype\":\"float64\",\"order\":\"little\"}],[\"model_type\",[\"transformer\",\"conv1d\",\"conv1d\",\"transformer\",\"fcn\",\"fcn\"]],[\"num_layers\",{\"type\":\"ndarray\",\"array\":{\"type\":\"bytes\",\"data\":\"AAAAAAAAHEAAAAAAAAAQQAAAAAAAACRAAAAAAAAAKEAAAAAAAAA1QAAAAAAAABxA\"},\"shape\":[6],\"dtype\":\"float64\",\"order\":\"little\"}],[\"hidden_size\",{\"type\":\"ndarray\",\"array\":{\"type\":\"bytes\",\"data\":\"AAAAAAAAYEAAAAAAAACAQAAAAAAAAHBAAAAAAAAAWEAAAAAAAABwQAAAAAAAAIBA\"},\"shape\":[6],\"dtype\":\"float64\",\"order\":\"little\"}],[\"color\",[\"transformer\",\"conv1d\",\"conv1d\",\"transformer\",\"fcn\",\"fcn\"]]]}}},\"view\":{\"type\":\"object\",\"name\":\"CDSView\",\"id\":\"255b1aa4-0955-4027-9df1-c5b0aa8b01f8\",\"attributes\":{\"filter\":{\"type\":\"object\",\"name\":\"AllIndices\",\"id\":\"12651c7f-be85-4a23-99f9-b7ad7bc23261\"}}},\"glyph\":{\"type\":\"object\",\"name\":\"Scatter\",\"id\":\"0b76e45b-c4f6-4cd2-b913-d0410d6987b0\",\"attributes\":{\"tags\":[\"apply_ranges\"],\"x\":{\"type\":\"field\",\"field\":\"num_params\"},\"y\":{\"type\":\"field\",\"field\":\"test_skill\"},\"size\":{\"type\":\"value\",\"value\":10},\"line_color\":{\"type\":\"field\",\"field\":\"color\",\"transform\":{\"type\":\"object\",\"name\":\"CategoricalColorMapper\",\"id\":\"91268f85-33a3-4056-b3ea-b89e4fbf2e00\",\"attributes\":{\"palette\":[\"#1f77b4\",\"#ff7f0e\",\"#2ca02c\"],\"factors\":[\"transformer\",\"conv1d\",\"fcn\"]}}},\"fill_color\":{\"type\":\"field\",\"field\":\"color\",\"transform\":{\"id\":\"91268f85-33a3-4056-b3ea-b89e4fbf2e00\"}},\"hatch_color\":{\"type\":\"field\",\"field\":\"color\",\"transform\":{\"id\":\"91268f85-33a3-4056-b3ea-b89e4fbf2e00\"}}}},\"selection_glyph\":{\"type\":\"object\",\"name\":\"Scatter\",\"id\":\"cbe7d80d-dfa1-469d-a802-430f75b30f8a\",\"attributes\":{\"tags\":[\"apply_ranges\"],\"x\":{\"type\":\"field\",\"field\":\"num_params\"},\"y\":{\"type\":\"field\",\"field\":\"test_skill\"},\"size\":{\"type\":\"value\",\"value\":10},\"line_color\":{\"type\":\"field\",\"field\":\"color\",\"transform\":{\"id\":\"91268f85-33a3-4056-b3ea-b89e4fbf2e00\"}},\"fill_color\":{\"type\":\"field\",\"field\":\"color\",\"transform\":{\"id\":\"91268f85-33a3-4056-b3ea-b89e4fbf2e00\"}},\"hatch_color\":{\"type\":\"field\",\"field\":\"color\",\"transform\":{\"id\":\"91268f85-33a3-4056-b3ea-b89e4fbf2e00\"}}}},\"nonselection_glyph\":{\"type\":\"object\",\"name\":\"Scatter\",\"id\":\"f6ec8b8e-e9f1-41a0-a838-eac424ad0d80\",\"attributes\":{\"tags\":[\"apply_ranges\"],\"x\":{\"type\":\"field\",\"field\":\"num_params\"},\"y\":{\"type\":\"field\",\"field\":\"test_skill\"},\"size\":{\"type\":\"value\",\"value\":10},\"line_color\":{\"type\":\"field\",\"field\":\"color\",\"transform\":{\"id\":\"91268f85-33a3-4056-b3ea-b89e4fbf2e00\"}},\"line_alpha\":{\"type\":\"value\",\"value\":0.1},\"fill_color\":{\"type\":\"field\",\"field\":\"color\",\"transform\":{\"id\":\"91268f85-33a3-4056-b3ea-b89e4fbf2e00\"}},\"fill_alpha\":{\"type\":\"value\",\"value\":0.1},\"hatch_color\":{\"type\":\"field\",\"field\":\"color\",\"transform\":{\"id\":\"91268f85-33a3-4056-b3ea-b89e4fbf2e00\"}},\"hatch_alpha\":{\"type\":\"value\",\"value\":0.1}}},\"hover_glyph\":{\"type\":\"object\",\"name\":\"Scatter\",\"id\":\"ddcb5425-49a4-4c5b-95a1-cd5600972449\",\"attributes\":{\"tags\":[\"apply_ranges\"],\"x\":{\"type\":\"field\",\"field\":\"num_params\"},\"y\":{\"type\":\"field\",\"field\":\"test_skill\"},\"size\":{\"type\":\"value\",\"value\":10},\"line_color\":{\"type\":\"field\",\"field\":\"color\",\"transform\":{\"id\":\"91268f85-33a3-4056-b3ea-b89e4fbf2e00\"}},\"fill_color\":{\"type\":\"field\",\"field\":\"color\",\"transform\":{\"id\":\"91268f85-33a3-4056-b3ea-b89e4fbf2e00\"}},\"hatch_color\":{\"type\":\"field\",\"field\":\"color\",\"transform\":{\"id\":\"91268f85-33a3-4056-b3ea-b89e4fbf2e00\"}}}},\"muted_glyph\":{\"type\":\"object\",\"name\":\"Scatter\",\"id\":\"fc91a2c2-36a2-4277-a36d-4b918dbcd467\",\"attributes\":{\"tags\":[\"apply_ranges\"],\"x\":{\"type\":\"field\",\"field\":\"num_params\"},\"y\":{\"type\":\"field\",\"field\":\"test_skill\"},\"size\":{\"type\":\"value\",\"value\":10},\"line_color\":{\"type\":\"field\",\"field\":\"color\",\"transform\":{\"id\":\"91268f85-33a3-4056-b3ea-b89e4fbf2e00\"}},\"line_alpha\":{\"type\":\"value\",\"value\":0.2},\"fill_color\":{\"type\":\"field\",\"field\":\"color\",\"transform\":{\"id\":\"91268f85-33a3-4056-b3ea-b89e4fbf2e00\"}},\"fill_alpha\":{\"type\":\"value\",\"value\":0.2},\"hatch_color\":{\"type\":\"field\",\"field\":\"color\",\"transform\":{\"id\":\"91268f85-33a3-4056-b3ea-b89e4fbf2e00\"}},\"hatch_alpha\":{\"type\":\"value\",\"value\":0.2}}}}},{\"type\":\"object\",\"name\":\"GlyphRenderer\",\"id\":\"c80b08ae-40a1-4dcc-a531-2ea6996c90e9\",\"attributes\":{\"data_source\":{\"type\":\"object\",\"name\":\"ColumnDataSource\",\"id\":\"63ec0c80-fed2-4086-8ee4-a6258be14e7e\",\"attributes\":{\"selected\":{\"type\":\"object\",\"name\":\"Selection\",\"id\":\"27ed3c6a-fa77-4919-b40f-707835cb03aa\",\"attributes\":{\"indices\":[],\"line_indices\":[]}},\"selection_policy\":{\"type\":\"object\",\"name\":\"UnionRenderers\",\"id\":\"001928b9-9670-43b5-8764-5d6a463902e0\"},\"data\":{\"type\":\"map\",\"entries\":[[\"num_params\",{\"type\":\"ndarray\",\"array\":{\"type\":\"bytes\",\"data\":\"AAAAAARFNUEAAAAABHg4QQAAAAAESDhBAAAAACSMNEEAAAAANhY0QQAAAAA22DVB\"},\"shape\":[6],\"dtype\":\"float64\",\"order\":\"little\"}],[\"test_skill\",{\"type\":\"ndarray\",\"array\":{\"type\":\"bytes\",\"data\":\"////X9286j8AAADgSMzpP/z//z87ges/AAAAQO/z6j/5////3JfqPwEAAEDRNus/\"},\"shape\":[6],\"dtype\":\"float64\",\"order\":\"little\"}],[\"num_layers\",[\"7\",\"4\",\"10\",\"12\",\"21\",\"7\"]]]}}},\"view\":{\"type\":\"object\",\"name\":\"CDSView\",\"id\":\"65889cfb-098d-4962-a7e4-ca34729e6ce6\",\"attributes\":{\"filter\":{\"type\":\"object\",\"name\":\"AllIndices\",\"id\":\"96a572f1-f07e-44b1-b55f-9c63bd80fbf7\"}}},\"glyph\":{\"type\":\"object\",\"name\":\"Text\",\"id\":\"1e1ab53d-c6b2-4fb8-9f22-16d110195063\",\"attributes\":{\"tags\":[\"apply_ranges\"],\"x\":{\"type\":\"field\",\"field\":\"num_params\",\"transform\":{\"type\":\"object\",\"name\":\"Dodge\",\"id\":\"9c6a07b1-310b-4254-a6f0-2c6bb679e41d\",\"attributes\":{\"value\":-20000.0}}},\"y\":{\"type\":\"field\",\"field\":\"test_skill\",\"transform\":{\"type\":\"object\",\"name\":\"Dodge\",\"id\":\"e5e2df0a-d89d-459a-9b42-439b6bb23d18\",\"attributes\":{\"value\":0.001}}},\"text\":{\"type\":\"field\",\"field\":\"num_layers\"},\"text_color\":{\"type\":\"value\",\"value\":\"black\"},\"text_font_size\":{\"type\":\"value\",\"value\":\"10pt\"},\"text_align\":{\"type\":\"value\",\"value\":\"center\"},\"text_baseline\":{\"type\":\"value\",\"value\":\"middle\"}}},\"selection_glyph\":{\"type\":\"object\",\"name\":\"Text\",\"id\":\"d0f7ab6a-415a-48dd-a702-b70f33986f51\",\"attributes\":{\"tags\":[\"apply_ranges\"],\"x\":{\"type\":\"field\",\"field\":\"num_params\",\"transform\":{\"id\":\"9c6a07b1-310b-4254-a6f0-2c6bb679e41d\"}},\"y\":{\"type\":\"field\",\"field\":\"test_skill\",\"transform\":{\"id\":\"e5e2df0a-d89d-459a-9b42-439b6bb23d18\"}},\"text\":{\"type\":\"field\",\"field\":\"num_layers\"},\"angle\":{\"type\":\"value\",\"value\":0},\"x_offset\":{\"type\":\"value\",\"value\":0},\"y_offset\":{\"type\":\"value\",\"value\":0},\"text_color\":{\"type\":\"value\",\"value\":\"black\"},\"text_outline_color\":{\"type\":\"value\",\"value\":null},\"text_alpha\":{\"type\":\"value\",\"value\":1.0},\"text_font_size\":{\"type\":\"value\",\"value\":\"10pt\"},\"text_font_style\":{\"type\":\"value\",\"value\":\"normal\"},\"text_align\":{\"type\":\"value\",\"value\":\"center\"},\"text_baseline\":{\"type\":\"value\",\"value\":\"middle\"},\"text_line_height\":{\"type\":\"value\",\"value\":1.2},\"background_fill_color\":{\"type\":\"value\",\"value\":null},\"background_fill_alpha\":{\"type\":\"value\",\"value\":1.0},\"background_hatch_color\":{\"type\":\"value\",\"value\":null},\"background_hatch_alpha\":{\"type\":\"value\",\"value\":1.0},\"background_hatch_scale\":{\"type\":\"value\",\"value\":12.0},\"background_hatch_pattern\":{\"type\":\"value\",\"value\":null},\"background_hatch_weight\":{\"type\":\"value\",\"value\":1.0},\"border_line_color\":{\"type\":\"value\",\"value\":null},\"border_line_alpha\":{\"type\":\"value\",\"value\":1.0},\"border_line_width\":{\"type\":\"value\",\"value\":1},\"border_line_join\":{\"type\":\"value\",\"value\":\"bevel\"},\"border_line_cap\":{\"type\":\"value\",\"value\":\"butt\"},\"border_line_dash\":{\"type\":\"value\",\"value\":[]},\"border_line_dash_offset\":{\"type\":\"value\",\"value\":0}}},\"nonselection_glyph\":{\"type\":\"object\",\"name\":\"Text\",\"id\":\"7a466044-8ef0-4a1f-9d4b-072accd6ea9f\",\"attributes\":{\"tags\":[\"apply_ranges\"],\"x\":{\"type\":\"field\",\"field\":\"num_params\",\"transform\":{\"id\":\"9c6a07b1-310b-4254-a6f0-2c6bb679e41d\"}},\"y\":{\"type\":\"field\",\"field\":\"test_skill\",\"transform\":{\"id\":\"e5e2df0a-d89d-459a-9b42-439b6bb23d18\"}},\"text\":{\"type\":\"field\",\"field\":\"num_layers\"},\"text_color\":{\"type\":\"value\",\"value\":\"black\"},\"text_alpha\":{\"type\":\"value\",\"value\":0.1},\"text_font_size\":{\"type\":\"value\",\"value\":\"10pt\"},\"text_align\":{\"type\":\"value\",\"value\":\"center\"},\"text_baseline\":{\"type\":\"value\",\"value\":\"middle\"}}},\"muted_glyph\":{\"type\":\"object\",\"name\":\"Text\",\"id\":\"565755f1-ba09-4014-9963-3c1635ffee7d\",\"attributes\":{\"tags\":[\"apply_ranges\"],\"x\":{\"type\":\"field\",\"field\":\"num_params\",\"transform\":{\"id\":\"9c6a07b1-310b-4254-a6f0-2c6bb679e41d\"}},\"y\":{\"type\":\"field\",\"field\":\"test_skill\",\"transform\":{\"id\":\"e5e2df0a-d89d-459a-9b42-439b6bb23d18\"}},\"text\":{\"type\":\"field\",\"field\":\"num_layers\"},\"text_color\":{\"type\":\"value\",\"value\":\"black\"},\"text_alpha\":{\"type\":\"value\",\"value\":0.2},\"text_font_size\":{\"type\":\"value\",\"value\":\"10pt\"},\"text_align\":{\"type\":\"value\",\"value\":\"center\"},\"text_baseline\":{\"type\":\"value\",\"value\":\"middle\"}}}}},{\"type\":\"object\",\"name\":\"GlyphRenderer\",\"id\":\"bec7979f-8aa0-45a9-9873-b395a532381a\",\"attributes\":{\"data_source\":{\"type\":\"object\",\"name\":\"ColumnDataSource\",\"id\":\"76b37285-2a3d-446f-af9e-663206d24cd3\",\"attributes\":{\"selected\":{\"type\":\"object\",\"name\":\"Selection\",\"id\":\"71a81594-489c-4d61-beb7-bc3efe8a57aa\",\"attributes\":{\"indices\":[],\"line_indices\":[]}},\"selection_policy\":{\"type\":\"object\",\"name\":\"UnionRenderers\",\"id\":\"48b77325-9120-4fda-89e0-da252e09dc09\"},\"data\":{\"type\":\"map\",\"entries\":[[\"num_params\",{\"type\":\"ndarray\",\"array\":{\"type\":\"bytes\",\"data\":\"AAAAAARFNUEAAAAABHg4QQAAAAAESDhBAAAAACSMNEEAAAAANhY0QQAAAAA22DVB\"},\"shape\":[6],\"dtype\":\"float64\",\"order\":\"little\"}],[\"test_skill\",{\"type\":\"ndarray\",\"array\":{\"type\":\"bytes\",\"data\":\"////X9286j8AAADgSMzpP/z//z87ges/AAAAQO/z6j/5////3JfqPwEAAEDRNus/\"},\"shape\":[6],\"dtype\":\"float64\",\"order\":\"little\"}],[\"hidden_size\",[\"128\",\"512\",\"256\",\"96\",\"256\",\"512\"]]]}}},\"view\":{\"type\":\"object\",\"name\":\"CDSView\",\"id\":\"5ddfa455-94b2-40b7-bb3d-eb2e6649a8d4\",\"attributes\":{\"filter\":{\"type\":\"object\",\"name\":\"AllIndices\",\"id\":\"58312b6a-90ea-4695-beee-cf8bee1938c7\"}}},\"glyph\":{\"type\":\"object\",\"name\":\"Text\",\"id\":\"5d94c169-0c17-4ce1-9351-aa7c934afc43\",\"attributes\":{\"tags\":[\"apply_ranges\"],\"x\":{\"type\":\"field\",\"field\":\"num_params\",\"transform\":{\"type\":\"object\",\"name\":\"Dodge\",\"id\":\"df3a0048-36a4-4161-ac23-b1187d79d29b\",\"attributes\":{\"value\":20000.0}}},\"y\":{\"type\":\"field\",\"field\":\"test_skill\",\"transform\":{\"type\":\"object\",\"name\":\"Dodge\",\"id\":\"654100ae-cf71-455c-8860-73d49f317a85\",\"attributes\":{\"value\":0.001}}},\"text\":{\"type\":\"field\",\"field\":\"hidden_size\"},\"text_color\":{\"type\":\"value\",\"value\":\"black\"},\"text_font_size\":{\"type\":\"value\",\"value\":\"10pt\"},\"text_align\":{\"type\":\"value\",\"value\":\"center\"},\"text_baseline\":{\"type\":\"value\",\"value\":\"middle\"}}},\"selection_glyph\":{\"type\":\"object\",\"name\":\"Text\",\"id\":\"e5bede22-324f-44b3-822f-2c12567db2be\",\"attributes\":{\"tags\":[\"apply_ranges\"],\"x\":{\"type\":\"field\",\"field\":\"num_params\",\"transform\":{\"id\":\"df3a0048-36a4-4161-ac23-b1187d79d29b\"}},\"y\":{\"type\":\"field\",\"field\":\"test_skill\",\"transform\":{\"id\":\"654100ae-cf71-455c-8860-73d49f317a85\"}},\"text\":{\"type\":\"field\",\"field\":\"hidden_size\"},\"angle\":{\"type\":\"value\",\"value\":0},\"x_offset\":{\"type\":\"value\",\"value\":0},\"y_offset\":{\"type\":\"value\",\"value\":0},\"text_color\":{\"type\":\"value\",\"value\":\"black\"},\"text_outline_color\":{\"type\":\"value\",\"value\":null},\"text_alpha\":{\"type\":\"value\",\"value\":1.0},\"text_font_size\":{\"type\":\"value\",\"value\":\"10pt\"},\"text_font_style\":{\"type\":\"value\",\"value\":\"normal\"},\"text_align\":{\"type\":\"value\",\"value\":\"center\"},\"text_baseline\":{\"type\":\"value\",\"value\":\"middle\"},\"text_line_height\":{\"type\":\"value\",\"value\":1.2},\"background_fill_color\":{\"type\":\"value\",\"value\":null},\"background_fill_alpha\":{\"type\":\"value\",\"value\":1.0},\"background_hatch_color\":{\"type\":\"value\",\"value\":null},\"background_hatch_alpha\":{\"type\":\"value\",\"value\":1.0},\"background_hatch_scale\":{\"type\":\"value\",\"value\":12.0},\"background_hatch_pattern\":{\"type\":\"value\",\"value\":null},\"background_hatch_weight\":{\"type\":\"value\",\"value\":1.0},\"border_line_color\":{\"type\":\"value\",\"value\":null},\"border_line_alpha\":{\"type\":\"value\",\"value\":1.0},\"border_line_width\":{\"type\":\"value\",\"value\":1},\"border_line_join\":{\"type\":\"value\",\"value\":\"bevel\"},\"border_line_cap\":{\"type\":\"value\",\"value\":\"butt\"},\"border_line_dash\":{\"type\":\"value\",\"value\":[]},\"border_line_dash_offset\":{\"type\":\"value\",\"value\":0}}},\"nonselection_glyph\":{\"type\":\"object\",\"name\":\"Text\",\"id\":\"1b13cc6f-88bb-40a4-81df-a233106a03aa\",\"attributes\":{\"tags\":[\"apply_ranges\"],\"x\":{\"type\":\"field\",\"field\":\"num_params\",\"transform\":{\"id\":\"df3a0048-36a4-4161-ac23-b1187d79d29b\"}},\"y\":{\"type\":\"field\",\"field\":\"test_skill\",\"transform\":{\"id\":\"654100ae-cf71-455c-8860-73d49f317a85\"}},\"text\":{\"type\":\"field\",\"field\":\"hidden_size\"},\"text_color\":{\"type\":\"value\",\"value\":\"black\"},\"text_alpha\":{\"type\":\"value\",\"value\":0.1},\"text_font_size\":{\"type\":\"value\",\"value\":\"10pt\"},\"text_align\":{\"type\":\"value\",\"value\":\"center\"},\"text_baseline\":{\"type\":\"value\",\"value\":\"middle\"}}},\"muted_glyph\":{\"type\":\"object\",\"name\":\"Text\",\"id\":\"734a4557-e697-4321-b896-2b8fa178470d\",\"attributes\":{\"tags\":[\"apply_ranges\"],\"x\":{\"type\":\"field\",\"field\":\"num_params\",\"transform\":{\"id\":\"df3a0048-36a4-4161-ac23-b1187d79d29b\"}},\"y\":{\"type\":\"field\",\"field\":\"test_skill\",\"transform\":{\"id\":\"654100ae-cf71-455c-8860-73d49f317a85\"}},\"text\":{\"type\":\"field\",\"field\":\"hidden_size\"},\"text_color\":{\"type\":\"value\",\"value\":\"black\"},\"text_alpha\":{\"type\":\"value\",\"value\":0.2},\"text_font_size\":{\"type\":\"value\",\"value\":\"10pt\"},\"text_align\":{\"type\":\"value\",\"value\":\"center\"},\"text_baseline\":{\"type\":\"value\",\"value\":\"middle\"}}}}}],\"toolbar\":{\"type\":\"object\",\"name\":\"Toolbar\",\"id\":\"68e79c02-0507-4d96-b37f-cd113fdebc65\",\"attributes\":{\"tools\":[{\"type\":\"object\",\"name\":\"WheelZoomTool\",\"id\":\"730a8168-55d9-4133-ae91-cb4061aec2d1\",\"attributes\":{\"tags\":[\"hv_created\"],\"zoom_together\":\"none\"}},{\"type\":\"object\",\"name\":\"HoverTool\",\"id\":\"ecd00f2f-4379-4e5a-895e-c622e564d2b3\",\"attributes\":{\"tags\":[\"hv_created\"],\"renderers\":[{\"id\":\"0ae13b09-c9c1-4e3d-988c-460a471360d3\"}],\"tooltips\":[[\"num_params\",\"@{num_params}\"],[\"test_skill\",\"@{test_skill}\"],[\"model_type\",\"@{model_type}\"],[\"num_layers\",\"@{num_layers}\"],[\"hidden_size\",\"@{hidden_size}\"]]}},{\"type\":\"object\",\"name\":\"SaveTool\",\"id\":\"8bb237cc-d0f3-4e01-951d-1daa57969c57\"},{\"type\":\"object\",\"name\":\"PanTool\",\"id\":\"27fa43ce-5ef2-4d69-81b3-7ce9c1135a56\"},{\"type\":\"object\",\"name\":\"BoxZoomTool\",\"id\":\"cf428d47-4132-4070-9d32-d2731a6d22f4\",\"attributes\":{\"overlay\":{\"type\":\"object\",\"name\":\"BoxAnnotation\",\"id\":\"c4a95ecf-b6b0-473b-a0ed-35ee44e998ef\",\"attributes\":{\"syncable\":false,\"level\":\"overlay\",\"visible\":false,\"left_units\":\"canvas\",\"right_units\":\"canvas\",\"bottom_units\":\"canvas\",\"top_units\":\"canvas\",\"line_color\":\"black\",\"line_alpha\":1.0,\"line_width\":2,\"line_dash\":[4,4],\"fill_color\":\"lightgrey\",\"fill_alpha\":0.5}}}},{\"type\":\"object\",\"name\":\"ResetTool\",\"id\":\"76162eec-b82d-4cdc-9dc5-5a11e56d5c50\"}],\"active_drag\":{\"id\":\"27fa43ce-5ef2-4d69-81b3-7ce9c1135a56\"},\"active_scroll\":{\"id\":\"730a8168-55d9-4133-ae91-cb4061aec2d1\"}}},\"left\":[{\"type\":\"object\",\"name\":\"LinearAxis\",\"id\":\"23ecae37-514d-432d-91c0-7b63ec017502\",\"attributes\":{\"ticker\":{\"type\":\"object\",\"name\":\"BasicTicker\",\"id\":\"dde0b7b7-13fd-4ab1-9cda-23170d766942\",\"attributes\":{\"mantissas\":[1,2,5]}},\"formatter\":{\"type\":\"object\",\"name\":\"BasicTickFormatter\",\"id\":\"a52b99c0-8682-4f99-ba14-8e31997a7aeb\"},\"axis_label\":\"test skill\",\"major_label_policy\":{\"type\":\"object\",\"name\":\"AllLabels\",\"id\":\"e7d404a7-e837-450e-8c59-2f96cc4e8908\"}}}],\"right\":[{\"type\":\"object\",\"name\":\"Legend\",\"id\":\"808502bd-fb77-40de-9d7e-669ae1830192\",\"attributes\":{\"location\":[0,0],\"click_policy\":\"mute\",\"items\":[{\"type\":\"object\",\"name\":\"LegendItem\",\"id\":\"ba086563-a60a-437c-bf70-13b5c41450a2\",\"attributes\":{\"label\":{\"type\":\"field\",\"field\":\"color\"},\"renderers\":[{\"id\":\"0ae13b09-c9c1-4e3d-988c-460a471360d3\"}]}}]}}],\"below\":[{\"type\":\"object\",\"name\":\"LinearAxis\",\"id\":\"d698a4ca-3ea7-4569-abfa-2f1fc7f3d0d5\",\"attributes\":{\"ticker\":{\"type\":\"object\",\"name\":\"BasicTicker\",\"id\":\"d2052e89-48b3-408d-b354-19339c587be5\",\"attributes\":{\"desired_num_ticks\":4,\"mantissas\":[1,2,5]}},\"formatter\":{\"type\":\"object\",\"name\":\"BasicTickFormatter\",\"id\":\"05eb606c-f436-4a5a-853b-c8ef08c1189b\"},\"axis_label\":\"number of parameters\",\"major_label_policy\":{\"type\":\"object\",\"name\":\"AllLabels\",\"id\":\"9c414c0b-d613-48f2-a1d8-1b785dd894bd\"}}}],\"center\":[{\"type\":\"object\",\"name\":\"Grid\",\"id\":\"0fd31308-252e-49fb-ad54-a6edf0e85c38\",\"attributes\":{\"axis\":{\"id\":\"d698a4ca-3ea7-4569-abfa-2f1fc7f3d0d5\"},\"ticker\":{\"id\":\"d2052e89-48b3-408d-b354-19339c587be5\"}}},{\"type\":\"object\",\"name\":\"Grid\",\"id\":\"f7073404-3296-46e4-8124-84b627c4e2ec\",\"attributes\":{\"dimension\":1,\"axis\":{\"id\":\"23ecae37-514d-432d-91c0-7b63ec017502\"},\"ticker\":{\"id\":\"dde0b7b7-13fd-4ab1-9cda-23170d766942\"}}}],\"min_border_top\":10,\"min_border_bottom\":10,\"min_border_left\":10,\"min_border_right\":10,\"output_backend\":\"webgl\"}},{\"type\":\"object\",\"name\":\"Spacer\",\"id\":\"5cf37b99-efaa-4884-9796-eaf46fafac7d\",\"attributes\":{\"name\":\"HSpacer01960\",\"stylesheets\":[\"\\n:host(.pn-loading.pn-arc):before, .pn-loading.pn-arc:before {\\n  background-image: url(\\\"data:image/svg+xml;base64,PHN2ZyB4bWxucz0iaHR0cDovL3d3dy53My5vcmcvMjAwMC9zdmciIHN0eWxlPSJtYXJnaW46IGF1dG87IGJhY2tncm91bmQ6IG5vbmU7IGRpc3BsYXk6IGJsb2NrOyBzaGFwZS1yZW5kZXJpbmc6IGF1dG87IiB2aWV3Qm94PSIwIDAgMTAwIDEwMCIgcHJlc2VydmVBc3BlY3RSYXRpbz0ieE1pZFlNaWQiPiAgPGNpcmNsZSBjeD0iNTAiIGN5PSI1MCIgZmlsbD0ibm9uZSIgc3Ryb2tlPSIjYzNjM2MzIiBzdHJva2Utd2lkdGg9IjEwIiByPSIzNSIgc3Ryb2tlLWRhc2hhcnJheT0iMTY0LjkzMzYxNDMxMzQ2NDE1IDU2Ljk3Nzg3MTQzNzgyMTM4Ij4gICAgPGFuaW1hdGVUcmFuc2Zvcm0gYXR0cmlidXRlTmFtZT0idHJhbnNmb3JtIiB0eXBlPSJyb3RhdGUiIHJlcGVhdENvdW50PSJpbmRlZmluaXRlIiBkdXI9IjFzIiB2YWx1ZXM9IjAgNTAgNTA7MzYwIDUwIDUwIiBrZXlUaW1lcz0iMDsxIj48L2FuaW1hdGVUcmFuc2Zvcm0+ICA8L2NpcmNsZT48L3N2Zz4=\\\");\\n  background-size: auto calc(min(50%, 400px));\\n}\",{\"id\":\"bc2bd0fd-1e58-44f6-9fc0-74898c5c9943\"},{\"id\":\"ad6ce037-e9c2-49bb-ac26-ac065f3cc686\"},{\"id\":\"0f53e079-21f3-419e-b46a-660ac492fcbb\"}],\"margin\":0,\"sizing_mode\":\"stretch_width\",\"align\":\"start\"}}]}}],\"defs\":[{\"type\":\"model\",\"name\":\"ReactiveHTML1\"},{\"type\":\"model\",\"name\":\"FlexBox1\",\"properties\":[{\"name\":\"align_content\",\"kind\":\"Any\",\"default\":\"flex-start\"},{\"name\":\"align_items\",\"kind\":\"Any\",\"default\":\"flex-start\"},{\"name\":\"flex_direction\",\"kind\":\"Any\",\"default\":\"row\"},{\"name\":\"flex_wrap\",\"kind\":\"Any\",\"default\":\"wrap\"},{\"name\":\"justify_content\",\"kind\":\"Any\",\"default\":\"flex-start\"}]},{\"type\":\"model\",\"name\":\"FloatPanel1\",\"properties\":[{\"name\":\"config\",\"kind\":\"Any\",\"default\":{\"type\":\"map\"}},{\"name\":\"contained\",\"kind\":\"Any\",\"default\":true},{\"name\":\"position\",\"kind\":\"Any\",\"default\":\"right-top\"},{\"name\":\"offsetx\",\"kind\":\"Any\",\"default\":null},{\"name\":\"offsety\",\"kind\":\"Any\",\"default\":null},{\"name\":\"theme\",\"kind\":\"Any\",\"default\":\"primary\"},{\"name\":\"status\",\"kind\":\"Any\",\"default\":\"normalized\"}]},{\"type\":\"model\",\"name\":\"GridStack1\",\"properties\":[{\"name\":\"mode\",\"kind\":\"Any\",\"default\":\"warn\"},{\"name\":\"ncols\",\"kind\":\"Any\",\"default\":null},{\"name\":\"nrows\",\"kind\":\"Any\",\"default\":null},{\"name\":\"allow_resize\",\"kind\":\"Any\",\"default\":true},{\"name\":\"allow_drag\",\"kind\":\"Any\",\"default\":true},{\"name\":\"state\",\"kind\":\"Any\",\"default\":[]}]},{\"type\":\"model\",\"name\":\"drag1\",\"properties\":[{\"name\":\"slider_width\",\"kind\":\"Any\",\"default\":5},{\"name\":\"slider_color\",\"kind\":\"Any\",\"default\":\"black\"},{\"name\":\"value\",\"kind\":\"Any\",\"default\":50}]},{\"type\":\"model\",\"name\":\"click1\",\"properties\":[{\"name\":\"terminal_output\",\"kind\":\"Any\",\"default\":\"\"},{\"name\":\"debug_name\",\"kind\":\"Any\",\"default\":\"\"},{\"name\":\"clears\",\"kind\":\"Any\",\"default\":0}]},{\"type\":\"model\",\"name\":\"FastWrapper1\",\"properties\":[{\"name\":\"object\",\"kind\":\"Any\",\"default\":null},{\"name\":\"style\",\"kind\":\"Any\",\"default\":null}]},{\"type\":\"model\",\"name\":\"NotificationAreaBase1\",\"properties\":[{\"name\":\"js_events\",\"kind\":\"Any\",\"default\":{\"type\":\"map\"}},{\"name\":\"position\",\"kind\":\"Any\",\"default\":\"bottom-right\"},{\"name\":\"_clear\",\"kind\":\"Any\",\"default\":0}]},{\"type\":\"model\",\"name\":\"NotificationArea1\",\"properties\":[{\"name\":\"js_events\",\"kind\":\"Any\",\"default\":{\"type\":\"map\"}},{\"name\":\"notifications\",\"kind\":\"Any\",\"default\":[]},{\"name\":\"position\",\"kind\":\"Any\",\"default\":\"bottom-right\"},{\"name\":\"_clear\",\"kind\":\"Any\",\"default\":0},{\"name\":\"types\",\"kind\":\"Any\",\"default\":[{\"type\":\"map\",\"entries\":[[\"type\",\"warning\"],[\"background\",\"#ffc107\"],[\"icon\",{\"type\":\"map\",\"entries\":[[\"className\",\"fas fa-exclamation-triangle\"],[\"tagName\",\"i\"],[\"color\",\"white\"]]}]]},{\"type\":\"map\",\"entries\":[[\"type\",\"info\"],[\"background\",\"#007bff\"],[\"icon\",{\"type\":\"map\",\"entries\":[[\"className\",\"fas fa-info-circle\"],[\"tagName\",\"i\"],[\"color\",\"white\"]]}]]}]}]},{\"type\":\"model\",\"name\":\"Notification\",\"properties\":[{\"name\":\"background\",\"kind\":\"Any\",\"default\":null},{\"name\":\"duration\",\"kind\":\"Any\",\"default\":3000},{\"name\":\"icon\",\"kind\":\"Any\",\"default\":null},{\"name\":\"message\",\"kind\":\"Any\",\"default\":\"\"},{\"name\":\"notification_type\",\"kind\":\"Any\",\"default\":null},{\"name\":\"_destroyed\",\"kind\":\"Any\",\"default\":false}]},{\"type\":\"model\",\"name\":\"TemplateActions1\",\"properties\":[{\"name\":\"open_modal\",\"kind\":\"Any\",\"default\":0},{\"name\":\"close_modal\",\"kind\":\"Any\",\"default\":0}]},{\"type\":\"model\",\"name\":\"BootstrapTemplateActions1\",\"properties\":[{\"name\":\"open_modal\",\"kind\":\"Any\",\"default\":0},{\"name\":\"close_modal\",\"kind\":\"Any\",\"default\":0}]},{\"type\":\"model\",\"name\":\"MaterialTemplateActions1\",\"properties\":[{\"name\":\"open_modal\",\"kind\":\"Any\",\"default\":0},{\"name\":\"close_modal\",\"kind\":\"Any\",\"default\":0}]}]}};\n",
       "  var render_items = [{\"docid\":\"71949635-b137-4577-acf7-2918e539f127\",\"roots\":{\"2073c405-bce4-48ac-8a76-2a0e8562ddcf\":\"b0a13726-5ede-4f15-8655-9e609d8ab12a\"},\"root_ids\":[\"2073c405-bce4-48ac-8a76-2a0e8562ddcf\"]}];\n",
       "  var docs = Object.values(docs_json)\n",
       "  if (!docs) {\n",
       "    return\n",
       "  }\n",
       "  const py_version = docs[0].version.replace('rc', '-rc.').replace('.dev', '-dev.')\n",
       "  const is_dev = py_version.indexOf(\"+\") !== -1 || py_version.indexOf(\"-\") !== -1\n",
       "  function embed_document(root) {\n",
       "    var Bokeh = get_bokeh(root)\n",
       "    Bokeh.embed.embed_items_notebook(docs_json, render_items);\n",
       "    for (const render_item of render_items) {\n",
       "      for (const root_id of render_item.root_ids) {\n",
       "\tconst id_el = document.getElementById(root_id)\n",
       "\tif (id_el.children.length && (id_el.children[0].className === 'bk-root')) {\n",
       "\t  const root_el = id_el.children[0]\n",
       "\t  root_el.id = root_el.id + '-rendered'\n",
       "\t}\n",
       "      }\n",
       "    }\n",
       "  }\n",
       "  function get_bokeh(root) {\n",
       "    if (root.Bokeh === undefined) {\n",
       "      return null\n",
       "    } else if (root.Bokeh.version !== py_version && !is_dev) {\n",
       "      if (root.Bokeh.versions === undefined || !root.Bokeh.versions.has(py_version)) {\n",
       "\treturn null\n",
       "      }\n",
       "      return root.Bokeh.versions.get(py_version);\n",
       "    } else if (root.Bokeh.version === py_version) {\n",
       "      return root.Bokeh\n",
       "    }\n",
       "    return null\n",
       "  }\n",
       "  function is_loaded(root) {\n",
       "    var Bokeh = get_bokeh(root)\n",
       "    return (Bokeh != null && Bokeh.Panel !== undefined)\n",
       "  }\n",
       "  if (is_loaded(root)) {\n",
       "    embed_document(root);\n",
       "  } else {\n",
       "    var attempts = 0;\n",
       "    var timer = setInterval(function(root) {\n",
       "      if (is_loaded(root)) {\n",
       "        clearInterval(timer);\n",
       "        embed_document(root);\n",
       "      } else if (document.readyState == \"complete\") {\n",
       "        attempts++;\n",
       "        if (attempts > 200) {\n",
       "          clearInterval(timer);\n",
       "\t  var Bokeh = get_bokeh(root)\n",
       "\t  if (Bokeh == null || Bokeh.Panel == null) {\n",
       "            console.warn(\"Panel: ERROR: Unable to run Panel code because Bokeh or Panel library is missing\");\n",
       "\t  } else {\n",
       "\t    console.warn(\"Panel: WARNING: Attempting to render but not all required libraries could be resolved.\")\n",
       "\t    embed_document(root)\n",
       "\t  }\n",
       "        }\n",
       "      }\n",
       "    }, 25, root)\n",
       "  }\n",
       "})(window);</script>"
      ],
      "text/plain": [
       ":Overlay\n",
       "   .Points.I  :Points   [num_params,test_skill]   (model_type,num_layers,hidden_size)\n",
       "   .Labels.I  :Labels   [num_params,test_skill]   (num_layers)\n",
       "   .Labels.II :Labels   [num_params,test_skill]   (hidden_size)"
      ]
     },
     "execution_count": 11,
     "metadata": {
      "application/vnd.holoviews_exec.v0+json": {
       "id": "2073c405-bce4-48ac-8a76-2a0e8562ddcf"
      }
     },
     "output_type": "execute_result"
    }
   ],
   "source": [
    "\n",
    "\n",
    "pts = hv.Points(data.query(\"index != 1\"), kdims = [\"num_params\",\"test_skill\"], vdims=[\"model_type\", \"num_layers\", \"hidden_size\"])\\\n",
    ".opts(color = \"model_type\",\n",
    "      logx=False,\n",
    "      cmap = \"Category10\", \n",
    "      legend_position = \"right\",\n",
    "      width =500, \n",
    "      size = 10,\n",
    "      # marker = hv.dim(\"hidden_size\").categorize([\"circle\",\"diamond\",\"square\"]),\n",
    "      tools = [\"hover\"], xticks = 4,\n",
    "      padding = .2,\n",
    "      show_grid = True)\n",
    "\n",
    "lbs = hv.Labels(data.query(\"index != 1\"),kdims = [\"num_params\",\"test_skill\"], vdims=[\"num_layers\"]).opts(yoffset=.001,xoffset = -2e4, xlabel = \"number of parameters\", ylabel = \"test skill\", text_align=\"center\", text_color = \"black\",text_font_size = \"10pt\")*\\\n",
    "hv.Labels(data.query(\"index != 1\"),kdims = [\"num_params\",\"test_skill\"], vdims=[\"hidden_size\"]).opts(yoffset=.001,xoffset = 2e4,text_align=\"center\",text_color = \"black\",text_font_size = \"10pt\")\n",
    "p = pts*lbs\n",
    "hv.save(p,\"plot_archs.html\")\n",
    "p"
   ]
  },
  {
   "cell_type": "code",
   "execution_count": null,
   "id": "73583ca6-1bbe-45f1-9c25-fb7d4d906dbd",
   "metadata": {},
   "outputs": [],
   "source": []
  }
 ],
 "metadata": {
  "kernelspec": {
   "display_name": "torch2",
   "language": "python",
   "name": "python3"
  },
  "language_info": {
   "codemirror_mode": {
    "name": "ipython",
    "version": 3
   },
   "file_extension": ".py",
   "mimetype": "text/x-python",
   "name": "python",
   "nbconvert_exporter": "python",
   "pygments_lexer": "ipython3",
   "version": "3.10.13"
  }
 },
 "nbformat": 4,
 "nbformat_minor": 5
}
