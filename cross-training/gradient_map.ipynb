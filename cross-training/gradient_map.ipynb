{
 "cells": [
  {
   "cell_type": "code",
   "execution_count": null,
   "metadata": {},
   "outputs": [],
   "source": [
    "import holoviews as hv\n",
    "hv.extension(\"bokeh\")\n",
    "import hvplot.pandas\n",
    "import pandas as pd\n",
    "from pathlib import Path\n",
    "import sys\n",
    "sys.path.append(\"/proj/gaia-climate/team/kirill/gaia-surrogate\")\n",
    "from gaia.training import load_hparams_file, get_dataset_from_model, get_checkpoint_file, get_levels\n",
    "from gaia.data import unflatten_tensor, flatten_tensor\n",
    "from gaia.config import levels\n",
    "from gaia.plot import lats, lons, get_land_outline, save_gradient_plots\n",
    "from gaia.models import TrainingModel\n",
    "import tqdm.auto as tqdm\n",
    "import torch"
   ]
  },
  {
   "cell_type": "code",
   "execution_count": null,
   "metadata": {},
   "outputs": [],
   "source": [
    "for model_dir in [\"/proj/gaia-climate/team/kirill/gaia-paper/fine-tune/lightning_logs/base_cam4\",\"/proj/gaia-climate/team/kirill/gaia-paper/fine-tune/lightning_logs/base_spcam\"]:\n",
    "    for dataset in [\"spcam_fixed\", \"cam4_fixed\"]:\n",
    "        save_gradient_plots(model_dir,\"cuda:7\", dataset = dataset, output_file_name=f\"model_{model_dir.split('/')[-1]}__dataset_{dataset}_no_clip\", soft_clip=True)"
   ]
  },
  {
   "cell_type": "code",
   "execution_count": null,
   "metadata": {},
   "outputs": [],
   "source": [
    "for model_dir in [\"/proj/gaia-climate/team/kirill/gaia-paper/fine-tune/lightning_logs/base_cam4\",\"/proj/gaia-climate/team/kirill/gaia-paper/fine-tune/lightning_logs/base_spcam\"]:\n",
    "    model_name = model_dir.split(\"/\")[-1]\n",
    "    save_gradient_plots(model_dir,\"cuda:7\", dataset = None, output_file_name=f\"grad_plot_{model_name}.html\", soft_clip=True)"
   ]
  }
 ],
 "metadata": {
  "kernelspec": {
   "display_name": "praxis",
   "language": "python",
   "name": "praxis"
  },
  "language_info": {
   "codemirror_mode": {
    "name": "ipython",
    "version": 3
   },
   "file_extension": ".py",
   "mimetype": "text/x-python",
   "name": "python",
   "nbconvert_exporter": "python",
   "pygments_lexer": "ipython3",
   "version": "3.8.10"
  }
 },
 "nbformat": 4,
 "nbformat_minor": 4
}
