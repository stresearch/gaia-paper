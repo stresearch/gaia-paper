{
 "cells": [
  {
   "cell_type": "code",
   "execution_count": null,
   "metadata": {},
   "outputs": [],
   "source": [
    "import holoviews as hv\n",
    "hv.extension(\"bokeh\")\n",
    "import hvplot.pandas\n",
    "import pandas as pd\n",
    "from pathlib import Path\n",
    "import sys\n",
    "sys.path.append(\"/proj/gaia-climate/team/kirill/gaia-surrogate\")\n",
    "from gaia.training import load_hparams_file, get_dataset_from_model, get_checkpoint_file, get_levels\n",
    "from gaia.data import unflatten_tensor, flatten_tensor\n",
    "from gaia.config import levels\n",
    "from gaia.plot import lats, lons, get_land_outline\n",
    "from gaia.models import TrainingModel\n",
    "import tqdm.auto as tqdm\n",
    "import torch\n",
    "import numpy as np\n",
    "import hvplot"
   ]
  },
  {
   "cell_type": "code",
   "execution_count": null,
   "metadata": {},
   "outputs": [],
   "source": [
    "model_dir_cam4 = \"/proj/gaia-climate/team/kirill/gaia-paper/fine-tune/lightning_logs/base_cam4\"\n",
    "model_dir_spcam = \"/proj/gaia-climate/team/kirill/gaia-paper/fine-tune/lightning_logs/base_spcam\"\n",
    "model_cam4 = TrainingModel.load_from_checkpoint(get_checkpoint_file(model_dir_cam4), map_location=\"cpu\").eval()\n",
    "model_spcam = TrainingModel.load_from_checkpoint(get_checkpoint_file(model_dir_spcam), map_location=\"cpu\").eval()\n",
    "\n",
    "# predictions = torch.load(model_dir+f\"/predictions_{dataset}.pt\")\n",
    "# test_dataset, test_loader  = get_dataset_from_model(model)\n",
    "# targets =  unflatten_tensor(test_dataset[\"y\"])\n"
   ]
  },
  {
   "cell_type": "code",
   "execution_count": null,
   "metadata": {},
   "outputs": [],
   "source": [
    "for t in [\"input\",\"output\"]:\n",
    "    print(t,\",\".join(model_cam4.hparams[f\"{t}_index\"].keys()))"
   ]
  },
  {
   "cell_type": "markdown",
   "metadata": {
    "jp-MarkdownHeadingCollapsed": true
   },
   "source": [
    "### plot input normalization\n"
   ]
  },
  {
   "cell_type": "code",
   "execution_count": null,
   "metadata": {},
   "outputs": [],
   "source": [
    "assert model_cam4.hparams[\"input_index\"] == model_spcam.hparams[\"input_index\"]\n",
    "\n",
    "plots = {}\n",
    "\n",
    "cam4_mean = model_cam4.input_normalize.mean.squeeze().numpy()\n",
    "spcam_mean = model_spcam.input_normalize.mean.squeeze().numpy()\n",
    "\n",
    "cam4_std = model_cam4.input_normalize.std.squeeze().numpy()\n",
    "spcam_std = model_spcam.input_normalize.std.squeeze().numpy()\n",
    "\n",
    "levels_30 = np.array(levels[\"spcam\"])\n",
    "\n",
    "for k,v in model_cam4.hparams[\"input_index\"].items():\n",
    "    s,e = v\n",
    "    \n",
    "    if e-s>1:\n",
    "        print(k,v)\n",
    "\n",
    "        mean_min_max = [cam4_mean[s:e].min(),cam4_mean[s:e].max()]\n",
    "        std_min_max = [cam4_std[s:e].min(),cam4_std[s:e].max()]\n",
    "\n",
    "        plots[(k,\"mean\")] = hv.Curve((mean_min_max,mean_min_max),[f\"spcam_{k}_mean\"],[f\"cam4_{k}_mean\"])*hv.Scatter((cam4_mean[s:e], spcam_mean[s:e],levels_30),[f\"spcam_{k}_mean\"],[f\"cam4_{k}_mean\",\"levels\"])\n",
    "        plots[(k,\"std\")] = hv.Curve((std_min_max,std_min_max),[f\"spcam_{k}_std\"],[f\"cam4_{k}_std\"])*hv.Scatter((cam4_std[s:e], spcam_std[s:e],levels_30),[f\"spcam_{k}_std\"],[f\"cam4_{k}_std\",\"levels\"])\n",
    "    else:\n",
    "        print(k,\"not vector\")\n",
    "\n",
    "stat_comp_plot = hv.HoloMap(plots, kdims=[\"variable\", \"stat\"]).opts(hv.opts.Scatter(padding = .1, tools = [\"hover\"], show_grid = True, size = 10, color = \"levels\", cmap = \"PuOr\", width = 500, height = 500, colorbar = True),hv.opts.Curve(line_width = .5)).opts(axiswise =False).layout([\"variable\",\"stat\"]).cols(2).opts(title = \"Input Stats\")\n",
    "hv.save(stat_comp_plot, \"stat_comp_plot_input_3d_vars.html\")\n",
    "stat_comp_plot\n",
    "\n"
   ]
  },
  {
   "cell_type": "markdown",
   "metadata": {},
   "source": [
    "### plot output normalization\n"
   ]
  },
  {
   "cell_type": "code",
   "execution_count": null,
   "metadata": {},
   "outputs": [],
   "source": [
    "### plot input normalization\n",
    "assert model_cam4.hparams[\"output_index\"] == model_spcam.hparams[\"output_index\"]\n",
    "\n",
    "plots = {}\n",
    "\n",
    "cam4_mean = model_cam4.output_normalize.mean.squeeze().numpy()\n",
    "spcam_mean = model_spcam.output_normalize.mean.squeeze().numpy()\n",
    "\n",
    "cam4_std = model_cam4.output_normalize.std.squeeze().numpy()\n",
    "spcam_std = model_spcam.output_normalize.std.squeeze().numpy()\n",
    "\n",
    "levels_30 = np.array(levels[\"spcam\"])\n",
    "\n",
    "for k,v in model_cam4.hparams[\"output_index\"].items():\n",
    "    s,e = v\n",
    "    \n",
    "    if e-s>1:\n",
    "        print(k,v)\n",
    "\n",
    "        mean_min_max = [cam4_mean[s:e].min(),cam4_mean[s:e].max()]\n",
    "        std_min_max = [cam4_std[s:e].min(),cam4_std[s:e].max()]\n",
    "\n",
    "        plots[(k,\"mean\")] = hv.Curve((mean_min_max,mean_min_max),[f\"spcam_{k}_mean\"],[f\"cam4_{k}_mean\"])*hv.Scatter((cam4_mean[s:e], spcam_mean[s:e],levels_30),[f\"spcam_{k}_mean\"],[f\"cam4_{k}_mean\",\"levels\"])\n",
    "        plots[(k,\"std\")] = hv.Curve((std_min_max,std_min_max),[f\"spcam_{k}_std\"],[f\"cam4_{k}_std\"])*hv.Scatter((cam4_std[s:e], spcam_std[s:e],levels_30),[f\"spcam_{k}_std\"],[f\"cam4_{k}_std\",\"levels\"])\n",
    "\n",
    "\n",
    "stat_comp_plot = hv.HoloMap(plots, kdims=[\"variable\", \"stat\"]).opts(hv.opts.Scatter(padding = .1, tools = [\"hover\"], show_grid = True, size = 10, color = \"levels\", cmap = \"PuOr\", width = 500, height = 500, colorbar = True),hv.opts.Curve(line_width = .5)).opts(axiswise =False).layout([\"variable\"]).select(stat = \"std\").cols(1).opts(title = \"Output Stats\")\n",
    "hv.save(stat_comp_plot, \"stat_comp_plot_output_3d_vars.html\")\n",
    "stat_comp_plot\n"
   ]
  },
  {
   "cell_type": "markdown",
   "metadata": {},
   "source": [
    "### look at dists\n"
   ]
  },
  {
   "cell_type": "code",
   "execution_count": null,
   "metadata": {},
   "outputs": [],
   "source": [
    "test_dataset_cam4, test_loader  = get_dataset_from_model(model_cam4,split = \"test\")\n",
    "# test_dataset_spcam, test_loader  = get_dataset_from_model(model_spcam)\n",
    "test_dataset_cam4 = torch.load(\"/ssddg1/gaia/fixed/cam4-famip-30m-timestep_4_test.pt\")"
   ]
  },
  {
   "cell_type": "code",
   "execution_count": null,
   "metadata": {},
   "outputs": [],
   "source": [
    "test_dataset_cam4[\"index\"]"
   ]
  },
  {
   "cell_type": "code",
   "execution_count": null,
   "metadata": {},
   "outputs": [],
   "source": [
    "data = torch.load(\"/ssddg1/gaia/fixed/cam4-famip-30m-timestep_4_val.pt\")"
   ]
  },
  {
   "cell_type": "code",
   "execution_count": null,
   "metadata": {},
   "outputs": [],
   "source": [
    "((data[\"x\"].shape[0]*data[\"x\"].shape[1])*10)/(96*144*365*3)"
   ]
  },
  {
   "cell_type": "code",
   "execution_count": null,
   "metadata": {},
   "outputs": [],
   "source": [
    "temp = torch.load(\"/ssddg1/gaia/fixed/cam4-famip-30m-timestep_4_val.pt\")"
   ]
  },
  {
   "cell_type": "code",
   "execution_count": null,
   "metadata": {},
   "outputs": [],
   "source": [
    "temp[\"x\"][:,0,134:135,...].max()"
   ]
  },
  {
   "cell_type": "code",
   "execution_count": null,
   "metadata": {},
   "outputs": [],
   "source": [
    "import xarray as xr"
   ]
  },
  {
   "cell_type": "code",
   "execution_count": null,
   "metadata": {},
   "outputs": [],
   "source": [
    "temp = xr.load_dataset(\"/proj/gaia-climate/data/cam4_upload4/rF_AMIP_CN_CAM4--torch-test.cam2.h1.1979-01-01-00000.nc\")"
   ]
  },
  {
   "cell_type": "code",
   "execution_count": null,
   "metadata": {},
   "outputs": [],
   "source": [
    "! ~/aws-cli/bin/aws s3 cp s3://ff350d3a-89fc-11ec-a398-ac1f6baca408/cam4-famip-30m-timestep-third-upload/rF_AMIP_CN_CAM4--torch-test.cam2.h1.1981-12-18-00000.nc /proj/gaia-climate/data/cam4_upload5/"
   ]
  },
  {
   "cell_type": "code",
   "execution_count": null,
   "metadata": {},
   "outputs": [],
   "source": [
    "temp2 = xr.load_dataset(\"/proj/gaia-climate/data/cam4_upload5/rF_AMIP_CN_CAM4--torch-test.cam2.h1.1981-12-18-00000.nc\")"
   ]
  },
  {
   "cell_type": "code",
   "execution_count": null,
   "metadata": {},
   "outputs": [],
   "source": [
    "import hvplot.xarray\n",
    "import holoviews as hv\n",
    "hv.extension(\"bokeh\")"
   ]
  },
  {
   "cell_type": "code",
   "execution_count": null,
   "metadata": {},
   "outputs": [],
   "source": [
    "print(list(temp2.variables))"
   ]
  },
  {
   "cell_type": "code",
   "execution_count": null,
   "metadata": {},
   "outputs": [],
   "source": [
    "temp.hvplot.image()"
   ]
  },
  {
   "cell_type": "code",
   "execution_count": null,
   "metadata": {},
   "outputs": [],
   "source": [
    "temp.time"
   ]
  },
  {
   "cell_type": "code",
   "execution_count": null,
   "metadata": {},
   "outputs": [],
   "source": [
    "temp[\"FSNS\"].max(dim = [\"lat\",\"lon\"]).hvplot.scatter(size = 100,padding = .1)"
   ]
  },
  {
   "cell_type": "code",
   "execution_count": null,
   "metadata": {},
   "outputs": [],
   "source": [
    "for k,(s,e) in model_cam4.hparams[\"input_index\"].items():\n",
    "    if k.startswith(\"F\"):\n",
    "        temp"
   ]
  },
  {
   "cell_type": "code",
   "execution_count": null,
   "metadata": {},
   "outputs": [],
   "source": [
    "import tqdm.auto as tqdm"
   ]
  },
  {
   "cell_type": "code",
   "execution_count": null,
   "metadata": {},
   "outputs": [],
   "source": [
    "dfs = []\n",
    "\n",
    "for model in [\"cam4\",\"spcam\"]:\n",
    "    test_dataset = test_dataset_cam4 if model == \"cam4\" else test_dataset_spcam\n",
    "    for type in [\"x\",\"y\"]:\n",
    "        type_name = \"input\" if type == \"x\" else \"output\"\n",
    "        for k,(s,e) in tqdm.tqdm(list(model_cam4.hparams[f\"{type_name}_index\"].items())):\n",
    "            if e-s>1:\n",
    "                temp = pd.DataFrame(test_dataset[type][:,s:e].numpy(),columns = levels[\"spcam\"]).sample(100000)\n",
    "                temp.columns.name = \"pressure\"\n",
    "                temp.name = k\n",
    "                temp = temp.T.unstack()\n",
    "                temp.name = \"val\"\n",
    "                temp = temp.reset_index().iloc[:,1:]\n",
    "                temp[\"variable\"] = k\n",
    "            else:\n",
    "                temp = pd.DataFrame(test_dataset[type][:,s:e].numpy(),columns =[\"val\"]).sample(100000)\n",
    "                temp[\"variable\"] = k\n",
    "        \n",
    "            temp[\"model\"] = model\n",
    "            temp[\"type\"] = type_name\n",
    "            dfs.append(temp) \n",
    "\n",
    "        # break\n",
    "        \n",
    "dfs = pd.concat(dfs,ignore_index=True)\n",
    "# x_cam4[:,"
   ]
  },
  {
   "cell_type": "code",
   "execution_count": null,
   "metadata": {},
   "outputs": [],
   "source": [
    "dfs.pressure.isna().sum()"
   ]
  },
  {
   "cell_type": "code",
   "execution_count": null,
   "metadata": {},
   "outputs": [],
   "source": [
    "temp = dfs.loc[~dfs.pressure.isna()].hvplot.density(\"val\",by=\"model\",groupby=[\"variable\",\"pressure\"]).opts(width = 400,height = 300, legend_position = \"top_right\")\\\n",
    ".layout(\"variable\").opts(shared_axes =False).cols(2)\n",
    "hv.save(temp, \"temp.html\")#,widget_location = \"top\")\n"
   ]
  },
  {
   "cell_type": "code",
   "execution_count": null,
   "metadata": {},
   "outputs": [],
   "source": [
    "model_cam4.hparams[\"input_index\"] == model_spcam.hparams[\"input_index\"]"
   ]
  },
  {
   "cell_type": "code",
   "execution_count": null,
   "metadata": {},
   "outputs": [],
   "source": [
    "vars_2d = dfs.loc[dfs.pressure.isna()].variable.unique()"
   ]
  },
  {
   "cell_type": "code",
   "execution_count": null,
   "metadata": {},
   "outputs": [],
   "source": [
    "print(dfs.loc[dfs.variable.isin(vars_2d)].groupby([\"variable\",\"model\"])[[\"val\"]].mean().to_markdown())"
   ]
  },
  {
   "cell_type": "code",
   "execution_count": null,
   "metadata": {},
   "outputs": [],
   "source": [
    "temp = dfs.loc[dfs.variable.isin(vars_2d)].hvplot.density(\"val\",by=\"model\",groupby=[\"variable\"]).opts(width = 400,height = 300, legend_position = \"top_right\")\\\n",
    ".layout(\"variable\").opts(shared_axes =False).cols(2)\n",
    "# hv.save(temp, \"temp2.html\")#,widget_location = \"top\")\n",
    "temp"
   ]
  },
  {
   "cell_type": "code",
   "execution_count": null,
   "metadata": {},
   "outputs": [],
   "source": [
    "!~/aws-cli/bin/aws s3 cp FSNS_cam4.html s3://855da60d-505b-4eee-942c-e19fb87dcc5f/gaia/cam4_vs_spcam_comparison/FSNS_cam4.html"
   ]
  }
 ],
 "metadata": {
  "kernelspec": {
   "display_name": "Python 3 (ipykernel)",
   "language": "python",
   "name": "python3"
  },
  "language_info": {
   "codemirror_mode": {
    "name": "ipython",
    "version": 3
   },
   "file_extension": ".py",
   "mimetype": "text/x-python",
   "name": "python",
   "nbconvert_exporter": "python",
   "pygments_lexer": "ipython3",
   "version": "3.10.12"
  }
 },
 "nbformat": 4,
 "nbformat_minor": 4
}
